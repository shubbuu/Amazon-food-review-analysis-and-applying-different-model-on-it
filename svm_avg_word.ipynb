{
 "cells": [
  {
   "cell_type": "markdown",
   "metadata": {},
   "source": [
    "# Applying SVC and SGDClassifier on avg Word2vec"
   ]
  },
  {
   "cell_type": "markdown",
   "metadata": {},
   "source": [
    "This ipynb file contains the code for-\n",
    "\n",
    "* GridSearchCV on SVC for avg Word2vec\n",
    "* RandomizedSearchCV on SVC for avg Word2vec\n",
    "* GridSearchCV on SGDClassifier for avg Word2vec"
   ]
  },
  {
   "cell_type": "code",
   "execution_count": null,
   "metadata": {},
   "outputs": [],
   "source": []
  },
  {
   "cell_type": "code",
   "execution_count": 2,
   "metadata": {},
   "outputs": [],
   "source": [
    "import sqlite3\n",
    "import pandas as pd\n",
    "import numpy as np\n",
    "import nltk\n",
    "from sklearn.feature_extraction.text import CountVectorizer\n",
    "from sklearn.preprocessing import StandardScaler\n",
    "from sklearn.cross_validation import train_test_split\n",
    "from sklearn.model_selection import GridSearchCV, TimeSeriesSplit\n",
    "from sklearn.linear_model import LogisticRegression\n",
    "from datetime import datetime\n",
    "from sklearn.metrics import confusion_matrix, classification_report, accuracy_score\n",
    "import warnings\n",
    "warnings.filterwarnings('ignore')"
   ]
  },
  {
   "cell_type": "code",
   "execution_count": 3,
   "metadata": {},
   "outputs": [],
   "source": [
    "import seaborn as sns\n",
    "from sklearn import metrics\n",
    "import matplotlib.pyplot as plt\n",
    "%matplotlib inline"
   ]
  },
  {
   "cell_type": "code",
   "execution_count": 4,
   "metadata": {},
   "outputs": [],
   "source": [
    "import sqlite3\n",
    "import numpy as np\n",
    "import pandas as pd"
   ]
  },
  {
   "cell_type": "markdown",
   "metadata": {},
   "source": [
    "## Loading the data"
   ]
  },
  {
   "cell_type": "code",
   "execution_count": 5,
   "metadata": {},
   "outputs": [],
   "source": [
    "sample_data=pd.read_csv('sample_svm.csv')"
   ]
  },
  {
   "cell_type": "code",
   "execution_count": 30,
   "metadata": {},
   "outputs": [],
   "source": [
    "sample_data=sample_data.iloc[:25000]"
   ]
  },
  {
   "cell_type": "code",
   "execution_count": 31,
   "metadata": {},
   "outputs": [],
   "source": [
    "#taking the test data seperate from all other\n",
    "\n",
    "X, x_test, y_train, y_test=train_test_split(sample_data['Cleaned_text'], sample_data['Score'], test_size=0.3) #splitting the data"
   ]
  },
  {
   "cell_type": "code",
   "execution_count": 48,
   "metadata": {},
   "outputs": [],
   "source": [
    "# this function plot mse vs C plot, predicting accuracy, confusion matrix and classification report\n",
    "\n",
    "def svm_plot(clf, x_train, y_train, x_test, y_test):\n",
    "          \n",
    "    #predicting y and accuracy\n",
    "    y_pred=clf.predict(x_test)\n",
    "    accu=accuracy_score(y_pred,y_test)*100\n",
    "    print('accuracy=',accu)\n",
    "    print('**********************************************************************\\n')\n",
    "    \n",
    "    #confusion matrix\n",
    "    t=confusion_matrix(y_pred,y_test)\n",
    "    print('confusion matrix--')\n",
    "    #print(t)\n",
    "    #print('**********************************************************************')\n",
    "    sns.heatmap(t, annot=True, fmt=\"d\", xticklabels=True, yticklabels=True)\n",
    "    plt.xlabel('True label')\n",
    "    plt.ylabel('Predicted label')\n",
    "    plt.title('confusion matrix')\n",
    "    plt.show()\n",
    "    print('**********************************************************************\\n')\n",
    "    \n",
    "    # finding TPR , TNR, FPR, FNR\n",
    "    TNR=t[0][0]/(t[0][0]+t[1][0])\n",
    "    TPR=t[1][1]/(t[0][1]+t[1][1])\n",
    "    FPR=t[1][0]/(t[0][0]+t[1][0])\n",
    "    FNR=t[0][1]/(t[0][1]+t[1][1])\n",
    "    print('TNR=',TNR)\n",
    "    print('TPR=',TPR)\n",
    "    print('FPR=',FPR)\n",
    "    print('FNR=',FNR)\n",
    "    print('**********************************************************************\\n')\n",
    "    \n",
    "    \n",
    "    #classification report\n",
    "    print(classification_report(y_pred,y_test))\n",
    "    print('**********************************************************************\\n')\n",
    "    \n",
    "    \n",
    "    return accu, TNR, TPR, FPR, FNR"
   ]
  },
  {
   "cell_type": "code",
   "execution_count": 8,
   "metadata": {},
   "outputs": [],
   "source": [
    "import gensim, logging\n",
    "logging.basicConfig(format='%(asctime)s : %(levelname)s : %(message)s', level=logging.INFO)\n"
   ]
  },
  {
   "cell_type": "code",
   "execution_count": 9,
   "metadata": {},
   "outputs": [
    {
     "name": "stderr",
     "output_type": "stream",
     "text": [
      "2018-09-16 19:46:36,764 : INFO : loading projection weights from GoogleNews-vectors-negative300.bin.gz\n",
      "2018-09-16 19:49:33,005 : INFO : loaded (3000000, 300) matrix from GoogleNews-vectors-negative300.bin.gz\n"
     ]
    }
   ],
   "source": [
    "model = gensim.models.KeyedVectors.load_word2vec_format('GoogleNews-vectors-negative300.bin.gz', binary=True)\n"
   ]
  },
  {
   "cell_type": "code",
   "execution_count": 32,
   "metadata": {},
   "outputs": [],
   "source": [
    "#getting the list of sentences in a 'list'\n",
    "i=0\n",
    "\n",
    "list_of_sentences=[]\n",
    "for sent in X.values:\n",
    "    filtered_sentence=[]    \n",
    "    for w in sent.split():\n",
    "        #w=w.decode('utf-8')\n",
    "        if (w==sent.split()[0]):\n",
    "            w=w[2:]\n",
    "        filtered_sentence.append(w.lower())       \n",
    "    list_of_sentences.append(filtered_sentence)"
   ]
  },
  {
   "cell_type": "code",
   "execution_count": 33,
   "metadata": {},
   "outputs": [
    {
     "name": "stdout",
     "output_type": "stream",
     "text": [
      "3000000\n"
     ]
    }
   ],
   "source": [
    "words=list(model.wv.vocab)\n",
    "print(len(words))"
   ]
  },
  {
   "cell_type": "code",
   "execution_count": 34,
   "metadata": {},
   "outputs": [],
   "source": [
    "#calculating avg word2vec\n",
    "vectors=[];\n",
    "for sentence in list_of_sentences:\n",
    "    sentence_vector=np.zeros(300)\n",
    "    count_vec=0;\n",
    "    for word in sentence:\n",
    "        try:\n",
    "            vec=model.wv[word]\n",
    "            sentence_vector+=vec\n",
    "            count_vec+=1;\n",
    "        except:\n",
    "            pass\n",
    "    sentence_vector/=count_vec\n",
    "    vectors.append(sentence_vector)"
   ]
  },
  {
   "cell_type": "code",
   "execution_count": 35,
   "metadata": {},
   "outputs": [
    {
     "data": {
      "text/plain": [
       "[107,\n",
       " 547,\n",
       " 1126,\n",
       " 3272,\n",
       " 5252,\n",
       " 6485,\n",
       " 6964,\n",
       " 8540,\n",
       " 10114,\n",
       " 11321,\n",
       " 15172,\n",
       " 15645,\n",
       " 16600]"
      ]
     },
     "execution_count": 35,
     "metadata": {},
     "output_type": "execute_result"
    }
   ],
   "source": [
    "z=list(np.unique(np.where(np.isnan(vectors))[0]))\n",
    "z"
   ]
  },
  {
   "cell_type": "code",
   "execution_count": 36,
   "metadata": {},
   "outputs": [],
   "source": [
    "vectors=np.delete(vectors, z, axis=0)\n",
    "y_train_word=np.array(y_train)\n",
    "y_train_word=np.delete(y_train_word, z, axis=0)"
   ]
  },
  {
   "cell_type": "code",
   "execution_count": 37,
   "metadata": {},
   "outputs": [],
   "source": [
    "#calculating avg word2vec\n",
    "x_test_word=[];\n",
    "for sentence in x_test.values:\n",
    "    sentence_vector=np.zeros(300)\n",
    "    count_vec=0;\n",
    "    for word in sentence.split():\n",
    "        if(word==sentence.split()[0]):\n",
    "            word=word[2:]\n",
    "        \n",
    "        try:\n",
    "            vec=model.wv[word]\n",
    "            sentence_vector+=vec\n",
    "            count_vec+=1;\n",
    "        except:\n",
    "            pass\n",
    "    sentence_vector/=count_vec\n",
    "    x_test_word.append(sentence_vector)"
   ]
  },
  {
   "cell_type": "code",
   "execution_count": 38,
   "metadata": {},
   "outputs": [
    {
     "data": {
      "text/plain": [
       "[1194, 5151, 5667, 6074]"
      ]
     },
     "execution_count": 38,
     "metadata": {},
     "output_type": "execute_result"
    }
   ],
   "source": [
    "#checking row containing nan value\n",
    "z=list(np.unique(np.where(np.isnan(x_test_word))[0]))\n",
    "z"
   ]
  },
  {
   "cell_type": "code",
   "execution_count": 39,
   "metadata": {},
   "outputs": [],
   "source": [
    "#deleting row containing nan value\n",
    "x_test_word=np.delete(x_test_word, z, axis=0)\n",
    "y_test_word=np.array(y_test)\n",
    "y_test_word=np.delete(y_test_word, z, axis=0)"
   ]
  },
  {
   "cell_type": "code",
   "execution_count": 40,
   "metadata": {},
   "outputs": [],
   "source": [
    "# applying normalization on every columns\n",
    "from sklearn.preprocessing import normalize\n",
    "\n",
    "vectors=normalize(vectors)\n",
    "x_test_word=normalize(x_test_word)"
   ]
  },
  {
   "cell_type": "markdown",
   "metadata": {},
   "source": [
    "## Applying GridSearchCV on SVC"
   ]
  },
  {
   "cell_type": "code",
   "execution_count": 44,
   "metadata": {},
   "outputs": [],
   "source": [
    "from sklearn.svm import SVC\n",
    "\n",
    "tscv=TimeSeriesSplit(n_splits=10)\n",
    "gamma=[0.001, 0.005, 0.01, 0.05, 0.1, 0.5, 1, 5, 10]\n",
    "param={'C': [0.001, 0.005, 0.01, 0.05, 0.1, 0.5, 1, 5, 10, 50], 'gamma':gamma}\n",
    "clf=SVC()\n",
    "clf=GridSearchCV(estimator=clf, param_grid=param, cv=tscv,  n_jobs=-1, verbose=1)"
   ]
  },
  {
   "cell_type": "code",
   "execution_count": 45,
   "metadata": {},
   "outputs": [
    {
     "name": "stdout",
     "output_type": "stream",
     "text": [
      "CPU times: user 0 ns, sys: 0 ns, total: 0 ns\n",
      "Wall time: 6.91 µs\n",
      "Fitting 10 folds for each of 90 candidates, totalling 900 fits\n"
     ]
    },
    {
     "name": "stderr",
     "output_type": "stream",
     "text": [
      "[Parallel(n_jobs=-1)]: Done  10 tasks      | elapsed:   16.4s\n",
      "[Parallel(n_jobs=-1)]: Done 160 tasks      | elapsed:  6.2min\n",
      "[Parallel(n_jobs=-1)]: Done 410 tasks      | elapsed: 20.6min\n",
      "[Parallel(n_jobs=-1)]: Done 760 tasks      | elapsed: 47.1min\n",
      "[Parallel(n_jobs=-1)]: Done 900 out of 900 | elapsed: 69.5min finished\n"
     ]
    },
    {
     "name": "stdout",
     "output_type": "stream",
     "text": [
      "duration =  1:11:29.257226\n"
     ]
    }
   ],
   "source": [
    "# fitting the model\n",
    "import pickle\n",
    "%time\n",
    "start=datetime.now()\n",
    "clf.fit(vectors,y_train_word)\n",
    "pickle.dump(clf,open('svm_avg_grid.p','wb'))\n",
    "end=datetime.now()\n",
    "print('duration = ',(end-start))\n"
   ]
  },
  {
   "cell_type": "code",
   "execution_count": 47,
   "metadata": {},
   "outputs": [
    {
     "name": "stdout",
     "output_type": "stream",
     "text": [
      "best C= 5\n",
      "best penalty= 1\n"
     ]
    }
   ],
   "source": [
    "# best value of C\n",
    "c=clf.best_estimator_.get_params()['C']\n",
    "gamma=clf.best_estimator_.get_params()['gamma']\n",
    "print('best C=',c)\n",
    "print('best penalty=',gamma)"
   ]
  },
  {
   "cell_type": "code",
   "execution_count": 50,
   "metadata": {},
   "outputs": [
    {
     "name": "stdout",
     "output_type": "stream",
     "text": [
      "accuracy= 90.80843116328708\n",
      "**********************************************************************\n",
      "\n",
      "confusion matrix--\n"
     ]
    },
    {
     "data": {
      "image/png": "[encoded data removed]",
      "text/plain": [
       "<matplotlib.figure.Figure at 0x3ffdeb408748>"
      ]
     },
     "metadata": {},
     "output_type": "display_data"
    },
    {
     "name": "stdout",
     "output_type": "stream",
     "text": [
      "**********************************************************************\n",
      "\n",
      "TNR= 0.25\n",
      "TPR= 0.9875897129186603\n",
      "FPR= 0.75\n",
      "FNR= 0.012410287081339713\n",
      "**********************************************************************\n",
      "\n",
      "             precision    recall  f1-score   support\n",
      "\n",
      "          0       0.25      0.71      0.37       285\n",
      "          1       0.99      0.92      0.95      7211\n",
      "\n",
      "avg / total       0.96      0.91      0.93      7496\n",
      "\n",
      "**********************************************************************\n",
      "\n"
     ]
    }
   ],
   "source": [
    "accu, TNR, TPR, FPR, FNR=svm_plot(clf=clf, x_train=vectors, y_train=y_train_word, x_test=x_test_word, y_test=y_test_word)"
   ]
  },
  {
   "cell_type": "markdown",
   "metadata": {},
   "source": [
    "## Applying RandomizedSearchCV on SVC"
   ]
  },
  {
   "cell_type": "code",
   "execution_count": 53,
   "metadata": {},
   "outputs": [],
   "source": [
    "from sklearn.model_selection import RandomizedSearchCV\n",
    "\n",
    "tscv=TimeSeriesSplit(n_splits=10)\n",
    "gamma=[0.001, 0.005, 0.01, 0.05, 0.1, 0.5, 1, 5, 10]\n",
    "param={'C': [0.001, 0.005, 0.01, 0.05, 0.1, 0.5, 1, 5, 10, 50], 'gamma':gamma}\n",
    "clf=SVC()\n",
    "clf=RandomizedSearchCV(estimator=clf, param_distributions=param,cv=tscv,scoring='accuracy', n_jobs=-1)"
   ]
  },
  {
   "cell_type": "code",
   "execution_count": 54,
   "metadata": {},
   "outputs": [
    {
     "name": "stdout",
     "output_type": "stream",
     "text": [
      "CPU times: user 0 ns, sys: 0 ns, total: 0 ns\n",
      "Wall time: 7.63 µs\n",
      "duration =  0:22:05.684750\n"
     ]
    }
   ],
   "source": [
    "# fitting the model\n",
    "import pickle\n",
    "%time\n",
    "start=datetime.now()\n",
    "clf.fit(vectors,y_train_word)\n",
    "pickle.dump(clf,open('svm_avg_random.p','wb'))\n",
    "end=datetime.now()\n",
    "print('duration = ',(end-start))\n"
   ]
  },
  {
   "cell_type": "code",
   "execution_count": 55,
   "metadata": {},
   "outputs": [
    {
     "name": "stdout",
     "output_type": "stream",
     "text": [
      "best C= 50\n",
      "best penalty= 10\n"
     ]
    }
   ],
   "source": [
    "# best value of C\n",
    "c=clf.best_estimator_.get_params()['C']\n",
    "gamma=clf.best_estimator_.get_params()['gamma']\n",
    "print('best C=',c)\n",
    "print('best penalty=',gamma)"
   ]
  },
  {
   "cell_type": "code",
   "execution_count": 56,
   "metadata": {},
   "outputs": [
    {
     "name": "stdout",
     "output_type": "stream",
     "text": [
      "accuracy= 89.54108858057631\n",
      "**********************************************************************\n",
      "\n",
      "confusion matrix--\n"
     ]
    },
    {
     "data": {
      "image/png": "[encoded data removed]",
      "text/plain": [
       "<matplotlib.figure.Figure at 0x3ffdeb4105c0>"
      ]
     },
     "metadata": {},
     "output_type": "display_data"
    },
    {
     "name": "stdout",
     "output_type": "stream",
     "text": [
      "**********************************************************************\n",
      "\n",
      "TNR= 0.04207920792079208\n",
      "TPR= 0.9985047846889952\n",
      "FPR= 0.9579207920792079\n",
      "FNR= 0.0014952153110047847\n",
      "**********************************************************************\n",
      "\n",
      "             precision    recall  f1-score   support\n",
      "\n",
      "          0       0.04      0.77      0.08        44\n",
      "          1       1.00      0.90      0.94      7452\n",
      "\n",
      "avg / total       0.99      0.90      0.94      7496\n",
      "\n",
      "**********************************************************************\n",
      "\n"
     ]
    }
   ],
   "source": [
    "accu, TNR, TPR, FPR, FNR=svm_plot(clf=clf, x_train=vectors, y_train=y_train_word, x_test=x_test_word, y_test=y_test_word)"
   ]
  },
  {
   "cell_type": "markdown",
   "metadata": {},
   "source": [
    "## Applying GridSearchCV on SGDClassifier"
   ]
  },
  {
   "cell_type": "code",
   "execution_count": 63,
   "metadata": {},
   "outputs": [],
   "source": [
    "from sklearn.linear_model import SGDClassifier\n",
    "\n",
    "tscv=TimeSeriesSplit(n_splits=10)\n",
    "penalty=['l1', 'l2']\n",
    "param={'alpha': [0.00001, 0.00005, 0.0001, 0.0005, 0.001, 0.005, 0.01, 0.05, 0.1, 0.5, 1, 5, 10, 50], 'penalty':penalty}\n",
    "clf=SGDClassifier()\n",
    "clf=GridSearchCV(estimator=clf, param_grid=param, cv=tscv,  n_jobs=1, verbose=1)"
   ]
  },
  {
   "cell_type": "code",
   "execution_count": 64,
   "metadata": {},
   "outputs": [
    {
     "name": "stdout",
     "output_type": "stream",
     "text": [
      "CPU times: user 0 ns, sys: 0 ns, total: 0 ns\n",
      "Wall time: 12.6 µs\n",
      "Fitting 10 folds for each of 28 candidates, totalling 280 fits\n",
      "duration =  0:00:25.152163\n"
     ]
    },
    {
     "name": "stderr",
     "output_type": "stream",
     "text": [
      "[Parallel(n_jobs=1)]: Done 280 out of 280 | elapsed:   25.0s finished\n"
     ]
    }
   ],
   "source": [
    "# fitting the model\n",
    "import pickle\n",
    "%time\n",
    "start=datetime.now()\n",
    "clf.fit(vectors,y_train_word)\n",
    "pickle.dump(clf,open('svmlin_avg_grid.p','wb'))\n",
    "end=datetime.now()\n",
    "print('duration = ',(end-start))\n"
   ]
  },
  {
   "cell_type": "code",
   "execution_count": 65,
   "metadata": {},
   "outputs": [
    {
     "name": "stdout",
     "output_type": "stream",
     "text": [
      "best alpha= 0.0001\n",
      "best penalty= l2\n"
     ]
    }
   ],
   "source": [
    "# best value of C\n",
    "penalty=clf.best_estimator_.get_params()['penalty']\n",
    "alpha=clf.best_estimator_.get_params()['alpha']\n",
    "print('best alpha=',alpha)\n",
    "print('best penalty=',penalty)"
   ]
  },
  {
   "cell_type": "code",
   "execution_count": 66,
   "metadata": {},
   "outputs": [
    {
     "name": "stdout",
     "output_type": "stream",
     "text": [
      "accuracy= 89.66115261472785\n",
      "**********************************************************************\n",
      "\n",
      "confusion matrix--\n"
     ]
    },
    {
     "data": {
      "image/png": "[encoded data removed]",
      "text/plain": [
       "<matplotlib.figure.Figure at 0x3ffdeeec0cc0>"
      ]
     },
     "metadata": {},
     "output_type": "display_data"
    },
    {
     "name": "stdout",
     "output_type": "stream",
     "text": [
      "**********************************************************************\n",
      "\n",
      "TNR= 0.050742574257425746\n",
      "TPR= 0.9988038277511961\n",
      "FPR= 0.9492574257425742\n",
      "FNR= 0.0011961722488038277\n",
      "**********************************************************************\n",
      "\n",
      "             precision    recall  f1-score   support\n",
      "\n",
      "          0       0.05      0.84      0.10        49\n",
      "          1       1.00      0.90      0.95      7447\n",
      "\n",
      "avg / total       0.99      0.90      0.94      7496\n",
      "\n",
      "**********************************************************************\n",
      "\n"
     ]
    }
   ],
   "source": [
    "accu, TNR, TPR, FPR, FNR=svm_plot(clf=clf, x_train=vectors, y_train=y_train_word, x_test=x_test_word, y_test=y_test_word)"
   ]
  },
  {
   "cell_type": "code",
   "execution_count": null,
   "metadata": {},
   "outputs": [],
   "source": []
  },
  {
   "cell_type": "markdown",
   "metadata": {},
   "source": [
    "## Performance Table"
   ]
  },
  {
   "cell_type": "markdown",
   "metadata": {},
   "source": [
    "| sno | featurization | model algo | cv algo | best C | best gamma | accuracy | TNR | TPR | f1-score |\n",
    "|-----|----------------|---------------|--------------------|-------------|------------|----------|--------|--------|----------|\n",
    "| 1 | Avg word2vec | SVC | GridSearchCV | 5 | 1 | 90.8084 | 0.25 | 0.9875 | 0.93 |\n",
    "| 2 | Avg word2vec | SVC | RandomizedSearchCV | 50 | 10 | 89.5410 | 0.0420 | 0.9985 | 0.94 |\n"
   ]
  },
  {
   "cell_type": "markdown",
   "metadata": {},
   "source": [
    "| sno | featurization | model algo | cv algo | best alpha | best penalty | accuracy | TNR | TPR | f1-score |\n",
    "|-----|---------------|---------------|--------------|------------|--------------|----------|--------|--------|----------|\n",
    "| 1 | Avg word2vec | SGDClassifier | GridSearchCV | 0.0001 | l2 | 89.6611 | 0.0507 | 0.9988 | 0.94 |"
   ]
  },
  {
   "cell_type": "markdown",
   "metadata": {},
   "source": [
    "## Observation-\n",
    "* Both SVC and SGDClassifier having same accuracy\n",
    "* TNR is bad"
   ]
  },
  {
   "cell_type": "code",
   "execution_count": null,
   "metadata": {},
   "outputs": [],
   "source": []
  }
 ],
 "metadata": {
  "kernelspec": {
   "display_name": "Python 3",
   "language": "python",
   "name": "python3"
  },
  "language_info": {
   "codemirror_mode": {
    "name": "ipython",
    "version": 3
   },
   "file_extension": ".py",
   "mimetype": "text/x-python",
   "name": "python",
   "nbconvert_exporter": "python",
   "pygments_lexer": "ipython3",
   "version": "3.6.5"
  }
 },
 "nbformat": 4,
 "nbformat_minor": 2
}
