{
 "cells": [
  {
   "cell_type": "markdown",
   "metadata": {},
   "source": [
    "# Applying SVC and SGDClassifier on TFIDF Word2vec"
   ]
  },
  {
   "cell_type": "markdown",
   "metadata": {},
   "source": [
    "This ipynb file contains the code for-\n",
    "\n",
    "* GridSearchCV on SVC for TFIDF Word2vec\n",
    "* RandomizedSearchCV on SVC for TFIDF Word2vec\n",
    "* GridSearchCV on SGDClassifier for TFIDF Word2vec"
   ]
  },
  {
   "cell_type": "code",
   "execution_count": 6,
   "metadata": {},
   "outputs": [],
   "source": [
    "import sqlite3\n",
    "import pandas as pd\n",
    "import numpy as np\n",
    "import nltk\n",
    "from sklearn.feature_extraction.text import CountVectorizer\n",
    "from sklearn.preprocessing import StandardScaler\n",
    "from sklearn.model_selection import GridSearchCV, TimeSeriesSplit\n",
    "from sklearn.linear_model import LogisticRegression\n",
    "from datetime import datetime\n",
    "from sklearn.metrics import confusion_matrix, classification_report, accuracy_score\n",
    "import warnings\n",
    "warnings.filterwarnings('ignore')"
   ]
  },
  {
   "cell_type": "code",
   "execution_count": 7,
   "metadata": {},
   "outputs": [],
   "source": [
    "import seaborn as sns\n",
    "from sklearn import metrics\n",
    "import matplotlib.pyplot as plt\n",
    "%matplotlib inline"
   ]
  },
  {
   "cell_type": "markdown",
   "metadata": {},
   "source": [
    "## Reading the sample that we have saved in TFIDF, for all preprocessing task refer to TFIDF"
   ]
  },
  {
   "cell_type": "code",
   "execution_count": 8,
   "metadata": {},
   "outputs": [],
   "source": [
    "sample_data=pd.read_csv('sample_svm.csv')# reading sample that we have saved in TFIDF"
   ]
  },
  {
   "cell_type": "code",
   "execution_count": 12,
   "metadata": {},
   "outputs": [],
   "source": [
    "sample_data=sample_data.iloc[:25000] "
   ]
  },
  {
   "cell_type": "markdown",
   "metadata": {},
   "source": [
    "#### Observation-\n",
    "* 50k points takes lots of hours to run thus we have used just 25000 data points "
   ]
  },
  {
   "cell_type": "code",
   "execution_count": 13,
   "metadata": {},
   "outputs": [],
   "source": [
    "#taking the test data seperate from all other\n",
    "from sklearn.model_selection import train_test_split\n",
    "X, x_test, y_train, y_test=train_test_split(sample_data['Cleaned_text'], sample_data['Score'], test_size=0.3, shuffle=False) #splitting the data"
   ]
  },
  {
   "cell_type": "code",
   "execution_count": 31,
   "metadata": {},
   "outputs": [],
   "source": [
    "# this function predicting accuracy, confusion matrix and classification report\n",
    "\n",
    "def svm_plot(clf, x_train, y_train, x_test, y_test):\n",
    "          \n",
    "    #predicting y and accuracy\n",
    "    y_pred=clf.predict(x_test)\n",
    "    accu=accuracy_score(y_pred,y_test)*100\n",
    "    print('accuracy=',accu)\n",
    "    print('**********************************************************************\\n')\n",
    "    \n",
    "    #confusion matrix\n",
    "    t=confusion_matrix(y_pred,y_test)\n",
    "    print('confusion matrix--')\n",
    "    #print(t)\n",
    "    #print('**********************************************************************')\n",
    "    sns.heatmap(t, annot=True, fmt=\"d\", xticklabels=True, yticklabels=True)\n",
    "    plt.xlabel('True label')\n",
    "    plt.ylabel('Predicted label')\n",
    "    plt.title('confusion matrix')\n",
    "    plt.show()\n",
    "    print('**********************************************************************\\n')\n",
    "    \n",
    "    # finding TPR , TNR, FPR, FNR\n",
    "    TNR=t[0][0]/(t[0][0]+t[1][0])\n",
    "    TPR=t[1][1]/(t[0][1]+t[1][1])\n",
    "    FPR=t[1][0]/(t[0][0]+t[1][0])\n",
    "    FNR=t[0][1]/(t[0][1]+t[1][1])\n",
    "    print('TNR=',TNR)\n",
    "    print('TPR=',TPR)\n",
    "    print('FPR=',FPR)\n",
    "    print('FNR=',FNR)\n",
    "    print('**********************************************************************\\n')\n",
    "    \n",
    "    \n",
    "    #classification report\n",
    "    print(classification_report(y_pred,y_test))\n",
    "    print('**********************************************************************\\n')\n",
    "    \n",
    "    \n",
    "    return accu, TNR, TPR, FPR, FNR"
   ]
  },
  {
   "cell_type": "code",
   "execution_count": 10,
   "metadata": {},
   "outputs": [],
   "source": [
    "# import modules & set up logging\n",
    "import gensim, logging\n",
    "logging.basicConfig(format='%(asctime)s : %(levelname)s : %(message)s', level=logging.INFO)"
   ]
  },
  {
   "cell_type": "code",
   "execution_count": 11,
   "metadata": {},
   "outputs": [
    {
     "name": "stderr",
     "output_type": "stream",
     "text": [
      "2018-09-17 03:28:48,901 : INFO : loading projection weights from GoogleNews-vectors-negative300.bin.gz\n",
      "2018-09-17 03:31:45,227 : INFO : loaded (3000000, 300) matrix from GoogleNews-vectors-negative300.bin.gz\n"
     ]
    }
   ],
   "source": [
    "#loading the GoogleNews word2vec model(able to read bin.gz file directly, no need to extract)\n",
    "model = gensim.models.KeyedVectors.load_word2vec_format('GoogleNews-vectors-negative300.bin.gz', binary=True)"
   ]
  },
  {
   "cell_type": "code",
   "execution_count": 14,
   "metadata": {},
   "outputs": [],
   "source": [
    "\n",
    "#getting the list of sentences in a 'list'\n",
    "i=0\n",
    "\n",
    "list_of_sentences=[]\n",
    "for sent in X.values:\n",
    "    filtered_sentence=[]    \n",
    "    for w in sent.split():\n",
    "        #w=w.decode('utf-8')\n",
    "        if (w==sent.split()[0]):\n",
    "            w=w[2:]\n",
    "        filtered_sentence.append(w.lower())       \n",
    "    list_of_sentences.append(filtered_sentence)"
   ]
  },
  {
   "cell_type": "code",
   "execution_count": 15,
   "metadata": {},
   "outputs": [
    {
     "name": "stdout",
     "output_type": "stream",
     "text": [
      "3000000\n"
     ]
    }
   ],
   "source": [
    "words=list(model.wv.vocab)\n",
    "print(len(words))"
   ]
  },
  {
   "cell_type": "code",
   "execution_count": 16,
   "metadata": {},
   "outputs": [],
   "source": [
    "from sklearn.feature_extraction.text import TfidfVectorizer\n",
    "tfidf=TfidfVectorizer(ngram_range=(1,1))\n",
    "x_train_tfidf=tfidf.fit_transform(X.values)\n",
    "x_test_tfidf=tfidf.transform(x_test.values)"
   ]
  },
  {
   "cell_type": "code",
   "execution_count": 17,
   "metadata": {},
   "outputs": [
    {
     "data": {
      "text/plain": [
       "15151"
      ]
     },
     "execution_count": 17,
     "metadata": {},
     "output_type": "execute_result"
    }
   ],
   "source": [
    "features=tfidf.get_feature_names()\n",
    "len(features)\n",
    "#features"
   ]
  },
  {
   "cell_type": "code",
   "execution_count": 18,
   "metadata": {},
   "outputs": [],
   "source": [
    "#calculating tf-idf w2vec for training data\n",
    "tfidf_vectors = []; \n",
    "row=0;\n",
    "for sentence in list_of_sentences: \n",
    "    sentence_vec = np.zeros(300) \n",
    "    weight_sum =0; \n",
    "    for word in sentence: \n",
    "        try:\n",
    "            vec = model.wv[word]\n",
    "            tf_idf = x_train_tfidf[row, features.index(word)]\n",
    "            sentence_vec += (vec * tf_idf)\n",
    "            weight_sum += tf_idf\n",
    "        except:\n",
    "            pass\n",
    "    sentence_vec /= weight_sum\n",
    "    tfidf_vectors.append(sentence_vec)\n",
    "    row += 1"
   ]
  },
  {
   "cell_type": "code",
   "execution_count": 19,
   "metadata": {},
   "outputs": [
    {
     "data": {
      "text/plain": [
       "[1622,\n",
       " 1695,\n",
       " 1960,\n",
       " 2226,\n",
       " 4436,\n",
       " 4524,\n",
       " 4710,\n",
       " 5927,\n",
       " 6569,\n",
       " 8073,\n",
       " 11064,\n",
       " 11656,\n",
       " 11967,\n",
       " 12760,\n",
       " 13050]"
      ]
     },
     "execution_count": 19,
     "metadata": {},
     "output_type": "execute_result"
    }
   ],
   "source": [
    "z=list(np.unique(np.where(np.isnan(tfidf_vectors))[0]))\n",
    "z"
   ]
  },
  {
   "cell_type": "code",
   "execution_count": 20,
   "metadata": {},
   "outputs": [],
   "source": [
    "\n",
    "y_train_word=np.array(y_train)\n",
    "y_train_word=np.delete(y_train_word, z, axis=0)\n",
    "tfidf_vectors=np.delete(tfidf_vectors, z, axis=0)\n",
    "\n"
   ]
  },
  {
   "cell_type": "code",
   "execution_count": 21,
   "metadata": {},
   "outputs": [],
   "source": [
    "#calculating tf-idf w2vec for testing data\n",
    "x_test_tf_word = []; \n",
    "row=0;\n",
    "for sentence in x_test.values: \n",
    "    sentence_vec = np.zeros(300) \n",
    "    weight_sum =0; \n",
    "    for word in sentence.split():\n",
    "        if(word==sentence.split()[0]):\n",
    "            word=word[2:]\n",
    "        \n",
    "        try:\n",
    "            vec = model.wv[word]\n",
    "            tf_idf = x_test_tfidf[row, features.index(word)]\n",
    "            sentence_vec += (vec * tf_idf)\n",
    "            weight_sum += tf_idf\n",
    "        except:\n",
    "            pass\n",
    "    sentence_vec /= weight_sum\n",
    "    x_test_tf_word.append(sentence_vec)\n",
    "    row += 1"
   ]
  },
  {
   "cell_type": "code",
   "execution_count": 22,
   "metadata": {},
   "outputs": [
    {
     "data": {
      "text/plain": [
       "[5388, 6507]"
      ]
     },
     "execution_count": 22,
     "metadata": {},
     "output_type": "execute_result"
    }
   ],
   "source": [
    "z=list(np.unique(np.where(np.isnan(x_test_tf_word))[0]))\n",
    "z"
   ]
  },
  {
   "cell_type": "code",
   "execution_count": 23,
   "metadata": {},
   "outputs": [
    {
     "data": {
      "text/plain": [
       "7498"
      ]
     },
     "execution_count": 23,
     "metadata": {},
     "output_type": "execute_result"
    }
   ],
   "source": [
    "x_test_tf_word=np.delete(x_test_tf_word, z , axis=0)\n",
    "len(x_test_tf_word)"
   ]
  },
  {
   "cell_type": "code",
   "execution_count": 25,
   "metadata": {},
   "outputs": [],
   "source": [
    "y_test_word=np.array(y_test)\n",
    "y_test_word=np.delete(y_test_word, z, axis=0)\n",
    "#len(x_test_word)"
   ]
  },
  {
   "cell_type": "code",
   "execution_count": 26,
   "metadata": {},
   "outputs": [],
   "source": [
    "from sklearn.preprocessing import normalize\n",
    "tfidf_vectors=normalize(tfidf_vectors)\n",
    "x_test_tf_word=normalize(x_test_tf_word)"
   ]
  },
  {
   "cell_type": "markdown",
   "metadata": {},
   "source": [
    "## Applying GridSearchCV on SVC"
   ]
  },
  {
   "cell_type": "code",
   "execution_count": 27,
   "metadata": {},
   "outputs": [],
   "source": [
    "from sklearn.svm import SVC\n",
    "\n",
    "tscv=TimeSeriesSplit(n_splits=10)\n",
    "gamma=[0.001, 0.005, 0.01, 0.05, 0.1, 0.5, 1, 5, 10]\n",
    "param={'C': [0.001, 0.005, 0.01, 0.05, 0.1, 0.5, 1, 5, 10, 50], 'gamma':gamma}\n",
    "clf=SVC()\n",
    "clf=GridSearchCV(estimator=clf, param_grid=param, cv=tscv,  n_jobs=-1, verbose=1)"
   ]
  },
  {
   "cell_type": "code",
   "execution_count": 28,
   "metadata": {},
   "outputs": [
    {
     "name": "stdout",
     "output_type": "stream",
     "text": [
      "CPU times: user 0 ns, sys: 0 ns, total: 0 ns\n",
      "Wall time: 8.58 µs\n",
      "Fitting 10 folds for each of 90 candidates, totalling 900 fits\n"
     ]
    },
    {
     "name": "stderr",
     "output_type": "stream",
     "text": [
      "[Parallel(n_jobs=-1)]: Done  10 tasks      | elapsed:   13.8s\n",
      "[Parallel(n_jobs=-1)]: Done 160 tasks      | elapsed:  5.9min\n",
      "[Parallel(n_jobs=-1)]: Done 410 tasks      | elapsed: 21.3min\n",
      "[Parallel(n_jobs=-1)]: Done 760 tasks      | elapsed: 50.2min\n",
      "[Parallel(n_jobs=-1)]: Done 900 out of 900 | elapsed: 73.5min finished\n"
     ]
    },
    {
     "name": "stdout",
     "output_type": "stream",
     "text": [
      "duration =  1:15:23.077008\n"
     ]
    }
   ],
   "source": [
    "# fitting the model\n",
    "import pickle\n",
    "%time\n",
    "start=datetime.now()\n",
    "clf.fit(tfidf_vectors,y_train_word)\n",
    "pickle.dump(clf,open('svm_tfw_grid.p','wb'))\n",
    "end=datetime.now()\n",
    "print('duration = ',(end-start))"
   ]
  },
  {
   "cell_type": "code",
   "execution_count": 29,
   "metadata": {},
   "outputs": [
    {
     "name": "stdout",
     "output_type": "stream",
     "text": [
      "best C= 10\n",
      "best penalty= 0.5\n"
     ]
    }
   ],
   "source": [
    "# best value of C\n",
    "c=clf.best_estimator_.get_params()['C']\n",
    "gamma=clf.best_estimator_.get_params()['gamma']\n",
    "print('best C=',c)\n",
    "print('best penalty=',gamma)"
   ]
  },
  {
   "cell_type": "code",
   "execution_count": 34,
   "metadata": {},
   "outputs": [
    {
     "name": "stdout",
     "output_type": "stream",
     "text": [
      "accuracy= 89.31715124033074\n",
      "**********************************************************************\n",
      "\n",
      "confusion matrix--\n"
     ]
    },
    {
     "data": {
      "image/png": "[encoded data removed]",
      "text/plain": [
       "<matplotlib.figure.Figure at 0x3ffe077e0550>"
      ]
     },
     "metadata": {},
     "output_type": "display_data"
    },
    {
     "name": "stdout",
     "output_type": "stream",
     "text": [
      "**********************************************************************\n",
      "\n",
      "TNR= 0.16511627906976745\n",
      "TPR= 0.9874962338053631\n",
      "FPR= 0.8348837209302326\n",
      "FNR= 0.012503766194636938\n",
      "**********************************************************************\n",
      "\n",
      "             precision    recall  f1-score   support\n",
      "\n",
      "          0       0.17      0.63      0.26       225\n",
      "          1       0.99      0.90      0.94      7273\n",
      "\n",
      "avg / total       0.96      0.89      0.92      7498\n",
      "\n",
      "**********************************************************************\n",
      "\n"
     ]
    }
   ],
   "source": [
    "accu, TNR, TPR, FPR, FNR=svm_plot(clf=clf, x_train=tfidf_vectors, y_train=y_train_word, x_test=x_test_tf_word, y_test=y_test_word)"
   ]
  },
  {
   "cell_type": "markdown",
   "metadata": {},
   "source": [
    "## Applying RandomizedSearchCV on SVC"
   ]
  },
  {
   "cell_type": "code",
   "execution_count": 36,
   "metadata": {},
   "outputs": [],
   "source": [
    "from sklearn.model_selection import RandomizedSearchCV\n",
    "\n",
    "tscv=TimeSeriesSplit(n_splits=10)\n",
    "gamma=[0.001, 0.005, 0.01, 0.05, 0.1, 0.5, 1, 5, 10]\n",
    "param={'C': [0.001, 0.005, 0.01, 0.05, 0.1, 0.5, 1, 5, 10, 50], 'gamma':gamma}\n",
    "clf=SVC()\n",
    "clf=RandomizedSearchCV(estimator=clf, param_distributions=param,cv=tscv,scoring='accuracy', n_jobs=-1)"
   ]
  },
  {
   "cell_type": "code",
   "execution_count": 37,
   "metadata": {},
   "outputs": [
    {
     "name": "stdout",
     "output_type": "stream",
     "text": [
      "CPU times: user 0 ns, sys: 0 ns, total: 0 ns\n",
      "Wall time: 13.1 µs\n",
      "duration =  0:15:06.938497\n"
     ]
    }
   ],
   "source": [
    "# fitting the model\n",
    "import pickle\n",
    "%time\n",
    "start=datetime.now()\n",
    "clf.fit(tfidf_vectors,y_train_word)\n",
    "pickle.dump(clf,open('svm_tfw_random.p','wb'))\n",
    "end=datetime.now()\n",
    "print('duration = ',(end-start))"
   ]
  },
  {
   "cell_type": "code",
   "execution_count": 38,
   "metadata": {},
   "outputs": [
    {
     "name": "stdout",
     "output_type": "stream",
     "text": [
      "best C= 50\n",
      "best penalty= 0.001\n"
     ]
    }
   ],
   "source": [
    "# best value of C\n",
    "c=clf.best_estimator_.get_params()['C']\n",
    "gamma=clf.best_estimator_.get_params()['gamma']\n",
    "print('best C=',c)\n",
    "print('best penalty=',gamma)"
   ]
  },
  {
   "cell_type": "code",
   "execution_count": 39,
   "metadata": {},
   "outputs": [
    {
     "name": "stdout",
     "output_type": "stream",
     "text": [
      "accuracy= 88.53027473993065\n",
      "**********************************************************************\n",
      "\n",
      "confusion matrix--\n"
     ]
    },
    {
     "data": {
      "image/png": "[encoded data removed]",
      "text/plain": [
       "<matplotlib.figure.Figure at 0x3ffe0767f2e8>"
      ]
     },
     "metadata": {},
     "output_type": "display_data"
    },
    {
     "name": "stdout",
     "output_type": "stream",
     "text": [
      "**********************************************************************\n",
      "\n",
      "TNR= 0.0\n",
      "TPR= 1.0\n",
      "FPR= 1.0\n",
      "FNR= 0.0\n",
      "**********************************************************************\n",
      "\n",
      "             precision    recall  f1-score   support\n",
      "\n",
      "          0       0.00      0.00      0.00         0\n",
      "          1       1.00      0.89      0.94      7498\n",
      "\n",
      "avg / total       1.00      0.89      0.94      7498\n",
      "\n",
      "**********************************************************************\n",
      "\n"
     ]
    }
   ],
   "source": [
    "accu, TNR, TPR, FPR, FNR=svm_plot(clf=clf, x_train=tfidf_vectors, y_train=y_train_word, x_test=x_test_tf_word, y_test=y_test_word)"
   ]
  },
  {
   "cell_type": "markdown",
   "metadata": {},
   "source": [
    "## Applying GridSearchCV on SGDClassifier"
   ]
  },
  {
   "cell_type": "code",
   "execution_count": 46,
   "metadata": {},
   "outputs": [],
   "source": [
    "from sklearn.linear_model import SGDClassifier\n",
    "\n",
    "tscv=TimeSeriesSplit(n_splits=10)\n",
    "penalty=['l1', 'l2']\n",
    "param={'alpha': [0.00001, 0.00005, 0.0001, 0.0005, 0.001, 0.005, 0.01, 0.05, 0.1, 0.5, 1, 5, 10], 'penalty':penalty}\n",
    "clf=SGDClassifier()\n",
    "clf=GridSearchCV(estimator=clf, param_grid=param, cv=tscv,  n_jobs=1, verbose=1)"
   ]
  },
  {
   "cell_type": "code",
   "execution_count": 47,
   "metadata": {},
   "outputs": [
    {
     "name": "stdout",
     "output_type": "stream",
     "text": [
      "CPU times: user 0 ns, sys: 0 ns, total: 0 ns\n",
      "Wall time: 12.9 µs\n",
      "Fitting 10 folds for each of 26 candidates, totalling 260 fits\n",
      "duration =  0:00:22.943303\n"
     ]
    },
    {
     "name": "stderr",
     "output_type": "stream",
     "text": [
      "[Parallel(n_jobs=1)]: Done 260 out of 260 | elapsed:   22.8s finished\n"
     ]
    }
   ],
   "source": [
    "# fitting the model\n",
    "import pickle\n",
    "%time\n",
    "start=datetime.now()\n",
    "clf.fit(tfidf_vectors,y_train_word)\n",
    "pickle.dump(clf,open('svmlin_tfw_grid.p','wb'))\n",
    "end=datetime.now()\n",
    "print('duration = ',(end-start))"
   ]
  },
  {
   "cell_type": "code",
   "execution_count": 48,
   "metadata": {},
   "outputs": [
    {
     "name": "stdout",
     "output_type": "stream",
     "text": [
      "best alpha= 5e-05\n",
      "best penalty= l2\n"
     ]
    }
   ],
   "source": [
    "# best value of C\n",
    "penalty=clf.best_estimator_.get_params()['penalty']\n",
    "alpha=clf.best_estimator_.get_params()['alpha']\n",
    "print('best alpha=',alpha)\n",
    "print('best penalty=',penalty)"
   ]
  },
  {
   "cell_type": "code",
   "execution_count": 49,
   "metadata": {},
   "outputs": [
    {
     "name": "stdout",
     "output_type": "stream",
     "text": [
      "accuracy= 88.85036009602561\n",
      "**********************************************************************\n",
      "\n",
      "confusion matrix--\n"
     ]
    },
    {
     "data": {
      "image/png": "[encoded data removed]",
      "text/plain": [
       "<matplotlib.figure.Figure at 0x3ffe077b6d30>"
      ]
     },
     "metadata": {},
     "output_type": "display_data"
    },
    {
     "name": "stdout",
     "output_type": "stream",
     "text": [
      "**********************************************************************\n",
      "\n",
      "TNR= 0.08953488372093023\n",
      "TPR= 0.9920156673696897\n",
      "FPR= 0.9104651162790698\n",
      "FNR= 0.007984332630310334\n",
      "**********************************************************************\n",
      "\n",
      "             precision    recall  f1-score   support\n",
      "\n",
      "          0       0.09      0.59      0.16       130\n",
      "          1       0.99      0.89      0.94      7368\n",
      "\n",
      "avg / total       0.98      0.89      0.93      7498\n",
      "\n",
      "**********************************************************************\n",
      "\n"
     ]
    }
   ],
   "source": [
    "accu, TNR, TPR, FPR, FNR=svm_plot(clf=clf, x_train=tfidf_vectors, y_train=y_train_word, x_test=x_test_tf_word, y_test=y_test_word)"
   ]
  },
  {
   "cell_type": "code",
   "execution_count": null,
   "metadata": {},
   "outputs": [],
   "source": []
  },
  {
   "cell_type": "code",
   "execution_count": null,
   "metadata": {},
   "outputs": [],
   "source": []
  },
  {
   "cell_type": "markdown",
   "metadata": {},
   "source": [
    "# Performance Table"
   ]
  },
  {
   "cell_type": "markdown",
   "metadata": {},
   "source": [
    "| sno | featurization | model algo | cv algo | best C | best gamma | accuracy | TNR | TPR | f1-score |\n",
    "|-----|----------------|---------------|--------------------|-------------|------------|----------|--------|--------|----------|\n",
    "| 1 | Tfidf word2vec | SVC | GridSearchCV | 10 | 0.5 | 89.3171 | 0.1651 | 0.9874 | 0.92 |\n",
    "| 2 | Tfidf word2vec | SVC | RandomizedSearchCV | 50 | 0.001 | 88.5302 | 0.0 | 1.0 | 0.94 |\n"
   ]
  },
  {
   "cell_type": "markdown",
   "metadata": {},
   "source": [
    "| sno | featurization | model algo | cv algo | best alpha | best penalty | accuracy | TNR | TPR | f1-score |\n",
    "|-----|----------------|---------------|--------------|------------|--------------|----------|--------|--------|----------|\n",
    "| 1 | Tfidf word2vec | SGDClassifier | GridSearchCV | 5e-05 | l2 | 88.8503 | 0.0895 | 0.9920 | 0.93 |"
   ]
  },
  {
   "cell_type": "markdown",
   "metadata": {},
   "source": [
    "## Observation -\n",
    "* both SVC and SGDClassifier gives approximately same f1 score and accuracy\n",
    "* very bad TNR"
   ]
  }
 ],
 "metadata": {
  "kernelspec": {
   "display_name": "Python 3",
   "language": "python",
   "name": "python3"
  },
  "language_info": {
   "codemirror_mode": {
    "name": "ipython",
    "version": 3
   },
   "file_extension": ".py",
   "mimetype": "text/x-python",
   "name": "python",
   "nbconvert_exporter": "python",
   "pygments_lexer": "ipython3",
   "version": "3.6.5"
  }
 },
 "nbformat": 4,
 "nbformat_minor": 2
}
