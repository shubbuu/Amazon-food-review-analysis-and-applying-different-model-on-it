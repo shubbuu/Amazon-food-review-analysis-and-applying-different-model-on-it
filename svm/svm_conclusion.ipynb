{
 "cells": [
  {
   "cell_type": "markdown",
   "metadata": {},
   "source": [
    "# Final Table-"
   ]
  },
  {
   "cell_type": "markdown",
   "metadata": {},
   "source": [
    "## Table for SVC"
   ]
  },
  {
   "cell_type": "markdown",
   "metadata": {},
   "source": [
    "| sno | featurization | model algo | cv algo | best C | best gamma | accuracy | TNR | TPR | f1-score |\n",
    "|-----|---------------|---------------|--------------------|-------------|------------|----------|--------|--------|----------|\n",
    "| 1 | Tfidf | SVC | GridSearchCV | 150 | 0.005 | 91.5399 | 0.4288 | 0.9810 | 0.93 |\n",
    "| 2 | Tfidf | SVC | RandomizedSearchCV | 150 | 0.5 | 91.7599 | 0.4652 | 0.9786 | 0.93 |\n",
    "| 3 | BoW | SVC | GridSearchCV | 200 | 0.005 | 91.9466 | 0.4220 | 0.9835 | 0.93 |\n",
    "| 4 | BoW | SVC | RandomizedSearchCV | 150 | 0.05 | 91.7599 | 0.5305 | 0.9687 | 0.92 |\n",
    "| 5 | Avg word2vec | SVC | GridSearchCV | 5 | 1 | 90.8084 | 0.25 | 0.9875 | 0.93 |\n",
    "| 6 | Avg word2vec | SVC | RandomizedSearchCV | 50 | 10 | 89.5410 | 0.0420 | 0.9985 | 0.94 |\n",
    "| 7 | Tfidf word2vec | SVC | GridSearchCV | 10 | 0.5 | 89.3171 | 0.1651 | 0.9874 | 0.92 |\n",
    "| 8 | Tfidf word2vec | SVC | RandomizedSearchCV | 50 | 0.001 | 88.5302 | 0.0 | 1.0 | 0.94 |\n"
   ]
  },
  {
   "cell_type": "markdown",
   "metadata": {},
   "source": [
    "## Table for SGDClassifier"
   ]
  },
  {
   "cell_type": "markdown",
   "metadata": {},
   "source": [
    "| sno | featurization | model algo | cv algo | best alpha | best penalty | accuracy | TNR | TPR | f1-score |\n",
    "|-----|---------------|---------------|--------------|------------|--------------|----------|--------|--------|----------|\n",
    "| 1 | Tfidf | SGDClassifier | Grid | 5e-05 | l2 | 91.1733 | 0.3318 | 0.9900 | 0.93 |\n",
    "| 2 | BoW | SGDClassifier | Grid | 5e-05 | l2 | 91.56 | 0.3161 | 0.9918 | 0.93 |\n",
    "| 3 | Avg w2v | SGDClassifier | Grid | 0.0001 | l2 | 89.6611 | 0.0507 | 0.9988 | 0.94 |\n",
    "| 4 | Tfidf w2v | SGDClassifier | Grid | 5e-05 | l2 | 88.8503 | 0.0895 | 0.9920 | 0.93 |"
   ]
  },
  {
   "cell_type": "markdown",
   "metadata": {},
   "source": [
    "# Conclusion-\n",
    "* SVC works well in case of TFIDF and BoW\n",
    "* For every featurisation both SVC and SGDClassifier gives same accuracy and f1-score\n",
    "* AVG word2vec and TFIDF word2vec having very less TNR"
   ]
  }
 ],
 "metadata": {
  "kernelspec": {
   "display_name": "Python 3",
   "language": "python",
   "name": "python3"
  },
  "language_info": {
   "codemirror_mode": {
    "name": "ipython",
    "version": 3
   },
   "file_extension": ".py",
   "mimetype": "text/x-python",
   "name": "python",
   "nbconvert_exporter": "python",
   "pygments_lexer": "ipython3",
   "version": "3.6.5"
  }
 },
 "nbformat": 4,
 "nbformat_minor": 2
}
