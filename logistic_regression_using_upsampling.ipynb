{
 "cells": [
  {
   "cell_type": "markdown",
   "metadata": {},
   "source": [
    "# Objective- Logistic Regression on Amazon fine food reviews (Bag of Words)"
   ]
  },
  {
   "cell_type": "markdown",
   "metadata": {},
   "source": [
    "#### Codes for-\n",
    "* GridSearchCV and RandomSearchCV to find optimal lambda\n",
    "* l1 and l2 regularizer\n",
    "* feature importance\n",
    "* by increasing lambda using 'l1' regularizer, the change occurs in the result\n"
   ]
  },
  {
   "cell_type": "markdown",
   "metadata": {},
   "source": [
    "#### About the data-\n",
    "Data Source: https://www.kaggle.com/snap/amazon-fine-food-reviews\n",
    "\n",
    "The Amazon Fine Food Reviews dataset consists of reviews of fine foods from Amazon.\n",
    "\n",
    "Number of reviews: 568,454\n",
    "Number of users: 256,059\n",
    "Number of products: 74,258\n",
    "Timespan: Oct 1999 - Oct 2012\n",
    "Number of Attributes/Columns in data: 10\n",
    "\n",
    "Attribute Information:\n",
    "\n",
    "Id\n",
    "ProductId - unique identifier for the product\n",
    "UserId - unqiue identifier for the user\n",
    "ProfileName\n",
    "HelpfulnessNumerator - number of users who found the review helpful\n",
    "HelpfulnessDenominator - number of users who indicated whether they found the review helpful or not\n",
    "Score - rating between 1 and 5\n",
    "Time - timestamp for the review\n",
    "Summary - brief summary of the review\n",
    "Text - text of the review"
   ]
  },
  {
   "cell_type": "code",
   "execution_count": 4,
   "metadata": {},
   "outputs": [],
   "source": [
    "import sqlite3\n",
    "import pandas as pd\n",
    "import numpy as np\n",
    "import nltk\n",
    "from sklearn.feature_extraction.text import CountVectorizer\n",
    "from sklearn.preprocessing import StandardScaler\n",
    "from sklearn.cross_validation import train_test_split\n",
    "from sklearn.model_selection import GridSearchCV, TimeSeriesSplit\n",
    "from sklearn.linear_model import LogisticRegression\n",
    "from datetime import datetime\n",
    "from sklearn.metrics import confusion_matrix, classification_report, accuracy_score\n",
    "import warnings\n",
    "warnings.filterwarnings('ignore')"
   ]
  },
  {
   "cell_type": "code",
   "execution_count": 5,
   "metadata": {},
   "outputs": [],
   "source": [
    "import matplotlib.pyplot as plt\n",
    "%matplotlib inline"
   ]
  },
  {
   "cell_type": "markdown",
   "metadata": {},
   "source": [
    "## Loading the data"
   ]
  },
  {
   "cell_type": "code",
   "execution_count": 6,
   "metadata": {},
   "outputs": [],
   "source": [
    "sql=sqlite3.connect('database.sqlite')  #loading sql data\n",
    "data=pd.read_sql_query('''\n",
    "SELECT *\n",
    "FROM Reviews\n",
    "WHERE Score!=3''',sql)"
   ]
  },
  {
   "cell_type": "code",
   "execution_count": 7,
   "metadata": {},
   "outputs": [
    {
     "data": {
      "text/plain": [
       "Index(['Id', 'ProductId', 'UserId', 'ProfileName', 'HelpfulnessNumerator',\n",
       "       'HelpfulnessDenominator', 'Score', 'Time', 'Summary', 'Text'],\n",
       "      dtype='object')"
      ]
     },
     "execution_count": 7,
     "metadata": {},
     "output_type": "execute_result"
    }
   ],
   "source": [
    "data.columns  #column names in the dataset"
   ]
  },
  {
   "cell_type": "code",
   "execution_count": 8,
   "metadata": {},
   "outputs": [],
   "source": [
    "#for changing score int value to positive (1) and negative (0) i.e only in two class\n",
    "def posneg(x):\n",
    "    if x<3:\n",
    "        return 0\n",
    "    else:\n",
    "        return 1\n",
    "score=data['Score']\n",
    "data['Score']=score.map(posneg)"
   ]
  },
  {
   "cell_type": "code",
   "execution_count": 9,
   "metadata": {},
   "outputs": [
    {
     "data": {
      "text/html": [
       "<div>\n",
       "<style>\n",
       "    .dataframe thead tr:only-child th {\n",
       "        text-align: right;\n",
       "    }\n",
       "\n",
       "    .dataframe thead th {\n",
       "        text-align: left;\n",
       "    }\n",
       "\n",
       "    .dataframe tbody tr th {\n",
       "        vertical-align: top;\n",
       "    }\n",
       "</style>\n",
       "<table border=\"1\" class=\"dataframe\">\n",
       "  <thead>\n",
       "    <tr style=\"text-align: right;\">\n",
       "      <th></th>\n",
       "      <th>Id</th>\n",
       "      <th>ProductId</th>\n",
       "      <th>UserId</th>\n",
       "      <th>ProfileName</th>\n",
       "      <th>HelpfulnessNumerator</th>\n",
       "      <th>HelpfulnessDenominator</th>\n",
       "      <th>Score</th>\n",
       "      <th>Time</th>\n",
       "      <th>Summary</th>\n",
       "      <th>Text</th>\n",
       "    </tr>\n",
       "  </thead>\n",
       "  <tbody>\n",
       "    <tr>\n",
       "      <th>0</th>\n",
       "      <td>1</td>\n",
       "      <td>B001E4KFG0</td>\n",
       "      <td>A3SGXH7AUHU8GW</td>\n",
       "      <td>delmartian</td>\n",
       "      <td>1</td>\n",
       "      <td>1</td>\n",
       "      <td>1</td>\n",
       "      <td>1303862400</td>\n",
       "      <td>Good Quality Dog Food</td>\n",
       "      <td>I have bought several of the Vitality canned d...</td>\n",
       "    </tr>\n",
       "    <tr>\n",
       "      <th>1</th>\n",
       "      <td>2</td>\n",
       "      <td>B00813GRG4</td>\n",
       "      <td>A1D87F6ZCVE5NK</td>\n",
       "      <td>dll pa</td>\n",
       "      <td>0</td>\n",
       "      <td>0</td>\n",
       "      <td>0</td>\n",
       "      <td>1346976000</td>\n",
       "      <td>Not as Advertised</td>\n",
       "      <td>Product arrived labeled as Jumbo Salted Peanut...</td>\n",
       "    </tr>\n",
       "    <tr>\n",
       "      <th>2</th>\n",
       "      <td>3</td>\n",
       "      <td>B000LQOCH0</td>\n",
       "      <td>ABXLMWJIXXAIN</td>\n",
       "      <td>Natalia Corres \"Natalia Corres\"</td>\n",
       "      <td>1</td>\n",
       "      <td>1</td>\n",
       "      <td>1</td>\n",
       "      <td>1219017600</td>\n",
       "      <td>\"Delight\" says it all</td>\n",
       "      <td>This is a confection that has been around a fe...</td>\n",
       "    </tr>\n",
       "  </tbody>\n",
       "</table>\n",
       "</div>"
      ],
      "text/plain": [
       "   Id   ProductId          UserId                      ProfileName  \\\n",
       "0   1  B001E4KFG0  A3SGXH7AUHU8GW                       delmartian   \n",
       "1   2  B00813GRG4  A1D87F6ZCVE5NK                           dll pa   \n",
       "2   3  B000LQOCH0   ABXLMWJIXXAIN  Natalia Corres \"Natalia Corres\"   \n",
       "\n",
       "   HelpfulnessNumerator  HelpfulnessDenominator  Score        Time  \\\n",
       "0                     1                       1      1  1303862400   \n",
       "1                     0                       0      0  1346976000   \n",
       "2                     1                       1      1  1219017600   \n",
       "\n",
       "                 Summary                                               Text  \n",
       "0  Good Quality Dog Food  I have bought several of the Vitality canned d...  \n",
       "1      Not as Advertised  Product arrived labeled as Jumbo Salted Peanut...  \n",
       "2  \"Delight\" says it all  This is a confection that has been around a fe...  "
      ]
     },
     "execution_count": 9,
     "metadata": {},
     "output_type": "execute_result"
    }
   ],
   "source": [
    "data.head(3)"
   ]
  },
  {
   "cell_type": "markdown",
   "metadata": {},
   "source": [
    "## Data cleaning"
   ]
  },
  {
   "cell_type": "code",
   "execution_count": 10,
   "metadata": {},
   "outputs": [],
   "source": [
    "data=data[data['HelpfulnessNumerator']<=data['HelpfulnessDenominator']] "
   ]
  },
  {
   "cell_type": "code",
   "execution_count": 11,
   "metadata": {},
   "outputs": [
    {
     "data": {
      "text/plain": [
       "(364171, 10)"
      ]
     },
     "execution_count": 11,
     "metadata": {},
     "output_type": "execute_result"
    }
   ],
   "source": [
    "data.drop_duplicates(subset={\"UserId\",\"ProfileName\",\"Time\",\"Text\"},keep='first',inplace=True) #droping the duplicates\n",
    "data.shape"
   ]
  },
  {
   "cell_type": "code",
   "execution_count": 12,
   "metadata": {},
   "outputs": [],
   "source": [
    "import nltk\n",
    "from nltk.corpus import stopwords"
   ]
  },
  {
   "cell_type": "code",
   "execution_count": 13,
   "metadata": {},
   "outputs": [],
   "source": [
    "stop=set(stopwords.words('english'))"
   ]
  },
  {
   "cell_type": "code",
   "execution_count": 14,
   "metadata": {},
   "outputs": [],
   "source": [
    "\n",
    "sno=nltk.stem.SnowballStemmer('english')  #stemmer of english language\n",
    "\n",
    "def cleanhtml(sentence): #function to clean the word of any html-tags\n",
    "    cleanr = re.compile('<.*?>')\n",
    "    cleantext = re.sub(cleanr, ' ', sentence)\n",
    "    return cleantext\n",
    "def cleanpunc(sentence): #function to clean the word of any punctuation or special characters\n",
    "    cleaned = re.sub(r'[?|!|\\'|\"|#]',r'',sentence)\n",
    "    cleaned = re.sub(r'[.|,|)|(|\\|/]',r' ',cleaned)\n",
    "    return  cleaned"
   ]
  },
  {
   "cell_type": "code",
   "execution_count": 70,
   "metadata": {},
   "outputs": [],
   "source": [
    "#taking sample of data\n",
    "sample=data.sample(100000)\n",
    "sample_data=sample.sort_values(['Time'])  #sorting data on time basis\n",
    "sample_score=sample_data['Score']"
   ]
  },
  {
   "cell_type": "code",
   "execution_count": 71,
   "metadata": {},
   "outputs": [],
   "source": [
    "#filtering sentence\n",
    "import re\n",
    "final_string=[]\n",
    "s=''\n",
    "for sentence in sample_data['Text']:\n",
    "    filtered_sentence=[]\n",
    "    cleaned_sentence=cleanhtml(sentence)\n",
    "    for words in sentence.split():\n",
    "        cleaned_words=cleanpunc(words)\n",
    "        if ( (cleaned_words.isalpha()) & (len(cleaned_words)>2) ):\n",
    "            if(cleaned_words.lower() not in stop):\n",
    "                s=(sno.stem(cleaned_words.lower())).encode('utf8')\n",
    "                filtered_sentence.append(s)\n",
    "            else: \n",
    "                continue\n",
    "        else:\n",
    "            continue\n",
    "    str1=b\" \".join(filtered_sentence)    \n",
    "    final_string.append(str1)\n",
    "        "
   ]
  },
  {
   "cell_type": "code",
   "execution_count": 72,
   "metadata": {},
   "outputs": [],
   "source": [
    "sample_data['Cleaned_text']=final_string  #creating a new column in sample_data"
   ]
  },
  {
   "cell_type": "code",
   "execution_count": 73,
   "metadata": {},
   "outputs": [
    {
     "data": {
      "text/html": [
       "<div>\n",
       "<style>\n",
       "    .dataframe thead tr:only-child th {\n",
       "        text-align: right;\n",
       "    }\n",
       "\n",
       "    .dataframe thead th {\n",
       "        text-align: left;\n",
       "    }\n",
       "\n",
       "    .dataframe tbody tr th {\n",
       "        vertical-align: top;\n",
       "    }\n",
       "</style>\n",
       "<table border=\"1\" class=\"dataframe\">\n",
       "  <thead>\n",
       "    <tr style=\"text-align: right;\">\n",
       "      <th></th>\n",
       "      <th>Id</th>\n",
       "      <th>ProductId</th>\n",
       "      <th>UserId</th>\n",
       "      <th>ProfileName</th>\n",
       "      <th>HelpfulnessNumerator</th>\n",
       "      <th>HelpfulnessDenominator</th>\n",
       "      <th>Score</th>\n",
       "      <th>Time</th>\n",
       "      <th>Summary</th>\n",
       "      <th>Text</th>\n",
       "      <th>Cleaned_text</th>\n",
       "    </tr>\n",
       "  </thead>\n",
       "  <tbody>\n",
       "    <tr>\n",
       "      <th>417838</th>\n",
       "      <td>451855</td>\n",
       "      <td>B00004CXX9</td>\n",
       "      <td>AJH6LUC1UT1ON</td>\n",
       "      <td>The Phantom of the Opera</td>\n",
       "      <td>0</td>\n",
       "      <td>0</td>\n",
       "      <td>1</td>\n",
       "      <td>946857600</td>\n",
       "      <td>FANTASTIC!</td>\n",
       "      <td>Beetlejuice is an excellent and funny movie. K...</td>\n",
       "      <td>b'beetlejuic excel funni keaton hilari wacki g...</td>\n",
       "    </tr>\n",
       "    <tr>\n",
       "      <th>1145</th>\n",
       "      <td>1244</td>\n",
       "      <td>B00002Z754</td>\n",
       "      <td>A3B8RCEI0FXFI6</td>\n",
       "      <td>B G Chase</td>\n",
       "      <td>10</td>\n",
       "      <td>10</td>\n",
       "      <td>1</td>\n",
       "      <td>962236800</td>\n",
       "      <td>WOW Make your own 'slickers' !</td>\n",
       "      <td>I just received my shipment and could hardly w...</td>\n",
       "      <td>b'receiv shipment could hard wait tri love cal...</td>\n",
       "    </tr>\n",
       "    <tr>\n",
       "      <th>138000</th>\n",
       "      <td>149768</td>\n",
       "      <td>B00004S1C5</td>\n",
       "      <td>A7P76IGRZZBFJ</td>\n",
       "      <td>E. Thompson \"Soooooper Genius\"</td>\n",
       "      <td>18</td>\n",
       "      <td>18</td>\n",
       "      <td>1</td>\n",
       "      <td>975974400</td>\n",
       "      <td>Who Needs Wilton?</td>\n",
       "      <td>I'm sick of scads of nasty toothpicks all over...</td>\n",
       "      <td>b'sick scad nasti toothpick counter tint conce...</td>\n",
       "    </tr>\n",
       "  </tbody>\n",
       "</table>\n",
       "</div>"
      ],
      "text/plain": [
       "            Id   ProductId          UserId                     ProfileName  \\\n",
       "417838  451855  B00004CXX9   AJH6LUC1UT1ON        The Phantom of the Opera   \n",
       "1145      1244  B00002Z754  A3B8RCEI0FXFI6                       B G Chase   \n",
       "138000  149768  B00004S1C5   A7P76IGRZZBFJ  E. Thompson \"Soooooper Genius\"   \n",
       "\n",
       "        HelpfulnessNumerator  HelpfulnessDenominator  Score       Time  \\\n",
       "417838                     0                       0      1  946857600   \n",
       "1145                      10                      10      1  962236800   \n",
       "138000                    18                      18      1  975974400   \n",
       "\n",
       "                               Summary  \\\n",
       "417838                      FANTASTIC!   \n",
       "1145    WOW Make your own 'slickers' !   \n",
       "138000               Who Needs Wilton?   \n",
       "\n",
       "                                                     Text  \\\n",
       "417838  Beetlejuice is an excellent and funny movie. K...   \n",
       "1145    I just received my shipment and could hardly w...   \n",
       "138000  I'm sick of scads of nasty toothpicks all over...   \n",
       "\n",
       "                                             Cleaned_text  \n",
       "417838  b'beetlejuic excel funni keaton hilari wacki g...  \n",
       "1145    b'receiv shipment could hard wait tri love cal...  \n",
       "138000  b'sick scad nasti toothpick counter tint conce...  "
      ]
     },
     "execution_count": 73,
     "metadata": {},
     "output_type": "execute_result"
    }
   ],
   "source": [
    "sample_data.head(3)"
   ]
  },
  {
   "cell_type": "code",
   "execution_count": 74,
   "metadata": {},
   "outputs": [
    {
     "data": {
      "text/plain": [
       "1    84317\n",
       "0    15683\n",
       "Name: Score, dtype: int64"
      ]
     },
     "execution_count": 74,
     "metadata": {},
     "output_type": "execute_result"
    }
   ],
   "source": [
    "sample_data['Score'].value_counts()"
   ]
  },
  {
   "cell_type": "code",
   "execution_count": 75,
   "metadata": {},
   "outputs": [
    {
     "data": {
      "text/plain": [
       "1    84317\n",
       "0    15683\n",
       "Name: Score, dtype: int64"
      ]
     },
     "execution_count": 75,
     "metadata": {},
     "output_type": "execute_result"
    }
   ],
   "source": [
    "sample_data['Score'].value_counts()"
   ]
  },
  {
   "cell_type": "code",
   "execution_count": 76,
   "metadata": {},
   "outputs": [],
   "source": [
    "#taking the test data seperate from all other\n",
    "\n",
    "train,test=train_test_split(sample_data,test_size=0.3) #splitting the data"
   ]
  },
  {
   "cell_type": "code",
   "execution_count": 77,
   "metadata": {},
   "outputs": [
    {
     "data": {
      "text/plain": [
       "1    59067\n",
       "0    10933\n",
       "Name: Score, dtype: int64"
      ]
     },
     "execution_count": 77,
     "metadata": {},
     "output_type": "execute_result"
    }
   ],
   "source": [
    "train['Score'].value_counts()"
   ]
  },
  {
   "cell_type": "code",
   "execution_count": 78,
   "metadata": {},
   "outputs": [
    {
     "data": {
      "text/plain": [
       "1    25250\n",
       "0     4750\n",
       "Name: Score, dtype: int64"
      ]
     },
     "execution_count": 78,
     "metadata": {},
     "output_type": "execute_result"
    }
   ],
   "source": [
    "test['Score'].value_counts()"
   ]
  },
  {
   "cell_type": "code",
   "execution_count": 79,
   "metadata": {},
   "outputs": [],
   "source": [
    "from sklearn.utils import resample"
   ]
  },
  {
   "cell_type": "code",
   "execution_count": 80,
   "metadata": {},
   "outputs": [],
   "source": [
    "df_majority = train[train['Score']==1]\n",
    "df_minority = train[train['Score']==0]\n"
   ]
  },
  {
   "cell_type": "code",
   "execution_count": 81,
   "metadata": {},
   "outputs": [],
   "source": [
    "#upsampling on train data\n",
    "df_minority_upsampled = resample(df_minority, \n",
    "                                 replace=True,     # sample with replacement\n",
    "                                 n_samples=59067,    # to match majority class\n",
    "                                 random_state=123) # reproducible results\n"
   ]
  },
  {
   "cell_type": "code",
   "execution_count": 82,
   "metadata": {},
   "outputs": [
    {
     "data": {
      "text/plain": [
       "1    59067\n",
       "0    59067\n",
       "Name: Score, dtype: int64"
      ]
     },
     "execution_count": 82,
     "metadata": {},
     "output_type": "execute_result"
    }
   ],
   "source": [
    "df_upsampled = pd.concat([df_majority, df_minority_upsampled])\n",
    "df_upsampled['Score'].value_counts()"
   ]
  },
  {
   "cell_type": "code",
   "execution_count": 219,
   "metadata": {},
   "outputs": [],
   "source": [
    "df_upsampled=df_upsampled.sort_values(['Time'])\n",
    "\n",
    "X=df_upsampled['Cleaned_text']\n",
    "y_train=df_upsampled['Score']"
   ]
  },
  {
   "cell_type": "code",
   "execution_count": 84,
   "metadata": {},
   "outputs": [],
   "source": [
    "# universal x_test and y_test \n",
    "x_test=test['Cleaned_text']\n",
    "y_test=test['Score']"
   ]
  },
  {
   "cell_type": "code",
   "execution_count": 2,
   "metadata": {},
   "outputs": [],
   "source": [
    "import pandas as pd\n",
    "results=pd.DataFrame(columns=['sno.', 'featurization', 'n_gram range', 'model' ,'cv algo', 'best penalty', 'class_weight', 'best C', 'accuracy', 'AUC', 'TNR', 'TPR', 'FPR', 'FNR'])"
   ]
  },
  {
   "cell_type": "code",
   "execution_count": 85,
   "metadata": {},
   "outputs": [],
   "source": [
    "def logistic_regression(clf, x_train, y_train, x_test, y_test):\n",
    "    #plot error vs C\n",
    "    x_1=[]\n",
    "    x_2=[]\n",
    "    y_1=[]\n",
    "    y_2=[]\n",
    "    for x in clf.grid_scores_:\n",
    "        if(x[0]['penalty']=='l1'):\n",
    "            x_1.append(x[0]['C'])\n",
    "            y_1.append(1-x[1])\n",
    "        else:\n",
    "            x_2.append(x[0]['C'])\n",
    "            y_2.append(1-x[1])\n",
    "    plt.plot(x_1,y_1, label='l1')\n",
    "    plt.plot(x_2,y_2, label='l2')\n",
    "    plt.xlabel('value of C')\n",
    "    plt.ylabel('misclassification error')\n",
    "    plt.title('C vs error')\n",
    "    plt.legend()\n",
    "    plt.show()\n",
    "    print('**********************************************************************\\n')\n",
    "      \n",
    "    #predicting y and accuracy\n",
    "    y_pred=clf.predict(x_test)\n",
    "    accu=accuracy_score(y_pred,y_test)*100\n",
    "    print('accuracy=',accu)\n",
    "    print('**********************************************************************\\n')\n",
    "    \n",
    "    #confusion matrix\n",
    "    t=confusion_matrix(y_pred,y_test)\n",
    "    print('confusion matrix--')\n",
    "    #print(t)\n",
    "    #print('**********************************************************************')\n",
    "    sns.heatmap(t, annot=True, fmt=\"d\", xticklabels=True, yticklabels=True)\n",
    "    plt.xlabel('True label')\n",
    "    plt.ylabel('Predicted label')\n",
    "    plt.title('confusion matrix')\n",
    "    plt.show()\n",
    "    print('**********************************************************************\\n')\n",
    "    \n",
    "    # finding TPR , TNR, FPR, FNR\n",
    "    TNR=t[0][0]/(t[0][0]+t[1][0])\n",
    "    TPR=t[1][1]/(t[0][1]+t[1][1])\n",
    "    FPR=t[1][0]/(t[0][0]+t[1][0])\n",
    "    FNR=t[0][1]/(t[0][1]+t[1][1])\n",
    "    print('TNR=',TNR)\n",
    "    print('TPR=',TPR)\n",
    "    print('FPR=',FPR)\n",
    "    print('FNR=',FNR)\n",
    "    print('**********************************************************************\\n')\n",
    "    \n",
    "    \n",
    "    #classification report\n",
    "    print(classification_report(y_pred,y_test))\n",
    "    print('**********************************************************************\\n')\n",
    "    \n",
    "    #print('ROC curve--')\n",
    "    y_pred_proba=clf.predict_proba(x_test)\n",
    "    fpr, tpr, thresholds = metrics.roc_curve(y_test, y_pred_proba[:,1], pos_label=1)\n",
    "    auc = metrics.roc_auc_score(y_test, y_pred_proba[:,1])\n",
    "    plt.plot(fpr,tpr,label=\"auc=\"+str(auc))\n",
    "    plt.plot([0,1],[0,1],linestyle='--')\n",
    "    plt.legend(loc=4)\n",
    "    plt.title('ROC curve')\n",
    "    plt.show()\n",
    "    \n",
    "    return accu, auc, TNR, TPR, FPR, FNR"
   ]
  },
  {
   "cell_type": "markdown",
   "metadata": {},
   "source": [
    "# 1. Logistic Regression for Bag of words"
   ]
  },
  {
   "cell_type": "markdown",
   "metadata": {},
   "source": [
    "###  Logistic regression for Bag of words using GridSearchCV "
   ]
  },
  {
   "cell_type": "code",
   "execution_count": 31,
   "metadata": {},
   "outputs": [],
   "source": [
    "count_vect=CountVectorizer()\n",
    "x_train_bow=count_vect.fit_transform(X.values)"
   ]
  },
  {
   "cell_type": "code",
   "execution_count": 32,
   "metadata": {},
   "outputs": [],
   "source": [
    "x_test_bow=count_vect.transform(x_test.values)"
   ]
  },
  {
   "cell_type": "code",
   "execution_count": 33,
   "metadata": {},
   "outputs": [],
   "source": [
    "from sklearn.preprocessing import normalize\n",
    "\n",
    "x_train_bow=normalize(x_train_bow)\n",
    "x_test_bow=normalize(x_test_bow)\n"
   ]
  },
  {
   "cell_type": "code",
   "execution_count": 90,
   "metadata": {},
   "outputs": [],
   "source": [
    "import seaborn as sns\n",
    "from sklearn import metrics"
   ]
  },
  {
   "cell_type": "code",
   "execution_count": 35,
   "metadata": {},
   "outputs": [],
   "source": [
    "\n",
    "tscv=TimeSeriesSplit(n_splits=10)\n",
    "penalty=['l2','l1']\n",
    "param={'C': [0.001, 0.005, 0.01, 0.05, 0.1, 0.5, 1, 5, 10, 50, 100, 150, 200], 'penalty':penalty}\n",
    "clf=LogisticRegression()\n",
    "clf=GridSearchCV(estimator=clf, param_grid=param, cv=tscv,  n_jobs=1, verbose=1)"
   ]
  },
  {
   "cell_type": "code",
   "execution_count": 36,
   "metadata": {},
   "outputs": [],
   "source": [
    "import pickle"
   ]
  },
  {
   "cell_type": "code",
   "execution_count": 37,
   "metadata": {},
   "outputs": [
    {
     "name": "stdout",
     "output_type": "stream",
     "text": [
      "CPU times: user 0 ns, sys: 0 ns, total: 0 ns\n",
      "Wall time: 11.7 µs\n",
      "Fitting 10 folds for each of 26 candidates, totalling 260 fits\n"
     ]
    },
    {
     "name": "stderr",
     "output_type": "stream",
     "text": [
      "[Parallel(n_jobs=1)]: Done 260 out of 260 | elapsed: 11.0min finished\n"
     ]
    },
    {
     "name": "stdout",
     "output_type": "stream",
     "text": [
      "duration =  0:11:01.047564\n"
     ]
    }
   ],
   "source": [
    "# fitting the model\n",
    "%time\n",
    "start=datetime.now()\n",
    "clf.fit(x_train_bow,y_train)\n",
    "#pickle.dump(clf,open('bow_unigram.p','wb'))\n",
    "end=datetime.now()\n",
    "print('duration = ',(end-start))"
   ]
  },
  {
   "cell_type": "code",
   "execution_count": 38,
   "metadata": {},
   "outputs": [
    {
     "name": "stdout",
     "output_type": "stream",
     "text": [
      "best C= 1\n",
      "best penalty= l2\n"
     ]
    }
   ],
   "source": [
    "# best value of C\n",
    "c=clf.best_estimator_.get_params()['C']\n",
    "penalty=clf.best_estimator_.get_params()['penalty']\n",
    "print('best C=',c)\n",
    "print('best penalty=',penalty)"
   ]
  },
  {
   "cell_type": "code",
   "execution_count": null,
   "metadata": {},
   "outputs": [],
   "source": []
  },
  {
   "cell_type": "code",
   "execution_count": 39,
   "metadata": {},
   "outputs": [
    {
     "data": {
      "image/png": "[encoded data removed]",
      "text/plain": [
       "<matplotlib.figure.Figure at 0x3fff1e54a390>"
      ]
     },
     "metadata": {},
     "output_type": "display_data"
    },
    {
     "name": "stdout",
     "output_type": "stream",
     "text": [
      "**********************************************************************\n",
      "\n",
      "accuracy= 86.31333333333333\n",
      "**********************************************************************\n",
      "\n",
      "confusion matrix--\n"
     ]
    },
    {
     "data": {
      "image/png": "[encoded data removed]",
      "text/plain": [
       "<matplotlib.figure.Figure at 0x3fff2348b630>"
      ]
     },
     "metadata": {},
     "output_type": "display_data"
    },
    {
     "name": "stdout",
     "output_type": "stream",
     "text": [
      "**********************************************************************\n",
      "\n",
      "TNR= 0.8383555746879036\n",
      "TPR= 0.8676737398438116\n",
      "FPR= 0.16164442531209644\n",
      "FNR= 0.13232626015618837\n",
      "**********************************************************************\n",
      "\n",
      "             precision    recall  f1-score   support\n",
      "\n",
      "          0       0.84      0.54      0.65      7250\n",
      "          1       0.87      0.97      0.91     22750\n",
      "\n",
      "avg / total       0.86      0.86      0.85     30000\n",
      "\n",
      "**********************************************************************\n",
      "\n"
     ]
    },
    {
     "data": {
      "image/png": "[encoded data removed]",
      "text/plain": [
       "<matplotlib.figure.Figure at 0x3fff1e418630>"
      ]
     },
     "metadata": {},
     "output_type": "display_data"
    }
   ],
   "source": [
    "accu, auc, TNR, TPR, FPR, FNR=logistic_regression(clf=clf, x_train=x_train_bow, y_train=y_train, x_test=x_test_bow, y_test=y_test)"
   ]
  },
  {
   "cell_type": "code",
   "execution_count": 40,
   "metadata": {},
   "outputs": [],
   "source": [
    "new=[1,'Bag of words', 'unigram', 'LogisticRegression','GridSearchCV',penalty, 'None', c, accu, auc, TNR, TPR, FPR, FNR]\n",
    "results.loc[0]=new"
   ]
  },
  {
   "cell_type": "code",
   "execution_count": 41,
   "metadata": {},
   "outputs": [
    {
     "data": {
      "text/html": [
       "<div>\n",
       "<style>\n",
       "    .dataframe thead tr:only-child th {\n",
       "        text-align: right;\n",
       "    }\n",
       "\n",
       "    .dataframe thead th {\n",
       "        text-align: left;\n",
       "    }\n",
       "\n",
       "    .dataframe tbody tr th {\n",
       "        vertical-align: top;\n",
       "    }\n",
       "</style>\n",
       "<table border=\"1\" class=\"dataframe\">\n",
       "  <thead>\n",
       "    <tr style=\"text-align: right;\">\n",
       "      <th></th>\n",
       "      <th>sno.</th>\n",
       "      <th>featurization</th>\n",
       "      <th>n_gram range</th>\n",
       "      <th>model</th>\n",
       "      <th>cv algo</th>\n",
       "      <th>best penalty</th>\n",
       "      <th>class_weight</th>\n",
       "      <th>best C</th>\n",
       "      <th>accuracy</th>\n",
       "      <th>AUC</th>\n",
       "      <th>TNR</th>\n",
       "      <th>TPR</th>\n",
       "      <th>FPR</th>\n",
       "      <th>FNR</th>\n",
       "    </tr>\n",
       "  </thead>\n",
       "  <tbody>\n",
       "    <tr>\n",
       "      <th>0</th>\n",
       "      <td>1</td>\n",
       "      <td>Bag of words</td>\n",
       "      <td>unigram</td>\n",
       "      <td>LogisticRegression</td>\n",
       "      <td>GridSearchCV</td>\n",
       "      <td>l2</td>\n",
       "      <td>None</td>\n",
       "      <td>1</td>\n",
       "      <td>86.313333</td>\n",
       "      <td>0.92879</td>\n",
       "      <td>0.838356</td>\n",
       "      <td>0.867674</td>\n",
       "      <td>0.161644</td>\n",
       "      <td>0.132326</td>\n",
       "    </tr>\n",
       "  </tbody>\n",
       "</table>\n",
       "</div>"
      ],
      "text/plain": [
       "  sno. featurization n_gram range               model       cv algo  \\\n",
       "0    1  Bag of words      unigram  LogisticRegression  GridSearchCV   \n",
       "\n",
       "  best penalty class_weight best C   accuracy      AUC       TNR       TPR  \\\n",
       "0           l2         None      1  86.313333  0.92879  0.838356  0.867674   \n",
       "\n",
       "        FPR       FNR  \n",
       "0  0.161644  0.132326  "
      ]
     },
     "execution_count": 41,
     "metadata": {},
     "output_type": "execute_result"
    }
   ],
   "source": [
    "results"
   ]
  },
  {
   "cell_type": "code",
   "execution_count": null,
   "metadata": {},
   "outputs": [],
   "source": []
  },
  {
   "cell_type": "markdown",
   "metadata": {},
   "source": [
    "### Logistic regression for bow, RandomizedSearchCV"
   ]
  },
  {
   "cell_type": "code",
   "execution_count": 42,
   "metadata": {},
   "outputs": [],
   "source": [
    "from sklearn.model_selection import RandomizedSearchCV\n",
    "tscv=TimeSeriesSplit(n_splits=10)\n",
    "penalty=['l2','l1']\n",
    "param={'C': [0.001, 0.005, 0.01, 0.05, 0.1, 0.5, 1, 5, 10, 50, 100, 150, 200], 'penalty':penalty}\n",
    "clf=LogisticRegression()\n",
    "clf=RandomizedSearchCV(estimator=clf, param_distributions=param, cv=tscv,  verbose=1)"
   ]
  },
  {
   "cell_type": "code",
   "execution_count": 43,
   "metadata": {},
   "outputs": [
    {
     "name": "stdout",
     "output_type": "stream",
     "text": [
      "CPU times: user 0 ns, sys: 0 ns, total: 0 ns\n",
      "Wall time: 11.4 µs\n",
      "Fitting 10 folds for each of 10 candidates, totalling 100 fits\n"
     ]
    },
    {
     "name": "stderr",
     "output_type": "stream",
     "text": [
      "[Parallel(n_jobs=1)]: Done 100 out of 100 | elapsed:  5.0min finished\n"
     ]
    },
    {
     "name": "stdout",
     "output_type": "stream",
     "text": [
      "duration =  0:05:05.559136\n"
     ]
    }
   ],
   "source": [
    "# fitting the model\n",
    "%time\n",
    "start=datetime.now()\n",
    "clf.fit(x_train_bow,y_train)\n",
    "#pickle.dump(clf,open('bow_unigram_balance_random.p','wb'))\n",
    "end=datetime.now()\n",
    "print('duration = ',(end-start))"
   ]
  },
  {
   "cell_type": "code",
   "execution_count": 44,
   "metadata": {},
   "outputs": [
    {
     "name": "stdout",
     "output_type": "stream",
     "text": [
      "best C= 1\n",
      "best penalty= l2\n"
     ]
    }
   ],
   "source": [
    "# best value of C\n",
    "c=clf.best_estimator_.get_params()['C']\n",
    "penalty=clf.best_estimator_.get_params()['penalty']\n",
    "print('best C=',c)\n",
    "print('best penalty=',penalty)"
   ]
  },
  {
   "cell_type": "code",
   "execution_count": 45,
   "metadata": {},
   "outputs": [
    {
     "data": {
      "image/png": "[encoded data removed]",
      "text/plain": [
       "<matplotlib.figure.Figure at 0x3fff1e1a0240>"
      ]
     },
     "metadata": {},
     "output_type": "display_data"
    },
    {
     "name": "stdout",
     "output_type": "stream",
     "text": [
      "**********************************************************************\n",
      "\n",
      "accuracy= 86.31333333333333\n",
      "**********************************************************************\n",
      "\n",
      "confusion matrix--\n"
     ]
    },
    {
     "data": {
      "image/png": "[encoded data removed]",
      "text/plain": [
       "<matplotlib.figure.Figure at 0x3fff1e418208>"
      ]
     },
     "metadata": {},
     "output_type": "display_data"
    },
    {
     "name": "stdout",
     "output_type": "stream",
     "text": [
      "**********************************************************************\n",
      "\n",
      "TNR= 0.8383555746879036\n",
      "TPR= 0.8676737398438116\n",
      "FPR= 0.16164442531209644\n",
      "FNR= 0.13232626015618837\n",
      "**********************************************************************\n",
      "\n",
      "             precision    recall  f1-score   support\n",
      "\n",
      "          0       0.84      0.54      0.65      7250\n",
      "          1       0.87      0.97      0.91     22750\n",
      "\n",
      "avg / total       0.86      0.86      0.85     30000\n",
      "\n",
      "**********************************************************************\n",
      "\n"
     ]
    },
    {
     "data": {
      "image/png": "[encoded data removed]",
      "text/plain": [
       "<matplotlib.figure.Figure at 0x3fff1dcc8160>"
      ]
     },
     "metadata": {},
     "output_type": "display_data"
    }
   ],
   "source": [
    "accu, auc, TNR, TPR, FPR, FNR=logistic_regression(clf=clf, x_train=x_train_bow, y_train=y_train, x_test=x_test_bow, y_test=y_test)"
   ]
  },
  {
   "cell_type": "code",
   "execution_count": 46,
   "metadata": {},
   "outputs": [],
   "source": [
    "new=[2,'Bag of words', 'unigram', 'LogisticRegression','RandomizedSearchCV',penalty, 'None', c, accu, auc, TNR, TPR, FPR, FNR]\n",
    "results.loc[1]=new"
   ]
  },
  {
   "cell_type": "code",
   "execution_count": 47,
   "metadata": {},
   "outputs": [
    {
     "data": {
      "text/html": [
       "<div>\n",
       "<style>\n",
       "    .dataframe thead tr:only-child th {\n",
       "        text-align: right;\n",
       "    }\n",
       "\n",
       "    .dataframe thead th {\n",
       "        text-align: left;\n",
       "    }\n",
       "\n",
       "    .dataframe tbody tr th {\n",
       "        vertical-align: top;\n",
       "    }\n",
       "</style>\n",
       "<table border=\"1\" class=\"dataframe\">\n",
       "  <thead>\n",
       "    <tr style=\"text-align: right;\">\n",
       "      <th></th>\n",
       "      <th>sno.</th>\n",
       "      <th>featurization</th>\n",
       "      <th>n_gram range</th>\n",
       "      <th>model</th>\n",
       "      <th>cv algo</th>\n",
       "      <th>best penalty</th>\n",
       "      <th>class_weight</th>\n",
       "      <th>best C</th>\n",
       "      <th>accuracy</th>\n",
       "      <th>AUC</th>\n",
       "      <th>TNR</th>\n",
       "      <th>TPR</th>\n",
       "      <th>FPR</th>\n",
       "      <th>FNR</th>\n",
       "    </tr>\n",
       "  </thead>\n",
       "  <tbody>\n",
       "    <tr>\n",
       "      <th>0</th>\n",
       "      <td>1</td>\n",
       "      <td>Bag of words</td>\n",
       "      <td>unigram</td>\n",
       "      <td>LogisticRegression</td>\n",
       "      <td>GridSearchCV</td>\n",
       "      <td>l2</td>\n",
       "      <td>None</td>\n",
       "      <td>1</td>\n",
       "      <td>86.313333</td>\n",
       "      <td>0.92879</td>\n",
       "      <td>0.838356</td>\n",
       "      <td>0.867674</td>\n",
       "      <td>0.161644</td>\n",
       "      <td>0.132326</td>\n",
       "    </tr>\n",
       "    <tr>\n",
       "      <th>1</th>\n",
       "      <td>2</td>\n",
       "      <td>Bag of words</td>\n",
       "      <td>unigram</td>\n",
       "      <td>LogisticRegression</td>\n",
       "      <td>RandomizedSearchCV</td>\n",
       "      <td>l2</td>\n",
       "      <td>None</td>\n",
       "      <td>1</td>\n",
       "      <td>86.313333</td>\n",
       "      <td>0.92879</td>\n",
       "      <td>0.838356</td>\n",
       "      <td>0.867674</td>\n",
       "      <td>0.161644</td>\n",
       "      <td>0.132326</td>\n",
       "    </tr>\n",
       "  </tbody>\n",
       "</table>\n",
       "</div>"
      ],
      "text/plain": [
       "  sno. featurization n_gram range               model             cv algo  \\\n",
       "0    1  Bag of words      unigram  LogisticRegression        GridSearchCV   \n",
       "1    2  Bag of words      unigram  LogisticRegression  RandomizedSearchCV   \n",
       "\n",
       "  best penalty class_weight best C   accuracy      AUC       TNR       TPR  \\\n",
       "0           l2         None      1  86.313333  0.92879  0.838356  0.867674   \n",
       "1           l2         None      1  86.313333  0.92879  0.838356  0.867674   \n",
       "\n",
       "        FPR       FNR  \n",
       "0  0.161644  0.132326  \n",
       "1  0.161644  0.132326  "
      ]
     },
     "execution_count": 47,
     "metadata": {},
     "output_type": "execute_result"
    }
   ],
   "source": [
    "results"
   ]
  },
  {
   "cell_type": "markdown",
   "metadata": {},
   "source": [
    "#### Observation-\n",
    "* with C=1, and penalty='l2' we get good TNR, TPR, area under curve as well as accuracy"
   ]
  },
  {
   "cell_type": "code",
   "execution_count": null,
   "metadata": {},
   "outputs": [],
   "source": []
  },
  {
   "cell_type": "markdown",
   "metadata": {},
   "source": [
    "#### checking sparsity of bag of words by fixing penalty='l1' and changing C value"
   ]
  },
  {
   "cell_type": "code",
   "execution_count": 432,
   "metadata": {},
   "outputs": [],
   "source": [
    "# this function takes C values and all inputs and plot the number of non zero elements in weight for every C\n",
    "\n",
    "def sparsity(C, x_train, y_train, x_test, y_test):\n",
    "    w_change=[]\n",
    "    for i in C:\n",
    "        clf=LogisticRegression(penalty='l1', C=i)\n",
    "        clf.fit(x_train,y_train)\n",
    "        accuracy=clf.predict(x_test)\n",
    "        print('at C=',i)\n",
    "        print('test error=',(1-accuracy_score(accuracy,y_test)))\n",
    "        count=np.count_nonzero(clf.coef_)\n",
    "        print('number of non zero element in w=', count)\n",
    "        print('***********************************************')\n",
    "        w_change.append(count)\n",
    "        \n",
    "        \n",
    "    plt.figure(figsize=(6,6))\n",
    "    plt.plot(C,w_change,color='green')\n",
    "    plt.title('change in non zero element in W , when C changes')\n",
    "    plt.xlabel('value of C')\n",
    "    plt.ylabel('number of non zero element in W')\n",
    "    plt.show()\n",
    "    return w_change\n",
    "        "
   ]
  },
  {
   "cell_type": "code",
   "execution_count": 433,
   "metadata": {},
   "outputs": [],
   "source": [
    "C= [0.001, 0.005, 0.01, 0.05, 0.1, 0.5, 1, 5, 10, 50, 100, 150, 200]\n"
   ]
  },
  {
   "cell_type": "code",
   "execution_count": 434,
   "metadata": {},
   "outputs": [],
   "source": [
    "count_vect=CountVectorizer(ngram_range=(1,1))\n",
    "x_train_bow=count_vect.fit_transform(X.values)\n",
    "x_test_bow=count_vect.transform(x_test.values)"
   ]
  },
  {
   "cell_type": "code",
   "execution_count": 435,
   "metadata": {},
   "outputs": [],
   "source": [
    "from sklearn.preprocessing import normalize\n",
    "\n",
    "x_train_bow=normalize(x_train_bow)\n",
    "x_test_bow=normalize(x_test_bow)\n"
   ]
  },
  {
   "cell_type": "code",
   "execution_count": 436,
   "metadata": {},
   "outputs": [
    {
     "name": "stdout",
     "output_type": "stream",
     "text": [
      "at C= 0.001\n",
      "test error= 0.4914333333333334\n",
      "number of non zero element in w= 2\n",
      "***********************************************\n",
      "at C= 0.005\n",
      "test error= 0.3664666666666667\n",
      "number of non zero element in w= 26\n",
      "***********************************************\n",
      "at C= 0.01\n",
      "test error= 0.2823333333333333\n",
      "number of non zero element in w= 60\n",
      "***********************************************\n",
      "at C= 0.05\n",
      "test error= 0.19199999999999995\n",
      "number of non zero element in w= 266\n",
      "***********************************************\n",
      "at C= 0.1\n",
      "test error= 0.1697333333333333\n",
      "number of non zero element in w= 464\n",
      "***********************************************\n",
      "at C= 0.5\n",
      "test error= 0.14513333333333334\n",
      "number of non zero element in w= 1480\n",
      "***********************************************\n",
      "at C= 1\n",
      "test error= 0.1378666666666667\n",
      "number of non zero element in w= 2417\n",
      "***********************************************\n",
      "at C= 5\n",
      "test error= 0.12983333333333336\n",
      "number of non zero element in w= 6130\n",
      "***********************************************\n",
      "at C= 10\n",
      "test error= 0.13426666666666665\n",
      "number of non zero element in w= 8216\n",
      "***********************************************\n",
      "at C= 50\n",
      "test error= 0.14563333333333328\n",
      "number of non zero element in w= 12132\n",
      "***********************************************\n",
      "at C= 100\n",
      "test error= 0.15193333333333336\n",
      "number of non zero element in w= 13236\n",
      "***********************************************\n",
      "at C= 150\n",
      "test error= 0.15476666666666672\n",
      "number of non zero element in w= 13847\n",
      "***********************************************\n",
      "at C= 200\n",
      "test error= 0.15649999999999997\n",
      "number of non zero element in w= 14130\n",
      "***********************************************\n"
     ]
    },
    {
     "data": {
      "image/png": "[encoded data removed]",
      "text/plain": [
       "<matplotlib.figure.Figure at 0x3ffe91765780>"
      ]
     },
     "metadata": {},
     "output_type": "display_data"
    }
   ],
   "source": [
    "#calling the sparsity function\n",
    "_=sparsity(C, x_train=x_train_bow, x_test=x_test_bow, y_train=y_train, y_test=y_test)"
   ]
  },
  {
   "cell_type": "markdown",
   "metadata": {},
   "source": [
    "#### Observation-\n",
    "* as we increase value of C(decreasing lambda) the sparsity decreases"
   ]
  },
  {
   "cell_type": "code",
   "execution_count": null,
   "metadata": {},
   "outputs": [],
   "source": []
  },
  {
   "cell_type": "code",
   "execution_count": null,
   "metadata": {},
   "outputs": [],
   "source": []
  },
  {
   "cell_type": "markdown",
   "metadata": {},
   "source": [
    "#### feature importance and multicollinearity for bag of words, using best C=1 and penalty='l2'"
   ]
  },
  {
   "cell_type": "code",
   "execution_count": 437,
   "metadata": {},
   "outputs": [],
   "source": [
    "count_vect=CountVectorizer(ngram_range=(1,1))\n",
    "x_train_bow=count_vect.fit_transform(X.values)\n",
    "x_test_bow=count_vect.transform(x_test.values)"
   ]
  },
  {
   "cell_type": "code",
   "execution_count": 438,
   "metadata": {},
   "outputs": [],
   "source": [
    "from sklearn.preprocessing import normalize\n",
    "\n",
    "x_train_bow=normalize(x_train_bow)\n",
    "x_test_bow=normalize(x_test_bow)\n"
   ]
  },
  {
   "cell_type": "code",
   "execution_count": 439,
   "metadata": {},
   "outputs": [
    {
     "name": "stdout",
     "output_type": "stream",
     "text": [
      "number of non-zero element in w= 28021\n"
     ]
    }
   ],
   "source": [
    "#computing weight before perturbation test\n",
    "clf=LogisticRegression(C=1, penalty='l2')\n",
    "clf.fit(x_train_bow,y_train)\n",
    "w=clf.coef_\n",
    "print('number of non-zero element in w=', np.count_nonzero(w))"
   ]
  },
  {
   "cell_type": "code",
   "execution_count": 440,
   "metadata": {},
   "outputs": [],
   "source": [
    "# for findind feature importance we need to check multicollinearity\n",
    "# apply perturbation test for checking multicollinearity\n",
    "# in perturbation test, we add some noise to the training data and the fit the model\n",
    "# the w we will get after fittng the model, if it is significantly different than w which we get without any error adding then we will say it is multicollinear\n",
    "\n",
    "x_train_bow.data=x_train_bow.data+np.random.normal(loc=0,scale=0.1,size=x_train_bow.data.shape)  #adding a noise with a very small value"
   ]
  },
  {
   "cell_type": "code",
   "execution_count": 442,
   "metadata": {},
   "outputs": [
    {
     "name": "stdout",
     "output_type": "stream",
     "text": [
      "number of non-zero element in w_= 28021\n"
     ]
    }
   ],
   "source": [
    "#computing weight after perturbation weight\n",
    "clf=LogisticRegression(C=1, penalty='l2')\n",
    "clf.fit(x_train_bow,y_train)\n",
    "w_=clf.coef_\n",
    "print('number of non-zero element in w_=', np.count_nonzero(w_))"
   ]
  },
  {
   "cell_type": "code",
   "execution_count": null,
   "metadata": {},
   "outputs": [],
   "source": []
  },
  {
   "cell_type": "code",
   "execution_count": 454,
   "metadata": {},
   "outputs": [
    {
     "name": "stdout",
     "output_type": "stream",
     "text": [
      "number of elements in w_delta, more than 50 %= 14345\n"
     ]
    }
   ],
   "source": [
    "#getting the number of elements in w which changes after perturbation test by more than 50%\n",
    "w_delta=abs((w-w_)/w)*100\n",
    "cnt=0\n",
    "for i in range(len(w_delta[0])):\n",
    "    if (w_delta[0][i]>50):\n",
    "        cnt+=1\n",
    "print('number of elements in w_delta, more than 50 %=',cnt)"
   ]
  },
  {
   "cell_type": "markdown",
   "metadata": {},
   "source": [
    "#### Observation-\n",
    "* we have 28021 non zero elements in weight before perturbation and after perturbation weight\n",
    "* after perturbation test, 14345 elements in weight before perturbation change by more than 50 %\n",
    "* Thus we can say that half of the elements in weight are collinear\n",
    "* Thus we can not find feature importance directly by coef_ of model"
   ]
  },
  {
   "cell_type": "markdown",
   "metadata": {},
   "source": [
    "#### feature importance using RFE(recursive feature elimination)"
   ]
  },
  {
   "cell_type": "code",
   "execution_count": null,
   "metadata": {},
   "outputs": [],
   "source": [
    "#https://machinelearningmastery.com/feature-selection-machine-learning-python/\n",
    "#http://scikit-learn.org/stable/modules/generated/sklearn.feature_selection.RFE.html#sklearn.feature_selection.RFE"
   ]
  },
  {
   "cell_type": "code",
   "execution_count": 332,
   "metadata": {},
   "outputs": [],
   "source": [
    "from sklearn.feature_selection import RFE"
   ]
  },
  {
   "cell_type": "code",
   "execution_count": 479,
   "metadata": {},
   "outputs": [
    {
     "name": "stdout",
     "output_type": "stream",
     "text": [
      "CPU times: user 0 ns, sys: 0 ns, total: 0 ns\n",
      "Wall time: 13.8 µs\n"
     ]
    }
   ],
   "source": [
    "%time\n",
    "from sklearn.feature_selection import RFE\n",
    "rfe = RFE(clf, 100, verbose=0, step=100)\n",
    "fit = rfe.fit(x_train_bow,y_train)"
   ]
  },
  {
   "cell_type": "code",
   "execution_count": 480,
   "metadata": {},
   "outputs": [],
   "source": [
    "feature=count_vect.get_feature_names()\n",
    "#feature[0]"
   ]
  },
  {
   "cell_type": "code",
   "execution_count": 481,
   "metadata": {},
   "outputs": [],
   "source": [
    "rank=fit.ranking_\n",
    "index=[]\n",
    "for i in range(len(feature)):\n",
    "    if(rank[i]==1):\n",
    "        index.append(i)"
   ]
  },
  {
   "cell_type": "code",
   "execution_count": 484,
   "metadata": {},
   "outputs": [
    {
     "name": "stdout",
     "output_type": "stream",
     "text": [
      "top 100 words comes from RFE\n",
      "*********************************\n",
      "addict \t\t:\t\t 5.449493247179106\n",
      "amaz \t\t:\t\t 6.588976895779909\n",
      "assum \t\t:\t\t -2.6468362129037493\n",
      "aw \t\t:\t\t -6.681625663137706\n",
      "awesom \t\t:\t\t 6.106386265606328\n",
      "bad \t\t:\t\t -3.0344895994510432\n",
      "balanc \t\t:\t\t 3.113407851287748\n",
      "bare \t\t:\t\t -4.273956974408792\n",
      "beat \t\t:\t\t 4.390984946654834\n",
      "best \t\t:\t\t 6.139948651003783\n",
      "bewar \t\t:\t\t -3.3647286353963364\n",
      "bland \t\t:\t\t -6.01064420255473\n",
      "cancel \t\t:\t\t -5.036189214019031\n",
      "china \t\t:\t\t -4.2845266909644195\n",
      "contact \t\t:\t\t -2.0488545206108593\n",
      "delici \t\t:\t\t 6.7459533615351965\n",
      "descript \t\t:\t\t -4.0579828733468615\n",
      "disappoint \t\t:\t\t -8.052822243451045\n",
      "disgust \t\t:\t\t -4.493693467826443\n",
      "dissapoint \t\t:\t\t -3.338301890994027\n",
      "donat \t\t:\t\t -2.9184205182996394\n",
      "earth \t\t:\t\t -3.6019225544218463\n",
      "easi \t\t:\t\t 5.457843196578477\n",
      "easier \t\t:\t\t 3.4493013907067867\n",
      "excel \t\t:\t\t 7.411572174803607\n",
      "excit \t\t:\t\t -5.099626251151868\n",
      "expir \t\t:\t\t -2.611373315005524\n",
      "fail \t\t:\t\t -3.347693256397779\n",
      "fantast \t\t:\t\t 4.254358440192335\n",
      "fast \t\t:\t\t 4.172632388541054\n",
      "favorit \t\t:\t\t 5.112578948154293\n",
      "flavorless \t\t:\t\t -4.332180474543797\n",
      "glad \t\t:\t\t 5.794619268823959\n",
      "great \t\t:\t\t 6.24845042924163\n",
      "grill \t\t:\t\t 2.9821695658836274\n",
      "gross \t\t:\t\t -4.331273423163575\n",
      "happi \t\t:\t\t 4.352730902618214\n",
      "hook \t\t:\t\t 4.452162304124603\n",
      "hope \t\t:\t\t -4.311403786826593\n",
      "horribl \t\t:\t\t -7.5399188305609455\n",
      "keep \t\t:\t\t 3.8764717975614524\n",
      "label \t\t:\t\t -2.0752255132733715\n",
      "lack \t\t:\t\t -4.264109948303765\n",
      "leak \t\t:\t\t -3.2164147673901655\n",
      "lesson \t\t:\t\t -3.8073696351390702\n",
      "love \t\t:\t\t 4.341611072390276\n",
      "mayb \t\t:\t\t -4.432424871279921\n",
      "mislead \t\t:\t\t -3.3354284086784887\n",
      "mistak \t\t:\t\t -3.490523249846664\n",
      "money \t\t:\t\t -3.582617453160902\n",
      "morn \t\t:\t\t 3.23171386437955\n",
      "nasti \t\t:\t\t -3.9172411015544366\n",
      "neither \t\t:\t\t -4.135775114176845\n",
      "nespresso \t\t:\t\t -3.6533788385116335\n",
      "nice \t\t:\t\t 4.9402487673524575\n",
      "often \t\t:\t\t 4.101132171017782\n",
      "overpr \t\t:\t\t -4.010882130182954\n",
      "perfect \t\t:\t\t 7.351836879778671\n",
      "pictur \t\t:\t\t -3.2909260158089766\n",
      "pleasant \t\t:\t\t 5.622303857400009\n",
      "poor \t\t:\t\t -5.4061455947410355\n",
      "quick \t\t:\t\t 3.1369561327726783\n",
      "refresh \t\t:\t\t 3.9800857918203003\n",
      "refund \t\t:\t\t -5.555366974499613\n",
      "resembl \t\t:\t\t -3.3540186765315445\n",
      "return \t\t:\t\t -7.152186196021517\n",
      "rip \t\t:\t\t -5.081919008755226\n",
      "risk \t\t:\t\t -4.604429655533348\n",
      "ruin \t\t:\t\t -4.694015357584743\n",
      "sad \t\t:\t\t -4.028085246713025\n",
      "sandwich \t\t:\t\t 2.74555976675755\n",
      "satisfi \t\t:\t\t 4.216005657314747\n",
      "shame \t\t:\t\t -4.147566015243519\n",
      "skeptic \t\t:\t\t 4.294726574510314\n",
      "smooth \t\t:\t\t 6.23235925743444\n",
      "sometim \t\t:\t\t 4.41035474898562\n",
      "sorri \t\t:\t\t -4.154984657026359\n",
      "spit \t\t:\t\t -5.27935212589532\n",
      "stale \t\t:\t\t -6.544363769216911\n",
      "strang \t\t:\t\t -3.669844958657331\n",
      "stuck \t\t:\t\t -5.611127414925851\n",
      "tasteless \t\t:\t\t -6.156760080037807\n",
      "terribl \t\t:\t\t -6.240731393426587\n",
      "terrif \t\t:\t\t 3.5271169689597555\n",
      "thought \t\t:\t\t -3.3037834753852655\n",
      "threw \t\t:\t\t -8.791236851417578\n",
      "throw \t\t:\t\t -4.604542294082176\n",
      "trash \t\t:\t\t -3.7874585038531046\n",
      "unfortun \t\t:\t\t -5.727065348833196\n",
      "unless \t\t:\t\t -3.332547251401079\n",
      "unpleas \t\t:\t\t -4.955924745358525\n",
      "vomit \t\t:\t\t -3.6693539566350766\n",
      "wast \t\t:\t\t -7.992407999154378\n",
      "weak \t\t:\t\t -6.587083718725596\n",
      "weird \t\t:\t\t -3.9026571993927806\n",
      "worri \t\t:\t\t 6.336183138540134\n",
      "wors \t\t:\t\t -5.731182818435021\n",
      "worst \t\t:\t\t -9.373019804125798\n",
      "yum \t\t:\t\t 3.9539314308164384\n",
      "yummi \t\t:\t\t 5.877327832263957\n"
     ]
    }
   ],
   "source": [
    "print('top 100 words comes from RFE')\n",
    "print('*********************************')\n",
    "for i in range(100):\n",
    "    print(feature[index[i]],'\\t\\t:\\t\\t',w[0][index[i]])"
   ]
  },
  {
   "cell_type": "code",
   "execution_count": null,
   "metadata": {},
   "outputs": [],
   "source": []
  },
  {
   "cell_type": "code",
   "execution_count": null,
   "metadata": {},
   "outputs": [],
   "source": []
  },
  {
   "cell_type": "markdown",
   "metadata": {},
   "source": [
    "# 2. Logistic Regression for Tf-Idf"
   ]
  },
  {
   "cell_type": "markdown",
   "metadata": {},
   "source": [
    "###  Logistic regression for TfIdf using GridSearchCV "
   ]
  },
  {
   "cell_type": "code",
   "execution_count": 86,
   "metadata": {},
   "outputs": [],
   "source": [
    "from sklearn.feature_extraction.text import TfidfVectorizer\n",
    "\n",
    "tfidf=TfidfVectorizer(ngram_range=(1,1))\n",
    "x_train_tfidf=tfidf.fit_transform(X.values)\n",
    "x_test_tfidf=tfidf.transform(x_test.values)"
   ]
  },
  {
   "cell_type": "code",
   "execution_count": 87,
   "metadata": {},
   "outputs": [],
   "source": [
    "x_train_tfidf=normalize(x_train_tfidf)\n",
    "x_test_tfidf=normalize(x_test_tfidf)"
   ]
  },
  {
   "cell_type": "code",
   "execution_count": 88,
   "metadata": {},
   "outputs": [],
   "source": [
    "\n",
    "tscv=TimeSeriesSplit(n_splits=10)\n",
    "penalty=['l2','l1']\n",
    "param={'C': [0.001, 0.005, 0.01, 0.05, 0.1, 0.5, 1, 5, 10, 50, 100, 150, 200], 'penalty':penalty}\n",
    "clf=LogisticRegression()\n",
    "clf=GridSearchCV(estimator=clf, param_grid=param, cv=tscv,  n_jobs=1, verbose=1)"
   ]
  },
  {
   "cell_type": "code",
   "execution_count": 89,
   "metadata": {},
   "outputs": [
    {
     "name": "stdout",
     "output_type": "stream",
     "text": [
      "CPU times: user 0 ns, sys: 0 ns, total: 0 ns\n",
      "Wall time: 10.7 µs\n",
      "Fitting 10 folds for each of 26 candidates, totalling 260 fits\n"
     ]
    },
    {
     "name": "stderr",
     "output_type": "stream",
     "text": [
      "[Parallel(n_jobs=1)]: Done 260 out of 260 | elapsed:  8.9min finished\n"
     ]
    },
    {
     "name": "stdout",
     "output_type": "stream",
     "text": [
      "duration =  0:08:55.809160\n"
     ]
    }
   ],
   "source": [
    "# fitting the model\n",
    "%time\n",
    "start=datetime.now()\n",
    "clf.fit(x_train_tfidf,y_train)\n",
    "pickle.dump(clf,open('bow_bigram_balanced_random.p','wb'))\n",
    "end=datetime.now()\n",
    "print('duration = ',(end-start))"
   ]
  },
  {
   "cell_type": "code",
   "execution_count": 90,
   "metadata": {},
   "outputs": [
    {
     "name": "stdout",
     "output_type": "stream",
     "text": [
      "best C= 0.5\n",
      "best penalty= l1\n"
     ]
    }
   ],
   "source": [
    "# best value of C\n",
    "c=clf.best_estimator_.get_params()['C']\n",
    "penalty=clf.best_estimator_.get_params()['penalty']\n",
    "print('best C=',c)\n",
    "print('best penalty=',penalty)"
   ]
  },
  {
   "cell_type": "code",
   "execution_count": 91,
   "metadata": {},
   "outputs": [
    {
     "data": {
      "image/png": "[encoded data removed]",
      "text/plain": [
       "<matplotlib.figure.Figure at 0x3fff37955358>"
      ]
     },
     "metadata": {},
     "output_type": "display_data"
    },
    {
     "name": "stdout",
     "output_type": "stream",
     "text": [
      "**********************************************************************\n",
      "\n",
      "accuracy= 86.00333333333333\n",
      "**********************************************************************\n",
      "\n",
      "confusion matrix--\n"
     ]
    },
    {
     "data": {
      "image/png": "[encoded data removed]",
      "text/plain": [
       "<matplotlib.figure.Figure at 0x3fff37580240>"
      ]
     },
     "metadata": {},
     "output_type": "display_data"
    },
    {
     "name": "stdout",
     "output_type": "stream",
     "text": [
      "**********************************************************************\n",
      "\n",
      "TNR= 0.8353388220392653\n",
      "TPR= 0.8646637374816926\n",
      "FPR= 0.16466117796073465\n",
      "FNR= 0.1353362625183074\n",
      "**********************************************************************\n",
      "\n",
      "             precision    recall  f1-score   support\n",
      "\n",
      "          0       0.84      0.54      0.65      7376\n",
      "          1       0.86      0.97      0.91     22624\n",
      "\n",
      "avg / total       0.86      0.86      0.85     30000\n",
      "\n",
      "**********************************************************************\n",
      "\n"
     ]
    },
    {
     "data": {
      "image/png": "[encoded data removed]",
      "text/plain": [
       "<matplotlib.figure.Figure at 0x3fff34787278>"
      ]
     },
     "metadata": {},
     "output_type": "display_data"
    }
   ],
   "source": [
    "accu, auc, TNR, TPR, FPR, FNR=logistic_regression(clf=clf, x_train=x_train_tfidf, y_train=y_train, x_test=x_test_tfidf, y_test=y_test)"
   ]
  },
  {
   "cell_type": "code",
   "execution_count": 483,
   "metadata": {},
   "outputs": [],
   "source": [
    "results=pd.DataFrame(columns=['sno.', 'featurization', 'n_gram range', 'model' ,'cv algo', 'best penalty', 'class_weight', 'best C', 'accuracy', 'AUC', 'TNR', 'TPR', 'FPR', 'FNR'])"
   ]
  },
  {
   "cell_type": "code",
   "execution_count": null,
   "metadata": {},
   "outputs": [],
   "source": []
  },
  {
   "cell_type": "code",
   "execution_count": 3,
   "metadata": {},
   "outputs": [],
   "source": [
    "new=[5,'Tf-Idf', 'unigram', 'LogisticRegression','GridSearchCV', 'l1', 'None', 0.5, 86.0033, 0.9279, 0.8353, 0.8646, 0.1646, 0.1353]\n",
    "results.loc[4]=new"
   ]
  },
  {
   "cell_type": "code",
   "execution_count": null,
   "metadata": {},
   "outputs": [],
   "source": []
  },
  {
   "cell_type": "markdown",
   "metadata": {},
   "source": [
    "###  Logistic regression for TfIdf using RandomizedSearchCV"
   ]
  },
  {
   "cell_type": "code",
   "execution_count": 93,
   "metadata": {},
   "outputs": [],
   "source": [
    "#from sklearn.model_selection import RandomizedSearchCV\n",
    "tscv=TimeSeriesSplit(n_splits=10)\n",
    "penalty=['l2','l1']\n",
    "param={'C': [0.001, 0.005, 0.01, 0.05, 0.1, 0.5, 1, 5, 10, 50, 100, 150, 200], 'penalty':penalty}\n",
    "clf=LogisticRegression()\n",
    "clf=RandomizedSearchCV(estimator=clf, param_distributions=param, cv=tscv,  verbose=1)"
   ]
  },
  {
   "cell_type": "code",
   "execution_count": 94,
   "metadata": {},
   "outputs": [
    {
     "name": "stdout",
     "output_type": "stream",
     "text": [
      "CPU times: user 0 ns, sys: 0 ns, total: 0 ns\n",
      "Wall time: 7.63 µs\n",
      "Fitting 10 folds for each of 10 candidates, totalling 100 fits\n"
     ]
    },
    {
     "name": "stderr",
     "output_type": "stream",
     "text": [
      "[Parallel(n_jobs=1)]: Done 100 out of 100 | elapsed:  2.8min finished\n"
     ]
    },
    {
     "name": "stdout",
     "output_type": "stream",
     "text": [
      "duration =  0:02:49.355239\n"
     ]
    }
   ],
   "source": [
    "# fitting the model\n",
    "%time\n",
    "start=datetime.now()\n",
    "clf.fit(x_train_tfidf,y_train)\n",
    "#pickle.dump(clf,open('bow_bigram_balanced_random.p','wb'))\n",
    "end=datetime.now()\n",
    "print('duration = ',(end-start))"
   ]
  },
  {
   "cell_type": "code",
   "execution_count": 95,
   "metadata": {},
   "outputs": [
    {
     "name": "stdout",
     "output_type": "stream",
     "text": [
      "best C= 0.5\n",
      "best penalty= l1\n"
     ]
    }
   ],
   "source": [
    "# best value of C\n",
    "c=clf.best_estimator_.get_params()['C']\n",
    "penalty=clf.best_estimator_.get_params()['penalty']\n",
    "print('best C=',c)\n",
    "print('best penalty=',penalty)"
   ]
  },
  {
   "cell_type": "code",
   "execution_count": 96,
   "metadata": {},
   "outputs": [
    {
     "data": {
      "image/png": "[encoded data removed]",
      "text/plain": [
       "<matplotlib.figure.Figure at 0x3fff29b2d518>"
      ]
     },
     "metadata": {},
     "output_type": "display_data"
    },
    {
     "name": "stdout",
     "output_type": "stream",
     "text": [
      "**********************************************************************\n",
      "\n",
      "accuracy= 86.00333333333333\n",
      "**********************************************************************\n",
      "\n",
      "confusion matrix--\n"
     ]
    },
    {
     "data": {
      "image/png": "[encoded data removed]",
      "text/plain": [
       "<matplotlib.figure.Figure at 0x3fff38dedbe0>"
      ]
     },
     "metadata": {},
     "output_type": "display_data"
    },
    {
     "name": "stdout",
     "output_type": "stream",
     "text": [
      "**********************************************************************\n",
      "\n",
      "TNR= 0.8353388220392653\n",
      "TPR= 0.8646637374816926\n",
      "FPR= 0.16466117796073465\n",
      "FNR= 0.1353362625183074\n",
      "**********************************************************************\n",
      "\n",
      "             precision    recall  f1-score   support\n",
      "\n",
      "          0       0.84      0.54      0.65      7376\n",
      "          1       0.86      0.97      0.91     22624\n",
      "\n",
      "avg / total       0.86      0.86      0.85     30000\n",
      "\n",
      "**********************************************************************\n",
      "\n"
     ]
    },
    {
     "data": {
      "image/png": "[encoded data removed]",
      "text/plain": [
       "<matplotlib.figure.Figure at 0x3fff2cfded68>"
      ]
     },
     "metadata": {},
     "output_type": "display_data"
    }
   ],
   "source": [
    "accu, auc, TNR, TPR, FPR, FNR=logistic_regression(clf=clf, x_train=x_train_tfidf, y_train=y_train, x_test=x_test_tfidf, y_test=y_test)"
   ]
  },
  {
   "cell_type": "code",
   "execution_count": 4,
   "metadata": {},
   "outputs": [],
   "source": [
    "new=[6,'Tf-Idf', 'unigram', 'LogisticRegression','RandomizedSearchCV', 'l1', 'None', 0.5, 86.0033, 0.9279, 0.8353, 0.8646, 0.1646, 0.1353]\n",
    "results.loc[5]=new"
   ]
  },
  {
   "cell_type": "code",
   "execution_count": 8,
   "metadata": {},
   "outputs": [
    {
     "data": {
      "text/html": [
       "<div>\n",
       "<style>\n",
       "    .dataframe thead tr:only-child th {\n",
       "        text-align: right;\n",
       "    }\n",
       "\n",
       "    .dataframe thead th {\n",
       "        text-align: left;\n",
       "    }\n",
       "\n",
       "    .dataframe tbody tr th {\n",
       "        vertical-align: top;\n",
       "    }\n",
       "</style>\n",
       "<table border=\"1\" class=\"dataframe\">\n",
       "  <thead>\n",
       "    <tr style=\"text-align: right;\">\n",
       "      <th></th>\n",
       "      <th>sno.</th>\n",
       "      <th>featurization</th>\n",
       "      <th>n_gram range</th>\n",
       "      <th>model</th>\n",
       "      <th>cv algo</th>\n",
       "      <th>best penalty</th>\n",
       "      <th>class_weight</th>\n",
       "      <th>best C</th>\n",
       "      <th>accuracy</th>\n",
       "      <th>AUC</th>\n",
       "      <th>TNR</th>\n",
       "      <th>TPR</th>\n",
       "      <th>FPR</th>\n",
       "      <th>FNR</th>\n",
       "    </tr>\n",
       "  </thead>\n",
       "  <tbody>\n",
       "    <tr>\n",
       "      <th>4</th>\n",
       "      <td>5</td>\n",
       "      <td>Tf-Idf</td>\n",
       "      <td>unigram</td>\n",
       "      <td>LogisticRegression</td>\n",
       "      <td>GridSearchCV</td>\n",
       "      <td>l1</td>\n",
       "      <td>None</td>\n",
       "      <td>0.5</td>\n",
       "      <td>86.0033</td>\n",
       "      <td>0.9279</td>\n",
       "      <td>0.8353</td>\n",
       "      <td>0.8646</td>\n",
       "      <td>0.1646</td>\n",
       "      <td>0.1353</td>\n",
       "    </tr>\n",
       "    <tr>\n",
       "      <th>5</th>\n",
       "      <td>6</td>\n",
       "      <td>Tf-Idf</td>\n",
       "      <td>unigram</td>\n",
       "      <td>LogisticRegression</td>\n",
       "      <td>RandomizedSearchCV</td>\n",
       "      <td>l1</td>\n",
       "      <td>None</td>\n",
       "      <td>0.5</td>\n",
       "      <td>86.0033</td>\n",
       "      <td>0.9279</td>\n",
       "      <td>0.8353</td>\n",
       "      <td>0.8646</td>\n",
       "      <td>0.1646</td>\n",
       "      <td>0.1353</td>\n",
       "    </tr>\n",
       "  </tbody>\n",
       "</table>\n",
       "</div>"
      ],
      "text/plain": [
       "  sno. featurization n_gram range               model             cv algo  \\\n",
       "4    5        Tf-Idf      unigram  LogisticRegression        GridSearchCV   \n",
       "5    6        Tf-Idf      unigram  LogisticRegression  RandomizedSearchCV   \n",
       "\n",
       "  best penalty class_weight  best C  accuracy     AUC     TNR     TPR     FPR  \\\n",
       "4           l1         None     0.5   86.0033  0.9279  0.8353  0.8646  0.1646   \n",
       "5           l1         None     0.5   86.0033  0.9279  0.8353  0.8646  0.1646   \n",
       "\n",
       "      FNR  \n",
       "4  0.1353  \n",
       "5  0.1353  "
      ]
     },
     "execution_count": 8,
     "metadata": {},
     "output_type": "execute_result"
    }
   ],
   "source": [
    "results.iloc[:]"
   ]
  },
  {
   "cell_type": "markdown",
   "metadata": {},
   "source": [
    "#### Observation-\n",
    "* we can choose C=0.5 and penalty='l1' as a best hyperparameter for Tfidf"
   ]
  },
  {
   "cell_type": "code",
   "execution_count": null,
   "metadata": {},
   "outputs": [],
   "source": []
  },
  {
   "cell_type": "code",
   "execution_count": null,
   "metadata": {},
   "outputs": [],
   "source": []
  },
  {
   "cell_type": "markdown",
   "metadata": {},
   "source": [
    "#### checking sparsity of TfIdf by fixing penalty='l1' and changing C value"
   ]
  },
  {
   "cell_type": "code",
   "execution_count": 459,
   "metadata": {},
   "outputs": [],
   "source": [
    "tfidf=TfidfVectorizer(ngram_range=(1,1))\n",
    "x_train_tfidf=tfidf.fit_transform(X.values)\n",
    "x_test_tfidf=tfidf.transform(x_test.values)"
   ]
  },
  {
   "cell_type": "code",
   "execution_count": 460,
   "metadata": {},
   "outputs": [],
   "source": [
    "x_train_tfidf=normalize(x_train_tfidf)\n",
    "x_test_tfidf=normalize(x_test_tfidf)"
   ]
  },
  {
   "cell_type": "code",
   "execution_count": 446,
   "metadata": {},
   "outputs": [
    {
     "name": "stdout",
     "output_type": "stream",
     "text": [
      "at C= 0.001\n",
      "test error= 0.49116666666666664\n",
      "number of non zero element in w= 2\n",
      "***********************************************\n",
      "at C= 0.005\n",
      "test error= 0.36106666666666665\n",
      "number of non zero element in w= 27\n",
      "***********************************************\n",
      "at C= 0.01\n",
      "test error= 0.27746666666666664\n",
      "number of non zero element in w= 68\n",
      "***********************************************\n",
      "at C= 0.05\n",
      "test error= 0.18779999999999997\n",
      "number of non zero element in w= 308\n",
      "***********************************************\n",
      "at C= 0.1\n",
      "test error= 0.1676333333333333\n",
      "number of non zero element in w= 527\n",
      "***********************************************\n",
      "at C= 0.5\n",
      "test error= 0.14406666666666668\n",
      "number of non zero element in w= 1634\n",
      "***********************************************\n",
      "at C= 1\n",
      "test error= 0.13783333333333336\n",
      "number of non zero element in w= 2728\n",
      "***********************************************\n",
      "at C= 5\n",
      "test error= 0.13239999999999996\n",
      "number of non zero element in w= 7302\n",
      "***********************************************\n",
      "at C= 10\n",
      "test error= 0.13616666666666666\n",
      "number of non zero element in w= 9913\n",
      "***********************************************\n",
      "at C= 50\n",
      "test error= 0.14839999999999998\n",
      "number of non zero element in w= 14542\n",
      "***********************************************\n",
      "at C= 100\n",
      "test error= 0.1543\n",
      "number of non zero element in w= 15805\n",
      "***********************************************\n",
      "at C= 150\n",
      "test error= 0.15703333333333336\n",
      "number of non zero element in w= 16409\n",
      "***********************************************\n",
      "at C= 200\n",
      "test error= 0.15883333333333338\n",
      "number of non zero element in w= 16821\n",
      "***********************************************\n"
     ]
    },
    {
     "data": {
      "image/png": "[encoded data removed]",
      "text/plain": [
       "<matplotlib.figure.Figure at 0x3fff0cdaa668>"
      ]
     },
     "metadata": {},
     "output_type": "display_data"
    }
   ],
   "source": [
    "C= [0.001, 0.005, 0.01, 0.05, 0.1, 0.5, 1, 5, 10, 50, 100, 150, 200]\n",
    "_=sparsity(C, x_train=x_train_bow, x_test=x_test_bow, y_train=y_train, y_test=y_test)"
   ]
  },
  {
   "cell_type": "markdown",
   "metadata": {},
   "source": [
    "#### Observation-\n",
    "* as we increase value of C(decreasing lambda) the sparsity decreases"
   ]
  },
  {
   "cell_type": "code",
   "execution_count": null,
   "metadata": {},
   "outputs": [],
   "source": []
  },
  {
   "cell_type": "code",
   "execution_count": null,
   "metadata": {},
   "outputs": [],
   "source": []
  },
  {
   "cell_type": "code",
   "execution_count": null,
   "metadata": {},
   "outputs": [],
   "source": []
  },
  {
   "cell_type": "markdown",
   "metadata": {},
   "source": [
    "#### feature importance and multicollinearity for TfIdf using best C=0.5 and penalty='l1'"
   ]
  },
  {
   "cell_type": "code",
   "execution_count": 486,
   "metadata": {},
   "outputs": [
    {
     "name": "stdout",
     "output_type": "stream",
     "text": [
      "number of non-zero element in w= 2333\n"
     ]
    }
   ],
   "source": [
    "clf=LogisticRegression(C=0.5, penalty='l1')\n",
    "clf.fit(x_train_tfidf,y_train)\n",
    "w=clf.coef_\n",
    "print('number of non-zero element in w=', np.count_nonzero(w))"
   ]
  },
  {
   "cell_type": "code",
   "execution_count": 487,
   "metadata": {},
   "outputs": [],
   "source": [
    "# for findind feature importance we need to check multicollinearity\n",
    "# apply perturbation test for checking multicollinearity\n",
    "# in perturbation test, we add some noise to the training data and the fit the model\n",
    "# the w we will get after fittng the model, if it is significantly different than w which we get without any error adding then we will say it is multicollinear\n",
    "\n",
    "x_train_tfidf.data=x_train_tfidf.data+np.random.normal(loc=0,scale=0.1,size=x_train_tfidf.data.shape)  #adding a noise with a very small value"
   ]
  },
  {
   "cell_type": "code",
   "execution_count": 488,
   "metadata": {},
   "outputs": [
    {
     "name": "stdout",
     "output_type": "stream",
     "text": [
      "number of non-zero element in w= 2516\n"
     ]
    }
   ],
   "source": [
    "clf=LogisticRegression(C=0.5, penalty='l1')\n",
    "clf.fit(x_train_tfidf,y_train)\n",
    "w_=clf.coef_\n",
    "print('number of non-zero element in w=', np.count_nonzero(w_))"
   ]
  },
  {
   "cell_type": "code",
   "execution_count": 489,
   "metadata": {},
   "outputs": [
    {
     "name": "stdout",
     "output_type": "stream",
     "text": [
      "number of elements in w_delta, more than 50 %= 1023\n"
     ]
    }
   ],
   "source": [
    "w_delta=abs((w-w_)/w)*100\n",
    "cnt=0\n",
    "for i in range(len(w_delta[0])):\n",
    "    if (w_delta[0][i]>50):\n",
    "        cnt+=1\n",
    "print('number of elements in w_delta, more than 50 %=',cnt)"
   ]
  },
  {
   "cell_type": "markdown",
   "metadata": {},
   "source": [
    "#### Observation-\n",
    "* we have 2333 non zero elements in weight before perturbation and after perturbation weight\n",
    "* after perturbation test, 1023 elements in weight before perturbation change by more than 50 %\n",
    "* Thus we can say that more than half of the elements in weight are collinear\n",
    "* Thus we can not find feature importance directly by coef_ of model"
   ]
  },
  {
   "cell_type": "code",
   "execution_count": null,
   "metadata": {},
   "outputs": [],
   "source": []
  },
  {
   "cell_type": "markdown",
   "metadata": {},
   "source": [
    "#### feature importance of TfIdf Logistic regression model using RFE(recursive feature elimination)"
   ]
  },
  {
   "cell_type": "code",
   "execution_count": 490,
   "metadata": {},
   "outputs": [
    {
     "name": "stdout",
     "output_type": "stream",
     "text": [
      "CPU times: user 0 ns, sys: 0 ns, total: 0 ns\n",
      "Wall time: 26 µs\n"
     ]
    }
   ],
   "source": [
    "%time\n",
    "from sklearn.feature_selection import RFE\n",
    "rfe = RFE(clf, 100, verbose=0, step=100)\n",
    "fit = rfe.fit(x_train_tfidf,y_train)"
   ]
  },
  {
   "cell_type": "code",
   "execution_count": 491,
   "metadata": {},
   "outputs": [],
   "source": [
    "feature=tfidf.get_feature_names()"
   ]
  },
  {
   "cell_type": "code",
   "execution_count": 492,
   "metadata": {},
   "outputs": [],
   "source": [
    "rank=fit.ranking_\n",
    "index=[]\n",
    "for i in range(len(feature)):\n",
    "    if(rank[i]==1):\n",
    "        index.append(i)"
   ]
  },
  {
   "cell_type": "code",
   "execution_count": 493,
   "metadata": {},
   "outputs": [
    {
     "name": "stdout",
     "output_type": "stream",
     "text": [
      "top 100 words comes from RFE and their corresponding weight\n",
      "*************************************************************\n",
      "addict \t\t:\t\t 5.724169187681027\n",
      "amaz \t\t:\t\t 5.468636916388245\n",
      "arsenic \t\t:\t\t -3.5756639843294753\n",
      "asham \t\t:\t\t -2.8278413083337317\n",
      "aw \t\t:\t\t -7.026113629234895\n",
      "awesom \t\t:\t\t 5.9293089776696\n",
      "bewar \t\t:\t\t -3.9868824294108207\n",
      "bland \t\t:\t\t -6.027074726163309\n",
      "bonus \t\t:\t\t 4.389457547402588\n",
      "cancel \t\t:\t\t -4.894694449686748\n",
      "china \t\t:\t\t -4.897043841416997\n",
      "compliment \t\t:\t\t 3.4851632774373686\n",
      "contact \t\t:\t\t -2.7049743638433363\n",
      "decept \t\t:\t\t -4.935426098459307\n",
      "defect \t\t:\t\t -3.109802245466175\n",
      "delici \t\t:\t\t 6.0203348585708865\n",
      "descript \t\t:\t\t -4.719830053176613\n",
      "diarrhea \t\t:\t\t -4.470646934847086\n",
      "disappoint \t\t:\t\t -7.37564333403567\n",
      "disclos \t\t:\t\t -5.013939556367481\n",
      "disgust \t\t:\t\t -5.343638111101076\n",
      "dissapoint \t\t:\t\t -3.9968655522101266\n",
      "donat \t\t:\t\t -4.763961825671378\n",
      "downsid \t\t:\t\t 7.08465521309032\n",
      "drawback \t\t:\t\t 5.6318383474962035\n",
      "drizzl \t\t:\t\t 3.694113723761086\n",
      "easi \t\t:\t\t 4.847015608848899\n",
      "econom \t\t:\t\t 3.3714324527389143\n",
      "excel \t\t:\t\t 6.422165988178952\n",
      "expir \t\t:\t\t -2.539384819118506\n",
      "fals \t\t:\t\t -3.66610859737208\n",
      "flavorless \t\t:\t\t -7.8946562383008665\n",
      "gmos \t\t:\t\t -3.3180405740702703\n",
      "great \t\t:\t\t 6.145005926355156\n",
      "gross \t\t:\t\t -4.034289402758049\n",
      "hfcs \t\t:\t\t -1.177848861639352\n",
      "hook \t\t:\t\t 5.062230745071919\n",
      "horribl \t\t:\t\t -7.039558238555503\n",
      "horrid \t\t:\t\t -3.148799365551974\n",
      "hose \t\t:\t\t -2.1484694328055083\n",
      "hydrogen \t\t:\t\t -2.8271091080818564\n",
      "ined \t\t:\t\t -6.134219479628573\n",
      "joy \t\t:\t\t 2.041753396149142\n",
      "lesson \t\t:\t\t -5.441735775312225\n",
      "mediocr \t\t:\t\t -4.753409168865664\n",
      "mislead \t\t:\t\t -4.8068452657987795\n",
      "mistak \t\t:\t\t -4.02379590093526\n",
      "munch \t\t:\t\t 6.017638909864602\n",
      "nasti \t\t:\t\t -3.7693999259358573\n",
      "nauseat \t\t:\t\t -5.3794719302554075\n",
      "nespresso \t\t:\t\t -4.773372334367831\n",
      "nutiva \t\t:\t\t 3.714380573296461\n",
      "pathet \t\t:\t\t -5.5306270079005895\n",
      "perfect \t\t:\t\t 6.20985868767186\n",
      "perk \t\t:\t\t 1.5937180826161856\n",
      "pictur \t\t:\t\t -3.411647221565607\n",
      "poor \t\t:\t\t -5.768964648115769\n",
      "portabl \t\t:\t\t 2.8364470733597527\n",
      "propylen \t\t:\t\t -3.258831008235614\n",
      "redeem \t\t:\t\t -5.210793974021198\n",
      "reformul \t\t:\t\t -3.628683352914509\n",
      "refund \t\t:\t\t -6.890539596031059\n",
      "relax \t\t:\t\t 3.636918211211489\n",
      "resembl \t\t:\t\t -4.770029912333751\n",
      "return \t\t:\t\t -7.391846860365951\n",
      "rip \t\t:\t\t -5.185355694145138\n",
      "rotten \t\t:\t\t -3.099716659944243\n",
      "rubberi \t\t:\t\t -3.2206660679777865\n",
      "ruin \t\t:\t\t -5.185650714771819\n",
      "shame \t\t:\t\t -4.381328351440708\n",
      "smooth \t\t:\t\t 5.4785505324640456\n",
      "sorri \t\t:\t\t -3.617418423768189\n",
      "spit \t\t:\t\t -5.969649530170524\n",
      "stale \t\t:\t\t -6.377423713405292\n",
      "steel \t\t:\t\t 4.1485058636003\n",
      "strang \t\t:\t\t -4.163438256783157\n",
      "stuck \t\t:\t\t -5.6776230502430955\n",
      "sucralos \t\t:\t\t -4.5315054028554576\n",
      "tasteless \t\t:\t\t -7.978419822143334\n",
      "terribl \t\t:\t\t -6.6575098009512015\n",
      "terrif \t\t:\t\t 4.944070495036808\n",
      "threw \t\t:\t\t -10.447172581959164\n",
      "thrown \t\t:\t\t -4.659012757937261\n",
      "trash \t\t:\t\t -5.326426647996377\n",
      "ugh \t\t:\t\t -3.998562922950772\n",
      "undrink \t\t:\t\t -3.89017420928516\n",
      "unfortun \t\t:\t\t -4.320410887018554\n",
      "unhappi \t\t:\t\t -3.6423149207639933\n",
      "unpleas \t\t:\t\t -6.0864954859022\n",
      "unsatisfi \t\t:\t\t -0.9230240202631065\n",
      "wast \t\t:\t\t -7.4209938587057085\n",
      "weak \t\t:\t\t -5.781576725266232\n",
      "workout \t\t:\t\t 3.301002749719601\n",
      "worri \t\t:\t\t 6.435961836621957\n",
      "wors \t\t:\t\t -6.960578319456986\n",
      "worst \t\t:\t\t -10.8623576193166\n",
      "yuck \t\t:\t\t -5.480010120191534\n",
      "yuk \t\t:\t\t -5.159471627736938\n",
      "yum \t\t:\t\t 4.6913783212892\n",
      "yummi \t\t:\t\t 5.390030309894274\n"
     ]
    }
   ],
   "source": [
    "print('top 100 words comes from RFE and their corresponding weight')\n",
    "print('*************************************************************')\n",
    "for i in range(100):\n",
    "    print(feature[index[i]],'\\t\\t:\\t\\t',w[0][index[i]])"
   ]
  },
  {
   "cell_type": "code",
   "execution_count": null,
   "metadata": {},
   "outputs": [],
   "source": []
  },
  {
   "cell_type": "code",
   "execution_count": null,
   "metadata": {},
   "outputs": [],
   "source": []
  },
  {
   "cell_type": "code",
   "execution_count": null,
   "metadata": {},
   "outputs": [],
   "source": []
  },
  {
   "cell_type": "markdown",
   "metadata": {},
   "source": [
    "# 3. Logistic Regression for Avg word2vec"
   ]
  },
  {
   "cell_type": "markdown",
   "metadata": {},
   "source": []
  },
  {
   "cell_type": "code",
   "execution_count": 211,
   "metadata": {},
   "outputs": [],
   "source": [
    "#url for the GoogleNews word2vec model\n",
    "url=\"https://s3.amazonaws.com/dl4j-distribution/GoogleNews-vectors-negative300.bin.gz\""
   ]
  },
  {
   "cell_type": "code",
   "execution_count": 213,
   "metadata": {},
   "outputs": [
    {
     "data": {
      "text/plain": [
       "('GoogleNews-vectors-negative300.bin.gz',\n",
       " <http.client.HTTPMessage at 0x3ffee1df4208>)"
      ]
     },
     "execution_count": 213,
     "metadata": {},
     "output_type": "execute_result"
    }
   ],
   "source": [
    "#downloading the GoogleNews word2vec modelinto the cognitive class disk\n",
    "import urllib\n",
    "urllib.request.urlretrieve (url, \"GoogleNews-vectors-negative300.bin.gz\")\n"
   ]
  },
  {
   "cell_type": "code",
   "execution_count": 201,
   "metadata": {},
   "outputs": [],
   "source": [
    "# import modules & set up logging\n",
    "import gensim, logging\n",
    "logging.basicConfig(format='%(asctime)s : %(levelname)s : %(message)s', level=logging.INFO)"
   ]
  },
  {
   "cell_type": "code",
   "execution_count": 216,
   "metadata": {},
   "outputs": [
    {
     "name": "stderr",
     "output_type": "stream",
     "text": [
      "2018-09-10 05:45:12,840 : INFO : loading projection weights from GoogleNews-vectors-negative300.bin.gz\n",
      "2018-09-10 05:48:08,973 : INFO : loaded (3000000, 300) matrix from GoogleNews-vectors-negative300.bin.gz\n"
     ]
    }
   ],
   "source": [
    "#loading the GoogleNews word2vec model(able to read bin.gz file directly, no need to extract)\n",
    "model = gensim.models.KeyedVectors.load_word2vec_format('GoogleNews-vectors-negative300.bin.gz', binary=True)"
   ]
  },
  {
   "cell_type": "code",
   "execution_count": 17,
   "metadata": {},
   "outputs": [],
   "source": []
  },
  {
   "cell_type": "code",
   "execution_count": 220,
   "metadata": {},
   "outputs": [],
   "source": [
    "\n",
    "#getting the list of sentences in a 'list'\n",
    "i=0\n",
    "\n",
    "list_of_sentences=[]\n",
    "for sent in X.values:\n",
    "    filtered_sentence=[]    \n",
    "    for w in sent.split():\n",
    "        w=w.decode('utf-8')\n",
    "        filtered_sentence.append(w.lower())       \n",
    "    list_of_sentences.append(filtered_sentence)"
   ]
  },
  {
   "cell_type": "code",
   "execution_count": 222,
   "metadata": {},
   "outputs": [
    {
     "name": "stdout",
     "output_type": "stream",
     "text": [
      "3000000\n"
     ]
    }
   ],
   "source": [
    "words=list(model.wv.vocab)\n",
    "print(len(words))"
   ]
  },
  {
   "cell_type": "code",
   "execution_count": 223,
   "metadata": {},
   "outputs": [],
   "source": [
    "#calculating avg word2vec\n",
    "vectors=[];\n",
    "for sentence in list_of_sentences:\n",
    "    sentence_vector=np.zeros(300)\n",
    "    count_vec=0;\n",
    "    for word in sentence:\n",
    "        try:\n",
    "            vec=model.wv[word]\n",
    "            sentence_vector+=vec\n",
    "            count_vec+=1;\n",
    "        except:\n",
    "            pass\n",
    "    sentence_vector/=count_vec\n",
    "    vectors.append(sentence_vector)"
   ]
  },
  {
   "cell_type": "code",
   "execution_count": 224,
   "metadata": {},
   "outputs": [
    {
     "data": {
      "text/plain": [
       "[519, 18040, 46231, 59833, 99521, 99525, 99563, 114788, 115663]"
      ]
     },
     "execution_count": 224,
     "metadata": {},
     "output_type": "execute_result"
    }
   ],
   "source": [
    "z=list(np.unique(np.where(np.isnan(vectors))[0]))\n",
    "z"
   ]
  },
  {
   "cell_type": "code",
   "execution_count": 225,
   "metadata": {},
   "outputs": [],
   "source": [
    "vectors=np.delete(vectors, z, axis=0)\n",
    "y_train_word=np.array(y_train)\n",
    "y_train_word=np.delete(y_train_word, z, axis=0)"
   ]
  },
  {
   "cell_type": "code",
   "execution_count": 228,
   "metadata": {},
   "outputs": [],
   "source": [
    "#calculating avg word2vec\n",
    "x_test_word=[];\n",
    "for sentence in x_test.values:\n",
    "    sentence_vector=np.zeros(300)\n",
    "    count_vec=0;\n",
    "    for word in sentence.split():\n",
    "        word=word.decode('utf-8')\n",
    "        try:\n",
    "            vec=model.wv[word]\n",
    "            sentence_vector+=vec\n",
    "            count_vec+=1;\n",
    "        except:\n",
    "            pass\n",
    "    sentence_vector/=count_vec\n",
    "    x_test_word.append(sentence_vector)"
   ]
  },
  {
   "cell_type": "code",
   "execution_count": 237,
   "metadata": {},
   "outputs": [
    {
     "data": {
      "text/plain": [
       "[11047]"
      ]
     },
     "execution_count": 237,
     "metadata": {},
     "output_type": "execute_result"
    }
   ],
   "source": [
    "#checking row containing nan value\n",
    "z=list(np.unique(np.where(np.isnan(x_test_word))[0]))\n",
    "z"
   ]
  },
  {
   "cell_type": "code",
   "execution_count": 238,
   "metadata": {},
   "outputs": [],
   "source": [
    "#deleting row containing nan value\n",
    "x_test_word=np.delete(x_test_word, z, axis=0)\n",
    "y_test_word=np.array(y_test)\n",
    "y_test_word=np.delete(y_test_word, z, axis=0)"
   ]
  },
  {
   "cell_type": "code",
   "execution_count": 240,
   "metadata": {},
   "outputs": [],
   "source": [
    "# applying column standardization on every columns\n",
    "from sklearn.preprocessing import StandardScaler\n",
    "s=StandardScaler()\n",
    "vectors=s.fit_transform(vectors)\n",
    "x_test_word=s.fit_transform(x_test_word)"
   ]
  },
  {
   "cell_type": "code",
   "execution_count": null,
   "metadata": {},
   "outputs": [],
   "source": []
  },
  {
   "cell_type": "markdown",
   "metadata": {},
   "source": [
    "###  Logistic regression for avg word2vec using GridSearchCV "
   ]
  },
  {
   "cell_type": "code",
   "execution_count": 244,
   "metadata": {},
   "outputs": [],
   "source": [
    "\n",
    "tscv=TimeSeriesSplit(n_splits=10)\n",
    "penalty=['l2','l1']\n",
    "param={'C': [0.001, 0.005, 0.01, 0.05, 0.1, 0.5, 1, 5, 10, 50, 100, 500,1000], 'penalty':penalty}\n",
    "clf=LogisticRegression()\n",
    "clf=GridSearchCV(estimator=clf, param_grid=param, cv=tscv,  n_jobs=1, verbose=1)"
   ]
  },
  {
   "cell_type": "code",
   "execution_count": null,
   "metadata": {},
   "outputs": [
    {
     "name": "stdout",
     "output_type": "stream",
     "text": [
      "CPU times: user 0 ns, sys: 0 ns, total: 0 ns\n",
      "Wall time: 13.4 µs\n",
      "Fitting 10 folds for each of 26 candidates, totalling 260 fits\n"
     ]
    },
    {
     "name": "stderr",
     "output_type": "stream",
     "text": [
      "[Parallel(n_jobs=1)]: Done 260 out of 260 | elapsed: 21.5min finished\n"
     ]
    },
    {
     "name": "stdout",
     "output_type": "stream",
     "text": [
      "duration =  0:21:40.180010\n"
     ]
    }
   ],
   "source": [
    "# fitting the model\n",
    "%time\n",
    "start=datetime.now()\n",
    "clf.fit(vectors,y_train_word)\n",
    "#pickle.dump(clf,open('bow_bigram_balanced_random.p','wb'))\n",
    "end=datetime.now()\n",
    "print('duration = ',(end-start))"
   ]
  },
  {
   "cell_type": "code",
   "execution_count": 246,
   "metadata": {},
   "outputs": [
    {
     "name": "stdout",
     "output_type": "stream",
     "text": [
      "best C= 0.001\n",
      "best penalty= l2\n"
     ]
    }
   ],
   "source": [
    "# best value of C\n",
    "c=clf.best_estimator_.get_params()['C']\n",
    "penalty=clf.best_estimator_.get_params()['penalty']\n",
    "print('best C=',c)\n",
    "print('best penalty=',penalty)"
   ]
  },
  {
   "cell_type": "code",
   "execution_count": 247,
   "metadata": {},
   "outputs": [
    {
     "data": {
      "image/png": "[encoded data removed]",
      "text/plain": [
       "<matplotlib.figure.Figure at 0x3ffe9199dda0>"
      ]
     },
     "metadata": {},
     "output_type": "display_data"
    },
    {
     "name": "stdout",
     "output_type": "stream",
     "text": [
      "**********************************************************************\n",
      "\n",
      "accuracy= 62.36541218040601\n",
      "**********************************************************************\n",
      "\n",
      "confusion matrix--\n"
     ]
    },
    {
     "data": {
      "image/png": "[encoded data removed]",
      "text/plain": [
       "<matplotlib.figure.Figure at 0x3fff15a32da0>"
      ]
     },
     "metadata": {},
     "output_type": "display_data"
    },
    {
     "name": "stdout",
     "output_type": "stream",
     "text": [
      "**********************************************************************\n",
      "\n",
      "TNR= 0.9202105263157895\n",
      "TPR= 0.5678640738247059\n",
      "FPR= 0.07978947368421052\n",
      "FNR= 0.43213592617529406\n",
      "**********************************************************************\n",
      "\n",
      "             precision    recall  f1-score   support\n",
      "\n",
      "          0       0.92      0.29      0.44     15282\n",
      "          1       0.57      0.97      0.72     14717\n",
      "\n",
      "avg / total       0.75      0.62      0.57     29999\n",
      "\n",
      "**********************************************************************\n",
      "\n"
     ]
    },
    {
     "data": {
      "image/png": "[encoded data removed]",
      "text/plain": [
       "<matplotlib.figure.Figure at 0x3ffe91adaf98>"
      ]
     },
     "metadata": {},
     "output_type": "display_data"
    }
   ],
   "source": [
    "accu, auc, TNR, TPR, FPR, FNR=logistic_regression(clf=clf, x_train=vectors, y_train=y_train_word, x_test=x_test_word, y_test=y_test_word)"
   ]
  },
  {
   "cell_type": "code",
   "execution_count": 248,
   "metadata": {},
   "outputs": [],
   "source": [
    "word_res=pd.DataFrame(columns=['sno.', 'featurization', 'n_gram range', 'model' ,'cv algo', 'best penalty', 'class_weight', 'best C', 'accuracy', 'AUC', 'TNR', 'TPR', 'FPR', 'FNR'])"
   ]
  },
  {
   "cell_type": "code",
   "execution_count": 249,
   "metadata": {},
   "outputs": [],
   "source": [
    "new=[1,'Avg word2vec', '-', 'LogisticRegression','GridSearchCV',penalty, 'None', c, accu, auc, TNR, TPR, FPR, FNR]\n",
    "word_res.loc[0]=new"
   ]
  },
  {
   "cell_type": "code",
   "execution_count": null,
   "metadata": {},
   "outputs": [],
   "source": []
  },
  {
   "cell_type": "markdown",
   "metadata": {},
   "source": [
    "###  Logistic regression for avg word2vec using RandomizedSearchCV"
   ]
  },
  {
   "cell_type": "code",
   "execution_count": 250,
   "metadata": {},
   "outputs": [],
   "source": [
    "#from sklearn.model_selection import RandomizedSearchCV\n",
    "from sklearn.model_selection import RandomizedSearchCV\n",
    "tscv=TimeSeriesSplit(n_splits=10)\n",
    "penalty=['l2','l1']\n",
    "c=np.random.uniform(0,100,size=10)\n",
    "c=[round(x,3) for x in c]\n",
    "param={'C': c, 'penalty':penalty}\n",
    "clf=LogisticRegression()\n",
    "clf=RandomizedSearchCV(estimator=clf, param_distributions=param, cv=tscv,  verbose=1)"
   ]
  },
  {
   "cell_type": "code",
   "execution_count": 251,
   "metadata": {},
   "outputs": [
    {
     "name": "stdout",
     "output_type": "stream",
     "text": [
      "CPU times: user 0 ns, sys: 0 ns, total: 0 ns\n",
      "Wall time: 13.6 µs\n",
      "Fitting 10 folds for each of 10 candidates, totalling 100 fits\n"
     ]
    },
    {
     "name": "stderr",
     "output_type": "stream",
     "text": [
      "[Parallel(n_jobs=1)]: Done 100 out of 100 | elapsed:  8.5min finished\n"
     ]
    },
    {
     "name": "stdout",
     "output_type": "stream",
     "text": [
      "duration =  0:08:39.220844\n"
     ]
    }
   ],
   "source": [
    "# fitting the model\n",
    "%time\n",
    "start=datetime.now()\n",
    "clf.fit(vectors,y_train_word)\n",
    "#pickle.dump(clf,open('bow_bigram_balanced_random.p','wb'))\n",
    "end=datetime.now()\n",
    "print('duration = ',(end-start))"
   ]
  },
  {
   "cell_type": "code",
   "execution_count": 252,
   "metadata": {},
   "outputs": [
    {
     "name": "stdout",
     "output_type": "stream",
     "text": [
      "best C= 11.593\n",
      "best penalty= l1\n"
     ]
    }
   ],
   "source": [
    "# best value of C\n",
    "c=clf.best_estimator_.get_params()['C']\n",
    "penalty=clf.best_estimator_.get_params()['penalty']\n",
    "print('best C=',c)\n",
    "print('best penalty=',penalty)"
   ]
  },
  {
   "cell_type": "code",
   "execution_count": 253,
   "metadata": {},
   "outputs": [
    {
     "data": {
      "image/png": "[encoded data removed]",
      "text/plain": [
       "<matplotlib.figure.Figure at 0x3ffe91b111d0>"
      ]
     },
     "metadata": {},
     "output_type": "display_data"
    },
    {
     "name": "stdout",
     "output_type": "stream",
     "text": [
      "**********************************************************************\n",
      "\n",
      "accuracy= 62.492083069435644\n",
      "**********************************************************************\n",
      "\n",
      "confusion matrix--\n"
     ]
    },
    {
     "data": {
      "image/png": "[encoded data removed]",
      "text/plain": [
       "<matplotlib.figure.Figure at 0x3ffe91a435f8>"
      ]
     },
     "metadata": {},
     "output_type": "display_data"
    },
    {
     "name": "stdout",
     "output_type": "stream",
     "text": [
      "**********************************************************************\n",
      "\n",
      "TNR= 0.92\n",
      "TPR= 0.5694086894530477\n",
      "FPR= 0.08\n",
      "FNR= 0.4305913105469524\n",
      "**********************************************************************\n",
      "\n",
      "             precision    recall  f1-score   support\n",
      "\n",
      "          0       0.92      0.29      0.44     15242\n",
      "          1       0.57      0.97      0.72     14757\n",
      "\n",
      "avg / total       0.75      0.62      0.58     29999\n",
      "\n",
      "**********************************************************************\n",
      "\n"
     ]
    },
    {
     "data": {
      "image/png": "[encoded data removed]",
      "text/plain": [
       "<matplotlib.figure.Figure at 0x3ffe9195b5f8>"
      ]
     },
     "metadata": {},
     "output_type": "display_data"
    }
   ],
   "source": [
    "accu, auc, TNR, TPR, FPR, FNR=logistic_regression(clf=clf, x_train=vectors, y_train=y_train_word, x_test=x_test_word, y_test=y_test_word)"
   ]
  },
  {
   "cell_type": "code",
   "execution_count": 254,
   "metadata": {},
   "outputs": [],
   "source": [
    "new=[2,'Avg word2vec', '-', 'LogisticRegression','RandomizedSearchCV',penalty, 'None', c, accu, auc, TNR, TPR, FPR, FNR]\n",
    "word_res.loc[1]=new"
   ]
  },
  {
   "cell_type": "code",
   "execution_count": 469,
   "metadata": {},
   "outputs": [
    {
     "data": {
      "text/html": [
       "<div>\n",
       "<style>\n",
       "    .dataframe thead tr:only-child th {\n",
       "        text-align: right;\n",
       "    }\n",
       "\n",
       "    .dataframe thead th {\n",
       "        text-align: left;\n",
       "    }\n",
       "\n",
       "    .dataframe tbody tr th {\n",
       "        vertical-align: top;\n",
       "    }\n",
       "</style>\n",
       "<table border=\"1\" class=\"dataframe\">\n",
       "  <thead>\n",
       "    <tr style=\"text-align: right;\">\n",
       "      <th></th>\n",
       "      <th>sno.</th>\n",
       "      <th>featurization</th>\n",
       "      <th>n_gram range</th>\n",
       "      <th>model</th>\n",
       "      <th>cv algo</th>\n",
       "      <th>best penalty</th>\n",
       "      <th>class_weight</th>\n",
       "      <th>best C</th>\n",
       "      <th>accuracy</th>\n",
       "      <th>AUC</th>\n",
       "      <th>TNR</th>\n",
       "      <th>TPR</th>\n",
       "      <th>FPR</th>\n",
       "      <th>FNR</th>\n",
       "    </tr>\n",
       "  </thead>\n",
       "  <tbody>\n",
       "    <tr>\n",
       "      <th>0</th>\n",
       "      <td>1</td>\n",
       "      <td>Avg word2vec</td>\n",
       "      <td>-</td>\n",
       "      <td>LogisticRegression</td>\n",
       "      <td>GridSearchCV</td>\n",
       "      <td>l2</td>\n",
       "      <td>None</td>\n",
       "      <td>0.001</td>\n",
       "      <td>62.365412</td>\n",
       "      <td>0.863463</td>\n",
       "      <td>0.920211</td>\n",
       "      <td>0.567864</td>\n",
       "      <td>0.079789</td>\n",
       "      <td>0.432136</td>\n",
       "    </tr>\n",
       "    <tr>\n",
       "      <th>1</th>\n",
       "      <td>2</td>\n",
       "      <td>Avg word2vec</td>\n",
       "      <td>-</td>\n",
       "      <td>LogisticRegression</td>\n",
       "      <td>RandomizedSearchCV</td>\n",
       "      <td>l1</td>\n",
       "      <td>None</td>\n",
       "      <td>11.593</td>\n",
       "      <td>62.492083</td>\n",
       "      <td>0.863364</td>\n",
       "      <td>0.920000</td>\n",
       "      <td>0.569409</td>\n",
       "      <td>0.080000</td>\n",
       "      <td>0.430591</td>\n",
       "    </tr>\n",
       "  </tbody>\n",
       "</table>\n",
       "</div>"
      ],
      "text/plain": [
       "  sno. featurization n_gram range               model             cv algo  \\\n",
       "0    1  Avg word2vec            -  LogisticRegression        GridSearchCV   \n",
       "1    2  Avg word2vec            -  LogisticRegression  RandomizedSearchCV   \n",
       "\n",
       "  best penalty class_weight  best C   accuracy       AUC       TNR       TPR  \\\n",
       "0           l2         None   0.001  62.365412  0.863463  0.920211  0.567864   \n",
       "1           l1         None  11.593  62.492083  0.863364  0.920000  0.569409   \n",
       "\n",
       "        FPR       FNR  \n",
       "0  0.079789  0.432136  \n",
       "1  0.080000  0.430591  "
      ]
     },
     "execution_count": 469,
     "metadata": {},
     "output_type": "execute_result"
    }
   ],
   "source": [
    "word_res"
   ]
  },
  {
   "cell_type": "code",
   "execution_count": null,
   "metadata": {},
   "outputs": [],
   "source": []
  },
  {
   "cell_type": "markdown",
   "metadata": {},
   "source": [
    "#### checking sparsity of avg word2vec by fixing penalty='l1' and changing C value"
   ]
  },
  {
   "cell_type": "code",
   "execution_count": 499,
   "metadata": {},
   "outputs": [
    {
     "name": "stdout",
     "output_type": "stream",
     "text": [
      "at C= 1e-05\n",
      "test error= 0.8416613887129571\n",
      "number of non zero element in w= 0\n",
      "***********************************************\n",
      "at C= 0.0001\n",
      "test error= 0.4280476015867195\n",
      "number of non zero element in w= 7\n",
      "***********************************************\n",
      "at C= 0.0005\n",
      "test error= 0.4069802326744225\n",
      "number of non zero element in w= 70\n",
      "***********************************************\n",
      "at C= 0.001\n",
      "test error= 0.4006800226674222\n",
      "number of non zero element in w= 114\n",
      "***********************************************\n",
      "at C= 0.005\n",
      "test error= 0.37804593486449545\n",
      "number of non zero element in w= 231\n",
      "***********************************************\n",
      "at C= 0.01\n",
      "test error= 0.3756458548618288\n",
      "number of non zero element in w= 263\n",
      "***********************************************\n",
      "at C= 0.05\n",
      "test error= 0.37497916597219905\n",
      "number of non zero element in w= 293\n",
      "***********************************************\n",
      "at C= 0.1\n",
      "test error= 0.37537917930597686\n",
      "number of non zero element in w= 298\n",
      "***********************************************\n",
      "at C= 0.5\n",
      "test error= 0.37507916930564356\n",
      "number of non zero element in w= 299\n",
      "***********************************************\n",
      "at C= 1\n",
      "test error= 0.37517917263908795\n",
      "number of non zero element in w= 299\n",
      "***********************************************\n"
     ]
    },
    {
     "data": {
      "image/png": "[encoded data removed]",
      "text/plain": [
       "<matplotlib.figure.Figure at 0x3ffeeb59a278>"
      ]
     },
     "metadata": {},
     "output_type": "display_data"
    }
   ],
   "source": [
    "C= [0.00001, 0.0001, 0.0005, 0.001, 0.005, 0.01, 0.05, 0.1, 0.5, 1]\n",
    "_=sparsity(C, x_train=vectors, x_test=x_test_word, y_train=y_train_word, y_test=y_test_word)"
   ]
  },
  {
   "cell_type": "markdown",
   "metadata": {},
   "source": [
    "#### Observation-\n",
    "* as we increase value of C(decreasing lambda) the sparsity decreases"
   ]
  },
  {
   "cell_type": "code",
   "execution_count": null,
   "metadata": {},
   "outputs": [],
   "source": []
  },
  {
   "cell_type": "markdown",
   "metadata": {},
   "source": [
    "#### feature importance and multicollinearity for avg word2vec using the best C=0.001 and penalty='l2'"
   ]
  },
  {
   "cell_type": "code",
   "execution_count": 501,
   "metadata": {},
   "outputs": [
    {
     "name": "stdout",
     "output_type": "stream",
     "text": [
      "number of non-zero element in w= 300\n"
     ]
    }
   ],
   "source": [
    "clf=LogisticRegression(C=0.001, penalty='l2')\n",
    "clf.fit(vectors,y_train_word)\n",
    "w=clf.coef_\n",
    "print('number of non-zero element in w=', np.count_nonzero(w))"
   ]
  },
  {
   "cell_type": "code",
   "execution_count": 502,
   "metadata": {},
   "outputs": [],
   "source": [
    "# for findind feature importance we need to check multicollinearity\n",
    "# apply perturbation test for checking multicollinearity\n",
    "# in perturbation test, we add some noise to the training data and the fit the model\n",
    "# the w we will get after fittng the model, if it is significantly different than w which we get without any error adding then we will say it is multicollinear\n",
    "\n",
    "vectors.data=vectors.data+np.random.normal(loc=0,scale=0.1,size=vectors.data.shape)  #adding a noise with a very small value"
   ]
  },
  {
   "cell_type": "code",
   "execution_count": 503,
   "metadata": {},
   "outputs": [
    {
     "name": "stdout",
     "output_type": "stream",
     "text": [
      "number of non-zero element in w= 300\n"
     ]
    }
   ],
   "source": [
    "clf=LogisticRegression(C=0.001, penalty='l2')\n",
    "clf.fit(vectors,y_train_word)\n",
    "w_=clf.coef_\n",
    "print('number of non-zero element in w=', np.count_nonzero(w))"
   ]
  },
  {
   "cell_type": "code",
   "execution_count": 510,
   "metadata": {},
   "outputs": [
    {
     "name": "stdout",
     "output_type": "stream",
     "text": [
      "number of elements in w_delta, more than 50 %= 10\n"
     ]
    }
   ],
   "source": [
    "w_delta=abs((w-w_)/w)*100\n",
    "cnt=0\n",
    "for i in range(len(w_delta[0])):\n",
    "    if (w_delta[0][i]>50):\n",
    "        cnt+=1\n",
    "print('number of elements in w_delta, more than 50 %=',cnt)"
   ]
  },
  {
   "cell_type": "code",
   "execution_count": 513,
   "metadata": {},
   "outputs": [
    {
     "name": "stdout",
     "output_type": "stream",
     "text": [
      "top 10 elements of weight--\n",
      "******************************\n"
     ]
    },
    {
     "data": {
      "text/plain": [
       "array([0.14339076, 0.14778864, 0.15033057, 0.17130161, 0.17289956,\n",
       "       0.18027462, 0.18979618, 0.20088777, 0.23127525, 0.30617542])"
      ]
     },
     "execution_count": 513,
     "metadata": {},
     "output_type": "execute_result"
    }
   ],
   "source": [
    "print('top 10 elements of weight--')\n",
    "print('******************************')\n",
    "np.sort(w)[0][-10:]"
   ]
  },
  {
   "cell_type": "markdown",
   "metadata": {},
   "source": [
    "#### Observation-\n",
    "* only 10 in 300 elements having change more than 50 %, we may not put in collinear category\n",
    "* we can't find the important words in avg word2vec"
   ]
  },
  {
   "cell_type": "code",
   "execution_count": null,
   "metadata": {},
   "outputs": [],
   "source": []
  },
  {
   "cell_type": "code",
   "execution_count": null,
   "metadata": {},
   "outputs": [],
   "source": []
  },
  {
   "cell_type": "markdown",
   "metadata": {},
   "source": [
    "# 4. Logistic Regression for TfIdf word2vec"
   ]
  },
  {
   "cell_type": "code",
   "execution_count": 255,
   "metadata": {},
   "outputs": [],
   "source": [
    "from sklearn.feature_extraction.text import TfidfVectorizer\n",
    "tfidf=TfidfVectorizer(ngram_range=(1,1))\n",
    "x_train_tfidf=tfidf.fit_transform(X.values)\n",
    "x_test_tfidf=tfidf.transform(x_test.values)"
   ]
  },
  {
   "cell_type": "code",
   "execution_count": 256,
   "metadata": {},
   "outputs": [
    {
     "data": {
      "text/plain": [
       "28021"
      ]
     },
     "execution_count": 256,
     "metadata": {},
     "output_type": "execute_result"
    }
   ],
   "source": [
    "features=tfidf.get_feature_names()\n",
    "len(features)\n",
    "#features"
   ]
  },
  {
   "cell_type": "code",
   "execution_count": null,
   "metadata": {},
   "outputs": [],
   "source": []
  },
  {
   "cell_type": "code",
   "execution_count": 257,
   "metadata": {},
   "outputs": [],
   "source": [
    "#calculating tf-idf w2vec\n",
    "tfidf_vectors = []; \n",
    "row=0;\n",
    "for sentence in list_of_sentences: \n",
    "    sentence_vec = np.zeros(300) \n",
    "    weight_sum =0; \n",
    "    for word in sentence: \n",
    "        try:\n",
    "            vec = model.wv[word]\n",
    "            tf_idf = x_train_tfidf[row, features.index(word)]\n",
    "            sentence_vec += (vec * tf_idf)\n",
    "            weight_sum += tf_idf\n",
    "        except:\n",
    "            pass\n",
    "    sentence_vec /= weight_sum\n",
    "    tfidf_vectors.append(sentence_vec)\n",
    "    row += 1"
   ]
  },
  {
   "cell_type": "code",
   "execution_count": 258,
   "metadata": {},
   "outputs": [
    {
     "data": {
      "text/plain": [
       "[519, 18040, 46231, 59833, 99521, 99525, 99563, 114788, 115663]"
      ]
     },
     "execution_count": 258,
     "metadata": {},
     "output_type": "execute_result"
    }
   ],
   "source": [
    "z=list(np.unique(np.where(np.isnan(tfidf_vectors))[0]))\n",
    "z"
   ]
  },
  {
   "cell_type": "code",
   "execution_count": 259,
   "metadata": {},
   "outputs": [],
   "source": [
    "\n",
    "y_train_word=np.array(y_train)\n",
    "y_train_word=np.delete(y_train_word, z, axis=0)\n",
    "tfidf_vectors=np.delete(tfidf_vectors, z, axis=0)\n",
    "\n"
   ]
  },
  {
   "cell_type": "code",
   "execution_count": 266,
   "metadata": {},
   "outputs": [],
   "source": [
    "#calculating tf-idf w2vec\n",
    "x_test_tf_word = []; \n",
    "row=0;\n",
    "for sentence in x_test.values: \n",
    "    sentence_vec = np.zeros(300) \n",
    "    weight_sum =0; \n",
    "    for word in sentence.split():\n",
    "        word=word.decode('utf-8')\n",
    "        try:\n",
    "            vec = model.wv[word]\n",
    "            tf_idf = x_test_tfidf[row, features.index(word)]\n",
    "            sentence_vec += (vec * tf_idf)\n",
    "            weight_sum += tf_idf\n",
    "        except:\n",
    "            pass\n",
    "    sentence_vec /= weight_sum\n",
    "    x_test_tf_word.append(sentence_vec)\n",
    "    row += 1"
   ]
  },
  {
   "cell_type": "code",
   "execution_count": 268,
   "metadata": {},
   "outputs": [
    {
     "data": {
      "text/plain": [
       "[11047]"
      ]
     },
     "execution_count": 268,
     "metadata": {},
     "output_type": "execute_result"
    }
   ],
   "source": [
    "z=list(np.unique(np.where(np.isnan(x_test_tf_word))[0]))\n",
    "z"
   ]
  },
  {
   "cell_type": "code",
   "execution_count": 269,
   "metadata": {},
   "outputs": [
    {
     "data": {
      "text/plain": [
       "29999"
      ]
     },
     "execution_count": 269,
     "metadata": {},
     "output_type": "execute_result"
    }
   ],
   "source": [
    "x_test_tf_word=np.delete(x_test_tf_word, z , axis=0)\n",
    "len(x_test_tf_word)"
   ]
  },
  {
   "cell_type": "code",
   "execution_count": 270,
   "metadata": {},
   "outputs": [
    {
     "data": {
      "text/plain": [
       "29999"
      ]
     },
     "execution_count": 270,
     "metadata": {},
     "output_type": "execute_result"
    }
   ],
   "source": [
    "y_test_word=np.array(y_test)\n",
    "y_test_word=np.delete(y_test_word, z, axis=0)\n",
    "len(x_test_word)"
   ]
  },
  {
   "cell_type": "code",
   "execution_count": 271,
   "metadata": {},
   "outputs": [],
   "source": [
    "s=StandardScaler()\n",
    "tfidf_vectors=s.fit_transform(tfidf_vectors)\n",
    "x_test_tf_word=s.transform(x_test_tf_word)"
   ]
  },
  {
   "cell_type": "markdown",
   "metadata": {},
   "source": [
    "###  Logistic regression for TfIdf word2vec using GridSearchCV"
   ]
  },
  {
   "cell_type": "code",
   "execution_count": 272,
   "metadata": {},
   "outputs": [],
   "source": [
    "\n",
    "tscv=TimeSeriesSplit(n_splits=10)\n",
    "penalty=['l2','l1']\n",
    "param={'C': [0.001, 0.005, 0.01, 0.05, 0.1, 0.5, 1, 5, 10, 50, 100, 500,1000], 'penalty':penalty}\n",
    "clf=LogisticRegression()\n",
    "clf=GridSearchCV(estimator=clf, param_grid=param, cv=tscv,  n_jobs=1, verbose=1)"
   ]
  },
  {
   "cell_type": "code",
   "execution_count": 273,
   "metadata": {},
   "outputs": [
    {
     "name": "stdout",
     "output_type": "stream",
     "text": [
      "CPU times: user 0 ns, sys: 0 ns, total: 0 ns\n",
      "Wall time: 10.7 µs\n",
      "Fitting 10 folds for each of 26 candidates, totalling 260 fits\n"
     ]
    },
    {
     "name": "stderr",
     "output_type": "stream",
     "text": [
      "[Parallel(n_jobs=1)]: Done 260 out of 260 | elapsed: 19.2min finished\n"
     ]
    },
    {
     "name": "stdout",
     "output_type": "stream",
     "text": [
      "duration =  0:19:22.179353\n"
     ]
    }
   ],
   "source": [
    "# fitting the model\n",
    "%time\n",
    "start=datetime.now()\n",
    "clf.fit(tfidf_vectors,y_train_word)\n",
    "#pickle.dump(clf,open('bow_bigram_balanced_random.p','wb'))\n",
    "end=datetime.now()\n",
    "print('duration = ',(end-start))"
   ]
  },
  {
   "cell_type": "code",
   "execution_count": 274,
   "metadata": {},
   "outputs": [
    {
     "name": "stdout",
     "output_type": "stream",
     "text": [
      "best C= 0.001\n",
      "best penalty= l2\n"
     ]
    }
   ],
   "source": [
    "# best value of C\n",
    "c=clf.best_estimator_.get_params()['C']\n",
    "penalty=clf.best_estimator_.get_params()['penalty']\n",
    "print('best C=',c)\n",
    "print('best penalty=',penalty)"
   ]
  },
  {
   "cell_type": "code",
   "execution_count": 275,
   "metadata": {},
   "outputs": [
    {
     "data": {
      "image/png": "[encoded data removed]",
      "text/plain": [
       "<matplotlib.figure.Figure at 0x3ffe91662438>"
      ]
     },
     "metadata": {},
     "output_type": "display_data"
    },
    {
     "name": "stdout",
     "output_type": "stream",
     "text": [
      "**********************************************************************\n",
      "\n",
      "accuracy= 60.698689956331876\n",
      "**********************************************************************\n",
      "\n",
      "confusion matrix--\n"
     ]
    },
    {
     "data": {
      "image/png": "[encoded data removed]",
      "text/plain": [
       "<matplotlib.figure.Figure at 0x3fff1d20d1d0>"
      ]
     },
     "metadata": {},
     "output_type": "display_data"
    },
    {
     "name": "stdout",
     "output_type": "stream",
     "text": [
      "**********************************************************************\n",
      "\n",
      "TNR= 0.9210526315789473\n",
      "TPR= 0.5479028872430591\n",
      "FPR= 0.07894736842105263\n",
      "FNR= 0.45209711275694087\n",
      "**********************************************************************\n",
      "\n",
      "             precision    recall  f1-score   support\n",
      "\n",
      "          0       0.92      0.28      0.43     15790\n",
      "          1       0.55      0.97      0.70     14209\n",
      "\n",
      "avg / total       0.74      0.61      0.56     29999\n",
      "\n",
      "**********************************************************************\n",
      "\n"
     ]
    },
    {
     "data": {
      "image/png": "[encoded data removed]",
      "text/plain": [
       "<matplotlib.figure.Figure at 0x3ffe90b9b4a8>"
      ]
     },
     "metadata": {},
     "output_type": "display_data"
    }
   ],
   "source": [
    "accu, auc, TNR, TPR, FPR, FNR=logistic_regression(clf=clf, x_train=tfidf_vectors, y_train=y_train_word, x_test=x_test_word, y_test=y_test_word)"
   ]
  },
  {
   "cell_type": "code",
   "execution_count": 9,
   "metadata": {},
   "outputs": [],
   "source": [
    "new=[7,'Tf-Idf Word2vec', '---', 'LogisticRegression','GridSearchCV', 'l2', 'None', 0.001, 60.6986, 0.8581, 0.9210, 0.5479, 0.0789, 0.4520]\n",
    "results.loc[6]=new"
   ]
  },
  {
   "cell_type": "code",
   "execution_count": null,
   "metadata": {},
   "outputs": [],
   "source": []
  },
  {
   "cell_type": "markdown",
   "metadata": {},
   "source": [
    "###  Logistic regression for TfIdf word2vec using RandomizedSearchCV"
   ]
  },
  {
   "cell_type": "code",
   "execution_count": 276,
   "metadata": {},
   "outputs": [],
   "source": [
    "#from sklearn.model_selection import RandomizedSearchCV\n",
    "from sklearn.model_selection import RandomizedSearchCV\n",
    "tscv=TimeSeriesSplit(n_splits=10)\n",
    "penalty=['l2','l1']\n",
    "c=np.random.uniform(0,100,size=10)\n",
    "c=[round(x,3) for x in c]\n",
    "param={'C': c, 'penalty':penalty}\n",
    "clf=LogisticRegression()\n",
    "clf=RandomizedSearchCV(estimator=clf, param_distributions=param, cv=tscv,  verbose=1)"
   ]
  },
  {
   "cell_type": "code",
   "execution_count": 277,
   "metadata": {},
   "outputs": [
    {
     "name": "stdout",
     "output_type": "stream",
     "text": [
      "CPU times: user 0 ns, sys: 0 ns, total: 0 ns\n",
      "Wall time: 14.3 µs\n",
      "Fitting 10 folds for each of 10 candidates, totalling 100 fits\n"
     ]
    },
    {
     "name": "stderr",
     "output_type": "stream",
     "text": [
      "[Parallel(n_jobs=1)]: Done 100 out of 100 | elapsed:  8.3min finished\n"
     ]
    },
    {
     "name": "stdout",
     "output_type": "stream",
     "text": [
      "duration =  0:08:23.228648\n"
     ]
    }
   ],
   "source": [
    "# fitting the model\n",
    "%time\n",
    "start=datetime.now()\n",
    "clf.fit(tfidf_vectors,y_train_word)\n",
    "#pickle.dump(clf,open('bow_bigram_balanced_random.p','wb'))\n",
    "end=datetime.now()\n",
    "print('duration = ',(end-start))"
   ]
  },
  {
   "cell_type": "code",
   "execution_count": 278,
   "metadata": {},
   "outputs": [
    {
     "name": "stdout",
     "output_type": "stream",
     "text": [
      "best C= 13.79\n",
      "best penalty= l1\n"
     ]
    }
   ],
   "source": [
    "# best value of C\n",
    "c=clf.best_estimator_.get_params()['C']\n",
    "penalty=clf.best_estimator_.get_params()['penalty']\n",
    "print('best C=',c)\n",
    "print('best penalty=',penalty)"
   ]
  },
  {
   "cell_type": "code",
   "execution_count": 279,
   "metadata": {},
   "outputs": [
    {
     "data": {
      "image/png": "[encoded data removed]",
      "text/plain": [
       "<matplotlib.figure.Figure at 0x3ffe91b7ab70>"
      ]
     },
     "metadata": {},
     "output_type": "display_data"
    },
    {
     "name": "stdout",
     "output_type": "stream",
     "text": [
      "**********************************************************************\n",
      "\n",
      "accuracy= 60.83536117870596\n",
      "**********************************************************************\n",
      "\n",
      "confusion matrix--\n"
     ]
    },
    {
     "data": {
      "image/png": "[encoded data removed]",
      "text/plain": [
       "<matplotlib.figure.Figure at 0x3ffe914c9898>"
      ]
     },
     "metadata": {},
     "output_type": "display_data"
    },
    {
     "name": "stdout",
     "output_type": "stream",
     "text": [
      "**********************************************************************\n",
      "\n",
      "TNR= 0.9218947368421052\n",
      "TPR= 0.5493682918135372\n",
      "FPR= 0.07810526315789473\n",
      "FNR= 0.4506317081864628\n",
      "**********************************************************************\n",
      "\n",
      "             precision    recall  f1-score   support\n",
      "\n",
      "          0       0.92      0.28      0.43     15757\n",
      "          1       0.55      0.97      0.70     14242\n",
      "\n",
      "avg / total       0.75      0.61      0.56     29999\n",
      "\n",
      "**********************************************************************\n",
      "\n"
     ]
    },
    {
     "data": {
      "image/png": "[encoded data removed]",
      "text/plain": [
       "<matplotlib.figure.Figure at 0x3ffe913dc400>"
      ]
     },
     "metadata": {},
     "output_type": "display_data"
    }
   ],
   "source": [
    "accu, auc, TNR, TPR, FPR, FNR=logistic_regression(clf=clf, x_train=tfidf_vectors, y_train=y_train_word, x_test=x_test_word, y_test=y_test_word)"
   ]
  },
  {
   "cell_type": "code",
   "execution_count": 10,
   "metadata": {},
   "outputs": [],
   "source": [
    "new=[8,'Tf-Idf Word2vec', '---', 'LogisticRegression','RandimizedSearchCV', 'l1', 'None', 13.79, 60.8353, 0.8587, 0.9218, 0.5493, 0.0781, 0.4506]\n",
    "results.loc[7]=new"
   ]
  },
  {
   "cell_type": "code",
   "execution_count": 12,
   "metadata": {},
   "outputs": [
    {
     "data": {
      "text/html": [
       "<div>\n",
       "<style>\n",
       "    .dataframe thead tr:only-child th {\n",
       "        text-align: right;\n",
       "    }\n",
       "\n",
       "    .dataframe thead th {\n",
       "        text-align: left;\n",
       "    }\n",
       "\n",
       "    .dataframe tbody tr th {\n",
       "        vertical-align: top;\n",
       "    }\n",
       "</style>\n",
       "<table border=\"1\" class=\"dataframe\">\n",
       "  <thead>\n",
       "    <tr style=\"text-align: right;\">\n",
       "      <th></th>\n",
       "      <th>sno.</th>\n",
       "      <th>featurization</th>\n",
       "      <th>n_gram range</th>\n",
       "      <th>model</th>\n",
       "      <th>cv algo</th>\n",
       "      <th>best penalty</th>\n",
       "      <th>class_weight</th>\n",
       "      <th>best C</th>\n",
       "      <th>accuracy</th>\n",
       "      <th>AUC</th>\n",
       "      <th>TNR</th>\n",
       "      <th>TPR</th>\n",
       "      <th>FPR</th>\n",
       "      <th>FNR</th>\n",
       "    </tr>\n",
       "  </thead>\n",
       "  <tbody>\n",
       "    <tr>\n",
       "      <th>6</th>\n",
       "      <td>7</td>\n",
       "      <td>Tf-Idf Word2vec</td>\n",
       "      <td>---</td>\n",
       "      <td>LogisticRegression</td>\n",
       "      <td>GridSearchCV</td>\n",
       "      <td>l2</td>\n",
       "      <td>None</td>\n",
       "      <td>0.001</td>\n",
       "      <td>60.6986</td>\n",
       "      <td>0.8581</td>\n",
       "      <td>0.9210</td>\n",
       "      <td>0.5479</td>\n",
       "      <td>0.0789</td>\n",
       "      <td>0.4520</td>\n",
       "    </tr>\n",
       "    <tr>\n",
       "      <th>7</th>\n",
       "      <td>8</td>\n",
       "      <td>Tf-Idf Word2vec</td>\n",
       "      <td>---</td>\n",
       "      <td>LogisticRegression</td>\n",
       "      <td>RandimizedSearchCV</td>\n",
       "      <td>l1</td>\n",
       "      <td>None</td>\n",
       "      <td>13.790</td>\n",
       "      <td>60.8353</td>\n",
       "      <td>0.8587</td>\n",
       "      <td>0.9218</td>\n",
       "      <td>0.5493</td>\n",
       "      <td>0.0781</td>\n",
       "      <td>0.4506</td>\n",
       "    </tr>\n",
       "  </tbody>\n",
       "</table>\n",
       "</div>"
      ],
      "text/plain": [
       "  sno.    featurization n_gram range               model             cv algo  \\\n",
       "6    7  Tf-Idf Word2vec          ---  LogisticRegression        GridSearchCV   \n",
       "7    8  Tf-Idf Word2vec          ---  LogisticRegression  RandimizedSearchCV   \n",
       "\n",
       "  best penalty class_weight  best C  accuracy     AUC     TNR     TPR     FPR  \\\n",
       "6           l2         None   0.001   60.6986  0.8581  0.9210  0.5479  0.0789   \n",
       "7           l1         None  13.790   60.8353  0.8587  0.9218  0.5493  0.0781   \n",
       "\n",
       "      FNR  \n",
       "6  0.4520  \n",
       "7  0.4506  "
      ]
     },
     "execution_count": 12,
     "metadata": {},
     "output_type": "execute_result"
    }
   ],
   "source": [
    "results.iloc[2:]"
   ]
  },
  {
   "cell_type": "markdown",
   "metadata": {},
   "source": [
    "#### Observation-\n",
    "* we can choose C=0.001 and  penalty='l2' as a best hyperparameter for Tfidf word2vec"
   ]
  },
  {
   "cell_type": "code",
   "execution_count": null,
   "metadata": {},
   "outputs": [],
   "source": []
  },
  {
   "cell_type": "markdown",
   "metadata": {},
   "source": [
    "#### checking sparsity of TfIdf word2vec by fixing penalty='l1' and changing C value"
   ]
  },
  {
   "cell_type": "code",
   "execution_count": 516,
   "metadata": {},
   "outputs": [
    {
     "name": "stdout",
     "output_type": "stream",
     "text": [
      "at C= 1e-05\n",
      "test error= 0.8416613887129571\n",
      "number of non zero element in w= 0\n",
      "***********************************************\n",
      "at C= 0.0001\n",
      "test error= 0.8416613887129571\n",
      "number of non zero element in w= 0\n",
      "***********************************************\n",
      "at C= 0.0005\n",
      "test error= 0.293009766992233\n",
      "number of non zero element in w= 73\n",
      "***********************************************\n",
      "at C= 0.001\n",
      "test error= 0.27634254475149167\n",
      "number of non zero element in w= 130\n",
      "***********************************************\n",
      "at C= 0.005\n",
      "test error= 0.2583419447314911\n",
      "number of non zero element in w= 243\n",
      "***********************************************\n",
      "at C= 0.01\n",
      "test error= 0.25687522917430583\n",
      "number of non zero element in w= 267\n",
      "***********************************************\n",
      "at C= 0.05\n",
      "test error= 0.25444181472715754\n",
      "number of non zero element in w= 298\n",
      "***********************************************\n",
      "at C= 0.1\n",
      "test error= 0.25407513583786123\n",
      "number of non zero element in w= 298\n",
      "***********************************************\n",
      "at C= 0.5\n",
      "test error= 0.25407513583786123\n",
      "number of non zero element in w= 299\n",
      "***********************************************\n",
      "at C= 1\n",
      "test error= 0.25414180472682424\n",
      "number of non zero element in w= 300\n",
      "***********************************************\n"
     ]
    },
    {
     "data": {
      "image/png": "[encoded data removed]",
      "text/plain": [
       "<matplotlib.figure.Figure at 0x3fff117d5a20>"
      ]
     },
     "metadata": {},
     "output_type": "display_data"
    }
   ],
   "source": [
    "C= [0.00001, 0.0001, 0.0005, 0.001, 0.005, 0.01, 0.05, 0.1, 0.5, 1]\n",
    "_=sparsity(C, x_train=tfidf_vectors, x_test=x_test_tf_word, y_train=y_train_word, y_test=y_test_word)"
   ]
  },
  {
   "cell_type": "markdown",
   "metadata": {},
   "source": [
    "#### Observation-\n",
    "* as we increase value of C(decreasing lambda) the sparsity decreases"
   ]
  },
  {
   "cell_type": "code",
   "execution_count": null,
   "metadata": {},
   "outputs": [],
   "source": []
  },
  {
   "cell_type": "markdown",
   "metadata": {},
   "source": [
    "#### feature importance and multicollinearity for avg word2vec using the best C=0.001 and penalty='l2'"
   ]
  },
  {
   "cell_type": "code",
   "execution_count": 517,
   "metadata": {},
   "outputs": [
    {
     "name": "stdout",
     "output_type": "stream",
     "text": [
      "number of non-zero element in w= 300\n"
     ]
    }
   ],
   "source": [
    "clf=LogisticRegression(C=0.001, penalty='l2')\n",
    "clf.fit(tfidf_vectors,y_train_word)\n",
    "w=clf.coef_\n",
    "print('number of non-zero element in w=', np.count_nonzero(w))"
   ]
  },
  {
   "cell_type": "code",
   "execution_count": 519,
   "metadata": {},
   "outputs": [],
   "source": [
    "# for findind feature importance we need to check multicollinearity\n",
    "# apply perturbation test for checking multicollinearity\n",
    "# in perturbation test, we add some noise to the training data and the fit the model\n",
    "# the w we will get after fittng the model, if it is significantly different than w which we get without any error adding then we will say it is multicollinear\n",
    "\n",
    "tfidf_vectors.data=tfidf_vectors.data+np.random.normal(loc=0,scale=0.1,size=tfidf_vectors.data.shape)  #adding a noise with a very small value"
   ]
  },
  {
   "cell_type": "code",
   "execution_count": 520,
   "metadata": {},
   "outputs": [
    {
     "name": "stdout",
     "output_type": "stream",
     "text": [
      "number of non-zero element in w= 300\n"
     ]
    }
   ],
   "source": [
    "clf=LogisticRegression(C=0.001, penalty='l2')\n",
    "clf.fit(tfidf_vectors,y_train_word)\n",
    "w_=clf.coef_\n",
    "print('number of non-zero element in w=', np.count_nonzero(w))"
   ]
  },
  {
   "cell_type": "code",
   "execution_count": 521,
   "metadata": {},
   "outputs": [
    {
     "name": "stdout",
     "output_type": "stream",
     "text": [
      "number of elements in w_delta, more than 50 %= 9\n"
     ]
    }
   ],
   "source": [
    "w_delta=abs((w-w_)/w)*100\n",
    "cnt=0\n",
    "for i in range(len(w_delta[0])):\n",
    "    if (w_delta[0][i]>50):\n",
    "        cnt+=1\n",
    "print('number of elements in w_delta, more than 50 %=',cnt)"
   ]
  },
  {
   "cell_type": "code",
   "execution_count": 522,
   "metadata": {},
   "outputs": [
    {
     "name": "stdout",
     "output_type": "stream",
     "text": [
      "top 10 elements of weight--\n",
      "******************************\n"
     ]
    },
    {
     "data": {
      "text/plain": [
       "array([0.13685716, 0.13742999, 0.13803844, 0.13998543, 0.15602981,\n",
       "       0.16683909, 0.17285568, 0.19956285, 0.20550917, 0.26470741])"
      ]
     },
     "execution_count": 522,
     "metadata": {},
     "output_type": "execute_result"
    }
   ],
   "source": [
    "print('top 10 elements of weight--')\n",
    "print('******************************')\n",
    "np.sort(w)[0][-10:]"
   ]
  },
  {
   "cell_type": "markdown",
   "metadata": {},
   "source": [
    "#### Observation-\n",
    "* only 9 in 300 elements having change more than 50 %, we may not put in collinear category\n",
    "* we can't find the important words in TfIdf word2vec"
   ]
  },
  {
   "cell_type": "code",
   "execution_count": null,
   "metadata": {},
   "outputs": [],
   "source": []
  },
  {
   "cell_type": "code",
   "execution_count": 13,
   "metadata": {},
   "outputs": [
    {
     "name": "stdout",
     "output_type": "stream",
     "text": [
      "Final Table\n"
     ]
    }
   ],
   "source": [
    "print('Final Table')"
   ]
  },
  {
   "cell_type": "markdown",
   "metadata": {},
   "source": [
    "| Featurization  \t| CV Algo            \t| Best C \t| Best penalty \t| Accuracy \t| TNR    \t| TPR    \t|\n",
    "|----------------\t|--------------------\t|--------\t|--------------\t|----------\t|--------\t|--------\t|\n",
    "| BOW            \t| GridSearchCV       \t| 1      \t| l2           \t| 86.3133  \t| 0.8383 \t| 0.8676 \t|\n",
    "| BOW            \t| RandomizedSearchCV \t| 1      \t| l2           \t| 86.3133  \t| 0.8383 \t| 0.8676 \t|\n",
    "| TfIdf          \t| GridSearchCV       \t| 0.5    \t| l1           \t| 86.0033  \t| 0.8353 \t| 0.8646 \t|\n",
    "| TfIdf          \t| RandomizedSearchCV \t| 0.5    \t| l1           \t| 86.0033  \t| 0.8353 \t| 0.8646 \t|\n",
    "| Avg Word2Vec   \t| GridSearchCV       \t| 0.001  \t| l2           \t| 62.3654  \t| 0.9202 \t| 0.5678 \t|\n",
    "| Avg Word2Vec   \t| RandomizedSearchCV \t| 11.593 \t| l1           \t| 62.4920  \t| 0.92   \t| 0.5694 \t|\n",
    "| TfIdf Word2Vec \t| GridSearchCV       \t| 0.001  \t| l2           \t| 60.6986  \t| 0.9210 \t| 0.5479 \t|\n",
    "| TfIdf Word2Vec \t| RandomizedSearchCV \t| 13.79  \t| l1           \t| 60.8353  \t| 0.9218 \t| 0.5493 \t|"
   ]
  },
  {
   "cell_type": "markdown",
   "metadata": {},
   "source": [
    "# Conclusion-\n",
    "* we have taken amazon fine food review and applied logistic regression model using BoW, Tfidf, Avg word2vec and Tfidf word2vec.\n",
    "* This dataset is imbalanced so we have applied upsampling on top of it.\n",
    "* in the final table we can see that Logistic regression works well for BOW and TFIDF, but not good in case of avg word2vec and tfidf word2vec.\n",
    "* we can conclude that logistic regression works fairly well if dimension is high"
   ]
  },
  {
   "cell_type": "code",
   "execution_count": null,
   "metadata": {},
   "outputs": [],
   "source": []
  }
 ],
 "metadata": {
  "kernelspec": {
   "display_name": "Python 3",
   "language": "python",
   "name": "python3"
  },
  "language_info": {
   "codemirror_mode": {
    "name": "ipython",
    "version": 3
   },
   "file_extension": ".py",
   "mimetype": "text/x-python",
   "name": "python",
   "nbconvert_exporter": "python",
   "pygments_lexer": "ipython3",
   "version": "3.6.5"
  }
 },
 "nbformat": 4,
 "nbformat_minor": 2
}
