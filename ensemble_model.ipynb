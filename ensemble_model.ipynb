{
 "cells": [
  {
   "cell_type": "markdown",
   "metadata": {},
   "source": [
    "# **Objective**- Apply GBDT and RandomForest on Amazon review datasets"
   ]
  },
  {
   "cell_type": "markdown",
   "metadata": {},
   "source": [
    "#### **About the dataset**"
   ]
  },
  {
   "cell_type": "markdown",
   "metadata": {},
   "source": [
    "Data Source: https://www.kaggle.com/snap/amazon-fine-food-reviews\n",
    "\n",
    "The Amazon Fine Food Reviews dataset consists of reviews of fine foods from Amazon.\n",
    "\n",
    "* Number of reviews: 568,454 \n",
    "* Number of users: 256,059 \n",
    "* Number of products: 74,258 \n",
    "* Timespan: Oct 1999 - Oct 2012 \n",
    "* Number of Attributes/Columns in data: 10\n",
    "\n",
    "##### **Attribute Information**:\n",
    "\n",
    "1. Id ProductId - unique identifier for the product \n",
    "2. UserId - unqiue identifier for the user ProfileName \n",
    "3. HelpfulnessNumerator - number of users who found the review helpful \n",
    "4. HelpfulnessDenominator - number of users who indicated whether they found the review helpful or not \n",
    "5. Score - rating between 1 and 5 \n",
    "6. Time - timestamp for the review \n",
    "7. Summary - brief summary of the review \n",
    "8. Text - text of the review"
   ]
  },
  {
   "cell_type": "markdown",
   "metadata": {},
   "source": [
    "#### **Codes for--**"
   ]
  },
  {
   "cell_type": "markdown",
   "metadata": {},
   "source": [
    "1. Applying GridSearchCV for hyperparameter tuning on RandomForestClassifier for all the four vectorizer- Bow, Tfidf, Avg word2vec and Tfidf word2vec.\n",
    "\n",
    "2. Applying GridSearchCV for hyperparameter tuning on XGBClassifier for all the four vectorizer- Bow, Tfidf, Avg word2vec and Tfidf word2vec"
   ]
  },
  {
   "cell_type": "markdown",
   "metadata": {},
   "source": [
    "## **1. Loading and preprocessing the data**"
   ]
  },
  {
   "cell_type": "code",
   "execution_count": 42,
   "metadata": {},
   "outputs": [],
   "source": [
    "import sqlite3\n",
    "import pandas as pd\n",
    "import numpy as np\n",
    "import nltk\n",
    "from sklearn.feature_extraction.text import CountVectorizer\n",
    "from sklearn.preprocessing import StandardScaler\n",
    "from sklearn.model_selection import train_test_split\n",
    "from sklearn.model_selection import GridSearchCV, TimeSeriesSplit\n",
    "from datetime import datetime\n",
    "from sklearn.metrics import confusion_matrix, classification_report, accuracy_score\n",
    "import warnings\n",
    "warnings.filterwarnings('ignore')"
   ]
  },
  {
   "cell_type": "code",
   "execution_count": 43,
   "metadata": {},
   "outputs": [],
   "source": [
    "from sklearn.ensemble import RandomForestClassifier\n",
    "from sklearn.model_selection import GridSearchCV\n",
    "import nltk\n",
    "import xgboost as xgb\n",
    "from nltk.corpus import stopwords"
   ]
  },
  {
   "cell_type": "code",
   "execution_count": 44,
   "metadata": {},
   "outputs": [],
   "source": [
    "from datetime import datetime\n",
    "import pickle"
   ]
  },
  {
   "cell_type": "code",
   "execution_count": 45,
   "metadata": {},
   "outputs": [],
   "source": [
    "import matplotlib.pyplot as plt\n",
    "%matplotlib inline"
   ]
  },
  {
   "cell_type": "code",
   "execution_count": 46,
   "metadata": {},
   "outputs": [],
   "source": [
    "sql=sqlite3.connect('database.sqlite')  #loading sql data\n",
    "data=pd.read_sql_query('''\n",
    "SELECT *\n",
    "FROM Reviews\n",
    "WHERE Score!=3''',sql)"
   ]
  },
  {
   "cell_type": "code",
   "execution_count": 47,
   "metadata": {},
   "outputs": [],
   "source": [
    "#for changing score int value to positive (1) and negative (0) i.e only in two class\n",
    "def posneg(x):\n",
    "    if x<3:\n",
    "        return 0\n",
    "    else:\n",
    "        return 1\n",
    "score=data['Score']\n",
    "data['Score']=score.map(posneg)"
   ]
  },
  {
   "cell_type": "code",
   "execution_count": 48,
   "metadata": {},
   "outputs": [],
   "source": [
    "data=data[data['HelpfulnessNumerator']<=data['HelpfulnessDenominator']] "
   ]
  },
  {
   "cell_type": "code",
   "execution_count": 49,
   "metadata": {},
   "outputs": [
    {
     "data": {
      "text/plain": [
       "(364171, 10)"
      ]
     },
     "execution_count": 49,
     "metadata": {},
     "output_type": "execute_result"
    }
   ],
   "source": [
    "data.drop_duplicates(subset={\"UserId\",\"ProfileName\",\"Time\",\"Text\"},keep='first',inplace=True) #droping the duplicates\n",
    "data.shape"
   ]
  },
  {
   "cell_type": "code",
   "execution_count": 50,
   "metadata": {},
   "outputs": [],
   "source": [
    "stop=set(stopwords.words('english'))"
   ]
  },
  {
   "cell_type": "code",
   "execution_count": 51,
   "metadata": {},
   "outputs": [],
   "source": [
    "\n",
    "sno=nltk.stem.SnowballStemmer('english')  #stemmer of english language\n",
    "\n",
    "def cleanhtml(sentence): #function to clean the word of any html-tags\n",
    "    cleanr = re.compile('<.*?>')\n",
    "    cleantext = re.sub(cleanr, ' ', sentence)\n",
    "    return cleantext\n",
    "def cleanpunc(sentence): #function to clean the word of any punctuation or special characters\n",
    "    cleaned = re.sub(r'[?|!|\\'|\"|#]',r'',sentence)\n",
    "    cleaned = re.sub(r'[.|,|)|(|\\|/]',r' ',cleaned)\n",
    "    return  cleaned"
   ]
  },
  {
   "cell_type": "code",
   "execution_count": 52,
   "metadata": {},
   "outputs": [],
   "source": [
    "#taking sample of data\n",
    "sample_data=data.sort_values(['Time'])  #sorting data on time basis\n",
    "sample_data=sample_data.iloc[:100000]\n",
    "sample_score=sample_data['Score']"
   ]
  },
  {
   "cell_type": "markdown",
   "metadata": {},
   "source": [
    "##### ** Observation- Taking first 100k datapoints**"
   ]
  },
  {
   "cell_type": "code",
   "execution_count": 53,
   "metadata": {},
   "outputs": [],
   "source": [
    "#filtering sentence\n",
    "import re\n",
    "final_string=[]\n",
    "s=''\n",
    "for sentence in sample_data['Text']:\n",
    "    filtered_sentence=[]\n",
    "    cleaned_sentence=cleanhtml(sentence)\n",
    "    for words in sentence.split():\n",
    "        cleaned_words=cleanpunc(words)\n",
    "        if ( (cleaned_words.isalpha()) & (len(cleaned_words)>2) ):\n",
    "            if(cleaned_words.lower() not in stop):\n",
    "                s=(sno.stem(cleaned_words.lower())).encode('utf8')\n",
    "                filtered_sentence.append(s)\n",
    "            else: \n",
    "                continue\n",
    "        else:\n",
    "            continue\n",
    "    str1=b\" \".join(filtered_sentence)    \n",
    "    final_string.append(str1)\n",
    "        "
   ]
  },
  {
   "cell_type": "code",
   "execution_count": 54,
   "metadata": {},
   "outputs": [],
   "source": [
    "sample_data['Cleaned_text']=final_string  #creating a new column in sample_data"
   ]
  },
  {
   "cell_type": "code",
   "execution_count": 55,
   "metadata": {},
   "outputs": [
    {
     "data": {
      "text/plain": [
       "1    87729\n",
       "0    12271\n",
       "Name: Score, dtype: int64"
      ]
     },
     "execution_count": 55,
     "metadata": {},
     "output_type": "execute_result"
    }
   ],
   "source": [
    "sample_data['Score'].value_counts()"
   ]
  },
  {
   "cell_type": "code",
   "execution_count": 56,
   "metadata": {},
   "outputs": [],
   "source": [
    "#taking the test data seperate from all other\n",
    "\n",
    "X, x_test, y_train, y_test=train_test_split(sample_data['Cleaned_text'], sample_data['Score'], test_size=0.3, shuffle=False) #splitting the data"
   ]
  },
  {
   "cell_type": "code",
   "execution_count": 57,
   "metadata": {},
   "outputs": [],
   "source": [
    "# this function plot mse vs C plot, predicting accuracy, confusion matrix and classification report\n",
    "\n",
    "def all_plot(clf, x_train, y_train, x_test, y_test):\n",
    "    #optimal base lerner\n",
    "    base=clf.best_estimator_.get_params()['n_estimators']\n",
    "    print('optimal n_estimators = ',base)\n",
    "    print('**********************************************************************\\n')\n",
    "    \n",
    "    #plot error vs C\n",
    "    x_1=[]\n",
    "    y_1=[]\n",
    "    \n",
    "    for x in clf.grid_scores_:\n",
    "        x_1.append(x[0]['n_estimators'])\n",
    "        y_1.append(1-x[1])\n",
    "        \n",
    "    plt.plot(x_1,y_1, label='l1')\n",
    "    plt.xlabel('number of base learner')\n",
    "    plt.ylabel('misclassification error')\n",
    "    plt.title('base learner vs error')\n",
    "    plt.legend()\n",
    "    plt.show()\n",
    "    print('**********************************************************************\\n')\n",
    "      \n",
    "    #predicting y and accuracy\n",
    "    y_pred=clf.predict(x_test)\n",
    "    accu=accuracy_score(y_pred,y_test)*100\n",
    "    print('accuracy=',accu)\n",
    "    print('**********************************************************************\\n')\n",
    "    \n",
    "    #confusion matrix\n",
    "    t=confusion_matrix(y_pred,y_test)\n",
    "    print('confusion matrix--')\n",
    "    #print(t)\n",
    "    #print('**********************************************************************')\n",
    "    sns.heatmap(t, annot=True, fmt=\"d\", xticklabels=True, yticklabels=True)\n",
    "    plt.xlabel('True label')\n",
    "    plt.ylabel('Predicted label')\n",
    "    plt.title('confusion matrix')\n",
    "    plt.show()\n",
    "    print('**********************************************************************\\n')\n",
    "    \n",
    "    # finding TPR , TNR, FPR, FNR\n",
    "    TNR=t[0][0]/(t[0][0]+t[1][0])\n",
    "    TPR=t[1][1]/(t[0][1]+t[1][1])\n",
    "    FPR=t[1][0]/(t[0][0]+t[1][0])\n",
    "    FNR=t[0][1]/(t[0][1]+t[1][1])\n",
    "    print('TNR=',TNR)\n",
    "    print('TPR=',TPR)\n",
    "    print('FPR=',FPR)\n",
    "    print('FNR=',FNR)\n",
    "    print('**********************************************************************\\n')\n",
    "    \n",
    "    \n",
    "    #classification report\n",
    "    print(classification_report(y_pred,y_test))\n",
    "    print('**********************************************************************\\n')\n",
    "    \n",
    "    \n",
    "    return accu, TNR, TPR, FPR, FNR"
   ]
  },
  {
   "cell_type": "markdown",
   "metadata": {},
   "source": [
    "## **2. Bag of Words**"
   ]
  },
  {
   "cell_type": "code",
   "execution_count": 58,
   "metadata": {},
   "outputs": [],
   "source": [
    "count_vect=CountVectorizer()\n",
    "x_train_bow=count_vect.fit_transform(X.values)"
   ]
  },
  {
   "cell_type": "code",
   "execution_count": 59,
   "metadata": {},
   "outputs": [],
   "source": [
    "x_test_bow=count_vect.transform(x_test.values)"
   ]
  },
  {
   "cell_type": "code",
   "execution_count": 60,
   "metadata": {},
   "outputs": [],
   "source": [
    "from sklearn.preprocessing import normalize\n",
    "\n",
    "x_train_bow=normalize(x_train_bow)\n",
    "x_test_bow=normalize(x_test_bow)\n"
   ]
  },
  {
   "cell_type": "markdown",
   "metadata": {},
   "source": [
    "### **2.1 Apply GridSearchCV on RandomForestClassifier for bag of words**"
   ]
  },
  {
   "cell_type": "code",
   "execution_count": null,
   "metadata": {},
   "outputs": [],
   "source": [
    "# http://scikit-learn.org/stable/modules/generated/sklearn.ensemble.RandomForestClassifier.html"
   ]
  },
  {
   "cell_type": "code",
   "execution_count": 61,
   "metadata": {},
   "outputs": [],
   "source": [
    "\n",
    "base_lerner=list(range(1,200,10))\n",
    "tscv=TimeSeriesSplit(n_splits=10)\n",
    "hyperparam={'n_estimators':base_lerner}\n",
    "clf=RandomForestClassifier()\n",
    "clf=GridSearchCV(estimator=clf, param_grid=hyperparam, cv=tscv, n_jobs=-1, verbose=1)\n"
   ]
  },
  {
   "cell_type": "code",
   "execution_count": 62,
   "metadata": {},
   "outputs": [
    {
     "name": "stdout",
     "output_type": "stream",
     "text": [
      "CPU times: user 0 ns, sys: 0 ns, total: 0 ns\n",
      "Wall time: 7.15 µs\n",
      "Fitting 10 folds for each of 20 candidates, totalling 200 fits\n"
     ]
    },
    {
     "name": "stderr",
     "output_type": "stream",
     "text": [
      "[Parallel(n_jobs=-1)]: Done  10 tasks      | elapsed:    3.0s\n",
      "[Parallel(n_jobs=-1)]: Done 160 tasks      | elapsed: 13.5min\n",
      "[Parallel(n_jobs=-1)]: Done 200 out of 200 | elapsed: 24.4min finished\n"
     ]
    },
    {
     "name": "stdout",
     "output_type": "stream",
     "text": [
      "duration =  0:24:41.058927\n"
     ]
    }
   ],
   "source": [
    "# fitting the model\n",
    "%time\n",
    "start=datetime.now()\n",
    "clf.fit(x_train_bow,y_train)\n",
    "pickle.dump(clf,open('rf_bow.p','wb'))\n",
    "end=datetime.now()\n",
    "print('duration = ',(end-start))"
   ]
  },
  {
   "cell_type": "code",
   "execution_count": 64,
   "metadata": {},
   "outputs": [
    {
     "name": "stdout",
     "output_type": "stream",
     "text": [
      "optimal n_estimators =  11\n",
      "**********************************************************************\n",
      "\n"
     ]
    },
    {
     "data": {
      "image/png": "[encoded data removed]",
      "text/plain": [
       "<matplotlib.figure.Figure at 0x3ffeefadcc50>"
      ]
     },
     "metadata": {},
     "output_type": "display_data"
    },
    {
     "name": "stdout",
     "output_type": "stream",
     "text": [
      "**********************************************************************\n",
      "\n",
      "accuracy= 87.40333333333334\n",
      "**********************************************************************\n",
      "\n",
      "confusion matrix--\n"
     ]
    },
    {
     "data": {
      "image/png": "[encoded data removed]",
      "text/plain": [
       "<matplotlib.figure.Figure at 0x3ffef22efeb8>"
      ]
     },
     "metadata": {},
     "output_type": "display_data"
    },
    {
     "name": "stdout",
     "output_type": "stream",
     "text": [
      "**********************************************************************\n",
      "\n",
      "TNR= 0.10485247500609607\n",
      "TPR= 0.9958299548245106\n",
      "FPR= 0.8951475249939039\n",
      "FNR= 0.0041700451754894015\n",
      "**********************************************************************\n",
      "\n",
      "             precision    recall  f1-score   support\n",
      "\n",
      "          0       0.10      0.80      0.19       538\n",
      "          1       1.00      0.88      0.93     29462\n",
      "\n",
      "avg / total       0.98      0.87      0.92     30000\n",
      "\n",
      "**********************************************************************\n",
      "\n"
     ]
    }
   ],
   "source": [
    "accu, TNR, TPR, FPR, FNR=all_plot(clf=clf, x_train=x_train_bow, x_test=x_test_bow, y_train=y_train, y_test=y_test)"
   ]
  },
  {
   "cell_type": "markdown",
   "metadata": {},
   "source": [
    "**Feature Importance**"
   ]
  },
  {
   "cell_type": "code",
   "execution_count": 66,
   "metadata": {},
   "outputs": [
    {
     "name": "stdout",
     "output_type": "stream",
     "text": [
      "Top features --\n",
      "*******************************************************\n",
      "horribl \t\t:\t\t 0.00298\n",
      "even \t\t:\t\t 0.00307\n",
      "flavor \t\t:\t\t 0.00314\n",
      "use \t\t:\t\t 0.0032\n",
      "terribl \t\t:\t\t 0.00336\n",
      "tri \t\t:\t\t 0.00345\n",
      "buy \t\t:\t\t 0.00349\n",
      "stale \t\t:\t\t 0.00355\n",
      "bad \t\t:\t\t 0.00356\n",
      "one \t\t:\t\t 0.00359\n",
      "thought \t\t:\t\t 0.00382\n",
      "return \t\t:\t\t 0.00408\n",
      "good \t\t:\t\t 0.00409\n",
      "best \t\t:\t\t 0.0045\n",
      "didnt \t\t:\t\t 0.00469\n",
      "would \t\t:\t\t 0.00476\n",
      "product \t\t:\t\t 0.00482\n",
      "threw \t\t:\t\t 0.00599\n",
      "like \t\t:\t\t 0.00635\n",
      "wast \t\t:\t\t 0.0064\n",
      "disappoint \t\t:\t\t 0.00674\n",
      "worst \t\t:\t\t 0.00725\n",
      "great \t\t:\t\t 0.00752\n",
      "love \t\t:\t\t 0.00804\n",
      "tast \t\t:\t\t 0.00834\n"
     ]
    }
   ],
   "source": [
    "# feature importance\n",
    "clf=RandomForestClassifier(n_estimators=11)\n",
    "clf.fit(x_train_bow,y_train)\n",
    "\n",
    "\n",
    "feature=count_vect.get_feature_names()\n",
    "f_imp=clf.feature_importances_\n",
    "index=np.argsort(f_imp)[-25:]\n",
    "print('Top features --')\n",
    "print('*******************************************************')\n",
    "for i in range(25):\n",
    "    print(feature[index[i]],'\\t\\t:\\t\\t',round(f_imp[index[i]],5))"
   ]
  },
  {
   "cell_type": "code",
   "execution_count": null,
   "metadata": {},
   "outputs": [],
   "source": []
  },
  {
   "cell_type": "markdown",
   "metadata": {},
   "source": [
    "### **2.2 Apply GridSearchCV on XGBClassifier for bag of words**"
   ]
  },
  {
   "cell_type": "markdown",
   "metadata": {},
   "source": [
    "##### **XGBClassifier--**Implementation of the scikit-learn API for XGBoost classification.\n",
    "https://xgboost.readthedocs.io/en/latest/python/python_api.html"
   ]
  },
  {
   "cell_type": "markdown",
   "metadata": {},
   "source": [
    "##### **Ques. -> Why XGBoost instead of Sklearn gradient boosted trees?**\n",
    "* XGBoost is a lot faster (see http://machinelearningmastery.com/gentle-introduction-xgboost-applied-machine-learning/) than sklearn's. XGBoost is quite memory-efficient and can be parallelized\n"
   ]
  },
  {
   "cell_type": "code",
   "execution_count": 67,
   "metadata": {},
   "outputs": [],
   "source": [
    "import xgboost as xgb"
   ]
  },
  {
   "cell_type": "code",
   "execution_count": 68,
   "metadata": {},
   "outputs": [],
   "source": [
    "\n",
    "base_lerner=list(range(1,200,15))\n",
    "max_depth=[1, 2, 3, 4, 5, 6, 7]\n",
    "lr_rate=[0.0001, 0.005, 0.01, 0.05, 0.1, 0.5, 1]\n",
    "tscv=TimeSeriesSplit(n_splits=10)\n",
    "hyperparam={'n_estimators':base_lerner, 'max_depth':max_depth, 'learning_rate':lr_rate}\n",
    "clf=xgb.XGBClassifier()\n",
    "clf=GridSearchCV(estimator=clf, param_grid=hyperparam, cv=tscv, n_jobs=-1, verbose=1)\n"
   ]
  },
  {
   "cell_type": "code",
   "execution_count": null,
   "metadata": {},
   "outputs": [
    {
     "name": "stdout",
     "output_type": "stream",
     "text": [
      "CPU times: user 0 ns, sys: 0 ns, total: 0 ns\n",
      "Wall time: 11.9 µs\n",
      "Fitting 10 folds for each of 686 candidates, totalling 6860 fits\n"
     ]
    },
    {
     "name": "stderr",
     "output_type": "stream",
     "text": [
      "[Parallel(n_jobs=-1)]: Done  10 tasks      | elapsed:    1.9s\n",
      "[Parallel(n_jobs=-1)]: Done 160 tasks      | elapsed:   37.5s\n",
      "[Parallel(n_jobs=-1)]: Done 410 tasks      | elapsed:  2.7min\n",
      "[Parallel(n_jobs=-1)]: Done 760 tasks      | elapsed:  7.4min\n",
      "[Parallel(n_jobs=-1)]: Done 1210 tasks      | elapsed: 13.5min\n",
      "[Parallel(n_jobs=-1)]: Done 1760 tasks      | elapsed: 20.3min\n",
      "[Parallel(n_jobs=-1)]: Done 2410 tasks      | elapsed: 27.9min\n",
      "[Parallel(n_jobs=-1)]: Done 3160 tasks      | elapsed: 38.4min\n",
      "[Parallel(n_jobs=-1)]: Done 4010 tasks      | elapsed: 50.1min\n",
      "[Parallel(n_jobs=-1)]: Done 4960 tasks      | elapsed: 62.1min\n",
      "[Parallel(n_jobs=-1)]: Done 6010 tasks      | elapsed: 74.6min\n",
      "[Parallel(n_jobs=-1)]: Done 6860 out of 6860 | elapsed: 86.6min finished\n"
     ]
    },
    {
     "name": "stdout",
     "output_type": "stream",
     "text": [
      "duration =  1:27:19.189822\n"
     ]
    }
   ],
   "source": [
    "# fitting the model\n",
    "%time\n",
    "start=datetime.now()\n",
    "clf.fit(x_train_bow,y_train)\n",
    "pickle.dump(clf,open('rf_bow_gbdt.p','wb'))\n",
    "end=datetime.now()\n",
    "print('duration = ',(end-start))"
   ]
  },
  {
   "cell_type": "code",
   "execution_count": 70,
   "metadata": {},
   "outputs": [
    {
     "name": "stdout",
     "output_type": "stream",
     "text": [
      "optimal n_estimators =  181\n",
      "optimal max_depth =  4\n",
      "optimal learning rate =  0.5\n"
     ]
    }
   ],
   "source": [
    "base=clf.best_estimator_.get_params()['n_estimators']\n",
    "lr_rate=clf.best_estimator_.get_params()['learning_rate']\n",
    "max_depth=clf.best_estimator_.get_params()['max_depth']\n",
    "print('optimal n_estimators = ',base)\n",
    "print('optimal max_depth = ',max_depth)\n",
    "print('optimal learning rate = ',lr_rate)"
   ]
  },
  {
   "cell_type": "code",
   "execution_count": 71,
   "metadata": {},
   "outputs": [
    {
     "name": "stdout",
     "output_type": "stream",
     "text": [
      "accuracy= 90.40666666666667\n",
      "**********************************************************************\n",
      "\n",
      "confusion matrix--\n"
     ]
    },
    {
     "data": {
      "image/png": "[encoded data removed]",
      "text/plain": [
       "<matplotlib.figure.Figure at 0x3ffeefafe048>"
      ]
     },
     "metadata": {},
     "output_type": "display_data"
    },
    {
     "name": "stdout",
     "output_type": "stream",
     "text": [
      "**********************************************************************\n",
      "\n",
      "TNR= 0.4213606437454279\n",
      "TPR= 0.9805011776516468\n",
      "FPR= 0.5786393562545721\n",
      "FNR= 0.019498822348353217\n",
      "**********************************************************************\n",
      "\n"
     ]
    }
   ],
   "source": [
    "y_pred=clf.predict(x_test_bow)\n",
    "accu=accuracy_score(y_pred,y_test)*100\n",
    "print('accuracy=',accu)\n",
    "print('**********************************************************************\\n')\n",
    "    \n",
    "#confusion matrix\n",
    "t=confusion_matrix(y_pred,y_test)\n",
    "print('confusion matrix--')\n",
    "#print(t)\n",
    "#print('**********************************************************************')\n",
    "sns.heatmap(t, annot=True, fmt=\"d\", xticklabels=True, yticklabels=True)\n",
    "plt.xlabel('True label')\n",
    "plt.ylabel('Predicted label')\n",
    "plt.title('confusion matrix')\n",
    "plt.show()\n",
    "print('**********************************************************************\\n')\n",
    "    \n",
    "# finding TPR , TNR, FPR, FNR\n",
    "TNR=t[0][0]/(t[0][0]+t[1][0])\n",
    "TPR=t[1][1]/(t[0][1]+t[1][1])\n",
    "FPR=t[1][0]/(t[0][0]+t[1][0])\n",
    "FNR=t[0][1]/(t[0][1]+t[1][1])\n",
    "print('TNR=',TNR)\n",
    "print('TPR=',TPR)\n",
    "print('FPR=',FPR)\n",
    "print('FNR=',FNR)\n",
    "print('**********************************************************************\\n')\n",
    "    "
   ]
  },
  {
   "cell_type": "markdown",
   "metadata": {},
   "source": [
    "**Feature Importance**"
   ]
  },
  {
   "cell_type": "code",
   "execution_count": 72,
   "metadata": {},
   "outputs": [
    {
     "name": "stdout",
     "output_type": "stream",
     "text": [
      "Top features --\n",
      "*******************************************************\n",
      "thought \t\t:\t\t 0.00524659\n",
      "better \t\t:\t\t 0.00524659\n",
      "disappoint \t\t:\t\t 0.0057712486\n",
      "ive \t\t:\t\t 0.0057712486\n",
      "dont \t\t:\t\t 0.006295908\n",
      "much \t\t:\t\t 0.006295908\n",
      "think \t\t:\t\t 0.006295908\n",
      "realli \t\t:\t\t 0.0068205665\n",
      "order \t\t:\t\t 0.0068205665\n",
      "make \t\t:\t\t 0.0073452257\n",
      "littl \t\t:\t\t 0.0073452257\n",
      "look \t\t:\t\t 0.007869884\n",
      "get \t\t:\t\t 0.008919203\n",
      "flavor \t\t:\t\t 0.009443861\n",
      "great \t\t:\t\t 0.00996852\n",
      "use \t\t:\t\t 0.013116474\n",
      "buy \t\t:\t\t 0.013116474\n",
      "tri \t\t:\t\t 0.013641133\n",
      "product \t\t:\t\t 0.014165793\n",
      "love \t\t:\t\t 0.014165793\n",
      "one \t\t:\t\t 0.014165793\n",
      "good \t\t:\t\t 0.017313747\n",
      "would \t\t:\t\t 0.019412382\n",
      "tast \t\t:\t\t 0.023084994\n",
      "like \t\t:\t\t 0.03043022\n"
     ]
    }
   ],
   "source": [
    "#feature importance\n",
    "clf=xgb.XGBClassifier(n_estimators=181, max_depth=4, learning_rate=0.5)\n",
    "clf.fit(x_train_bow,y_train)\n",
    "\n",
    "feature=count_vect.get_feature_names()\n",
    "f_imp=clf.feature_importances_\n",
    "index=np.argsort(f_imp)[-25:]\n",
    "print('Top features --')\n",
    "print('*******************************************************')\n",
    "for i in range(25):\n",
    "    print(feature[index[i]],'\\t\\t:\\t\\t',f_imp[index[i]],5)"
   ]
  },
  {
   "cell_type": "markdown",
   "metadata": {},
   "source": [
    "## **3. TFIDF**"
   ]
  },
  {
   "cell_type": "code",
   "execution_count": 74,
   "metadata": {},
   "outputs": [],
   "source": [
    "from sklearn.feature_extraction.text import TfidfVectorizer\n",
    "tfidf=TfidfVectorizer(ngram_range=(1,1))\n",
    "x_train_tfidf=tfidf.fit_transform(X.values)\n",
    "x_test_tfidf=tfidf.transform(x_test)"
   ]
  },
  {
   "cell_type": "code",
   "execution_count": 75,
   "metadata": {},
   "outputs": [],
   "source": [
    "x_train_tfidf=normalize(x_train_tfidf)\n",
    "x_test_tfidf=normalize(x_test_tfidf)"
   ]
  },
  {
   "cell_type": "code",
   "execution_count": null,
   "metadata": {},
   "outputs": [],
   "source": []
  },
  {
   "cell_type": "markdown",
   "metadata": {},
   "source": [
    "### **3.1 Apply GridSearchCV on RandomForestClassifier for TFIDF**"
   ]
  },
  {
   "cell_type": "code",
   "execution_count": 76,
   "metadata": {},
   "outputs": [],
   "source": [
    "\n",
    "base_lerner=list(range(1,200,10))\n",
    "tscv=TimeSeriesSplit(n_splits=10)\n",
    "hyperparam={'n_estimators':base_lerner}\n",
    "clf=RandomForestClassifier()\n",
    "clf=GridSearchCV(estimator=clf, param_grid=hyperparam, cv=tscv, n_jobs=-1, verbose=1)\n"
   ]
  },
  {
   "cell_type": "code",
   "execution_count": 77,
   "metadata": {},
   "outputs": [
    {
     "name": "stdout",
     "output_type": "stream",
     "text": [
      "CPU times: user 0 ns, sys: 0 ns, total: 0 ns\n",
      "Wall time: 11.4 µs\n",
      "Fitting 10 folds for each of 20 candidates, totalling 200 fits\n"
     ]
    },
    {
     "name": "stderr",
     "output_type": "stream",
     "text": [
      "[Parallel(n_jobs=-1)]: Done  10 tasks      | elapsed:    3.2s\n",
      "[Parallel(n_jobs=-1)]: Done 160 tasks      | elapsed: 13.6min\n",
      "[Parallel(n_jobs=-1)]: Done 200 out of 200 | elapsed: 24.5min finished\n"
     ]
    },
    {
     "name": "stdout",
     "output_type": "stream",
     "text": [
      "duration =  0:24:49.561960\n"
     ]
    }
   ],
   "source": [
    "# fitting the model\n",
    "%time\n",
    "start=datetime.now()\n",
    "clf.fit(x_train_tfidf,y_train)\n",
    "pickle.dump(clf,open('rf_bow.p','wb'))\n",
    "end=datetime.now()\n",
    "print('duration = ',(end-start))"
   ]
  },
  {
   "cell_type": "code",
   "execution_count": 78,
   "metadata": {},
   "outputs": [
    {
     "name": "stdout",
     "output_type": "stream",
     "text": [
      "optimal n_estimators =  11\n",
      "**********************************************************************\n",
      "\n"
     ]
    },
    {
     "data": {
      "image/png": "[encoded data removed]",
      "text/plain": [
       "<matplotlib.figure.Figure at 0x3ffef81880b8>"
      ]
     },
     "metadata": {},
     "output_type": "display_data"
    },
    {
     "name": "stdout",
     "output_type": "stream",
     "text": [
      "**********************************************************************\n",
      "\n",
      "accuracy= 87.61\n",
      "**********************************************************************\n",
      "\n",
      "confusion matrix--\n"
     ]
    },
    {
     "data": {
      "image/png": "[encoded data removed]",
      "text/plain": [
       "<matplotlib.figure.Figure at 0x3ffee02386d8>"
      ]
     },
     "metadata": {},
     "output_type": "display_data"
    },
    {
     "name": "stdout",
     "output_type": "stream",
     "text": [
      "**********************************************************************\n",
      "\n",
      "TNR= 0.12557912704218482\n",
      "TPR= 0.9949418896482489\n",
      "FPR= 0.8744208729578151\n",
      "FNR= 0.005058110351751033\n",
      "**********************************************************************\n",
      "\n",
      "             precision    recall  f1-score   support\n",
      "\n",
      "          0       0.13      0.80      0.22       646\n",
      "          1       0.99      0.88      0.93     29354\n",
      "\n",
      "avg / total       0.98      0.88      0.92     30000\n",
      "\n",
      "**********************************************************************\n",
      "\n"
     ]
    }
   ],
   "source": [
    "accu, TNR, TPR, FPR, FNR=all_plot(clf=clf, x_train=x_train_tfidf, x_test=x_test_tfidf, y_train=y_train, y_test=y_test)"
   ]
  },
  {
   "cell_type": "markdown",
   "metadata": {},
   "source": [
    "**Feature Importance**"
   ]
  },
  {
   "cell_type": "code",
   "execution_count": 79,
   "metadata": {},
   "outputs": [
    {
     "name": "stdout",
     "output_type": "stream",
     "text": [
      "Top features --\n",
      "*******************************************************\n",
      "make \t\t:\t\t 0.00308\n",
      "thought \t\t:\t\t 0.00318\n",
      "tri \t\t:\t\t 0.00326\n",
      "bad \t\t:\t\t 0.00329\n",
      "receiv \t\t:\t\t 0.00333\n",
      "mayb \t\t:\t\t 0.00338\n",
      "flavor \t\t:\t\t 0.00341\n",
      "one \t\t:\t\t 0.0036\n",
      "buy \t\t:\t\t 0.00365\n",
      "terribl \t\t:\t\t 0.00374\n",
      "best \t\t:\t\t 0.00396\n",
      "return \t\t:\t\t 0.00396\n",
      "money \t\t:\t\t 0.0041\n",
      "good \t\t:\t\t 0.0042\n",
      "didnt \t\t:\t\t 0.0046\n",
      "product \t\t:\t\t 0.00483\n",
      "like \t\t:\t\t 0.0058\n",
      "worst \t\t:\t\t 0.00602\n",
      "would \t\t:\t\t 0.00607\n",
      "love \t\t:\t\t 0.0066\n",
      "tast \t\t:\t\t 0.00663\n",
      "threw \t\t:\t\t 0.00704\n",
      "wast \t\t:\t\t 0.00706\n",
      "disappoint \t\t:\t\t 0.00824\n",
      "great \t\t:\t\t 0.00846\n"
     ]
    }
   ],
   "source": [
    "# feature importance\n",
    "clf=RandomForestClassifier(n_estimators=11)\n",
    "clf.fit(x_train_tfidf,y_train)\n",
    "\n",
    "\n",
    "feature=count_vect.get_feature_names()\n",
    "f_imp=clf.feature_importances_\n",
    "index=np.argsort(f_imp)[-25:]\n",
    "print('Top features --')\n",
    "print('*******************************************************')\n",
    "for i in range(25):\n",
    "    print(feature[index[i]],'\\t\\t:\\t\\t',round(f_imp[index[i]],5))"
   ]
  },
  {
   "cell_type": "markdown",
   "metadata": {},
   "source": [
    "### **3.2 Apply GridSearchCV on XGBClassifier for TFIDF**"
   ]
  },
  {
   "cell_type": "code",
   "execution_count": 80,
   "metadata": {},
   "outputs": [],
   "source": [
    "\n",
    "base_lerner=list(range(1,200,15))\n",
    "max_depth=[1, 2, 3, 4, 5, 6, 7]\n",
    "lr_rate=[0.0001, 0.005, 0.01, 0.05, 0.1, 0.5, 1]\n",
    "tscv=TimeSeriesSplit(n_splits=10)\n",
    "hyperparam={'n_estimators':base_lerner, 'max_depth':max_depth, 'learning_rate':lr_rate}\n",
    "clf=xgb.XGBClassifier()\n",
    "clf=GridSearchCV(estimator=clf, param_grid=hyperparam, cv=tscv, n_jobs=-1, verbose=1)\n"
   ]
  },
  {
   "cell_type": "code",
   "execution_count": 81,
   "metadata": {},
   "outputs": [
    {
     "name": "stdout",
     "output_type": "stream",
     "text": [
      "CPU times: user 0 ns, sys: 0 ns, total: 0 ns\n",
      "Wall time: 10.3 µs\n",
      "Fitting 10 folds for each of 686 candidates, totalling 6860 fits\n"
     ]
    },
    {
     "name": "stderr",
     "output_type": "stream",
     "text": [
      "[Parallel(n_jobs=-1)]: Done  10 tasks      | elapsed:    1.9s\n",
      "[Parallel(n_jobs=-1)]: Done 160 tasks      | elapsed:   37.7s\n",
      "[Parallel(n_jobs=-1)]: Done 410 tasks      | elapsed:  2.7min\n",
      "[Parallel(n_jobs=-1)]: Done 760 tasks      | elapsed:  7.4min\n",
      "[Parallel(n_jobs=-1)]: Done 1210 tasks      | elapsed: 13.5min\n",
      "[Parallel(n_jobs=-1)]: Done 1760 tasks      | elapsed: 20.3min\n",
      "[Parallel(n_jobs=-1)]: Done 3160 tasks      | elapsed: 38.4min\n",
      "[Parallel(n_jobs=-1)]: Done 4010 tasks      | elapsed: 50.1min\n",
      "[Parallel(n_jobs=-1)]: Done 4960 tasks      | elapsed: 62.1min\n",
      "[Parallel(n_jobs=-1)]: Done 6010 tasks      | elapsed: 74.6min\n",
      "[Parallel(n_jobs=-1)]: Done 6860 out of 6860 | elapsed: 86.5min finished\n"
     ]
    },
    {
     "name": "stdout",
     "output_type": "stream",
     "text": [
      "duration =  1:27:18.418037\n"
     ]
    }
   ],
   "source": [
    "# fitting the model\n",
    "%time\n",
    "start=datetime.now()\n",
    "clf.fit(x_train_bow,y_train)\n",
    "pickle.dump(clf,open('rf_tfidf_gbdt.p','wb'))\n",
    "end=datetime.now()\n",
    "print('duration = ',(end-start))"
   ]
  },
  {
   "cell_type": "code",
   "execution_count": 82,
   "metadata": {},
   "outputs": [
    {
     "name": "stdout",
     "output_type": "stream",
     "text": [
      "optimal n_estimators =  181\n",
      "optimal max_depth =  4\n",
      "optimal learning rate =  0.5\n"
     ]
    }
   ],
   "source": [
    "base=clf.best_estimator_.get_params()['n_estimators']\n",
    "lr_rate=clf.best_estimator_.get_params()['learning_rate']\n",
    "max_depth=clf.best_estimator_.get_params()['max_depth']\n",
    "print('optimal n_estimators = ',base)\n",
    "print('optimal max_depth = ',max_depth)\n",
    "print('optimal learning rate = ',lr_rate)"
   ]
  },
  {
   "cell_type": "code",
   "execution_count": 83,
   "metadata": {},
   "outputs": [
    {
     "name": "stdout",
     "output_type": "stream",
     "text": [
      "accuracy= 90.15333333333334\n",
      "**********************************************************************\n",
      "\n",
      "confusion matrix--\n"
     ]
    },
    {
     "data": {
      "image/png": "[encoded data removed]",
      "text/plain": [
       "<matplotlib.figure.Figure at 0x3ffef4190748>"
      ]
     },
     "metadata": {},
     "output_type": "display_data"
    },
    {
     "name": "stdout",
     "output_type": "stream",
     "text": [
      "**********************************************************************\n",
      "\n",
      "TNR= 0.4381858083394294\n",
      "TPR= 0.9749025058882582\n",
      "FPR= 0.5618141916605706\n",
      "FNR= 0.025097494111741767\n",
      "**********************************************************************\n",
      "\n"
     ]
    }
   ],
   "source": [
    "y_pred=clf.predict(x_test_tfidf)\n",
    "accu=accuracy_score(y_pred,y_test)*100\n",
    "print('accuracy=',accu)\n",
    "print('**********************************************************************\\n')\n",
    "    \n",
    "#confusion matrix\n",
    "t=confusion_matrix(y_pred,y_test)\n",
    "print('confusion matrix--')\n",
    "#print(t)\n",
    "#print('**********************************************************************')\n",
    "sns.heatmap(t, annot=True, fmt=\"d\", xticklabels=True, yticklabels=True)\n",
    "plt.xlabel('True label')\n",
    "plt.ylabel('Predicted label')\n",
    "plt.title('confusion matrix')\n",
    "plt.show()\n",
    "print('**********************************************************************\\n')\n",
    "    \n",
    "# finding TPR , TNR, FPR, FNR\n",
    "TNR=t[0][0]/(t[0][0]+t[1][0])\n",
    "TPR=t[1][1]/(t[0][1]+t[1][1])\n",
    "FPR=t[1][0]/(t[0][0]+t[1][0])\n",
    "FNR=t[0][1]/(t[0][1]+t[1][1])\n",
    "print('TNR=',TNR)\n",
    "print('TPR=',TPR)\n",
    "print('FPR=',FPR)\n",
    "print('FNR=',FNR)\n",
    "print('**********************************************************************\\n')\n",
    "    "
   ]
  },
  {
   "cell_type": "markdown",
   "metadata": {},
   "source": [
    "**Feature Importance**"
   ]
  },
  {
   "cell_type": "code",
   "execution_count": 87,
   "metadata": {},
   "outputs": [
    {
     "name": "stdout",
     "output_type": "stream",
     "text": [
      "Top features --\n",
      "*******************************************************\n",
      "much \t\t:\t\t 0.00571\n",
      "better \t\t:\t\t 0.00571\n",
      "bought \t\t:\t\t 0.00622\n",
      "bit \t\t:\t\t 0.00622\n",
      "doesnt \t\t:\t\t 0.00622\n",
      "look \t\t:\t\t 0.00726\n",
      "make \t\t:\t\t 0.00778\n",
      "time \t\t:\t\t 0.00778\n",
      "dont \t\t:\t\t 0.0083\n",
      "order \t\t:\t\t 0.0083\n",
      "littl \t\t:\t\t 0.0083\n",
      "buy \t\t:\t\t 0.00882\n",
      "find \t\t:\t\t 0.00882\n",
      "tri \t\t:\t\t 0.01037\n",
      "great \t\t:\t\t 0.01089\n",
      "flavor \t\t:\t\t 0.01245\n",
      "love \t\t:\t\t 0.01297\n",
      "use \t\t:\t\t 0.01297\n",
      "get \t\t:\t\t 0.014\n",
      "product \t\t:\t\t 0.014\n",
      "would \t\t:\t\t 0.01504\n",
      "one \t\t:\t\t 0.01504\n",
      "good \t\t:\t\t 0.01763\n",
      "tast \t\t:\t\t 0.0249\n",
      "like \t\t:\t\t 0.02853\n"
     ]
    }
   ],
   "source": [
    "clf=xgb.XGBClassifier(n_estimators=181, max_depth=4, learning_rate=0.5)\n",
    "clf.fit(x_train_tfidf,y_train)\n",
    "\n",
    "feature=count_vect.get_feature_names()\n",
    "f_imp=clf.feature_importances_\n",
    "index=np.argsort(f_imp)[-25:]\n",
    "print('Top features --')\n",
    "print('*******************************************************')\n",
    "for i in range(25):\n",
    "    print(feature[index[i]],'\\t\\t:\\t\\t',round(f_imp[index[i]],5))"
   ]
  },
  {
   "cell_type": "markdown",
   "metadata": {},
   "source": [
    "## **4. AVG Word2vec**"
   ]
  },
  {
   "cell_type": "code",
   "execution_count": 106,
   "metadata": {},
   "outputs": [],
   "source": [
    "# taking first 25k points because for 100k points , parallel jobs do not work and takes lots of time for computing hyperparam even only for RF\n",
    "sample_data=sample_data.iloc[:25000]\n",
    "sample_score=sample_data['Score']"
   ]
  },
  {
   "cell_type": "code",
   "execution_count": 107,
   "metadata": {},
   "outputs": [],
   "source": [
    "#filtering sentence\n",
    "import re\n",
    "final_string=[]\n",
    "s=''\n",
    "for sentence in sample_data['Text']:\n",
    "    filtered_sentence=[]\n",
    "    cleaned_sentence=cleanhtml(sentence)\n",
    "    for words in sentence.split():\n",
    "        cleaned_words=cleanpunc(words)\n",
    "        if ( (cleaned_words.isalpha()) & (len(cleaned_words)>2) ):\n",
    "            if(cleaned_words.lower() not in stop):\n",
    "                s=(sno.stem(cleaned_words.lower())).encode('utf8')\n",
    "                filtered_sentence.append(s)\n",
    "            else: \n",
    "                continue\n",
    "        else:\n",
    "            continue\n",
    "    str1=b\" \".join(filtered_sentence)    \n",
    "    final_string.append(str1)\n",
    "        "
   ]
  },
  {
   "cell_type": "code",
   "execution_count": 108,
   "metadata": {},
   "outputs": [],
   "source": [
    "sample_data['Cleaned_text']=final_string  #creating a new column in sample_data"
   ]
  },
  {
   "cell_type": "code",
   "execution_count": 109,
   "metadata": {},
   "outputs": [],
   "source": [
    "#taking the test data seperate from all other\n",
    "\n",
    "X, x_test, y_train, y_test=train_test_split(sample_data['Cleaned_text'], sample_data['Score'], test_size=0.3, shuffle=False) #splitting the data"
   ]
  },
  {
   "cell_type": "code",
   "execution_count": 85,
   "metadata": {},
   "outputs": [],
   "source": [
    "# import modules & set up logging\n",
    "import gensim, logging\n",
    "logging.basicConfig(format='%(asctime)s : %(levelname)s : %(message)s', level=logging.INFO)"
   ]
  },
  {
   "cell_type": "code",
   "execution_count": 86,
   "metadata": {},
   "outputs": [
    {
     "name": "stderr",
     "output_type": "stream",
     "text": [
      "2018-09-20 09:16:55,114 : INFO : loading projection weights from GoogleNews-vectors-negative300.bin.gz\n",
      "2018-09-20 09:19:52,345 : INFO : loaded (3000000, 300) matrix from GoogleNews-vectors-negative300.bin.gz\n"
     ]
    }
   ],
   "source": [
    "#loading the GoogleNews word2vec model(able to read bin.gz file directly, no need to extract)\n",
    "model = gensim.models.KeyedVectors.load_word2vec_format('GoogleNews-vectors-negative300.bin.gz', binary=True)"
   ]
  },
  {
   "cell_type": "code",
   "execution_count": 155,
   "metadata": {},
   "outputs": [],
   "source": [
    "\n",
    "#getting the list of sentences in a 'list'\n",
    "i=0\n",
    "\n",
    "list_of_sentences=[]\n",
    "for sent in X.values:\n",
    "    filtered_sentence=[]    \n",
    "    for w in sent.split():\n",
    "        w=w.decode('utf-8')\n",
    "        #if (w==sent.split()[0]):\n",
    "            #w=w[2:]\n",
    "        filtered_sentence.append(w.lower())       \n",
    "    list_of_sentences.append(filtered_sentence)"
   ]
  },
  {
   "cell_type": "code",
   "execution_count": 156,
   "metadata": {},
   "outputs": [
    {
     "name": "stdout",
     "output_type": "stream",
     "text": [
      "3000000\n"
     ]
    }
   ],
   "source": [
    "words=list(model.wv.vocab)\n",
    "print(len(words))"
   ]
  },
  {
   "cell_type": "code",
   "execution_count": 157,
   "metadata": {},
   "outputs": [],
   "source": [
    "#calculating avg word2vec\n",
    "vectors=[];\n",
    "for sentence in list_of_sentences:\n",
    "    sentence_vector=np.zeros(300)\n",
    "    count_vec=0;\n",
    "    for word in sentence:\n",
    "        try:\n",
    "            vec=model.wv[word]\n",
    "            sentence_vector+=vec\n",
    "            count_vec+=1;\n",
    "        except:\n",
    "            pass\n",
    "    sentence_vector/=count_vec\n",
    "    vectors.append(sentence_vector)"
   ]
  },
  {
   "cell_type": "code",
   "execution_count": 158,
   "metadata": {},
   "outputs": [
    {
     "data": {
      "text/plain": [
       "[1960, 2226, 4436, 4524, 11064, 11967]"
      ]
     },
     "execution_count": 158,
     "metadata": {},
     "output_type": "execute_result"
    }
   ],
   "source": [
    "z=list(np.unique(np.where(np.isnan(vectors))[0]))\n",
    "z"
   ]
  },
  {
   "cell_type": "code",
   "execution_count": 159,
   "metadata": {},
   "outputs": [],
   "source": [
    "vectors=np.delete(vectors, z, axis=0)\n",
    "y_train_word=np.array(y_train)\n",
    "y_train_word=np.delete(y_train_word, z, axis=0)"
   ]
  },
  {
   "cell_type": "code",
   "execution_count": 160,
   "metadata": {},
   "outputs": [],
   "source": [
    "#calculating avg word2vec\n",
    "x_test_word=[];\n",
    "for sentence in x_test.values:\n",
    "    sentence_vector=np.zeros(300)\n",
    "    count_vec=0;\n",
    "    for word in sentence.split():\n",
    "        #if(word==sentence.split()[0]):\n",
    "            #word=word[2:]\n",
    "        word=word.decode('utf-8')\n",
    "        try:\n",
    "            vec=model.wv[word]\n",
    "            sentence_vector+=vec\n",
    "            count_vec+=1;\n",
    "        except:\n",
    "            pass\n",
    "    sentence_vector/=count_vec\n",
    "    x_test_word.append(sentence_vector)"
   ]
  },
  {
   "cell_type": "code",
   "execution_count": 161,
   "metadata": {},
   "outputs": [
    {
     "data": {
      "text/plain": [
       "[]"
      ]
     },
     "execution_count": 161,
     "metadata": {},
     "output_type": "execute_result"
    }
   ],
   "source": [
    "#checking row containing nan value\n",
    "z=list(np.unique(np.where(np.isnan(x_test_word))[0]))\n",
    "z"
   ]
  },
  {
   "cell_type": "code",
   "execution_count": 162,
   "metadata": {},
   "outputs": [],
   "source": [
    "#deleting row containing nan value\n",
    "x_test_word=np.delete(x_test_word, z, axis=0)\n",
    "y_test_word=np.array(y_test)\n",
    "y_test_word=np.delete(y_test_word, z, axis=0)"
   ]
  },
  {
   "cell_type": "markdown",
   "metadata": {},
   "source": [
    "### **4.1 Apply GridSearchCV on RandomForestClassifier for Avg Word2vec**"
   ]
  },
  {
   "cell_type": "code",
   "execution_count": 121,
   "metadata": {},
   "outputs": [],
   "source": [
    "\n",
    "base_lerner=list(range(1,200,10))\n",
    "tscv=TimeSeriesSplit(n_splits=10)\n",
    "hyperparam={'n_estimators':base_lerner}\n",
    "clf=RandomForestClassifier()\n",
    "clf=GridSearchCV(estimator=clf, param_grid=hyperparam, cv=tscv, n_jobs=-1, verbose=1)\n"
   ]
  },
  {
   "cell_type": "code",
   "execution_count": 122,
   "metadata": {},
   "outputs": [
    {
     "name": "stdout",
     "output_type": "stream",
     "text": [
      "CPU times: user 0 ns, sys: 0 ns, total: 0 ns\n",
      "Wall time: 12.9 µs\n",
      "Fitting 10 folds for each of 20 candidates, totalling 200 fits\n"
     ]
    },
    {
     "name": "stderr",
     "output_type": "stream",
     "text": [
      "[Parallel(n_jobs=-1)]: Done  10 tasks      | elapsed:    1.8s\n",
      "[Parallel(n_jobs=-1)]: Done 160 tasks      | elapsed:  2.5min\n",
      "[Parallel(n_jobs=-1)]: Done 200 out of 200 | elapsed:  4.4min finished\n"
     ]
    },
    {
     "name": "stdout",
     "output_type": "stream",
     "text": [
      "duration =  0:04:59.558824\n"
     ]
    }
   ],
   "source": [
    "# fitting the model\n",
    "%time\n",
    "start=datetime.now()\n",
    "clf.fit(vectors,y_train_word)\n",
    "pickle.dump(clf,open('rf_avg_rf.p','wb'))\n",
    "end=datetime.now()\n",
    "print('duration = ',(end-start))"
   ]
  },
  {
   "cell_type": "code",
   "execution_count": 123,
   "metadata": {},
   "outputs": [
    {
     "name": "stdout",
     "output_type": "stream",
     "text": [
      "optimal n_estimators =  71\n",
      "**********************************************************************\n",
      "\n"
     ]
    },
    {
     "data": {
      "image/png": "[encoded data removed]",
      "text/plain": [
       "<matplotlib.figure.Figure at 0x3ffdc798a9e8>"
      ]
     },
     "metadata": {},
     "output_type": "display_data"
    },
    {
     "name": "stdout",
     "output_type": "stream",
     "text": [
      "**********************************************************************\n",
      "\n",
      "accuracy= 88.53333333333333\n",
      "**********************************************************************\n",
      "\n",
      "confusion matrix--\n"
     ]
    },
    {
     "data": {
      "image/png": "[encoded data removed]",
      "text/plain": [
       "<matplotlib.figure.Figure at 0x3ffdc798aa58>"
      ]
     },
     "metadata": {},
     "output_type": "display_data"
    },
    {
     "name": "stdout",
     "output_type": "stream",
     "text": [
      "**********************************************************************\n",
      "\n",
      "TNR= 0.004651162790697674\n",
      "TPR= 0.9993975903614458\n",
      "FPR= 0.9953488372093023\n",
      "FNR= 0.0006024096385542169\n",
      "**********************************************************************\n",
      "\n",
      "             precision    recall  f1-score   support\n",
      "\n",
      "          0       0.00      0.50      0.01         8\n",
      "          1       1.00      0.89      0.94      7492\n",
      "\n",
      "avg / total       1.00      0.89      0.94      7500\n",
      "\n",
      "**********************************************************************\n",
      "\n"
     ]
    }
   ],
   "source": [
    "accu, TNR, TPR, FPR, FNR=all_plot(clf=clf, x_train=vectors, x_test=x_test_word, y_train=y_train_word, y_test=y_test_word)"
   ]
  },
  {
   "cell_type": "markdown",
   "metadata": {},
   "source": [
    "**Feature Importance**"
   ]
  },
  {
   "cell_type": "code",
   "execution_count": 125,
   "metadata": {},
   "outputs": [
    {
     "name": "stdout",
     "output_type": "stream",
     "text": [
      "Top 25 features IG --\n",
      "*******************************************************\n",
      "0.00449\n",
      "0.00466\n",
      "0.00469\n",
      "0.00479\n",
      "0.00483\n",
      "0.00491\n",
      "0.00501\n",
      "0.00514\n",
      "0.00531\n",
      "0.00534\n",
      "0.00538\n",
      "0.00555\n",
      "0.00558\n",
      "0.00567\n",
      "0.00568\n",
      "0.00574\n",
      "0.00693\n",
      "0.00701\n",
      "0.00707\n",
      "0.00711\n",
      "0.00719\n",
      "0.00863\n",
      "0.00888\n",
      "0.00904\n",
      "0.01006\n"
     ]
    }
   ],
   "source": [
    "# feature importance\n",
    "clf=RandomForestClassifier(n_estimators=71)\n",
    "clf.fit(vectors,y_train_word)\n",
    "\n",
    "f_imp=clf.feature_importances_\n",
    "index=np.argsort(f_imp)[-25:]\n",
    "print('Top 25 features IG --')\n",
    "print('*******************************************************')\n",
    "for i in range(25):\n",
    "    print(round(f_imp[index[i]],5))"
   ]
  },
  {
   "cell_type": "markdown",
   "metadata": {},
   "source": [
    "### **4.2 Apply GridSearchCV on XGBClassifier for Avg Word2vec**"
   ]
  },
  {
   "cell_type": "code",
   "execution_count": 128,
   "metadata": {},
   "outputs": [],
   "source": [
    "\n",
    "base_lerner=list(range(1,200,15))\n",
    "max_depth=[1, 2, 3, 4, 5, 6, 7]\n",
    "lr_rate=[0.0001, 0.005, 0.01, 0.05, 0.1, 0.5, 1]\n",
    "tscv=TimeSeriesSplit(n_splits=10)\n",
    "hyperparam={'n_estimators':base_lerner, 'max_depth':max_depth, 'learning_rate':lr_rate}\n",
    "clf=xgb.XGBClassifier()\n",
    "clf=GridSearchCV(estimator=clf, param_grid=hyperparam, cv=tscv, n_jobs=-1, verbose=1)\n"
   ]
  },
  {
   "cell_type": "code",
   "execution_count": 129,
   "metadata": {},
   "outputs": [
    {
     "name": "stdout",
     "output_type": "stream",
     "text": [
      "CPU times: user 0 ns, sys: 0 ns, total: 0 ns\n",
      "Wall time: 11.4 µs\n",
      "Fitting 10 folds for each of 686 candidates, totalling 6860 fits\n"
     ]
    },
    {
     "name": "stderr",
     "output_type": "stream",
     "text": [
      "[Parallel(n_jobs=-1)]: Done  10 tasks      | elapsed:    1.9s\n",
      "[Parallel(n_jobs=-1)]: Done 160 tasks      | elapsed:  1.0min\n",
      "[Parallel(n_jobs=-1)]: Done 410 tasks      | elapsed:  4.9min\n",
      "[Parallel(n_jobs=-1)]: Done 760 tasks      | elapsed: 14.2min\n",
      "[Parallel(n_jobs=-1)]: Done 1210 tasks      | elapsed: 25.9min\n",
      "[Parallel(n_jobs=-1)]: Done 1760 tasks      | elapsed: 39.1min\n",
      "[Parallel(n_jobs=-1)]: Done 2410 tasks      | elapsed: 53.8min\n",
      "[Parallel(n_jobs=-1)]: Done 3160 tasks      | elapsed: 74.2min\n",
      "[Parallel(n_jobs=-1)]: Done 4010 tasks      | elapsed: 98.2min\n",
      "[Parallel(n_jobs=-1)]: Done 4960 tasks      | elapsed: 123.4min\n",
      "[Parallel(n_jobs=-1)]: Done 6010 tasks      | elapsed: 147.6min\n",
      "[Parallel(n_jobs=-1)]: Done 6860 out of 6860 | elapsed: 168.4min finished\n"
     ]
    },
    {
     "name": "stdout",
     "output_type": "stream",
     "text": [
      "duration =  2:51:00.266846\n"
     ]
    }
   ],
   "source": [
    "# fitting the model\n",
    "%time\n",
    "start=datetime.now()\n",
    "clf.fit(vectors,y_train_word)\n",
    "pickle.dump(clf,open('rf_avg_xgboost.p','wb'))\n",
    "end=datetime.now()\n",
    "print('duration = ',(end-start))"
   ]
  },
  {
   "cell_type": "code",
   "execution_count": 130,
   "metadata": {},
   "outputs": [
    {
     "name": "stdout",
     "output_type": "stream",
     "text": [
      "optimal n_estimators =  181\n",
      "optimal max_depth =  7\n",
      "optimal learning rate =  0.5\n"
     ]
    }
   ],
   "source": [
    "base=clf.best_estimator_.get_params()['n_estimators']\n",
    "lr_rate=clf.best_estimator_.get_params()['learning_rate']\n",
    "max_depth=clf.best_estimator_.get_params()['max_depth']\n",
    "print('optimal n_estimators = ',base)\n",
    "print('optimal max_depth = ',max_depth)\n",
    "print('optimal learning rate = ',lr_rate)"
   ]
  },
  {
   "cell_type": "code",
   "execution_count": 132,
   "metadata": {},
   "outputs": [
    {
     "name": "stdout",
     "output_type": "stream",
     "text": [
      "accuracy= 89.46666666666667\n",
      "**********************************************************************\n",
      "\n",
      "confusion matrix--\n"
     ]
    },
    {
     "data": {
      "image/png": "[encoded data removed]",
      "text/plain": [
       "<matplotlib.figure.Figure at 0x3ffdc72f3eb8>"
      ]
     },
     "metadata": {},
     "output_type": "display_data"
    },
    {
     "name": "stdout",
     "output_type": "stream",
     "text": [
      "**********************************************************************\n",
      "\n",
      "TNR= 0.19651162790697674\n",
      "TPR= 0.9850903614457831\n",
      "FPR= 0.8034883720930233\n",
      "FNR= 0.014909638554216868\n",
      "**********************************************************************\n",
      "\n"
     ]
    }
   ],
   "source": [
    "y_pred=clf.predict(x_test_word)\n",
    "accu=accuracy_score(y_pred,y_test_word)*100\n",
    "print('accuracy=',accu)\n",
    "print('**********************************************************************\\n')\n",
    "    \n",
    "#confusion matrix\n",
    "t=confusion_matrix(y_pred,y_test_word)\n",
    "print('confusion matrix--')\n",
    "#print(t)\n",
    "#print('**********************************************************************')\n",
    "sns.heatmap(t, annot=True, fmt=\"d\", xticklabels=True, yticklabels=True)\n",
    "plt.xlabel('True label')\n",
    "plt.ylabel('Predicted label')\n",
    "plt.title('confusion matrix')\n",
    "plt.show()\n",
    "print('**********************************************************************\\n')\n",
    "    \n",
    "# finding TPR , TNR, FPR, FNR\n",
    "TNR=t[0][0]/(t[0][0]+t[1][0])\n",
    "TPR=t[1][1]/(t[0][1]+t[1][1])\n",
    "FPR=t[1][0]/(t[0][0]+t[1][0])\n",
    "FNR=t[0][1]/(t[0][1]+t[1][1])\n",
    "print('TNR=',TNR)\n",
    "print('TPR=',TPR)\n",
    "print('FPR=',FPR)\n",
    "print('FNR=',FNR)\n",
    "print('**********************************************************************\\n')\n",
    "    "
   ]
  },
  {
   "cell_type": "markdown",
   "metadata": {},
   "source": [
    "**Feature Importance**"
   ]
  },
  {
   "cell_type": "code",
   "execution_count": 163,
   "metadata": {},
   "outputs": [
    {
     "name": "stdout",
     "output_type": "stream",
     "text": [
      "Top 25 features IG --\n",
      "*******************************************************\n",
      "0.00489\n",
      "0.00504\n",
      "0.00504\n",
      "0.00504\n",
      "0.00504\n",
      "0.00504\n",
      "0.00504\n",
      "0.00519\n",
      "0.00519\n",
      "0.00519\n",
      "0.00548\n",
      "0.00548\n",
      "0.00548\n",
      "0.00548\n",
      "0.00563\n",
      "0.00578\n",
      "0.00578\n",
      "0.00578\n",
      "0.00593\n",
      "0.00593\n",
      "0.00607\n",
      "0.00652\n",
      "0.00696\n",
      "0.00785\n",
      "0.00933\n"
     ]
    }
   ],
   "source": [
    "# feature importance\n",
    "clf=xgb.XGBClassifier(n_estimators=181, max_depth=7, learning_rate=0.5)\n",
    "clf.fit(vectors,y_train_word)\n",
    "\n",
    "f_imp=clf.feature_importances_\n",
    "index=np.argsort(f_imp)[-25:]\n",
    "print('Top 25 features IG --')\n",
    "print('*******************************************************')\n",
    "for i in range(25):\n",
    "    print(round(f_imp[index[i]],5))"
   ]
  },
  {
   "cell_type": "code",
   "execution_count": null,
   "metadata": {},
   "outputs": [],
   "source": []
  },
  {
   "cell_type": "code",
   "execution_count": null,
   "metadata": {},
   "outputs": [],
   "source": []
  },
  {
   "cell_type": "markdown",
   "metadata": {},
   "source": [
    "## **5. TFIDF Word2vec**"
   ]
  },
  {
   "cell_type": "code",
   "execution_count": 133,
   "metadata": {},
   "outputs": [],
   "source": [
    "from sklearn.feature_extraction.text import TfidfVectorizer\n",
    "tfidf=TfidfVectorizer(ngram_range=(1,1))\n",
    "x_train_tfidf=tfidf.fit_transform(X.values)\n",
    "x_test_tfidf=tfidf.transform(x_test.values)"
   ]
  },
  {
   "cell_type": "code",
   "execution_count": 134,
   "metadata": {},
   "outputs": [
    {
     "data": {
      "text/plain": [
       "15151"
      ]
     },
     "execution_count": 134,
     "metadata": {},
     "output_type": "execute_result"
    }
   ],
   "source": [
    "features=tfidf.get_feature_names()\n",
    "len(features)\n",
    "#features"
   ]
  },
  {
   "cell_type": "code",
   "execution_count": 135,
   "metadata": {},
   "outputs": [],
   "source": [
    "#calculating tf-idf w2vec\n",
    "tfidf_vectors = []; \n",
    "row=0;\n",
    "for sentence in list_of_sentences: \n",
    "    sentence_vec = np.zeros(300) \n",
    "    weight_sum =0; \n",
    "    for word in sentence: \n",
    "        try:\n",
    "            vec = model.wv[word]\n",
    "            tf_idf = x_train_tfidf[row, features.index(word)]\n",
    "            sentence_vec += (vec * tf_idf)\n",
    "            weight_sum += tf_idf\n",
    "        except:\n",
    "            pass\n",
    "    sentence_vec /= weight_sum\n",
    "    tfidf_vectors.append(sentence_vec)\n",
    "    row += 1"
   ]
  },
  {
   "cell_type": "code",
   "execution_count": 136,
   "metadata": {},
   "outputs": [
    {
     "data": {
      "text/plain": [
       "[1960, 2226, 4436, 4524, 11064, 11967]"
      ]
     },
     "execution_count": 136,
     "metadata": {},
     "output_type": "execute_result"
    }
   ],
   "source": [
    "z=list(np.unique(np.where(np.isnan(tfidf_vectors))[0]))\n",
    "z"
   ]
  },
  {
   "cell_type": "code",
   "execution_count": 137,
   "metadata": {},
   "outputs": [],
   "source": [
    "\n",
    "y_train_word=np.array(y_train)\n",
    "y_train_word=np.delete(y_train_word, z, axis=0)\n",
    "tfidf_vectors=np.delete(tfidf_vectors, z, axis=0)\n",
    "\n"
   ]
  },
  {
   "cell_type": "code",
   "execution_count": 140,
   "metadata": {},
   "outputs": [],
   "source": [
    "#calculating tf-idf w2vec\n",
    "x_test_tf_word = []; \n",
    "row=0;\n",
    "for sentence in x_test.values: \n",
    "    sentence_vec = np.zeros(300) \n",
    "    weight_sum =0; \n",
    "    for word in sentence.split():\n",
    "        #if(word==sentence.split()[0]):\n",
    "           # word=word[2:]\n",
    "        word=word.decode('utf-8')\n",
    "        try:\n",
    "            vec = model.wv[word]\n",
    "            tf_idf = x_test_tfidf[row, features.index(word)]\n",
    "            sentence_vec += (vec * tf_idf)\n",
    "            weight_sum += tf_idf\n",
    "        except:\n",
    "            pass\n",
    "    sentence_vec /= weight_sum\n",
    "    x_test_tf_word.append(sentence_vec)\n",
    "    row += 1"
   ]
  },
  {
   "cell_type": "code",
   "execution_count": 141,
   "metadata": {},
   "outputs": [
    {
     "data": {
      "text/plain": [
       "[]"
      ]
     },
     "execution_count": 141,
     "metadata": {},
     "output_type": "execute_result"
    }
   ],
   "source": [
    "z=list(np.unique(np.where(np.isnan(x_test_tf_word))[0]))\n",
    "z"
   ]
  },
  {
   "cell_type": "code",
   "execution_count": 142,
   "metadata": {},
   "outputs": [
    {
     "data": {
      "text/plain": [
       "7500"
      ]
     },
     "execution_count": 142,
     "metadata": {},
     "output_type": "execute_result"
    }
   ],
   "source": [
    "x_test_tf_word=np.delete(x_test_tf_word, z , axis=0)\n",
    "len(x_test_tf_word)"
   ]
  },
  {
   "cell_type": "code",
   "execution_count": 143,
   "metadata": {},
   "outputs": [
    {
     "data": {
      "text/plain": [
       "7500"
      ]
     },
     "execution_count": 143,
     "metadata": {},
     "output_type": "execute_result"
    }
   ],
   "source": [
    "y_test_word=np.array(y_test)\n",
    "y_test_word=np.delete(y_test_word, z, axis=0)\n",
    "len(x_test_word)"
   ]
  },
  {
   "cell_type": "markdown",
   "metadata": {},
   "source": [
    "### **5.1 Apply GridSearchCV on RandomForestClassifier for Tfidf Word2vec**"
   ]
  },
  {
   "cell_type": "code",
   "execution_count": 144,
   "metadata": {},
   "outputs": [],
   "source": [
    "\n",
    "base_lerner=list(range(1,200,10))\n",
    "tscv=TimeSeriesSplit(n_splits=10)\n",
    "hyperparam={'n_estimators':base_lerner}\n",
    "clf=RandomForestClassifier()\n",
    "clf=GridSearchCV(estimator=clf, param_grid=hyperparam, cv=tscv, n_jobs=-1, verbose=1)\n"
   ]
  },
  {
   "cell_type": "code",
   "execution_count": 145,
   "metadata": {},
   "outputs": [
    {
     "name": "stdout",
     "output_type": "stream",
     "text": [
      "CPU times: user 0 ns, sys: 0 ns, total: 0 ns\n",
      "Wall time: 26.5 µs\n",
      "Fitting 10 folds for each of 20 candidates, totalling 200 fits\n"
     ]
    },
    {
     "name": "stderr",
     "output_type": "stream",
     "text": [
      "[Parallel(n_jobs=-1)]: Done  10 tasks      | elapsed:    1.9s\n",
      "[Parallel(n_jobs=-1)]: Done 160 tasks      | elapsed:  2.7min\n",
      "[Parallel(n_jobs=-1)]: Done 200 out of 200 | elapsed:  4.8min finished\n"
     ]
    },
    {
     "name": "stdout",
     "output_type": "stream",
     "text": [
      "duration =  0:05:47.533767\n"
     ]
    }
   ],
   "source": [
    "# fitting the model\n",
    "%time\n",
    "start=datetime.now()\n",
    "clf.fit(tfidf_vectors,y_train_word)\n",
    "pickle.dump(clf,open('rf_tfavg_xgboost.p','wb'))\n",
    "end=datetime.now()\n",
    "print('duration = ',(end-start))"
   ]
  },
  {
   "cell_type": "code",
   "execution_count": 146,
   "metadata": {},
   "outputs": [
    {
     "name": "stdout",
     "output_type": "stream",
     "text": [
      "optimal n_estimators =  111\n",
      "**********************************************************************\n",
      "\n"
     ]
    },
    {
     "data": {
      "image/png": "[encoded data removed]",
      "text/plain": [
       "<matplotlib.figure.Figure at 0x3ffefbdbbe48>"
      ]
     },
     "metadata": {},
     "output_type": "display_data"
    },
    {
     "name": "stdout",
     "output_type": "stream",
     "text": [
      "**********************************************************************\n",
      "\n",
      "accuracy= 88.53333333333333\n",
      "**********************************************************************\n",
      "\n",
      "confusion matrix--\n"
     ]
    },
    {
     "data": {
      "image/png": "[encoded data removed]",
      "text/plain": [
       "<matplotlib.figure.Figure at 0x3ffdc793b908>"
      ]
     },
     "metadata": {},
     "output_type": "display_data"
    },
    {
     "name": "stdout",
     "output_type": "stream",
     "text": [
      "**********************************************************************\n",
      "\n",
      "TNR= 0.0\n",
      "TPR= 1.0\n",
      "FPR= 1.0\n",
      "FNR= 0.0\n",
      "**********************************************************************\n",
      "\n",
      "             precision    recall  f1-score   support\n",
      "\n",
      "          0       0.00      0.00      0.00         0\n",
      "          1       1.00      0.89      0.94      7500\n",
      "\n",
      "avg / total       1.00      0.89      0.94      7500\n",
      "\n",
      "**********************************************************************\n",
      "\n"
     ]
    }
   ],
   "source": [
    "accu, TNR, TPR, FPR, FNR=all_plot(clf=clf, x_train=tfidf_vectors, x_test=x_test_word, y_train=y_train_word, y_test=y_test_word)"
   ]
  },
  {
   "cell_type": "markdown",
   "metadata": {},
   "source": [
    "**Feature Importance**"
   ]
  },
  {
   "cell_type": "code",
   "execution_count": 153,
   "metadata": {},
   "outputs": [
    {
     "name": "stdout",
     "output_type": "stream",
     "text": [
      "Top 25 features IG --\n",
      "*******************************************************\n",
      "0.00457\n",
      "0.00458\n",
      "0.00459\n",
      "0.00462\n",
      "0.00463\n",
      "0.00472\n",
      "0.00474\n",
      "0.00479\n",
      "0.0049\n",
      "0.00493\n",
      "0.00509\n",
      "0.00509\n",
      "0.00515\n",
      "0.00516\n",
      "0.00517\n",
      "0.00547\n",
      "0.00551\n",
      "0.00551\n",
      "0.0056\n",
      "0.00564\n",
      "0.0058\n",
      "0.00674\n",
      "0.00711\n",
      "0.00712\n",
      "0.00795\n"
     ]
    }
   ],
   "source": [
    "# feature importance\n",
    "clf=RandomForestClassifier(n_estimators=111)\n",
    "clf.fit(tfidf_vectors,y_train_word)\n",
    "\n",
    "f_imp=clf.feature_importances_\n",
    "index=np.argsort(f_imp)[-25:]\n",
    "print('Top 25 features IG --')\n",
    "print('*******************************************************')\n",
    "for i in range(25):\n",
    "    print(round(f_imp[index[i]],5))"
   ]
  },
  {
   "cell_type": "markdown",
   "metadata": {},
   "source": [
    "### **5.2 Apply GridSearchCV on XGBClassifier for Tfidf Word2vec**"
   ]
  },
  {
   "cell_type": "code",
   "execution_count": 147,
   "metadata": {},
   "outputs": [],
   "source": [
    "\n",
    "base_lerner=list(range(1,200,15))\n",
    "max_depth=[1, 2, 3, 4, 5, 6, 7]\n",
    "lr_rate=[0.0001, 0.005, 0.01, 0.05, 0.1, 0.5, 1]\n",
    "tscv=TimeSeriesSplit(n_splits=10)\n",
    "hyperparam={'n_estimators':base_lerner, 'max_depth':max_depth, 'learning_rate':lr_rate}\n",
    "clf=xgb.XGBClassifier()\n",
    "clf=GridSearchCV(estimator=clf, param_grid=hyperparam, cv=tscv, n_jobs=-1, verbose=1)\n"
   ]
  },
  {
   "cell_type": "code",
   "execution_count": 148,
   "metadata": {},
   "outputs": [
    {
     "name": "stdout",
     "output_type": "stream",
     "text": [
      "CPU times: user 0 ns, sys: 0 ns, total: 0 ns\n",
      "Wall time: 7.87 µs\n",
      "Fitting 10 folds for each of 686 candidates, totalling 6860 fits\n"
     ]
    },
    {
     "name": "stderr",
     "output_type": "stream",
     "text": [
      "[Parallel(n_jobs=-1)]: Done  10 tasks      | elapsed:    1.9s\n",
      "[Parallel(n_jobs=-1)]: Done 160 tasks      | elapsed:  1.0min\n",
      "[Parallel(n_jobs=-1)]: Done 410 tasks      | elapsed:  5.0min\n",
      "[Parallel(n_jobs=-1)]: Done 760 tasks      | elapsed: 14.2min\n",
      "[Parallel(n_jobs=-1)]: Done 1210 tasks      | elapsed: 26.0min\n",
      "[Parallel(n_jobs=-1)]: Done 1760 tasks      | elapsed: 39.3min\n",
      "[Parallel(n_jobs=-1)]: Done 2410 tasks      | elapsed: 54.0min\n",
      "[Parallel(n_jobs=-1)]: Done 3160 tasks      | elapsed: 74.5min\n",
      "[Parallel(n_jobs=-1)]: Done 4010 tasks      | elapsed: 98.6min\n",
      "[Parallel(n_jobs=-1)]: Done 4960 tasks      | elapsed: 124.0min\n",
      "[Parallel(n_jobs=-1)]: Done 6010 tasks      | elapsed: 148.7min\n",
      "[Parallel(n_jobs=-1)]: Done 6860 out of 6860 | elapsed: 170.1min finished\n"
     ]
    },
    {
     "name": "stdout",
     "output_type": "stream",
     "text": [
      "duration =  2:52:36.990539\n"
     ]
    }
   ],
   "source": [
    "# fitting the model\n",
    "%time\n",
    "start=datetime.now()\n",
    "clf.fit(tfidf_vectors,y_train_word)\n",
    "pickle.dump(clf,open('rf_tfavg_xgboost_real.p','wb'))\n",
    "end=datetime.now()\n",
    "print('duration = ',(end-start))"
   ]
  },
  {
   "cell_type": "code",
   "execution_count": 149,
   "metadata": {},
   "outputs": [
    {
     "name": "stdout",
     "output_type": "stream",
     "text": [
      "optimal n_estimators =  196\n",
      "optimal max_depth =  5\n",
      "optimal learning rate =  0.1\n"
     ]
    }
   ],
   "source": [
    "base=clf.best_estimator_.get_params()['n_estimators']\n",
    "lr_rate=clf.best_estimator_.get_params()['learning_rate']\n",
    "max_depth=clf.best_estimator_.get_params()['max_depth']\n",
    "print('optimal n_estimators = ',base)\n",
    "print('optimal max_depth = ',max_depth)\n",
    "print('optimal learning rate = ',lr_rate)"
   ]
  },
  {
   "cell_type": "code",
   "execution_count": 150,
   "metadata": {},
   "outputs": [
    {
     "name": "stdout",
     "output_type": "stream",
     "text": [
      "accuracy= 89.25333333333333\n",
      "**********************************************************************\n",
      "\n",
      "confusion matrix--\n"
     ]
    },
    {
     "data": {
      "image/png": "[encoded data removed]",
      "text/plain": [
       "<matplotlib.figure.Figure at 0x3ffee2dcb048>"
      ]
     },
     "metadata": {},
     "output_type": "display_data"
    },
    {
     "name": "stdout",
     "output_type": "stream",
     "text": [
      "**********************************************************************\n",
      "\n",
      "TNR= 0.10348837209302325\n",
      "TPR= 0.9947289156626506\n",
      "FPR= 0.8965116279069767\n",
      "FNR= 0.005271084337349397\n",
      "**********************************************************************\n",
      "\n"
     ]
    }
   ],
   "source": [
    "y_pred=clf.predict(x_test_word)\n",
    "accu=accuracy_score(y_pred,y_test_word)*100\n",
    "print('accuracy=',accu)\n",
    "print('**********************************************************************\\n')\n",
    "    \n",
    "#confusion matrix\n",
    "t=confusion_matrix(y_pred,y_test_word)\n",
    "print('confusion matrix--')\n",
    "#print(t)\n",
    "#print('**********************************************************************')\n",
    "sns.heatmap(t, annot=True, fmt=\"d\", xticklabels=True, yticklabels=True)\n",
    "plt.xlabel('True label')\n",
    "plt.ylabel('Predicted label')\n",
    "plt.title('confusion matrix')\n",
    "plt.show()\n",
    "print('**********************************************************************\\n')\n",
    "    \n",
    "# finding TPR , TNR, FPR, FNR\n",
    "TNR=t[0][0]/(t[0][0]+t[1][0])\n",
    "TPR=t[1][1]/(t[0][1]+t[1][1])\n",
    "FPR=t[1][0]/(t[0][0]+t[1][0])\n",
    "FNR=t[0][1]/(t[0][1]+t[1][1])\n",
    "print('TNR=',TNR)\n",
    "print('TPR=',TPR)\n",
    "print('FPR=',FPR)\n",
    "print('FNR=',FNR)\n",
    "print('**********************************************************************\\n')\n",
    "    "
   ]
  },
  {
   "cell_type": "markdown",
   "metadata": {},
   "source": [
    "**Feature Importance**"
   ]
  },
  {
   "cell_type": "code",
   "execution_count": 154,
   "metadata": {},
   "outputs": [
    {
     "name": "stdout",
     "output_type": "stream",
     "text": [
      "Top 25 features IG --\n",
      "*******************************************************\n",
      "0.00619\n",
      "0.00637\n",
      "0.00637\n",
      "0.00655\n",
      "0.00655\n",
      "0.00673\n",
      "0.00673\n",
      "0.00673\n",
      "0.00673\n",
      "0.0069\n",
      "0.00708\n",
      "0.00708\n",
      "0.00726\n",
      "0.00726\n",
      "0.00743\n",
      "0.00761\n",
      "0.00761\n",
      "0.00761\n",
      "0.00779\n",
      "0.00796\n",
      "0.00832\n",
      "0.00867\n",
      "0.01009\n",
      "0.01062\n",
      "0.01239\n"
     ]
    }
   ],
   "source": [
    "# feature importance\n",
    "clf=xgb.XGBClassifier(n_estimators=196, learning_rate=0.1, max_depth=5)\n",
    "clf.fit(tfidf_vectors,y_train_word)\n",
    "\n",
    "f_imp=clf.feature_importances_\n",
    "index=np.argsort(f_imp)[-25:]\n",
    "print('Top 25 features IG --')\n",
    "print('*******************************************************')\n",
    "for i in range(25):\n",
    "    print(round(f_imp[index[i]],5))"
   ]
  },
  {
   "cell_type": "markdown",
   "metadata": {},
   "source": [
    "## **6. Performance Table**"
   ]
  },
  {
   "cell_type": "markdown",
   "metadata": {},
   "source": [
    "| sno | featurization | model algo | cv algo | best n_estimators | accuracy | TNR | TPR | \n",
    "|-----|----------------|------------------------|--------------|-------------------|----------|--------|--------|\n",
    "| 1 | BoW | RandomForestClassifier | GridSearchCV | 11 | 87.4033 | 0.1048 | 0.9958 | \n",
    "| 2 | TFIDF | RandomForestClassifier | GridSearchCV | 11 | 87.61 | 0.1255 | 0.9949 | \n",
    "| 3 | Avg word2vec | RandomForestClassifier | GridSearchCV | 71 | 88.5333 | 0.0046 | 0.9993 | \n",
    "| 4 | Tfidf word2vec | RandomForestClassifier | GridSearchCV | 111 | 88.5333 | 0.0 | 1.0 | "
   ]
  },
  {
   "cell_type": "markdown",
   "metadata": {},
   "source": [
    "**************************************************************************************************************"
   ]
  },
  {
   "cell_type": "markdown",
   "metadata": {},
   "source": [
    "| sno | featurization | model algo | cv algo | best n_estimators | best max_depth | best learning rate | accuracy | TNR | TPR |\n",
    "|-----|----------------|---------------|--------------|-------------------|----------------|--------------------|----------|--------|--------|\n",
    "| 1 | BoW | XGBClassifier | GridSearchCV | 181 | 4 | 0.5 | 90.4066 | 0.4213 | 0.9805 |\n",
    "| 2 | TFIDF | XGBClassifier | GridSearchCV | 181 | 4 | 0.5 | 90.1533 | 0.4381 | 0.9749 |\n",
    "| 3 | Avg word2vec | XGBClassifier | GridSearchCV | 181 | 7 | 0.5 | 89.4666 | 0.1965 | 0.9850 |\n",
    "| 4 | Tfidf word2vec | XGBClassifier | GridSearchCV | 196 | 5 | 0.1 | 89.2533 | 0.1034 | 0.9947 |"
   ]
  },
  {
   "cell_type": "markdown",
   "metadata": {},
   "source": [
    "## **Conclusion--**\n",
    "1. We have used RandomForestClassifier and XGBClassifier on amazon food review dataset.\n",
    "2. We have used GridSearchCV for finding the best hyperparameter.\n",
    "3. In the performance table, we can see that RandomForestClassifier does not work well as TNR for all the vectorizer used is very less.\n",
    "4. XGBClassifier for BoW and Tfidf gives good accuracy as well as good TNR.\n",
    "5. Here XGBClassifier works better than RandomForestClassfier in the case of amazon dataset."
   ]
  },
  {
   "cell_type": "code",
   "execution_count": null,
   "metadata": {},
   "outputs": [],
   "source": []
  }
 ],
 "metadata": {
  "kernelspec": {
   "display_name": "Python 3",
   "language": "python",
   "name": "python3"
  },
  "language_info": {
   "codemirror_mode": {
    "name": "ipython",
    "version": 3
   },
   "file_extension": ".py",
   "mimetype": "text/x-python",
   "name": "python",
   "nbconvert_exporter": "python",
   "pygments_lexer": "ipython3",
   "version": "3.6.5"
  }
 },
 "nbformat": 4,
 "nbformat_minor": 2
}
