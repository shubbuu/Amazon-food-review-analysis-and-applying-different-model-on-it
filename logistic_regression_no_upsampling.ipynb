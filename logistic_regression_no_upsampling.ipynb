{
 "cells": [
  {
   "cell_type": "markdown",
   "metadata": {},
   "source": [
    "# Objective- Logistic Regression on Amazon fine food reviews (Bag of Words)"
   ]
  },
  {
   "cell_type": "markdown",
   "metadata": {},
   "source": [
    "#### Codes for-\n",
    "* GridSearchCV and RandomSearchCV to find optimal lambda\n",
    "* l1 and l2 regularizer\n",
    "* feature importance\n",
    "* by increasing lambda using 'l1' regularizer, the change occurs in the result\n"
   ]
  },
  {
   "cell_type": "markdown",
   "metadata": {},
   "source": [
    "#### About the data-\n",
    "Data Source: https://www.kaggle.com/snap/amazon-fine-food-reviews\n",
    "\n",
    "The Amazon Fine Food Reviews dataset consists of reviews of fine foods from Amazon.\n",
    "\n",
    "Number of reviews: 568,454\n",
    "Number of users: 256,059\n",
    "Number of products: 74,258\n",
    "Timespan: Oct 1999 - Oct 2012\n",
    "Number of Attributes/Columns in data: 10\n",
    "\n",
    "Attribute Information:\n",
    "\n",
    "Id\n",
    "ProductId - unique identifier for the product\n",
    "UserId - unqiue identifier for the user\n",
    "ProfileName\n",
    "HelpfulnessNumerator - number of users who found the review helpful\n",
    "HelpfulnessDenominator - number of users who indicated whether they found the review helpful or not\n",
    "Score - rating between 1 and 5\n",
    "Time - timestamp for the review\n",
    "Summary - brief summary of the review\n",
    "Text - text of the review"
   ]
  },
  {
   "cell_type": "code",
   "execution_count": null,
   "metadata": {},
   "outputs": [],
   "source": []
  },
  {
   "cell_type": "code",
   "execution_count": null,
   "metadata": {},
   "outputs": [],
   "source": []
  },
  {
   "cell_type": "code",
   "execution_count": 347,
   "metadata": {},
   "outputs": [
    {
     "name": "stdout",
     "output_type": "stream",
     "text": [
      "[nltk_data] Downloading package stopwords to /home/jovyan/nltk_data...\n",
      "[nltk_data]   Package stopwords is already up-to-date!\n"
     ]
    },
    {
     "data": {
      "text/plain": [
       "True"
      ]
     },
     "execution_count": 347,
     "metadata": {},
     "output_type": "execute_result"
    }
   ],
   "source": [
    "import nltk\n",
    "nltk.download('stopwords')"
   ]
  },
  {
   "cell_type": "code",
   "execution_count": 348,
   "metadata": {},
   "outputs": [],
   "source": [
    "import sqlite3\n",
    "import pandas as pd\n",
    "import numpy as np\n",
    "import nltk\n",
    "from sklearn.feature_extraction.text import CountVectorizer\n",
    "from sklearn.preprocessing import StandardScaler\n",
    "from sklearn.cross_validation import train_test_split\n",
    "from sklearn.model_selection import GridSearchCV, TimeSeriesSplit\n",
    "from sklearn.linear_model import LogisticRegression\n",
    "from datetime import datetime\n",
    "from sklearn.metrics import confusion_matrix, classification_report, accuracy_score\n",
    "import warnings\n",
    "warnings.filterwarnings('ignore')"
   ]
  },
  {
   "cell_type": "code",
   "execution_count": 349,
   "metadata": {},
   "outputs": [],
   "source": [
    "import matplotlib.pyplot as plt\n",
    "%matplotlib inline"
   ]
  },
  {
   "cell_type": "markdown",
   "metadata": {},
   "source": [
    "## Loading the data"
   ]
  },
  {
   "cell_type": "code",
   "execution_count": 7,
   "metadata": {},
   "outputs": [],
   "source": [
    "sql=sqlite3.connect('database.sqlite')  #loading sql data\n",
    "data=pd.read_sql_query('''\n",
    "SELECT *\n",
    "FROM Reviews\n",
    "WHERE Score!=3''',sql)"
   ]
  },
  {
   "cell_type": "code",
   "execution_count": 8,
   "metadata": {},
   "outputs": [
    {
     "data": {
      "text/plain": [
       "Index(['Id', 'ProductId', 'UserId', 'ProfileName', 'HelpfulnessNumerator',\n",
       "       'HelpfulnessDenominator', 'Score', 'Time', 'Summary', 'Text'],\n",
       "      dtype='object')"
      ]
     },
     "execution_count": 8,
     "metadata": {},
     "output_type": "execute_result"
    }
   ],
   "source": [
    "data.columns  #column names in the dataset"
   ]
  },
  {
   "cell_type": "code",
   "execution_count": 9,
   "metadata": {},
   "outputs": [],
   "source": [
    "#for changing score int value to positive (1) and negative (0) i.e only in two class\n",
    "def posneg(x):\n",
    "    if x<3:\n",
    "        return 0\n",
    "    else:\n",
    "        return 1\n",
    "score=data['Score']\n",
    "data['Score']=score.map(posneg)"
   ]
  },
  {
   "cell_type": "code",
   "execution_count": 350,
   "metadata": {},
   "outputs": [
    {
     "data": {
      "text/html": [
       "<div>\n",
       "<style>\n",
       "    .dataframe thead tr:only-child th {\n",
       "        text-align: right;\n",
       "    }\n",
       "\n",
       "    .dataframe thead th {\n",
       "        text-align: left;\n",
       "    }\n",
       "\n",
       "    .dataframe tbody tr th {\n",
       "        vertical-align: top;\n",
       "    }\n",
       "</style>\n",
       "<table border=\"1\" class=\"dataframe\">\n",
       "  <thead>\n",
       "    <tr style=\"text-align: right;\">\n",
       "      <th></th>\n",
       "      <th>Unnamed: 0</th>\n",
       "      <th>Id</th>\n",
       "      <th>ProductId</th>\n",
       "      <th>UserId</th>\n",
       "      <th>ProfileName</th>\n",
       "      <th>HelpfulnessNumerator</th>\n",
       "      <th>HelpfulnessDenominator</th>\n",
       "      <th>Score</th>\n",
       "      <th>Time</th>\n",
       "      <th>Summary</th>\n",
       "      <th>Text</th>\n",
       "      <th>Cleaned_text</th>\n",
       "    </tr>\n",
       "  </thead>\n",
       "  <tbody>\n",
       "    <tr>\n",
       "      <th>0</th>\n",
       "      <td>138706</td>\n",
       "      <td>150524</td>\n",
       "      <td>0006641040</td>\n",
       "      <td>ACITT7DI6IDDL</td>\n",
       "      <td>shari zychinski</td>\n",
       "      <td>0</td>\n",
       "      <td>0</td>\n",
       "      <td>1</td>\n",
       "      <td>939340800</td>\n",
       "      <td>EVERY book is educational</td>\n",
       "      <td>this witty little book makes my son laugh at l...</td>\n",
       "      <td>b'witti littl book make son laugh recit car dr...</td>\n",
       "    </tr>\n",
       "    <tr>\n",
       "      <th>1</th>\n",
       "      <td>138683</td>\n",
       "      <td>150501</td>\n",
       "      <td>0006641040</td>\n",
       "      <td>AJ46FKXOVC7NR</td>\n",
       "      <td>Nicholas A Mesiano</td>\n",
       "      <td>2</td>\n",
       "      <td>2</td>\n",
       "      <td>1</td>\n",
       "      <td>940809600</td>\n",
       "      <td>This whole series is great way to spend time w...</td>\n",
       "      <td>I can remember seeing the show when it aired o...</td>\n",
       "      <td>b'rememb see show air televis year sister late...</td>\n",
       "    </tr>\n",
       "    <tr>\n",
       "      <th>2</th>\n",
       "      <td>417839</td>\n",
       "      <td>451856</td>\n",
       "      <td>B00004CXX9</td>\n",
       "      <td>AIUWLEQ1ADEG5</td>\n",
       "      <td>Elizabeth Medina</td>\n",
       "      <td>0</td>\n",
       "      <td>0</td>\n",
       "      <td>1</td>\n",
       "      <td>944092800</td>\n",
       "      <td>Entertainingl Funny!</td>\n",
       "      <td>Beetlejuice is a well written movie ..... ever...</td>\n",
       "      <td>b'beetlejuic well written movi everyth excel a...</td>\n",
       "    </tr>\n",
       "  </tbody>\n",
       "</table>\n",
       "</div>"
      ],
      "text/plain": [
       "   Unnamed: 0      Id   ProductId         UserId         ProfileName  \\\n",
       "0      138706  150524  0006641040  ACITT7DI6IDDL     shari zychinski   \n",
       "1      138683  150501  0006641040  AJ46FKXOVC7NR  Nicholas A Mesiano   \n",
       "2      417839  451856  B00004CXX9  AIUWLEQ1ADEG5    Elizabeth Medina   \n",
       "\n",
       "   HelpfulnessNumerator  HelpfulnessDenominator  Score       Time  \\\n",
       "0                     0                       0      1  939340800   \n",
       "1                     2                       2      1  940809600   \n",
       "2                     0                       0      1  944092800   \n",
       "\n",
       "                                             Summary  \\\n",
       "0                          EVERY book is educational   \n",
       "1  This whole series is great way to spend time w...   \n",
       "2                               Entertainingl Funny!   \n",
       "\n",
       "                                                Text  \\\n",
       "0  this witty little book makes my son laugh at l...   \n",
       "1  I can remember seeing the show when it aired o...   \n",
       "2  Beetlejuice is a well written movie ..... ever...   \n",
       "\n",
       "                                        Cleaned_text  \n",
       "0  b'witti littl book make son laugh recit car dr...  \n",
       "1  b'rememb see show air televis year sister late...  \n",
       "2  b'beetlejuic well written movi everyth excel a...  "
      ]
     },
     "execution_count": 350,
     "metadata": {},
     "output_type": "execute_result"
    }
   ],
   "source": [
    "data.head(3)"
   ]
  },
  {
   "cell_type": "markdown",
   "metadata": {},
   "source": [
    "## Data cleaning"
   ]
  },
  {
   "cell_type": "code",
   "execution_count": 11,
   "metadata": {},
   "outputs": [],
   "source": [
    "data=data[data['HelpfulnessNumerator']<=data['HelpfulnessDenominator']] "
   ]
  },
  {
   "cell_type": "code",
   "execution_count": 12,
   "metadata": {},
   "outputs": [
    {
     "data": {
      "text/plain": [
       "(364171, 10)"
      ]
     },
     "execution_count": 12,
     "metadata": {},
     "output_type": "execute_result"
    }
   ],
   "source": [
    "data.drop_duplicates(subset={\"UserId\",\"ProfileName\",\"Time\",\"Text\"},keep='first',inplace=True) #droping the duplicates\n",
    "data.shape"
   ]
  },
  {
   "cell_type": "code",
   "execution_count": 13,
   "metadata": {},
   "outputs": [
    {
     "data": {
      "text/plain": [
       "364171"
      ]
     },
     "execution_count": 13,
     "metadata": {},
     "output_type": "execute_result"
    }
   ],
   "source": [
    "len(data)"
   ]
  },
  {
   "cell_type": "code",
   "execution_count": 14,
   "metadata": {},
   "outputs": [],
   "source": [
    "import nltk\n",
    "from nltk.corpus import stopwords"
   ]
  },
  {
   "cell_type": "code",
   "execution_count": 15,
   "metadata": {},
   "outputs": [],
   "source": [
    "stop=set(stopwords.words('english'))"
   ]
  },
  {
   "cell_type": "code",
   "execution_count": 16,
   "metadata": {},
   "outputs": [],
   "source": [
    "\n",
    "sno=nltk.stem.SnowballStemmer('english')  #stemmer of english language\n",
    "\n",
    "def cleanhtml(sentence): #function to clean the word of any html-tags\n",
    "    cleanr = re.compile('<.*?>')\n",
    "    cleantext = re.sub(cleanr, ' ', sentence)\n",
    "    return cleantext\n",
    "def cleanpunc(sentence): #function to clean the word of any punctuation or special characters\n",
    "    cleaned = re.sub(r'[?|!|\\'|\"|#]',r'',sentence)\n",
    "    cleaned = re.sub(r'[.|,|)|(|\\|/]',r' ',cleaned)\n",
    "    return  cleaned"
   ]
  },
  {
   "cell_type": "code",
   "execution_count": 17,
   "metadata": {},
   "outputs": [],
   "source": [
    "#taking sample of data\n",
    "#sample=data.sample(len(data))\n",
    "sample_data=data.sort_values(['Time'])  #sorting data on time basis\n",
    "sample_score=sample_data['Score']"
   ]
  },
  {
   "cell_type": "code",
   "execution_count": 20,
   "metadata": {},
   "outputs": [],
   "source": [
    "#filtering sentence\n",
    "import re\n",
    "final_string=[]\n",
    "s=''\n",
    "for sentence in sample_data['Text']:\n",
    "    filtered_sentence=[]\n",
    "    cleaned_sentence=cleanhtml(sentence)\n",
    "    for words in sentence.split():\n",
    "        cleaned_words=cleanpunc(words)\n",
    "        if ( (cleaned_words.isalpha()) & (len(cleaned_words)>2) ):\n",
    "            if(cleaned_words.lower() not in stop):\n",
    "                s=(sno.stem(cleaned_words.lower())).encode('utf8')\n",
    "                filtered_sentence.append(s)\n",
    "            else: \n",
    "                continue\n",
    "        else:\n",
    "            continue\n",
    "    str1=b\" \".join(filtered_sentence)    \n",
    "    final_string.append(str1)\n",
    "        "
   ]
  },
  {
   "cell_type": "code",
   "execution_count": 21,
   "metadata": {},
   "outputs": [],
   "source": [
    "sample_data['Cleaned_text']=final_string  #creating a new column in sample_data"
   ]
  },
  {
   "cell_type": "code",
   "execution_count": 22,
   "metadata": {},
   "outputs": [
    {
     "data": {
      "text/html": [
       "<div>\n",
       "<style>\n",
       "    .dataframe thead tr:only-child th {\n",
       "        text-align: right;\n",
       "    }\n",
       "\n",
       "    .dataframe thead th {\n",
       "        text-align: left;\n",
       "    }\n",
       "\n",
       "    .dataframe tbody tr th {\n",
       "        vertical-align: top;\n",
       "    }\n",
       "</style>\n",
       "<table border=\"1\" class=\"dataframe\">\n",
       "  <thead>\n",
       "    <tr style=\"text-align: right;\">\n",
       "      <th></th>\n",
       "      <th>Id</th>\n",
       "      <th>ProductId</th>\n",
       "      <th>UserId</th>\n",
       "      <th>ProfileName</th>\n",
       "      <th>HelpfulnessNumerator</th>\n",
       "      <th>HelpfulnessDenominator</th>\n",
       "      <th>Score</th>\n",
       "      <th>Time</th>\n",
       "      <th>Summary</th>\n",
       "      <th>Text</th>\n",
       "      <th>Cleaned_text</th>\n",
       "    </tr>\n",
       "  </thead>\n",
       "  <tbody>\n",
       "    <tr>\n",
       "      <th>138706</th>\n",
       "      <td>150524</td>\n",
       "      <td>0006641040</td>\n",
       "      <td>ACITT7DI6IDDL</td>\n",
       "      <td>shari zychinski</td>\n",
       "      <td>0</td>\n",
       "      <td>0</td>\n",
       "      <td>1</td>\n",
       "      <td>939340800</td>\n",
       "      <td>EVERY book is educational</td>\n",
       "      <td>this witty little book makes my son laugh at l...</td>\n",
       "      <td>b'witti littl book make son laugh recit car dr...</td>\n",
       "    </tr>\n",
       "    <tr>\n",
       "      <th>138683</th>\n",
       "      <td>150501</td>\n",
       "      <td>0006641040</td>\n",
       "      <td>AJ46FKXOVC7NR</td>\n",
       "      <td>Nicholas A Mesiano</td>\n",
       "      <td>2</td>\n",
       "      <td>2</td>\n",
       "      <td>1</td>\n",
       "      <td>940809600</td>\n",
       "      <td>This whole series is great way to spend time w...</td>\n",
       "      <td>I can remember seeing the show when it aired o...</td>\n",
       "      <td>b'rememb see show air televis year sister late...</td>\n",
       "    </tr>\n",
       "    <tr>\n",
       "      <th>417839</th>\n",
       "      <td>451856</td>\n",
       "      <td>B00004CXX9</td>\n",
       "      <td>AIUWLEQ1ADEG5</td>\n",
       "      <td>Elizabeth Medina</td>\n",
       "      <td>0</td>\n",
       "      <td>0</td>\n",
       "      <td>1</td>\n",
       "      <td>944092800</td>\n",
       "      <td>Entertainingl Funny!</td>\n",
       "      <td>Beetlejuice is a well written movie ..... ever...</td>\n",
       "      <td>b'beetlejuic well written movi everyth excel a...</td>\n",
       "    </tr>\n",
       "  </tbody>\n",
       "</table>\n",
       "</div>"
      ],
      "text/plain": [
       "            Id   ProductId         UserId         ProfileName  \\\n",
       "138706  150524  0006641040  ACITT7DI6IDDL     shari zychinski   \n",
       "138683  150501  0006641040  AJ46FKXOVC7NR  Nicholas A Mesiano   \n",
       "417839  451856  B00004CXX9  AIUWLEQ1ADEG5    Elizabeth Medina   \n",
       "\n",
       "        HelpfulnessNumerator  HelpfulnessDenominator  Score       Time  \\\n",
       "138706                     0                       0      1  939340800   \n",
       "138683                     2                       2      1  940809600   \n",
       "417839                     0                       0      1  944092800   \n",
       "\n",
       "                                                  Summary  \\\n",
       "138706                          EVERY book is educational   \n",
       "138683  This whole series is great way to spend time w...   \n",
       "417839                               Entertainingl Funny!   \n",
       "\n",
       "                                                     Text  \\\n",
       "138706  this witty little book makes my son laugh at l...   \n",
       "138683  I can remember seeing the show when it aired o...   \n",
       "417839  Beetlejuice is a well written movie ..... ever...   \n",
       "\n",
       "                                             Cleaned_text  \n",
       "138706  b'witti littl book make son laugh recit car dr...  \n",
       "138683  b'rememb see show air televis year sister late...  \n",
       "417839  b'beetlejuic well written movi everyth excel a...  "
      ]
     },
     "execution_count": 22,
     "metadata": {},
     "output_type": "execute_result"
    }
   ],
   "source": [
    "sample_data.head(3)"
   ]
  },
  {
   "cell_type": "code",
   "execution_count": 351,
   "metadata": {},
   "outputs": [
    {
     "data": {
      "text/plain": [
       "1    87729\n",
       "0    12271\n",
       "Name: Score, dtype: int64"
      ]
     },
     "execution_count": 351,
     "metadata": {},
     "output_type": "execute_result"
    }
   ],
   "source": [
    "sample_data['Score'].value_counts()"
   ]
  },
  {
   "cell_type": "code",
   "execution_count": 24,
   "metadata": {},
   "outputs": [],
   "source": [
    "sample_data.to_csv('sample_all_sort.csv')  #saving dataframe"
   ]
  },
  {
   "cell_type": "code",
   "execution_count": 413,
   "metadata": {},
   "outputs": [],
   "source": [
    "sample_data=pd.read_csv('sample_all_sort.csv')  #retriving the sorted dataframe"
   ]
  },
  {
   "cell_type": "code",
   "execution_count": 414,
   "metadata": {},
   "outputs": [],
   "source": [
    "sample_data=sample_data.iloc[:100000]  #taking initial 100k points"
   ]
  },
  {
   "cell_type": "code",
   "execution_count": 416,
   "metadata": {},
   "outputs": [],
   "source": [
    "#taking the test data seperate from all other\n",
    "\n",
    "X, x_test, y_train, y_test=train_test_split(sample_data['Cleaned_text'], sample_data['Score'], test_size=0.3) #splitting the data"
   ]
  },
  {
   "cell_type": "code",
   "execution_count": 417,
   "metadata": {},
   "outputs": [],
   "source": [
    "# this function plot mse vs C plot, predicting accuracy, confusion matrix and classification report\n",
    "\n",
    "def logistic_regression(clf, x_train, y_train, x_test, y_test):\n",
    "    #plot error vs C\n",
    "    x_1=[]\n",
    "    x_2=[]\n",
    "    y_1=[]\n",
    "    y_2=[]\n",
    "    for x in clf.grid_scores_:\n",
    "        if(x[0]['penalty']=='l1'):\n",
    "            x_1.append(x[0]['C'])\n",
    "            y_1.append(1-x[1])\n",
    "        else:\n",
    "            x_2.append(x[0]['C'])\n",
    "            y_2.append(1-x[1])\n",
    "    plt.plot(x_1,y_1, label='l1')\n",
    "    plt.plot(x_2,y_2, label='l2')\n",
    "    plt.xlabel('value of C')\n",
    "    plt.ylabel('misclassification error')\n",
    "    plt.title('C vs error')\n",
    "    plt.legend()\n",
    "    plt.show()\n",
    "    print('**********************************************************************\\n')\n",
    "      \n",
    "    #predicting y and accuracy\n",
    "    y_pred=clf.predict(x_test)\n",
    "    accu=accuracy_score(y_pred,y_test)*100\n",
    "    print('accuracy=',accu)\n",
    "    print('**********************************************************************\\n')\n",
    "    \n",
    "    #confusion matrix\n",
    "    t=confusion_matrix(y_pred,y_test)\n",
    "    print('confusion matrix--')\n",
    "    #print(t)\n",
    "    #print('**********************************************************************')\n",
    "    sns.heatmap(t, annot=True, fmt=\"d\", xticklabels=True, yticklabels=True)\n",
    "    plt.xlabel('True label')\n",
    "    plt.ylabel('Predicted label')\n",
    "    plt.title('confusion matrix')\n",
    "    plt.show()\n",
    "    print('**********************************************************************\\n')\n",
    "    \n",
    "    # finding TPR , TNR, FPR, FNR\n",
    "    TNR=t[0][0]/(t[0][0]+t[1][0])\n",
    "    TPR=t[1][1]/(t[0][1]+t[1][1])\n",
    "    FPR=t[1][0]/(t[0][0]+t[1][0])\n",
    "    FNR=t[0][1]/(t[0][1]+t[1][1])\n",
    "    print('TNR=',TNR)\n",
    "    print('TPR=',TPR)\n",
    "    print('FPR=',FPR)\n",
    "    print('FNR=',FNR)\n",
    "    print('**********************************************************************\\n')\n",
    "    \n",
    "    \n",
    "    #classification report\n",
    "    print(classification_report(y_pred,y_test))\n",
    "    print('**********************************************************************\\n')\n",
    "    \n",
    "    #print('ROC curve--')\n",
    "    y_pred_proba=clf.predict_proba(x_test)\n",
    "    fpr, tpr, thresholds = metrics.roc_curve(y_test, y_pred_proba[:,1], pos_label=1)\n",
    "    auc = metrics.roc_auc_score(y_test, y_pred_proba[:,1])\n",
    "    plt.plot(fpr,tpr,label=\"auc=\"+str(auc))\n",
    "    plt.plot([0,1],[0,1],linestyle='--')\n",
    "    plt.legend(loc=4)\n",
    "    plt.title('ROC curve')\n",
    "    plt.show()\n",
    "    \n",
    "    return accu, auc, TNR, TPR, FPR, FNR"
   ]
  },
  {
   "cell_type": "code",
   "execution_count": 418,
   "metadata": {},
   "outputs": [],
   "source": [
    "# this function takes C values and all inputs and plot the number of non zero elements in weight for every C\n",
    "\n",
    "def sparsity(C, x_train, y_train, x_test, y_test):\n",
    "    w_change=[]\n",
    "    for i in C:\n",
    "        clf=LogisticRegression(penalty='l1', C=i)\n",
    "        clf.fit(x_train,y_train)\n",
    "        accuracy=clf.predict(x_test)\n",
    "        print('at C=',i)\n",
    "        print('test error=',(1-accuracy_score(accuracy,y_test)))\n",
    "        count=np.count_nonzero(clf.coef_)\n",
    "        print('number of non zero element in w=', count)\n",
    "        print('***********************************************')\n",
    "        w_change.append(count)\n",
    "        \n",
    "        \n",
    "    plt.figure(figsize=(6,6))\n",
    "    plt.plot(C,w_change,color='green')\n",
    "    plt.title('change in non zero element in W , when C changes')\n",
    "    plt.xlabel('value of C')\n",
    "    plt.ylabel('number of non zero element in W')\n",
    "    plt.show()\n",
    "    return w_change\n",
    "        "
   ]
  },
  {
   "cell_type": "code",
   "execution_count": null,
   "metadata": {},
   "outputs": [],
   "source": []
  },
  {
   "cell_type": "markdown",
   "metadata": {},
   "source": [
    "# 1. Logistic Regression for Bag of words"
   ]
  },
  {
   "cell_type": "markdown",
   "metadata": {},
   "source": [
    "###  Logistic regression for Bag of words using GridSearchCV "
   ]
  },
  {
   "cell_type": "code",
   "execution_count": 419,
   "metadata": {},
   "outputs": [],
   "source": [
    "count_vect=CountVectorizer()\n",
    "x_train_bow=count_vect.fit_transform(X.values)"
   ]
  },
  {
   "cell_type": "code",
   "execution_count": 420,
   "metadata": {},
   "outputs": [],
   "source": [
    "x_test_bow=count_vect.transform(x_test.values)"
   ]
  },
  {
   "cell_type": "code",
   "execution_count": 421,
   "metadata": {},
   "outputs": [],
   "source": [
    "from sklearn.preprocessing import normalize\n",
    "\n",
    "x_train_bow=normalize(x_train_bow)\n",
    "x_test_bow=normalize(x_test_bow)\n"
   ]
  },
  {
   "cell_type": "code",
   "execution_count": 422,
   "metadata": {},
   "outputs": [],
   "source": [
    "import seaborn as sns\n",
    "from sklearn import metrics"
   ]
  },
  {
   "cell_type": "code",
   "execution_count": 423,
   "metadata": {},
   "outputs": [],
   "source": [
    "\n",
    "tscv=TimeSeriesSplit(n_splits=10)\n",
    "penalty=['l2','l1']\n",
    "param={'C': [0.001, 0.005, 0.01, 0.05, 0.1, 0.5, 1, 5, 10, 50, 100, 150, 200], 'penalty':penalty}\n",
    "clf=LogisticRegression()\n",
    "clf=GridSearchCV(estimator=clf, param_grid=param, cv=tscv,  n_jobs=1, verbose=1)"
   ]
  },
  {
   "cell_type": "code",
   "execution_count": 424,
   "metadata": {},
   "outputs": [],
   "source": [
    "import pickle"
   ]
  },
  {
   "cell_type": "code",
   "execution_count": 425,
   "metadata": {},
   "outputs": [
    {
     "name": "stdout",
     "output_type": "stream",
     "text": [
      "CPU times: user 0 ns, sys: 0 ns, total: 0 ns\n",
      "Wall time: 11.9 µs\n",
      "Fitting 10 folds for each of 26 candidates, totalling 260 fits\n"
     ]
    },
    {
     "name": "stderr",
     "output_type": "stream",
     "text": [
      "[Parallel(n_jobs=1)]: Done 260 out of 260 | elapsed:  4.2min finished\n"
     ]
    },
    {
     "name": "stdout",
     "output_type": "stream",
     "text": [
      "duration =  0:04:13.013249\n"
     ]
    }
   ],
   "source": [
    "# fitting the model\n",
    "%time\n",
    "start=datetime.now()\n",
    "clf.fit(x_train_bow,y_train)\n",
    "#pickle.dump(clf,open('bow_unigram.p','wb'))\n",
    "end=datetime.now()\n",
    "print('duration = ',(end-start))"
   ]
  },
  {
   "cell_type": "code",
   "execution_count": 426,
   "metadata": {},
   "outputs": [
    {
     "name": "stdout",
     "output_type": "stream",
     "text": [
      "best C= 5\n",
      "best penalty= l2\n"
     ]
    }
   ],
   "source": [
    "# best value of C\n",
    "c=clf.best_estimator_.get_params()['C']\n",
    "penalty=clf.best_estimator_.get_params()['penalty']\n",
    "print('best C=',c)\n",
    "print('best penalty=',penalty)"
   ]
  },
  {
   "cell_type": "code",
   "execution_count": null,
   "metadata": {},
   "outputs": [],
   "source": []
  },
  {
   "cell_type": "code",
   "execution_count": 427,
   "metadata": {},
   "outputs": [
    {
     "data": {
      "image/png": "[encoded data removed]",
      "text/plain": [
       "<matplotlib.figure.Figure at 0x3ffde6614b38>"
      ]
     },
     "metadata": {},
     "output_type": "display_data"
    },
    {
     "name": "stdout",
     "output_type": "stream",
     "text": [
      "**********************************************************************\n",
      "\n",
      "accuracy= 92.05666666666666\n",
      "**********************************************************************\n",
      "\n",
      "confusion matrix--\n"
     ]
    },
    {
     "data": {
      "image/png": "[encoded data removed]",
      "text/plain": [
       "<matplotlib.figure.Figure at 0x3ffde64ec0b8>"
      ]
     },
     "metadata": {},
     "output_type": "display_data"
    },
    {
     "name": "stdout",
     "output_type": "stream",
     "text": [
      "**********************************************************************\n",
      "\n",
      "TNR= 0.5133587786259542\n",
      "TPR= 0.9772899893665502\n",
      "FPR= 0.4866412213740458\n",
      "FNR= 0.022710010633449795\n",
      "**********************************************************************\n",
      "\n",
      "             precision    recall  f1-score   support\n",
      "\n",
      "          0       0.51      0.76      0.61      2481\n",
      "          1       0.98      0.94      0.96     27519\n",
      "\n",
      "avg / total       0.94      0.92      0.93     30000\n",
      "\n",
      "**********************************************************************\n",
      "\n"
     ]
    },
    {
     "data": {
      "image/png": "[encoded data removed]",
      "text/plain": [
       "<matplotlib.figure.Figure at 0x3ffde65e1588>"
      ]
     },
     "metadata": {},
     "output_type": "display_data"
    }
   ],
   "source": [
    "accu, auc, TNR, TPR, FPR, FNR=logistic_regression(clf=clf, x_train=x_train_bow, y_train=y_train, x_test=x_test_bow, y_test=y_test)"
   ]
  },
  {
   "cell_type": "markdown",
   "metadata": {},
   "source": [
    "### Logistic regression for bow, RandomizedSearchCV"
   ]
  },
  {
   "cell_type": "code",
   "execution_count": 428,
   "metadata": {},
   "outputs": [],
   "source": [
    "from sklearn.model_selection import RandomizedSearchCV\n",
    "tscv=TimeSeriesSplit(n_splits=10)\n",
    "penalty=['l2','l1']\n",
    "param={'C': [0.001, 0.005, 0.01, 0.05, 0.1, 0.5, 1, 5, 10, 50, 100, 150, 200,500, 1000], 'penalty':penalty}\n",
    "clf=LogisticRegression()\n",
    "clf=RandomizedSearchCV(estimator=clf, param_distributions=param, cv=tscv,  verbose=1)"
   ]
  },
  {
   "cell_type": "code",
   "execution_count": 429,
   "metadata": {},
   "outputs": [
    {
     "name": "stdout",
     "output_type": "stream",
     "text": [
      "CPU times: user 0 ns, sys: 0 ns, total: 0 ns\n",
      "Wall time: 7.87 µs\n",
      "Fitting 10 folds for each of 10 candidates, totalling 100 fits\n"
     ]
    },
    {
     "name": "stderr",
     "output_type": "stream",
     "text": [
      "[Parallel(n_jobs=1)]: Done 100 out of 100 | elapsed:  2.8min finished\n"
     ]
    },
    {
     "name": "stdout",
     "output_type": "stream",
     "text": [
      "duration =  0:02:48.344081\n"
     ]
    }
   ],
   "source": [
    "# fitting the model\n",
    "%time\n",
    "start=datetime.now()\n",
    "clf.fit(x_train_bow,y_train)\n",
    "#pickle.dump(clf,open('bow_unigram_balance_random.p','wb'))\n",
    "end=datetime.now()\n",
    "print('duration = ',(end-start))"
   ]
  },
  {
   "cell_type": "code",
   "execution_count": 430,
   "metadata": {},
   "outputs": [
    {
     "name": "stdout",
     "output_type": "stream",
     "text": [
      "best C= 5\n",
      "best penalty= l2\n"
     ]
    }
   ],
   "source": [
    "# best value of C\n",
    "c=clf.best_estimator_.get_params()['C']\n",
    "penalty=clf.best_estimator_.get_params()['penalty']\n",
    "print('best C=',c)\n",
    "print('best penalty=',penalty)"
   ]
  },
  {
   "cell_type": "code",
   "execution_count": 431,
   "metadata": {},
   "outputs": [
    {
     "data": {
      "image/png": "[encoded data removed]",
      "text/plain": [
       "<matplotlib.figure.Figure at 0x3ffde6616320>"
      ]
     },
     "metadata": {},
     "output_type": "display_data"
    },
    {
     "name": "stdout",
     "output_type": "stream",
     "text": [
      "**********************************************************************\n",
      "\n",
      "accuracy= 92.05666666666666\n",
      "**********************************************************************\n",
      "\n",
      "confusion matrix--\n"
     ]
    },
    {
     "data": {
      "image/png": "[encoded data removed]",
      "text/plain": [
       "<matplotlib.figure.Figure at 0x3ffde643a748>"
      ]
     },
     "metadata": {},
     "output_type": "display_data"
    },
    {
     "name": "stdout",
     "output_type": "stream",
     "text": [
      "**********************************************************************\n",
      "\n",
      "TNR= 0.5133587786259542\n",
      "TPR= 0.9772899893665502\n",
      "FPR= 0.4866412213740458\n",
      "FNR= 0.022710010633449795\n",
      "**********************************************************************\n",
      "\n",
      "             precision    recall  f1-score   support\n",
      "\n",
      "          0       0.51      0.76      0.61      2481\n",
      "          1       0.98      0.94      0.96     27519\n",
      "\n",
      "avg / total       0.94      0.92      0.93     30000\n",
      "\n",
      "**********************************************************************\n",
      "\n"
     ]
    },
    {
     "data": {
      "image/png": "[encoded data removed]",
      "text/plain": [
       "<matplotlib.figure.Figure at 0x3ffde6417b00>"
      ]
     },
     "metadata": {},
     "output_type": "display_data"
    }
   ],
   "source": [
    "accu, auc, TNR, TPR, FPR, FNR=logistic_regression(clf=clf, x_train=x_train_bow, y_train=y_train, x_test=x_test_bow, y_test=y_test)"
   ]
  },
  {
   "cell_type": "code",
   "execution_count": null,
   "metadata": {},
   "outputs": [],
   "source": []
  },
  {
   "cell_type": "markdown",
   "metadata": {},
   "source": [
    "#### Observation-\n",
    "* with C=5, and penalty='l2' we get good area under curve as well as accuracy"
   ]
  },
  {
   "cell_type": "code",
   "execution_count": null,
   "metadata": {},
   "outputs": [],
   "source": []
  },
  {
   "cell_type": "markdown",
   "metadata": {},
   "source": [
    "### checking sparsity of bag of words by fixing penalty='l1' and changing C value"
   ]
  },
  {
   "cell_type": "code",
   "execution_count": null,
   "metadata": {},
   "outputs": [],
   "source": []
  },
  {
   "cell_type": "code",
   "execution_count": 432,
   "metadata": {},
   "outputs": [],
   "source": [
    "C= [0.001, 0.005, 0.01, 0.05, 0.1, 0.5, 1, 5, 10, 50, 100, 150, 200, 500, 1000]\n"
   ]
  },
  {
   "cell_type": "code",
   "execution_count": 433,
   "metadata": {},
   "outputs": [
    {
     "name": "stdout",
     "output_type": "stream",
     "text": [
      "at C= 0.001\n",
      "test error= 0.12226666666666663\n",
      "number of non zero element in w= 0\n",
      "***********************************************\n",
      "at C= 0.005\n",
      "test error= 0.12226666666666663\n",
      "number of non zero element in w= 2\n",
      "***********************************************\n",
      "at C= 0.01\n",
      "test error= 0.12226666666666663\n",
      "number of non zero element in w= 8\n",
      "***********************************************\n",
      "at C= 0.05\n",
      "test error= 0.11163333333333336\n",
      "number of non zero element in w= 93\n",
      "***********************************************\n",
      "at C= 0.1\n",
      "test error= 0.1004666666666667\n",
      "number of non zero element in w= 193\n",
      "***********************************************\n",
      "at C= 0.5\n",
      "test error= 0.08543333333333336\n",
      "number of non zero element in w= 630\n",
      "***********************************************\n",
      "at C= 1\n",
      "test error= 0.0819333333333333\n",
      "number of non zero element in w= 1059\n",
      "***********************************************\n",
      "at C= 5\n",
      "test error= 0.08120000000000005\n",
      "number of non zero element in w= 3482\n",
      "***********************************************\n",
      "at C= 10\n",
      "test error= 0.08506666666666662\n",
      "number of non zero element in w= 5344\n",
      "***********************************************\n",
      "at C= 50\n",
      "test error= 0.09973333333333334\n",
      "number of non zero element in w= 9290\n",
      "***********************************************\n",
      "at C= 100\n",
      "test error= 0.10636666666666672\n",
      "number of non zero element in w= 10608\n",
      "***********************************************\n",
      "at C= 150\n",
      "test error= 0.1095666666666667\n",
      "number of non zero element in w= 11203\n",
      "***********************************************\n",
      "at C= 200\n",
      "test error= 0.1112333333333333\n",
      "number of non zero element in w= 11697\n",
      "***********************************************\n",
      "at C= 500\n",
      "test error= 0.11750000000000005\n",
      "number of non zero element in w= 12821\n",
      "***********************************************\n",
      "at C= 1000\n",
      "test error= 0.12073333333333336\n",
      "number of non zero element in w= 13461\n",
      "***********************************************\n"
     ]
    },
    {
     "data": {
      "image/png": "[encoded data removed]",
      "text/plain": [
       "<matplotlib.figure.Figure at 0x3ffde6614080>"
      ]
     },
     "metadata": {},
     "output_type": "display_data"
    }
   ],
   "source": [
    "#calling the sparsity function\n",
    "_=sparsity(C, x_train=x_train_bow, x_test=x_test_bow, y_train=y_train, y_test=y_test)"
   ]
  },
  {
   "cell_type": "markdown",
   "metadata": {},
   "source": [
    "#### Observation-\n",
    "* as we increase value of C(decreasing lambda) the sparsity decreases"
   ]
  },
  {
   "cell_type": "code",
   "execution_count": null,
   "metadata": {},
   "outputs": [],
   "source": []
  },
  {
   "cell_type": "code",
   "execution_count": null,
   "metadata": {},
   "outputs": [],
   "source": []
  },
  {
   "cell_type": "markdown",
   "metadata": {},
   "source": [
    "### feature importance and multicollinearity for bag of words, using best C=5 and penalty='l2'"
   ]
  },
  {
   "cell_type": "code",
   "execution_count": 434,
   "metadata": {},
   "outputs": [],
   "source": [
    "c=5\n",
    "penalty='l2'"
   ]
  },
  {
   "cell_type": "code",
   "execution_count": 435,
   "metadata": {},
   "outputs": [],
   "source": [
    "count_vect=CountVectorizer(ngram_range=(1,1))\n",
    "x_train_bow=count_vect.fit_transform(X.values)\n",
    "x_test_bow=count_vect.transform(x_test.values)"
   ]
  },
  {
   "cell_type": "code",
   "execution_count": null,
   "metadata": {},
   "outputs": [],
   "source": []
  },
  {
   "cell_type": "code",
   "execution_count": 436,
   "metadata": {},
   "outputs": [],
   "source": [
    "from sklearn.preprocessing import normalize\n",
    "\n",
    "x_train_bow=normalize(x_train_bow)\n",
    "x_test_bow=normalize(x_test_bow)\n"
   ]
  },
  {
   "cell_type": "code",
   "execution_count": 437,
   "metadata": {},
   "outputs": [
    {
     "name": "stdout",
     "output_type": "stream",
     "text": [
      "number of non-zero element in w= 27431\n"
     ]
    }
   ],
   "source": [
    "#computing weight before perturbation test\n",
    "clf=LogisticRegression(C=c, penalty=penalty)\n",
    "clf.fit(x_train_bow,y_train)\n",
    "w=clf.coef_\n",
    "print('number of non-zero element in w=', np.count_nonzero(w))"
   ]
  },
  {
   "cell_type": "code",
   "execution_count": 438,
   "metadata": {},
   "outputs": [],
   "source": [
    "# for findind feature importance we need to check multicollinearity\n",
    "# apply perturbation test for checking multicollinearity\n",
    "# in perturbation test, we add some noise to the training data and the fit the model\n",
    "# the w we will get after fittng the model, if it is significantly different than w which we get without any error adding then we will say it is multicollinear\n",
    "\n",
    "x_train_bow.data=x_train_bow.data+np.random.normal(loc=0,scale=0.1,size=x_train_bow.data.shape)  #adding a noise with a very small value"
   ]
  },
  {
   "cell_type": "code",
   "execution_count": 439,
   "metadata": {},
   "outputs": [
    {
     "name": "stdout",
     "output_type": "stream",
     "text": [
      "number of non-zero element in w_= 27431\n"
     ]
    }
   ],
   "source": [
    "#computing weight after perturbation weight\n",
    "clf=LogisticRegression(C=c, penalty=penalty)\n",
    "clf.fit(x_train_bow,y_train)\n",
    "w_=clf.coef_\n",
    "print('number of non-zero element in w_=', np.count_nonzero(w_))"
   ]
  },
  {
   "cell_type": "code",
   "execution_count": null,
   "metadata": {},
   "outputs": [],
   "source": []
  },
  {
   "cell_type": "code",
   "execution_count": 440,
   "metadata": {},
   "outputs": [
    {
     "name": "stdout",
     "output_type": "stream",
     "text": [
      "number of elements in w_delta, more than 50 %= 15840\n"
     ]
    }
   ],
   "source": [
    "#getting the number of elements in w which changes after perturbation test by more than 50%\n",
    "w_delta=abs((w-w_)/w)*100\n",
    "cnt=0\n",
    "for i in range(len(w_delta[0])):\n",
    "    if (w_delta[0][i]>50):\n",
    "        cnt+=1\n",
    "print('number of elements in w_delta, more than 50 %=',cnt)"
   ]
  },
  {
   "cell_type": "markdown",
   "metadata": {},
   "source": [
    "#### Observation-\n",
    "* we have 27431 non zero elements in weight before perturbation and after perturbation weight\n",
    "* after perturbation test, 15840 elements in weight before perturbation change by more than 50 %\n",
    "* Thus we can say that half of the elements in weight are collinear\n"
   ]
  },
  {
   "cell_type": "code",
   "execution_count": 441,
   "metadata": {},
   "outputs": [],
   "source": [
    "#code borrowed from  https://stackoverflow.com/questions/11116697/how-to-get-most-informative-features-for-scikit-learn-classifiers\n",
    "def show_most_informative_features(vectorizer, w, n=20):\n",
    "    feature_names = vectorizer.get_feature_names()\n",
    "    coefs_with_fns = sorted(zip(w[0], feature_names))\n",
    "    top = zip(coefs_with_fns[:n], coefs_with_fns[:-(n + 1):-1])\n",
    "    print('top 20 words and their corresponding weights--')\n",
    "    print('*****************************************************')\n",
    "    print('negative class words\\t\\t\\tpositive class words')\n",
    "    print('********************\\t\\t\\t********************')\n",
    "    for (coef_1, fn_1), (coef_2, fn_2) in top:\n",
    "        print(\"\\t%.4f\\t%-15s\\t\\t%.4f\\t%-15s\" % (coef_1, fn_1, coef_2, fn_2))\n",
    "        \n"
   ]
  },
  {
   "cell_type": "code",
   "execution_count": 442,
   "metadata": {},
   "outputs": [
    {
     "name": "stdout",
     "output_type": "stream",
     "text": [
      "top 20 words and their corresponding weights--\n",
      "*****************************************************\n",
      "negative class words\t\t\tpositive class words\n",
      "********************\t\t\t********************\n",
      "\t-14.2322\tworst          \t\t8.0237\texcel          \n",
      "\t-9.6044\tthrew          \t\t7.6344\tamaz           \n",
      "\t-8.1723\thorribl        \t\t7.5261\tdelici         \n",
      "\t-8.1505\tterribl        \t\t7.2258\tperfect        \n",
      "\t-8.1389\tdisappoint     \t\t7.0878\tawesom         \n",
      "\t-7.5776\treturn         \t\t6.8323\tuniqu          \n",
      "\t-7.3607\twast           \t\t6.8172\tbest           \n",
      "\t-6.7515\taw             \t\t6.8093\taddict         \n",
      "\t-6.6707\tstale          \t\t6.7614\tfantast        \n",
      "\t-6.5877\tneither        \t\t6.3656\tgreat          \n",
      "\t-6.5613\tweak           \t\t6.3034\thook           \n",
      "\t-6.4341\tcancel         \t\t6.0751\tbeat           \n",
      "\t-6.3117\trefund         \t\t5.9038\tyummi          \n",
      "\t-6.1537\tdisgust        \t\t5.8553\tpleasant       \n",
      "\t-6.1296\tpoor           \t\t5.5366\trefresh        \n",
      "\t-6.1199\twors           \t\t5.5217\tcomplaint      \n",
      "\t-6.0988\tunpleas        \t\t5.4826\tskeptic        \n",
      "\t-5.9934\ttasteless      \t\t5.4489\tsatisfi        \n",
      "\t-5.9880\tstuck          \t\t5.3017\tworri          \n",
      "\t-5.8988\tlack           \t\t5.2985\tnice           \n"
     ]
    }
   ],
   "source": [
    "show_most_informative_features(count_vect,w)"
   ]
  },
  {
   "cell_type": "markdown",
   "metadata": {},
   "source": [
    "# 2. Logistic Regression for Tf-Idf"
   ]
  },
  {
   "cell_type": "markdown",
   "metadata": {},
   "source": [
    "###  Logistic regression for TfIdf using GridSearchCV "
   ]
  },
  {
   "cell_type": "code",
   "execution_count": 443,
   "metadata": {},
   "outputs": [],
   "source": [
    "from sklearn.feature_extraction.text import TfidfVectorizer\n",
    "\n",
    "tfidf=TfidfVectorizer(ngram_range=(1,1))\n",
    "x_train_tfidf=tfidf.fit_transform(X.values)\n",
    "x_test_tfidf=tfidf.transform(x_test.values)"
   ]
  },
  {
   "cell_type": "code",
   "execution_count": 444,
   "metadata": {},
   "outputs": [],
   "source": [
    "x_train_tfidf=normalize(x_train_tfidf)\n",
    "x_test_tfidf=normalize(x_test_tfidf)"
   ]
  },
  {
   "cell_type": "code",
   "execution_count": 445,
   "metadata": {},
   "outputs": [],
   "source": [
    "\n",
    "tscv=TimeSeriesSplit(n_splits=10)\n",
    "penalty=['l2','l1']\n",
    "param={'C': [0.001, 0.005, 0.01, 0.05, 0.1, 0.5, 1, 5, 10, 50, 100, 150, 200], 'penalty':penalty}\n",
    "clf=LogisticRegression()\n",
    "clf=GridSearchCV(estimator=clf, param_grid=param, cv=tscv,  n_jobs=1, verbose=1)"
   ]
  },
  {
   "cell_type": "code",
   "execution_count": 446,
   "metadata": {},
   "outputs": [
    {
     "name": "stdout",
     "output_type": "stream",
     "text": [
      "CPU times: user 0 ns, sys: 0 ns, total: 0 ns\n",
      "Wall time: 10.7 µs\n",
      "Fitting 10 folds for each of 26 candidates, totalling 260 fits\n"
     ]
    },
    {
     "name": "stderr",
     "output_type": "stream",
     "text": [
      "[Parallel(n_jobs=1)]: Done 260 out of 260 | elapsed:  3.6min finished\n"
     ]
    },
    {
     "name": "stdout",
     "output_type": "stream",
     "text": [
      "duration =  0:03:34.642598\n"
     ]
    }
   ],
   "source": [
    "# fitting the model\n",
    "%time\n",
    "start=datetime.now()\n",
    "clf.fit(x_train_tfidf,y_train)\n",
    "#pickle.dump(clf,open('bow_bigram_balanced_random.p','wb'))\n",
    "end=datetime.now()\n",
    "print('duration = ',(end-start))"
   ]
  },
  {
   "cell_type": "code",
   "execution_count": 447,
   "metadata": {},
   "outputs": [
    {
     "name": "stdout",
     "output_type": "stream",
     "text": [
      "best C= 5\n",
      "best penalty= l2\n"
     ]
    }
   ],
   "source": [
    "# best value of C\n",
    "c=clf.best_estimator_.get_params()['C']\n",
    "penalty=clf.best_estimator_.get_params()['penalty']\n",
    "print('best C=',c)\n",
    "print('best penalty=',penalty)"
   ]
  },
  {
   "cell_type": "code",
   "execution_count": 448,
   "metadata": {},
   "outputs": [
    {
     "data": {
      "image/png": "[encoded data removed]",
      "text/plain": [
       "<matplotlib.figure.Figure at 0x3fff2989d5c0>"
      ]
     },
     "metadata": {},
     "output_type": "display_data"
    },
    {
     "name": "stdout",
     "output_type": "stream",
     "text": [
      "**********************************************************************\n",
      "\n",
      "accuracy= 91.91\n",
      "**********************************************************************\n",
      "\n",
      "confusion matrix--\n"
     ]
    },
    {
     "data": {
      "image/png": "[encoded data removed]",
      "text/plain": [
       "<matplotlib.figure.Figure at 0x3ffde62dd860>"
      ]
     },
     "metadata": {},
     "output_type": "display_data"
    },
    {
     "name": "stdout",
     "output_type": "stream",
     "text": [
      "**********************************************************************\n",
      "\n",
      "TNR= 0.5152671755725191\n",
      "TPR= 0.9753531824396172\n",
      "FPR= 0.4847328244274809\n",
      "FNR= 0.024646817560382804\n",
      "**********************************************************************\n",
      "\n",
      "             precision    recall  f1-score   support\n",
      "\n",
      "          0       0.52      0.74      0.61      2539\n",
      "          1       0.98      0.94      0.95     27461\n",
      "\n",
      "avg / total       0.94      0.92      0.93     30000\n",
      "\n",
      "**********************************************************************\n",
      "\n"
     ]
    },
    {
     "data": {
      "image/png": "[encoded data removed]",
      "text/plain": [
       "<matplotlib.figure.Figure at 0x3ffde61c3470>"
      ]
     },
     "metadata": {},
     "output_type": "display_data"
    }
   ],
   "source": [
    "accu, auc, TNR, TPR, FPR, FNR=logistic_regression(clf=clf, x_train=x_train_tfidf, y_train=y_train, x_test=x_test_tfidf, y_test=y_test)"
   ]
  },
  {
   "cell_type": "code",
   "execution_count": null,
   "metadata": {},
   "outputs": [],
   "source": []
  },
  {
   "cell_type": "markdown",
   "metadata": {},
   "source": [
    "###  Logistic regression for TfIdf using RandomizedSearchCV"
   ]
  },
  {
   "cell_type": "code",
   "execution_count": 449,
   "metadata": {},
   "outputs": [],
   "source": [
    "#from sklearn.model_selection import RandomizedSearchCV\n",
    "tscv=TimeSeriesSplit(n_splits=10)\n",
    "penalty=['l2','l1']\n",
    "param={'C': [0.001, 0.005, 0.01, 0.05, 0.1, 0.5, 1, 5, 10, 50, 100, 150, 200], 'penalty':penalty}\n",
    "clf=LogisticRegression()\n",
    "clf=RandomizedSearchCV(estimator=clf, param_distributions=param, cv=tscv,  verbose=1)"
   ]
  },
  {
   "cell_type": "code",
   "execution_count": 450,
   "metadata": {},
   "outputs": [
    {
     "name": "stdout",
     "output_type": "stream",
     "text": [
      "CPU times: user 0 ns, sys: 0 ns, total: 0 ns\n",
      "Wall time: 7.87 µs\n",
      "Fitting 10 folds for each of 10 candidates, totalling 100 fits\n"
     ]
    },
    {
     "name": "stderr",
     "output_type": "stream",
     "text": [
      "[Parallel(n_jobs=1)]: Done 100 out of 100 | elapsed:  1.7min finished\n"
     ]
    },
    {
     "name": "stdout",
     "output_type": "stream",
     "text": [
      "duration =  0:01:43.260595\n"
     ]
    }
   ],
   "source": [
    "# fitting the model\n",
    "%time\n",
    "start=datetime.now()\n",
    "clf.fit(x_train_tfidf,y_train)\n",
    "#pickle.dump(clf,open('bow_bigram_balanced_random.p','wb'))\n",
    "end=datetime.now()\n",
    "print('duration = ',(end-start))"
   ]
  },
  {
   "cell_type": "code",
   "execution_count": 451,
   "metadata": {},
   "outputs": [
    {
     "name": "stdout",
     "output_type": "stream",
     "text": [
      "best C= 5\n",
      "best penalty= l2\n"
     ]
    }
   ],
   "source": [
    "# best value of C\n",
    "c=clf.best_estimator_.get_params()['C']\n",
    "penalty=clf.best_estimator_.get_params()['penalty']\n",
    "print('best C=',c)\n",
    "print('best penalty=',penalty)"
   ]
  },
  {
   "cell_type": "code",
   "execution_count": 452,
   "metadata": {},
   "outputs": [
    {
     "data": {
      "image/png": "[encoded data removed]",
      "text/plain": [
       "<matplotlib.figure.Figure at 0x3ffde623e9e8>"
      ]
     },
     "metadata": {},
     "output_type": "display_data"
    },
    {
     "name": "stdout",
     "output_type": "stream",
     "text": [
      "**********************************************************************\n",
      "\n",
      "accuracy= 91.91\n",
      "**********************************************************************\n",
      "\n",
      "confusion matrix--\n"
     ]
    },
    {
     "data": {
      "image/png": "[encoded data removed]",
      "text/plain": [
       "<matplotlib.figure.Figure at 0x3ffde61000b8>"
      ]
     },
     "metadata": {},
     "output_type": "display_data"
    },
    {
     "name": "stdout",
     "output_type": "stream",
     "text": [
      "**********************************************************************\n",
      "\n",
      "TNR= 0.5152671755725191\n",
      "TPR= 0.9753531824396172\n",
      "FPR= 0.4847328244274809\n",
      "FNR= 0.024646817560382804\n",
      "**********************************************************************\n",
      "\n",
      "             precision    recall  f1-score   support\n",
      "\n",
      "          0       0.52      0.74      0.61      2539\n",
      "          1       0.98      0.94      0.95     27461\n",
      "\n",
      "avg / total       0.94      0.92      0.93     30000\n",
      "\n",
      "**********************************************************************\n",
      "\n"
     ]
    },
    {
     "data": {
      "image/png": "[encoded data removed]",
      "text/plain": [
       "<matplotlib.figure.Figure at 0x3ffde60a80f0>"
      ]
     },
     "metadata": {},
     "output_type": "display_data"
    }
   ],
   "source": [
    "accu, auc, TNR, TPR, FPR, FNR=logistic_regression(clf=clf, x_train=x_train_tfidf, y_train=y_train, x_test=x_test_tfidf, y_test=y_test)"
   ]
  },
  {
   "cell_type": "markdown",
   "metadata": {},
   "source": [
    "#### Observation-\n",
    "* we can choose C=5 and penalty='l2' as a best hyperparameter for Tfidf"
   ]
  },
  {
   "cell_type": "code",
   "execution_count": null,
   "metadata": {},
   "outputs": [],
   "source": []
  },
  {
   "cell_type": "code",
   "execution_count": null,
   "metadata": {},
   "outputs": [],
   "source": []
  },
  {
   "cell_type": "markdown",
   "metadata": {},
   "source": [
    "### checking sparsity of TfIdf by fixing penalty='l1' and changing C value"
   ]
  },
  {
   "cell_type": "code",
   "execution_count": 373,
   "metadata": {},
   "outputs": [],
   "source": [
    "tfidf=TfidfVectorizer(ngram_range=(1,1))\n",
    "x_train_tfidf=tfidf.fit_transform(X.values)\n",
    "x_test_tfidf=tfidf.transform(x_test.values)"
   ]
  },
  {
   "cell_type": "code",
   "execution_count": 374,
   "metadata": {},
   "outputs": [],
   "source": [
    "x_train_tfidf=normalize(x_train_tfidf)\n",
    "x_test_tfidf=normalize(x_test_tfidf)"
   ]
  },
  {
   "cell_type": "code",
   "execution_count": 453,
   "metadata": {},
   "outputs": [
    {
     "name": "stdout",
     "output_type": "stream",
     "text": [
      "at C= 0.001\n",
      "test error= 0.12226666666666663\n",
      "number of non zero element in w= 0\n",
      "***********************************************\n",
      "at C= 0.005\n",
      "test error= 0.12226666666666663\n",
      "number of non zero element in w= 2\n",
      "***********************************************\n",
      "at C= 0.01\n",
      "test error= 0.12226666666666663\n",
      "number of non zero element in w= 8\n",
      "***********************************************\n",
      "at C= 0.05\n",
      "test error= 0.11506666666666665\n",
      "number of non zero element in w= 102\n",
      "***********************************************\n",
      "at C= 0.1\n",
      "test error= 0.10453333333333337\n",
      "number of non zero element in w= 205\n",
      "***********************************************\n",
      "at C= 0.5\n",
      "test error= 0.08850000000000002\n",
      "number of non zero element in w= 726\n",
      "***********************************************\n",
      "at C= 1\n",
      "test error= 0.0847\n",
      "number of non zero element in w= 1202\n",
      "***********************************************\n",
      "at C= 5\n",
      "test error= 0.08206666666666662\n",
      "number of non zero element in w= 4060\n",
      "***********************************************\n",
      "at C= 10\n",
      "test error= 0.0849333333333333\n",
      "number of non zero element in w= 6028\n",
      "***********************************************\n",
      "at C= 50\n",
      "test error= 0.09696666666666665\n",
      "number of non zero element in w= 9786\n",
      "***********************************************\n",
      "at C= 100\n",
      "test error= 0.1015666666666667\n",
      "number of non zero element in w= 10977\n",
      "***********************************************\n",
      "at C= 150\n",
      "test error= 0.10389999999999999\n",
      "number of non zero element in w= 11556\n",
      "***********************************************\n",
      "at C= 200\n",
      "test error= 0.10626666666666662\n",
      "number of non zero element in w= 11944\n",
      "***********************************************\n"
     ]
    },
    {
     "data": {
      "image/png": "[encoded data removed]",
      "text/plain": [
       "<matplotlib.figure.Figure at 0x3ffde606a5f8>"
      ]
     },
     "metadata": {},
     "output_type": "display_data"
    }
   ],
   "source": [
    "C= [0.001, 0.005, 0.01, 0.05, 0.1, 0.5, 1, 5, 10, 50, 100, 150, 200]\n",
    "_=sparsity(C, x_train=x_train_bow, x_test=x_test_bow, y_train=y_train, y_test=y_test)"
   ]
  },
  {
   "cell_type": "markdown",
   "metadata": {},
   "source": [
    "#### Observation-\n",
    "* as we increase value of C(decreasing lambda) the sparsity decreases"
   ]
  },
  {
   "cell_type": "code",
   "execution_count": null,
   "metadata": {},
   "outputs": [],
   "source": []
  },
  {
   "cell_type": "code",
   "execution_count": null,
   "metadata": {},
   "outputs": [],
   "source": []
  },
  {
   "cell_type": "code",
   "execution_count": null,
   "metadata": {},
   "outputs": [],
   "source": []
  },
  {
   "cell_type": "markdown",
   "metadata": {},
   "source": [
    "### feature importance and multicollinearity for TfIdf using best C=5 and penalty='l2'"
   ]
  },
  {
   "cell_type": "code",
   "execution_count": 454,
   "metadata": {},
   "outputs": [],
   "source": [
    "c=5\n",
    "penalty='l2'"
   ]
  },
  {
   "cell_type": "code",
   "execution_count": 455,
   "metadata": {},
   "outputs": [
    {
     "name": "stdout",
     "output_type": "stream",
     "text": [
      "number of non-zero element in w= 27431\n"
     ]
    }
   ],
   "source": [
    "clf=LogisticRegression(C=c, penalty=penalty)\n",
    "clf.fit(x_train_tfidf,y_train)\n",
    "w=clf.coef_\n",
    "print('number of non-zero element in w=', np.count_nonzero(w))"
   ]
  },
  {
   "cell_type": "code",
   "execution_count": 456,
   "metadata": {},
   "outputs": [],
   "source": [
    "# for findind feature importance we need to check multicollinearity\n",
    "# apply perturbation test for checking multicollinearity\n",
    "# in perturbation test, we add some noise to the training data and the fit the model\n",
    "# the w we will get after fittng the model, if it is significantly different than w which we get without any error adding then we will say it is multicollinear\n",
    "\n",
    "x_train_tfidf.data=x_train_tfidf.data+np.random.normal(loc=0,scale=0.1,size=x_train_tfidf.data.shape)  #adding a noise with a very small value"
   ]
  },
  {
   "cell_type": "code",
   "execution_count": 457,
   "metadata": {},
   "outputs": [
    {
     "name": "stdout",
     "output_type": "stream",
     "text": [
      "number of non-zero element in w_= 27431\n"
     ]
    }
   ],
   "source": [
    "clf=LogisticRegression(C=c, penalty=penalty)\n",
    "clf.fit(x_train_tfidf,y_train)\n",
    "w_=clf.coef_\n",
    "print('number of non-zero element in w_=', np.count_nonzero(w_))"
   ]
  },
  {
   "cell_type": "code",
   "execution_count": 458,
   "metadata": {},
   "outputs": [
    {
     "name": "stdout",
     "output_type": "stream",
     "text": [
      "number of elements in w_delta, more than 50 %= 13806\n"
     ]
    }
   ],
   "source": [
    "w_delta=abs((w-w_)/w)*100\n",
    "cnt=0\n",
    "for i in range(len(w_delta[0])):\n",
    "    if (w_delta[0][i]>50):\n",
    "        cnt+=1\n",
    "print('number of elements in w_delta, more than 50 %=',cnt)"
   ]
  },
  {
   "cell_type": "markdown",
   "metadata": {},
   "source": [
    "#### Observation-\n",
    "* we have 27431 non zero elements in weight before perturbation and after perturbation weight\n",
    "* after perturbation test, 13806 elements in weight before perturbation change by more than 50 %\n",
    "* Thus we can say that more than half of the elements in weight are collinear\n"
   ]
  },
  {
   "cell_type": "code",
   "execution_count": 459,
   "metadata": {},
   "outputs": [
    {
     "name": "stdout",
     "output_type": "stream",
     "text": [
      "top 20 words and their corresponding weights--\n",
      "*****************************************************\n",
      "negative class words\t\t\tpositive class words\n",
      "********************\t\t\t********************\n",
      "\t-12.6259\tworst          \t\t11.8703\tgreat          \n",
      "\t-8.5127\tthrew          \t\t10.4060\tbest           \n",
      "\t-7.9902\tdisappoint     \t\t9.0467\tdelici         \n",
      "\t-7.1527\tterribl        \t\t8.9849\texcel          \n",
      "\t-7.0659\treturn         \t\t8.7805\tperfect        \n",
      "\t-6.9630\thorribl        \t\t8.4685\tlove           \n",
      "\t-6.7741\twast           \t\t7.5331\tamaz           \n",
      "\t-5.8615\tdisgust        \t\t6.8371\tawesom         \n",
      "\t-5.7730\tneither        \t\t6.7867\tnice           \n",
      "\t-5.6751\tstale          \t\t6.6114\tfavorit        \n",
      "\t-5.6743\taw             \t\t6.5681\tfantast        \n",
      "\t-5.5864\trefund         \t\t6.4263\taddict         \n",
      "\t-5.4932\tcancel         \t\t6.1344\tuniqu          \n",
      "\t-5.4281\thorrid         \t\t6.0408\tbeat           \n",
      "\t-5.4275\tunpleas        \t\t5.9481\thook           \n",
      "\t-5.4061\tpoor           \t\t5.6848\tpleasant       \n",
      "\t-5.3749\tweak           \t\t5.5853\tyummi          \n",
      "\t-5.2367\twors           \t\t5.4453\twonder         \n",
      "\t-5.2188\tdiarrhea       \t\t5.3917\tgood           \n",
      "\t-5.2128\tflavorless     \t\t5.3917\tcomplaint      \n"
     ]
    }
   ],
   "source": [
    "show_most_informative_features(tfidf,w)"
   ]
  },
  {
   "cell_type": "code",
   "execution_count": null,
   "metadata": {},
   "outputs": [],
   "source": []
  },
  {
   "cell_type": "code",
   "execution_count": null,
   "metadata": {},
   "outputs": [],
   "source": []
  },
  {
   "cell_type": "code",
   "execution_count": null,
   "metadata": {},
   "outputs": [],
   "source": []
  },
  {
   "cell_type": "markdown",
   "metadata": {},
   "source": [
    "# 3. Logistic Regression for Avg word2vec"
   ]
  },
  {
   "cell_type": "markdown",
   "metadata": {},
   "source": []
  },
  {
   "cell_type": "code",
   "execution_count": 211,
   "metadata": {},
   "outputs": [],
   "source": [
    "#url for the GoogleNews word2vec model\n",
    "url=\"https://s3.amazonaws.com/dl4j-distribution/GoogleNews-vectors-negative300.bin.gz\""
   ]
  },
  {
   "cell_type": "code",
   "execution_count": 213,
   "metadata": {},
   "outputs": [
    {
     "data": {
      "text/plain": [
       "('GoogleNews-vectors-negative300.bin.gz',\n",
       " <http.client.HTTPMessage at 0x3ffee1df4208>)"
      ]
     },
     "execution_count": 213,
     "metadata": {},
     "output_type": "execute_result"
    }
   ],
   "source": [
    "#downloading the GoogleNews word2vec modelinto the cognitive class disk\n",
    "import urllib\n",
    "urllib.request.urlretrieve (url, \"GoogleNews-vectors-negative300.bin.gz\")\n"
   ]
  },
  {
   "cell_type": "code",
   "execution_count": 98,
   "metadata": {},
   "outputs": [],
   "source": [
    "# import modules & set up logging\n",
    "import gensim, logging\n",
    "logging.basicConfig(format='%(asctime)s : %(levelname)s : %(message)s', level=logging.INFO)"
   ]
  },
  {
   "cell_type": "code",
   "execution_count": 99,
   "metadata": {},
   "outputs": [],
   "source": [
    "#loading the GoogleNews word2vec model(able to read bin.gz file directly, no need to extract)\n",
    "model = gensim.models.KeyedVectors.load_word2vec_format('GoogleNews-vectors-negative300.bin.gz', binary=True)"
   ]
  },
  {
   "cell_type": "code",
   "execution_count": 460,
   "metadata": {},
   "outputs": [],
   "source": [
    "\n",
    "#getting the list of sentences in a 'list'\n",
    "i=0\n",
    "\n",
    "list_of_sentences=[]\n",
    "for sent in X.values:\n",
    "    filtered_sentence=[]    \n",
    "    for w in sent.split():\n",
    "        #w=w.decode('utf-8')\n",
    "        if (w==sent.split()[0]):\n",
    "            w=w[2:]\n",
    "        filtered_sentence.append(w.lower())       \n",
    "    list_of_sentences.append(filtered_sentence)"
   ]
  },
  {
   "cell_type": "code",
   "execution_count": 461,
   "metadata": {},
   "outputs": [
    {
     "name": "stdout",
     "output_type": "stream",
     "text": [
      "3000000\n"
     ]
    }
   ],
   "source": [
    "words=list(model.wv.vocab)\n",
    "print(len(words))"
   ]
  },
  {
   "cell_type": "code",
   "execution_count": 463,
   "metadata": {},
   "outputs": [],
   "source": [
    "#calculating avg word2vec\n",
    "vectors=[];\n",
    "for sentence in list_of_sentences:\n",
    "    sentence_vector=np.zeros(300)\n",
    "    count_vec=0;\n",
    "    for word in sentence:\n",
    "        try:\n",
    "            vec=model.wv[word]\n",
    "            sentence_vector+=vec\n",
    "            count_vec+=1;\n",
    "        except:\n",
    "            pass\n",
    "    sentence_vector/=count_vec\n",
    "    vectors.append(sentence_vector)"
   ]
  },
  {
   "cell_type": "code",
   "execution_count": 464,
   "metadata": {},
   "outputs": [
    {
     "data": {
      "text/plain": [
       "[442,\n",
       " 855,\n",
       " 6550,\n",
       " 6941,\n",
       " 8428,\n",
       " 12673,\n",
       " 14212,\n",
       " 14581,\n",
       " 17277,\n",
       " 25826,\n",
       " 25887,\n",
       " 29528,\n",
       " 32691,\n",
       " 33866,\n",
       " 53924,\n",
       " 65198,\n",
       " 66333,\n",
       " 67442,\n",
       " 68907]"
      ]
     },
     "execution_count": 464,
     "metadata": {},
     "output_type": "execute_result"
    }
   ],
   "source": [
    "z=list(np.unique(np.where(np.isnan(vectors))[0]))\n",
    "z"
   ]
  },
  {
   "cell_type": "code",
   "execution_count": 465,
   "metadata": {},
   "outputs": [],
   "source": [
    "vectors=np.delete(vectors, z, axis=0)\n",
    "y_train_word=np.array(y_train)\n",
    "y_train_word=np.delete(y_train_word, z, axis=0)"
   ]
  },
  {
   "cell_type": "code",
   "execution_count": 466,
   "metadata": {},
   "outputs": [],
   "source": [
    "#calculating avg word2vec\n",
    "x_test_word=[];\n",
    "for sentence in x_test.values:\n",
    "    sentence_vector=np.zeros(300)\n",
    "    count_vec=0;\n",
    "    for word in sentence.split():\n",
    "        if(word==sentence.split()[0]):\n",
    "            word=word[2:]\n",
    "        \n",
    "        try:\n",
    "            vec=model.wv[word]\n",
    "            sentence_vector+=vec\n",
    "            count_vec+=1;\n",
    "        except:\n",
    "            pass\n",
    "    sentence_vector/=count_vec\n",
    "    x_test_word.append(sentence_vector)"
   ]
  },
  {
   "cell_type": "code",
   "execution_count": 467,
   "metadata": {},
   "outputs": [
    {
     "data": {
      "text/plain": [
       "[1941, 2939, 3346, 5880, 27000]"
      ]
     },
     "execution_count": 467,
     "metadata": {},
     "output_type": "execute_result"
    }
   ],
   "source": [
    "#checking row containing nan value\n",
    "z=list(np.unique(np.where(np.isnan(x_test_word))[0]))\n",
    "z"
   ]
  },
  {
   "cell_type": "code",
   "execution_count": 468,
   "metadata": {},
   "outputs": [],
   "source": [
    "#deleting row containing nan value\n",
    "x_test_word=np.delete(x_test_word, z, axis=0)\n",
    "y_test_word=np.array(y_test)\n",
    "y_test_word=np.delete(y_test_word, z, axis=0)"
   ]
  },
  {
   "cell_type": "code",
   "execution_count": null,
   "metadata": {},
   "outputs": [],
   "source": []
  },
  {
   "cell_type": "code",
   "execution_count": 469,
   "metadata": {},
   "outputs": [],
   "source": [
    "# applying normalization on every columns\n",
    "\n",
    "vectors=normalize(vectors)\n",
    "x_test_word=normalize(x_test_word)"
   ]
  },
  {
   "cell_type": "code",
   "execution_count": null,
   "metadata": {},
   "outputs": [],
   "source": []
  },
  {
   "cell_type": "markdown",
   "metadata": {},
   "source": [
    "###  Logistic regression for avg word2vec using GridSearchCV "
   ]
  },
  {
   "cell_type": "code",
   "execution_count": 470,
   "metadata": {},
   "outputs": [],
   "source": [
    "\n",
    "tscv=TimeSeriesSplit(n_splits=10)\n",
    "penalty=['l2','l1']\n",
    "param={'C': [0.001, 0.005, 0.01, 0.05, 0.1, 0.5, 1, 5, 10, 50, 100, 500,1000], 'penalty':penalty}\n",
    "clf=LogisticRegression()\n",
    "clf=GridSearchCV(estimator=clf, param_grid=param, cv=tscv,  n_jobs=1, verbose=1)"
   ]
  },
  {
   "cell_type": "code",
   "execution_count": 471,
   "metadata": {},
   "outputs": [
    {
     "name": "stdout",
     "output_type": "stream",
     "text": [
      "CPU times: user 0 ns, sys: 0 ns, total: 0 ns\n",
      "Wall time: 13.4 µs\n",
      "Fitting 10 folds for each of 26 candidates, totalling 260 fits\n"
     ]
    },
    {
     "name": "stderr",
     "output_type": "stream",
     "text": [
      "[Parallel(n_jobs=1)]: Done 260 out of 260 | elapsed: 26.0min finished\n"
     ]
    },
    {
     "name": "stdout",
     "output_type": "stream",
     "text": [
      "duration =  0:26:30.123227\n"
     ]
    }
   ],
   "source": [
    "# fitting the model\n",
    "%time\n",
    "start=datetime.now()\n",
    "clf.fit(vectors,y_train_word)\n",
    "#pickle.dump(clf,open('bow_bigram_balanced_random.p','wb'))\n",
    "end=datetime.now()\n",
    "print('duration = ',(end-start))"
   ]
  },
  {
   "cell_type": "code",
   "execution_count": 472,
   "metadata": {},
   "outputs": [
    {
     "name": "stdout",
     "output_type": "stream",
     "text": [
      "best C= 5\n",
      "best penalty= l1\n"
     ]
    }
   ],
   "source": [
    "# best value of C\n",
    "c=clf.best_estimator_.get_params()['C']\n",
    "penalty=clf.best_estimator_.get_params()['penalty']\n",
    "print('best C=',c)\n",
    "print('best penalty=',penalty)"
   ]
  },
  {
   "cell_type": "code",
   "execution_count": 473,
   "metadata": {},
   "outputs": [
    {
     "data": {
      "image/png": "[encoded data removed]",
      "text/plain": [
       "<matplotlib.figure.Figure at 0x3ffde9fe9f60>"
      ]
     },
     "metadata": {},
     "output_type": "display_data"
    },
    {
     "name": "stdout",
     "output_type": "stream",
     "text": [
      "**********************************************************************\n",
      "\n",
      "accuracy= 89.28154692448742\n",
      "**********************************************************************\n",
      "\n",
      "confusion matrix--\n"
     ]
    },
    {
     "data": {
      "image/png": "[encoded data removed]",
      "text/plain": [
       "<matplotlib.figure.Figure at 0x3ffde5fc1da0>"
      ]
     },
     "metadata": {},
     "output_type": "display_data"
    },
    {
     "name": "stdout",
     "output_type": "stream",
     "text": [
      "**********************************************************************\n",
      "\n",
      "TNR= 0.2664303245159531\n",
      "TPR= 0.9800592525068368\n",
      "FPR= 0.733569675484047\n",
      "FNR= 0.019940747493163172\n",
      "**********************************************************************\n",
      "\n",
      "             precision    recall  f1-score   support\n",
      "\n",
      "          0       0.27      0.65      0.38      1502\n",
      "          1       0.98      0.91      0.94     28493\n",
      "\n",
      "avg / total       0.94      0.89      0.91     29995\n",
      "\n",
      "**********************************************************************\n",
      "\n"
     ]
    },
    {
     "data": {
      "image/png": "[encoded data removed]",
      "text/plain": [
       "<matplotlib.figure.Figure at 0x3ffde9fa7908>"
      ]
     },
     "metadata": {},
     "output_type": "display_data"
    }
   ],
   "source": [
    "accu, auc, TNR, TPR, FPR, FNR=logistic_regression(clf=clf, x_train=vectors, y_train=y_train_word, x_test=x_test_word, y_test=y_test_word)"
   ]
  },
  {
   "cell_type": "code",
   "execution_count": null,
   "metadata": {},
   "outputs": [],
   "source": []
  },
  {
   "cell_type": "markdown",
   "metadata": {},
   "source": [
    "###  Logistic regression for avg word2vec using RandomizedSearchCV"
   ]
  },
  {
   "cell_type": "code",
   "execution_count": 474,
   "metadata": {},
   "outputs": [],
   "source": [
    "#from sklearn.model_selection import RandomizedSearchCV\n",
    "from sklearn.model_selection import RandomizedSearchCV\n",
    "tscv=TimeSeriesSplit(n_splits=10)\n",
    "penalty=['l2','l1']\n",
    "#c=np.random.uniform(0,100,size=10)\n",
    "#c=[round(x,3) for x in c]\n",
    "param={'C': [0.0001, 0.001, 0.005, 0.01, 0.05, 0.1, 0.5, 1, 5, 50, 100, 200, 500, 1000], 'penalty':penalty}\n",
    "clf=LogisticRegression()\n",
    "clf=RandomizedSearchCV(estimator=clf, param_distributions=param, cv=tscv,  verbose=1)"
   ]
  },
  {
   "cell_type": "code",
   "execution_count": 475,
   "metadata": {},
   "outputs": [
    {
     "name": "stdout",
     "output_type": "stream",
     "text": [
      "CPU times: user 0 ns, sys: 0 ns, total: 0 ns\n",
      "Wall time: 12.2 µs\n",
      "Fitting 10 folds for each of 10 candidates, totalling 100 fits\n"
     ]
    },
    {
     "name": "stderr",
     "output_type": "stream",
     "text": [
      "[Parallel(n_jobs=1)]: Done 100 out of 100 | elapsed: 11.3min finished\n"
     ]
    },
    {
     "name": "stdout",
     "output_type": "stream",
     "text": [
      "duration =  0:11:48.305177\n"
     ]
    }
   ],
   "source": [
    "# fitting the model\n",
    "%time\n",
    "start=datetime.now()\n",
    "clf.fit(vectors,y_train_word)\n",
    "#pickle.dump(clf,open('bow_bigram_balanced_random.p','wb'))\n",
    "end=datetime.now()\n",
    "print('duration = ',(end-start))"
   ]
  },
  {
   "cell_type": "code",
   "execution_count": 476,
   "metadata": {},
   "outputs": [
    {
     "name": "stdout",
     "output_type": "stream",
     "text": [
      "best C= 50\n",
      "best penalty= l1\n"
     ]
    }
   ],
   "source": [
    "# best value of C\n",
    "c=clf.best_estimator_.get_params()['C']\n",
    "penalty=clf.best_estimator_.get_params()['penalty']\n",
    "print('best C=',c)\n",
    "print('best penalty=',penalty)"
   ]
  },
  {
   "cell_type": "code",
   "execution_count": 477,
   "metadata": {},
   "outputs": [
    {
     "data": {
      "image/png": "[encoded data removed]",
      "text/plain": [
       "<matplotlib.figure.Figure at 0x3ffde62d7cf8>"
      ]
     },
     "metadata": {},
     "output_type": "display_data"
    },
    {
     "name": "stdout",
     "output_type": "stream",
     "text": [
      "**********************************************************************\n",
      "\n",
      "accuracy= 89.3082180363394\n",
      "**********************************************************************\n",
      "\n",
      "confusion matrix--\n"
     ]
    },
    {
     "data": {
      "image/png": "[encoded data removed]",
      "text/plain": [
       "<matplotlib.figure.Figure at 0x3ffde9e335c0>"
      ]
     },
     "metadata": {},
     "output_type": "display_data"
    },
    {
     "name": "stdout",
     "output_type": "stream",
     "text": [
      "**********************************************************************\n",
      "\n",
      "TNR= 0.27106626670302697\n",
      "TPR= 0.9797174111212398\n",
      "FPR= 0.728933733296973\n",
      "FNR= 0.020282588878760256\n",
      "**********************************************************************\n",
      "\n",
      "             precision    recall  f1-score   support\n",
      "\n",
      "          0       0.27      0.65      0.38      1528\n",
      "          1       0.98      0.91      0.94     28467\n",
      "\n",
      "avg / total       0.94      0.89      0.91     29995\n",
      "\n",
      "**********************************************************************\n",
      "\n"
     ]
    },
    {
     "data": {
      "image/png": "[encoded data removed]",
      "text/plain": [
       "<matplotlib.figure.Figure at 0x3ffde9e0a4a8>"
      ]
     },
     "metadata": {},
     "output_type": "display_data"
    }
   ],
   "source": [
    "accu, auc, TNR, TPR, FPR, FNR=logistic_regression(clf=clf, x_train=vectors, y_train=y_train_word, x_test=x_test_word, y_test=y_test_word)"
   ]
  },
  {
   "cell_type": "code",
   "execution_count": null,
   "metadata": {},
   "outputs": [],
   "source": []
  },
  {
   "cell_type": "code",
   "execution_count": null,
   "metadata": {},
   "outputs": [],
   "source": []
  },
  {
   "cell_type": "markdown",
   "metadata": {},
   "source": [
    "#### Observation-\n",
    "* we can have best C=5 and best penalty=l1  as a best hyperparameter"
   ]
  },
  {
   "cell_type": "markdown",
   "metadata": {},
   "source": [
    "### checking sparsity of avg word2vec by fixing penalty='l1' and changing C value"
   ]
  },
  {
   "cell_type": "code",
   "execution_count": 478,
   "metadata": {},
   "outputs": [
    {
     "name": "stdout",
     "output_type": "stream",
     "text": [
      "at C= 1e-05\n",
      "test error= 0.8777462910485081\n",
      "number of non zero element in w= 0\n",
      "***********************************************\n",
      "at C= 0.0001\n",
      "test error= 0.1222537089514919\n",
      "number of non zero element in w= 0\n",
      "***********************************************\n",
      "at C= 0.0005\n",
      "test error= 0.1222537089514919\n",
      "number of non zero element in w= 0\n",
      "***********************************************\n",
      "at C= 0.001\n",
      "test error= 0.1222537089514919\n",
      "number of non zero element in w= 0\n",
      "***********************************************\n",
      "at C= 0.005\n",
      "test error= 0.1222537089514919\n",
      "number of non zero element in w= 0\n",
      "***********************************************\n",
      "at C= 0.01\n",
      "test error= 0.1222537089514919\n",
      "number of non zero element in w= 6\n",
      "***********************************************\n",
      "at C= 0.05\n",
      "test error= 0.11878646441073515\n",
      "number of non zero element in w= 68\n",
      "***********************************************\n",
      "at C= 0.1\n",
      "test error= 0.11431905317552926\n",
      "number of non zero element in w= 122\n",
      "***********************************************\n",
      "at C= 0.5\n",
      "test error= 0.10835139189864973\n",
      "number of non zero element in w= 237\n",
      "***********************************************\n",
      "at C= 1\n",
      "test error= 0.10755125854309056\n",
      "number of non zero element in w= 267\n",
      "***********************************************\n",
      "at C= 5\n",
      "test error= 0.1071845307551259\n",
      "number of non zero element in w= 291\n",
      "***********************************************\n",
      "at C= 10\n",
      "test error= 0.10705117519586593\n",
      "number of non zero element in w= 295\n",
      "***********************************************\n",
      "at C= 50\n",
      "test error= 0.10691781963660607\n",
      "number of non zero element in w= 299\n",
      "***********************************************\n"
     ]
    },
    {
     "data": {
      "image/png": "[encoded data removed]",
      "text/plain": [
       "<matplotlib.figure.Figure at 0x3ffde9dda6a0>"
      ]
     },
     "metadata": {},
     "output_type": "display_data"
    }
   ],
   "source": [
    "C= [0.00001, 0.0001, 0.0005, 0.001, 0.005, 0.01, 0.05, 0.1, 0.5, 1,5,10,50]\n",
    "_=sparsity(C, x_train=vectors, x_test=x_test_word, y_train=y_train_word, y_test=y_test_word)"
   ]
  },
  {
   "cell_type": "markdown",
   "metadata": {},
   "source": [
    "#### Observation-\n",
    "* as we increase value of C(decreasing lambda) the sparsity decreases"
   ]
  },
  {
   "cell_type": "code",
   "execution_count": null,
   "metadata": {},
   "outputs": [],
   "source": []
  },
  {
   "cell_type": "markdown",
   "metadata": {},
   "source": [
    "### feature importance and multicollinearity for avg word2vec using the best C=5 and penalty='l1'"
   ]
  },
  {
   "cell_type": "code",
   "execution_count": 479,
   "metadata": {},
   "outputs": [
    {
     "name": "stdout",
     "output_type": "stream",
     "text": [
      "number of non-zero element in w= 291\n"
     ]
    }
   ],
   "source": [
    "clf=LogisticRegression(C=5, penalty='l1')\n",
    "clf.fit(vectors,y_train_word)\n",
    "w=clf.coef_\n",
    "print('number of non-zero element in w=', np.count_nonzero(w))"
   ]
  },
  {
   "cell_type": "code",
   "execution_count": 480,
   "metadata": {},
   "outputs": [],
   "source": [
    "# for findind feature importance we need to check multicollinearity\n",
    "# apply perturbation test for checking multicollinearity\n",
    "# in perturbation test, we add some noise to the training data and the fit the model\n",
    "# the w we will get after fittng the model, if it is significantly different than w which we get without any error adding then we will say it is multicollinear\n",
    "\n",
    "vectors.data=vectors.data+np.random.normal(loc=0,scale=0.1,size=vectors.data.shape)  #adding a noise with a very small value"
   ]
  },
  {
   "cell_type": "code",
   "execution_count": 482,
   "metadata": {},
   "outputs": [
    {
     "name": "stdout",
     "output_type": "stream",
     "text": [
      "number of non-zero element in w= 299\n"
     ]
    }
   ],
   "source": [
    "clf=LogisticRegression(C=5, penalty='l1')\n",
    "clf.fit(vectors,y_train_word)\n",
    "w_=clf.coef_\n",
    "print('number of non-zero element in w=', np.count_nonzero(w_))"
   ]
  },
  {
   "cell_type": "code",
   "execution_count": 483,
   "metadata": {},
   "outputs": [
    {
     "name": "stdout",
     "output_type": "stream",
     "text": [
      "number of elements in w_delta, more than 50 %= 284\n"
     ]
    }
   ],
   "source": [
    "w_delta=abs((w-w_)/w)*100\n",
    "cnt=0\n",
    "for i in range(len(w_delta[0])):\n",
    "    if (w_delta[0][i]>50):\n",
    "        cnt+=1\n",
    "print('number of elements in w_delta, more than 50 %=',cnt)"
   ]
  },
  {
   "cell_type": "code",
   "execution_count": 484,
   "metadata": {},
   "outputs": [
    {
     "name": "stdout",
     "output_type": "stream",
     "text": [
      "top 10 elements of weight--\n",
      "******************************\n"
     ]
    },
    {
     "data": {
      "text/plain": [
       "array([4.65127493, 4.66369606, 4.92283746, 4.92500915, 4.99378627,\n",
       "       5.23350204, 5.90100258, 5.96195203, 6.86007203, 8.32286503])"
      ]
     },
     "execution_count": 484,
     "metadata": {},
     "output_type": "execute_result"
    }
   ],
   "source": [
    "print('top 10 elements of weight--')\n",
    "print('******************************')\n",
    "np.sort(w[0])[-10:]"
   ]
  },
  {
   "cell_type": "markdown",
   "metadata": {},
   "source": [
    "#### Observation-\n",
    "* only 284 in 300 elements having change more than 50 %, we may not put in collinear category\n",
    "* we can't find the important words in avg word2vec"
   ]
  },
  {
   "cell_type": "code",
   "execution_count": null,
   "metadata": {},
   "outputs": [],
   "source": []
  },
  {
   "cell_type": "code",
   "execution_count": null,
   "metadata": {},
   "outputs": [],
   "source": []
  },
  {
   "cell_type": "markdown",
   "metadata": {},
   "source": [
    "# 4. Logistic Regression for TfIdf word2vec"
   ]
  },
  {
   "cell_type": "code",
   "execution_count": 485,
   "metadata": {},
   "outputs": [],
   "source": [
    "from sklearn.feature_extraction.text import TfidfVectorizer\n",
    "tfidf=TfidfVectorizer(ngram_range=(1,1))\n",
    "x_train_tfidf=tfidf.fit_transform(X.values)\n",
    "x_test_tfidf=tfidf.transform(x_test.values)"
   ]
  },
  {
   "cell_type": "code",
   "execution_count": 486,
   "metadata": {},
   "outputs": [
    {
     "data": {
      "text/plain": [
       "27431"
      ]
     },
     "execution_count": 486,
     "metadata": {},
     "output_type": "execute_result"
    }
   ],
   "source": [
    "features=tfidf.get_feature_names()\n",
    "len(features)\n",
    "#features"
   ]
  },
  {
   "cell_type": "code",
   "execution_count": 487,
   "metadata": {},
   "outputs": [
    {
     "data": {
      "text/plain": [
       "27431"
      ]
     },
     "execution_count": 487,
     "metadata": {},
     "output_type": "execute_result"
    }
   ],
   "source": [
    "features=tfidf.get_feature_names()\n",
    "len(features)\n",
    "#features"
   ]
  },
  {
   "cell_type": "code",
   "execution_count": 521,
   "metadata": {},
   "outputs": [],
   "source": [
    "#calculating tf-idf w2vec\n",
    "tfidf_vectors = []; \n",
    "row=0;\n",
    "for sentence in list_of_sentences: \n",
    "    sentence_vec = np.zeros(300) \n",
    "    weight_sum =0; \n",
    "    for word in sentence: \n",
    "        try:\n",
    "            vec = model.wv[word]\n",
    "            tf_idf = x_train_tfidf[row, features.index(word)]\n",
    "            sentence_vec += (vec * tf_idf)\n",
    "            weight_sum += tf_idf\n",
    "        except:\n",
    "            pass\n",
    "    sentence_vec /= weight_sum\n",
    "    tfidf_vectors.append(sentence_vec)\n",
    "    row += 1"
   ]
  },
  {
   "cell_type": "code",
   "execution_count": 522,
   "metadata": {},
   "outputs": [
    {
     "data": {
      "text/plain": [
       "[442,\n",
       " 855,\n",
       " 6550,\n",
       " 6941,\n",
       " 8428,\n",
       " 12673,\n",
       " 14212,\n",
       " 14581,\n",
       " 17277,\n",
       " 25826,\n",
       " 25887,\n",
       " 29528,\n",
       " 32691,\n",
       " 33866,\n",
       " 53924,\n",
       " 65198,\n",
       " 66333,\n",
       " 67442,\n",
       " 68907]"
      ]
     },
     "execution_count": 522,
     "metadata": {},
     "output_type": "execute_result"
    }
   ],
   "source": [
    "z=list(np.unique(np.where(np.isnan(tfidf_vectors))[0]))\n",
    "z"
   ]
  },
  {
   "cell_type": "code",
   "execution_count": 523,
   "metadata": {},
   "outputs": [],
   "source": [
    "\n",
    "y_train_word=np.array(y_train)\n",
    "y_train_word=np.delete(y_train_word, z, axis=0)\n",
    "tfidf_vectors=np.delete(tfidf_vectors, z, axis=0)\n",
    "\n"
   ]
  },
  {
   "cell_type": "code",
   "execution_count": 524,
   "metadata": {},
   "outputs": [],
   "source": [
    "#calculating tf-idf w2vec\n",
    "x_test_tf_word = []; \n",
    "row=0;\n",
    "for sentence in x_test.values: \n",
    "    sentence_vec = np.zeros(300) \n",
    "    weight_sum =0; \n",
    "    for word in sentence.split():\n",
    "        if(word==sentence.split()[0]):\n",
    "            word=word[2:]\n",
    "        \n",
    "        try:\n",
    "            vec = model.wv[word]\n",
    "            tf_idf = x_test_tfidf[row, features.index(word)]\n",
    "            sentence_vec += (vec * tf_idf)\n",
    "            weight_sum += tf_idf\n",
    "        except:\n",
    "            pass\n",
    "    sentence_vec /= weight_sum\n",
    "    x_test_tf_word.append(sentence_vec)\n",
    "    row += 1"
   ]
  },
  {
   "cell_type": "code",
   "execution_count": 525,
   "metadata": {},
   "outputs": [
    {
     "data": {
      "text/plain": [
       "[1941, 2939, 3346, 5880, 27000]"
      ]
     },
     "execution_count": 525,
     "metadata": {},
     "output_type": "execute_result"
    }
   ],
   "source": [
    "z=list(np.unique(np.where(np.isnan(x_test_tf_word))[0]))\n",
    "z"
   ]
  },
  {
   "cell_type": "code",
   "execution_count": 526,
   "metadata": {},
   "outputs": [
    {
     "data": {
      "text/plain": [
       "29995"
      ]
     },
     "execution_count": 526,
     "metadata": {},
     "output_type": "execute_result"
    }
   ],
   "source": [
    "x_test_tf_word=np.delete(x_test_tf_word, z , axis=0)\n",
    "len(x_test_tf_word)"
   ]
  },
  {
   "cell_type": "code",
   "execution_count": 527,
   "metadata": {},
   "outputs": [
    {
     "data": {
      "text/plain": [
       "29995"
      ]
     },
     "execution_count": 527,
     "metadata": {},
     "output_type": "execute_result"
    }
   ],
   "source": [
    "y_test_word=np.array(y_test)\n",
    "y_test_word=np.delete(y_test_word, z, axis=0)\n",
    "len(x_test_word)"
   ]
  },
  {
   "cell_type": "code",
   "execution_count": 528,
   "metadata": {},
   "outputs": [],
   "source": [
    "\n",
    "tfidf_vectors=normalize(tfidf_vectors)\n",
    "x_test_tf_word=normalize(x_test_tf_word)"
   ]
  },
  {
   "cell_type": "markdown",
   "metadata": {},
   "source": [
    "###  Logistic regression for TfIdf word2vec using GridSearchCV"
   ]
  },
  {
   "cell_type": "code",
   "execution_count": 507,
   "metadata": {},
   "outputs": [],
   "source": [
    "\n",
    "tscv=TimeSeriesSplit(n_splits=10)\n",
    "penalty=['l2','l1']\n",
    "param={'C': [0.001, 0.005, 0.01, 0.05, 0.1, 0.5, 1, 5, 10, 50, 100, 500,1000], 'penalty':penalty}\n",
    "clf=LogisticRegression()\n",
    "clf=GridSearchCV(estimator=clf, param_grid=param, cv=tscv,  n_jobs=1, verbose=1)"
   ]
  },
  {
   "cell_type": "code",
   "execution_count": 508,
   "metadata": {},
   "outputs": [
    {
     "name": "stdout",
     "output_type": "stream",
     "text": [
      "CPU times: user 0 ns, sys: 0 ns, total: 0 ns\n",
      "Wall time: 9.78 µs\n",
      "Fitting 10 folds for each of 26 candidates, totalling 260 fits\n"
     ]
    },
    {
     "name": "stderr",
     "output_type": "stream",
     "text": [
      "[Parallel(n_jobs=1)]: Done 260 out of 260 | elapsed: 21.3min finished\n"
     ]
    },
    {
     "name": "stdout",
     "output_type": "stream",
     "text": [
      "duration =  0:21:40.582714\n"
     ]
    }
   ],
   "source": [
    "# fitting the model\n",
    "%time\n",
    "start=datetime.now()\n",
    "clf.fit(tfidf_vectors,y_train_word)\n",
    "#pickle.dump(clf,open('bow_bigram_balanced_random.p','wb'))\n",
    "end=datetime.now()\n",
    "print('duration = ',(end-start))"
   ]
  },
  {
   "cell_type": "code",
   "execution_count": 509,
   "metadata": {},
   "outputs": [
    {
     "name": "stdout",
     "output_type": "stream",
     "text": [
      "best C= 5\n",
      "best penalty= l1\n"
     ]
    }
   ],
   "source": [
    "# best value of C\n",
    "c=clf.best_estimator_.get_params()['C']\n",
    "penalty=clf.best_estimator_.get_params()['penalty']\n",
    "print('best C=',c)\n",
    "print('best penalty=',penalty)"
   ]
  },
  {
   "cell_type": "code",
   "execution_count": 510,
   "metadata": {},
   "outputs": [
    {
     "data": {
      "image/png": "[encoded data removed]",
      "text/plain": [
       "<matplotlib.figure.Figure at 0x3ffde88eec18>"
      ]
     },
     "metadata": {},
     "output_type": "display_data"
    },
    {
     "name": "stdout",
     "output_type": "stream",
     "text": [
      "**********************************************************************\n",
      "\n",
      "accuracy= 88.92148691448575\n",
      "**********************************************************************\n",
      "\n",
      "confusion matrix--\n"
     ]
    },
    {
     "data": {
      "image/png": "[encoded data removed]",
      "text/plain": [
       "<matplotlib.figure.Figure at 0x3ffde9efb6a0>"
      ]
     },
     "metadata": {},
     "output_type": "display_data"
    },
    {
     "name": "stdout",
     "output_type": "stream",
     "text": [
      "**********************************************************************\n",
      "\n",
      "TNR= 0.16443959640032724\n",
      "TPR= 0.9901625645700395\n",
      "FPR= 0.8355604035996728\n",
      "FNR= 0.009837435429960498\n",
      "**********************************************************************\n",
      "\n",
      "             precision    recall  f1-score   support\n",
      "\n",
      "          0       0.16      0.70      0.27       862\n",
      "          1       0.99      0.89      0.94     29133\n",
      "\n",
      "avg / total       0.97      0.89      0.92     29995\n",
      "\n",
      "**********************************************************************\n",
      "\n"
     ]
    },
    {
     "data": {
      "image/png": "[encoded data removed]",
      "text/plain": [
       "<matplotlib.figure.Figure at 0x3ffde5c4f048>"
      ]
     },
     "metadata": {},
     "output_type": "display_data"
    }
   ],
   "source": [
    "accu, auc, TNR, TPR, FPR, FNR=logistic_regression(clf=clf, x_train=tfidf_vectors, y_train=y_train_word, x_test=x_test_word, y_test=y_test_word)"
   ]
  },
  {
   "cell_type": "code",
   "execution_count": null,
   "metadata": {},
   "outputs": [],
   "source": []
  },
  {
   "cell_type": "markdown",
   "metadata": {},
   "source": [
    "###  Logistic regression for TfIdf word2vec using RandomizedSearchCV"
   ]
  },
  {
   "cell_type": "code",
   "execution_count": 529,
   "metadata": {},
   "outputs": [],
   "source": [
    "#from sklearn.model_selection import RandomizedSearchCV\n",
    "from sklearn.model_selection import RandomizedSearchCV\n",
    "tscv=TimeSeriesSplit(n_splits=10)\n",
    "penalty=['l2','l1']\n",
    "#c=np.random.uniform(0,100,size=10)\n",
    "#c=[round(x,3) for x in c]\n",
    "param={'C': [0.0001, 0.001, 0.005, 0.01, 0.05, 0.1, 0.5, 1, 5, 50, 100, 200, 500, 1000], 'penalty':penalty}\n",
    "clf=LogisticRegression()\n",
    "clf=RandomizedSearchCV(estimator=clf, param_distributions=param, cv=tscv,  verbose=1)"
   ]
  },
  {
   "cell_type": "code",
   "execution_count": 530,
   "metadata": {},
   "outputs": [
    {
     "name": "stdout",
     "output_type": "stream",
     "text": [
      "CPU times: user 0 ns, sys: 0 ns, total: 0 ns\n",
      "Wall time: 10.5 µs\n",
      "Fitting 10 folds for each of 10 candidates, totalling 100 fits\n"
     ]
    },
    {
     "name": "stderr",
     "output_type": "stream",
     "text": [
      "[Parallel(n_jobs=1)]: Done 100 out of 100 | elapsed:  4.9min finished\n"
     ]
    },
    {
     "name": "stdout",
     "output_type": "stream",
     "text": [
      "duration =  0:05:16.340060\n"
     ]
    }
   ],
   "source": [
    "# fitting the model\n",
    "%time\n",
    "start=datetime.now()\n",
    "clf.fit(tfidf_vectors,y_train_word)\n",
    "#pickle.dump(clf,open('bow_bigram_balanced_random.p','wb'))\n",
    "end=datetime.now()\n",
    "print('duration = ',(end-start))"
   ]
  },
  {
   "cell_type": "code",
   "execution_count": 531,
   "metadata": {},
   "outputs": [
    {
     "name": "stdout",
     "output_type": "stream",
     "text": [
      "best C= 5\n",
      "best penalty= l1\n"
     ]
    }
   ],
   "source": [
    "# best value of C\n",
    "c=clf.best_estimator_.get_params()['C']\n",
    "penalty=clf.best_estimator_.get_params()['penalty']\n",
    "print('best C=',c)\n",
    "print('best penalty=',penalty)"
   ]
  },
  {
   "cell_type": "code",
   "execution_count": 532,
   "metadata": {},
   "outputs": [
    {
     "data": {
      "image/png": "[encoded data removed]",
      "text/plain": [
       "<matplotlib.figure.Figure at 0x3ffde5a7f780>"
      ]
     },
     "metadata": {},
     "output_type": "display_data"
    },
    {
     "name": "stdout",
     "output_type": "stream",
     "text": [
      "**********************************************************************\n",
      "\n",
      "accuracy= 88.92148691448575\n",
      "**********************************************************************\n",
      "\n",
      "confusion matrix--\n"
     ]
    },
    {
     "data": {
      "image/png": "[encoded data removed]",
      "text/plain": [
       "<matplotlib.figure.Figure at 0x3ffde53ec668>"
      ]
     },
     "metadata": {},
     "output_type": "display_data"
    },
    {
     "name": "stdout",
     "output_type": "stream",
     "text": [
      "**********************************************************************\n",
      "\n",
      "TNR= 0.16443959640032724\n",
      "TPR= 0.9901625645700395\n",
      "FPR= 0.8355604035996728\n",
      "FNR= 0.009837435429960498\n",
      "**********************************************************************\n",
      "\n",
      "             precision    recall  f1-score   support\n",
      "\n",
      "          0       0.16      0.70      0.27       862\n",
      "          1       0.99      0.89      0.94     29133\n",
      "\n",
      "avg / total       0.97      0.89      0.92     29995\n",
      "\n",
      "**********************************************************************\n",
      "\n"
     ]
    },
    {
     "data": {
      "image/png": "[encoded data removed]",
      "text/plain": [
       "<matplotlib.figure.Figure at 0x3ffde598d048>"
      ]
     },
     "metadata": {},
     "output_type": "display_data"
    }
   ],
   "source": [
    "accu, auc, TNR, TPR, FPR, FNR=logistic_regression(clf=clf, x_train=tfidf_vectors, y_train=y_train_word, x_test=x_test_word, y_test=y_test_word)"
   ]
  },
  {
   "cell_type": "markdown",
   "metadata": {},
   "source": [
    "#### Observation-\n",
    "* we can choose C=0.005 and  penalty='l2' as a best hyperparameter for Tfidf word2vec"
   ]
  },
  {
   "cell_type": "code",
   "execution_count": null,
   "metadata": {},
   "outputs": [],
   "source": []
  },
  {
   "cell_type": "markdown",
   "metadata": {},
   "source": [
    "### checking sparsity of TfIdf word2vec by fixing penalty='l1' and changing C value"
   ]
  },
  {
   "cell_type": "code",
   "execution_count": 511,
   "metadata": {},
   "outputs": [
    {
     "name": "stdout",
     "output_type": "stream",
     "text": [
      "at C= 1e-05\n",
      "test error= 0.8777462910485081\n",
      "number of non zero element in w= 0\n",
      "***********************************************\n",
      "at C= 0.0001\n",
      "test error= 0.1222537089514919\n",
      "number of non zero element in w= 0\n",
      "***********************************************\n",
      "at C= 0.0005\n",
      "test error= 0.1222537089514919\n",
      "number of non zero element in w= 0\n",
      "***********************************************\n",
      "at C= 0.001\n",
      "test error= 0.1222537089514919\n",
      "number of non zero element in w= 0\n",
      "***********************************************\n",
      "at C= 0.005\n",
      "test error= 0.1222537089514919\n",
      "number of non zero element in w= 0\n",
      "***********************************************\n",
      "at C= 0.01\n",
      "test error= 0.1222537089514919\n",
      "number of non zero element in w= 2\n",
      "***********************************************\n",
      "at C= 0.05\n",
      "test error= 0.12098683113852304\n",
      "number of non zero element in w= 79\n",
      "***********************************************\n",
      "at C= 0.1\n",
      "test error= 0.11685280880146687\n",
      "number of non zero element in w= 132\n",
      "***********************************************\n",
      "at C= 0.5\n",
      "test error= 0.11318553092182027\n",
      "number of non zero element in w= 259\n",
      "***********************************************\n",
      "at C= 1\n",
      "test error= 0.11275212535422574\n",
      "number of non zero element in w= 275\n",
      "***********************************************\n",
      "at C= 5\n",
      "test error= 0.11308551425237534\n",
      "number of non zero element in w= 294\n",
      "***********************************************\n",
      "at C= 10\n",
      "test error= 0.11315219203200533\n",
      "number of non zero element in w= 297\n",
      "***********************************************\n",
      "at C= 50\n",
      "test error= 0.11338556426071011\n",
      "number of non zero element in w= 299\n",
      "***********************************************\n"
     ]
    },
    {
     "data": {
      "image/png": "[encoded data removed]",
      "text/plain": [
       "<matplotlib.figure.Figure at 0x3ffde5bc9da0>"
      ]
     },
     "metadata": {},
     "output_type": "display_data"
    }
   ],
   "source": [
    "C= [0.00001, 0.0001, 0.0005, 0.001, 0.005, 0.01, 0.05, 0.1, 0.5, 1, 5, 10, 50]\n",
    "_=sparsity(C, x_train=tfidf_vectors, x_test=x_test_tf_word, y_train=y_train_word, y_test=y_test_word)"
   ]
  },
  {
   "cell_type": "markdown",
   "metadata": {},
   "source": [
    "#### Observation-\n",
    "* as we increase value of C(decreasing lambda) the sparsity decreases"
   ]
  },
  {
   "cell_type": "code",
   "execution_count": null,
   "metadata": {},
   "outputs": [],
   "source": []
  },
  {
   "cell_type": "markdown",
   "metadata": {},
   "source": [
    "### feature importance and multicollinearity for avg word2vec using the best C=0.005 and penalty='l2'"
   ]
  },
  {
   "cell_type": "code",
   "execution_count": 512,
   "metadata": {},
   "outputs": [
    {
     "name": "stdout",
     "output_type": "stream",
     "text": [
      "number of non-zero element in w= 300\n"
     ]
    }
   ],
   "source": [
    "clf=LogisticRegression(C=0.005, penalty='l2')\n",
    "clf.fit(tfidf_vectors,y_train_word)\n",
    "w=clf.coef_\n",
    "print('number of non-zero element in w=', np.count_nonzero(w))"
   ]
  },
  {
   "cell_type": "code",
   "execution_count": 513,
   "metadata": {},
   "outputs": [],
   "source": [
    "# for findind feature importance we need to check multicollinearity\n",
    "# apply perturbation test for checking multicollinearity\n",
    "# in perturbation test, we add some noise to the training data and the fit the model\n",
    "# the w we will get after fittng the model, if it is significantly different than w which we get without any error adding then we will say it is multicollinear\n",
    "\n",
    "tfidf_vectors.data=tfidf_vectors.data+np.random.normal(loc=0,scale=0.1,size=tfidf_vectors.data.shape)  #adding a noise with a very small value"
   ]
  },
  {
   "cell_type": "code",
   "execution_count": 514,
   "metadata": {},
   "outputs": [
    {
     "name": "stdout",
     "output_type": "stream",
     "text": [
      "number of non-zero element in w= 300\n"
     ]
    }
   ],
   "source": [
    "clf=LogisticRegression(C=0.005, penalty='l2')\n",
    "clf.fit(tfidf_vectors,y_train_word)\n",
    "w_=clf.coef_\n",
    "print('number of non-zero element in w=', np.count_nonzero(w_))"
   ]
  },
  {
   "cell_type": "code",
   "execution_count": 515,
   "metadata": {},
   "outputs": [
    {
     "name": "stdout",
     "output_type": "stream",
     "text": [
      "number of elements in w_delta, more than 50 %= 71\n"
     ]
    }
   ],
   "source": [
    "w_delta=abs((w-w_)/w)*100\n",
    "cnt=0\n",
    "for i in range(len(w_delta[0])):\n",
    "    if (w_delta[0][i]>50):\n",
    "        cnt+=1\n",
    "print('number of elements in w_delta, more than 50 %=',cnt)"
   ]
  },
  {
   "cell_type": "code",
   "execution_count": 516,
   "metadata": {},
   "outputs": [
    {
     "name": "stdout",
     "output_type": "stream",
     "text": [
      "top 10 elements of weight--\n",
      "******************************\n"
     ]
    },
    {
     "data": {
      "text/plain": [
       "array([0.2575855 , 0.26723612, 0.2898365 , 0.31176242, 0.33825084,\n",
       "       0.34271317, 0.34814893, 0.35371658, 0.36860419, 0.38407761])"
      ]
     },
     "execution_count": 516,
     "metadata": {},
     "output_type": "execute_result"
    }
   ],
   "source": [
    "print('top 10 elements of weight--')\n",
    "print('******************************')\n",
    "np.sort(w)[0][-10:]"
   ]
  },
  {
   "cell_type": "markdown",
   "metadata": {},
   "source": [
    "#### Observation-\n",
    "* only 71 in 300 elements having change more than 50 %, we may not put in collinear category\n",
    "* we can't find the important words in TfIdf word2vec"
   ]
  },
  {
   "cell_type": "code",
   "execution_count": null,
   "metadata": {},
   "outputs": [],
   "source": []
  },
  {
   "cell_type": "code",
   "execution_count": 13,
   "metadata": {},
   "outputs": [
    {
     "name": "stdout",
     "output_type": "stream",
     "text": [
      "Final Table\n"
     ]
    }
   ],
   "source": [
    "print('Final Table')"
   ]
  },
  {
   "cell_type": "markdown",
   "metadata": {},
   "source": [
    "| sno \t| featurization  \t| cv algo            \t| best C \t| best penalty \t| accuracy \t| AUC    \t| TNR    \t| TPR    \t| f1-score \t|\n",
    "|-----\t|----------------\t|--------------------\t|--------\t|--------------\t|----------\t|--------\t|--------\t|--------\t|----------\t|\n",
    "| 3   \t| Bag of words   \t| GridSearchCV       \t| 5      \t| l2           \t| 92.0566  \t| 0.9263 \t| 0.5133 \t| 0.9772 \t| 0.93     \t|\n",
    "| 4   \t| Bag of words   \t| RandomizedSearchCV \t| 5      \t| l2           \t| 92.0566  \t| 0.9263 \t| 0.5133 \t| 0.9772 \t| 0.93     \t|\n",
    "| 7   \t| Tfidf          \t| GridSearchCV       \t| 5      \t| l2           \t| 91.91    \t| 0.9248 \t| 0.5152 \t| 0.9753 \t| 0.93     \t|\n",
    "| 8   \t| Tfidf          \t| RandomizedSearchCV \t| 5      \t| l2           \t| 91.91    \t| 0.9248 \t| 0.5152 \t| 0.9753 \t| 0.93     \t|\n",
    "| 11  \t| Avg word2vec   \t| GridSearchCV       \t| 5      \t| l1           \t| 89.2815  \t| 0.8575 \t| 0.2664 \t| 0.9800 \t| 0.91     \t|\n",
    "| 12  \t| Avg word2vec   \t| RandomizedSearchCV \t| 50     \t| l1           \t| 89.3082  \t| 0.8573 \t| 0.2710 \t| 0.9797 \t| 0.91     \t|\n",
    "| 15  \t| Tfidf Word2Vec \t| GridSearchCV       \t| 5      \t| l1           \t| 88.9214  \t| 0.8558 \t| 0.1644 \t| 0.9901 \t| 0.92     \t|\n",
    "| 16  \t| Tfidf Word2Vec \t| RandomizedSearchCV \t| 5      \t| l1           \t| 88.9214  \t| 0.8558 \t| 0.1644 \t| 0.9901 \t| 0.92     \t|"
   ]
  },
  {
   "cell_type": "markdown",
   "metadata": {},
   "source": [
    "# Conclusion-\n",
    "* we have taken amazon fine food review and applied logistic regression model using BoW, Tfidf, Avg word2vec and Tfidf word2vec.\n",
    "* the AUC comes for tfidf and bag of words is fairly good.\n",
    "* in the final table we can see that Logistic regression works well for BOW and TFIDF, but not good in case of avg word2vec and tfidf word2vec.\n",
    "* we can conclude that logistic regression works fairly well if dimension is high"
   ]
  },
  {
   "cell_type": "code",
   "execution_count": null,
   "metadata": {},
   "outputs": [],
   "source": []
  }
 ],
 "metadata": {
  "kernelspec": {
   "display_name": "Python 3",
   "language": "python",
   "name": "python3"
  },
  "language_info": {
   "codemirror_mode": {
    "name": "ipython",
    "version": 3
   },
   "file_extension": ".py",
   "mimetype": "text/x-python",
   "name": "python",
   "nbconvert_exporter": "python",
   "pygments_lexer": "ipython3",
   "version": "3.6.5"
  }
 },
 "nbformat": 4,
 "nbformat_minor": 2
}
