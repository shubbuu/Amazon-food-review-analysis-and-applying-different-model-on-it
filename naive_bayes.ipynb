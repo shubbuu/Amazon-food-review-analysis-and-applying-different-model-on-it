{
 "cells": [
  {
   "cell_type": "markdown",
   "metadata": {},
   "source": [
    "# Objective- Apply Naive Bayes on amazon fine food reviews"
   ]
  },
  {
   "cell_type": "markdown",
   "metadata": {},
   "source": [
    "#### codes for-\n",
    "* feature importance\n",
    "* apply naive bayes on amazon fine food reviews dataset\n",
    "* find best alpha using cross validation\n",
    "* find confusion_matrix, accuracy, recall, f1 score, precision\n"
   ]
  },
  {
   "cell_type": "markdown",
   "metadata": {},
   "source": [
    "#### About the datasets\n",
    "\n",
    "Data Source: https://www.kaggle.com/snap/amazon-fine-food-reviews\n",
    "\n",
    "The Amazon Fine Food Reviews dataset consists of reviews of fine foods from Amazon.\n",
    "\n",
    "Number of reviews: 568,454\n",
    "Number of users: 256,059\n",
    "Number of products: 74,258\n",
    "Timespan: Oct 1999 - Oct 2012\n",
    "Number of Attributes/Columns in data: 10\n",
    "\n",
    "Attribute Information:\n",
    "\n",
    "Id\n",
    "ProductId - unique identifier for the product\n",
    "UserId - unqiue identifier for the user\n",
    "ProfileName\n",
    "HelpfulnessNumerator - number of users who found the review helpful\n",
    "HelpfulnessDenominator - number of users who indicated whether they found the review helpful or not\n",
    "Score - rating between 1 and 5\n",
    "Time - timestamp for the review\n",
    "Summary - brief summary of the review\n",
    "Text - text of the review"
   ]
  },
  {
   "cell_type": "code",
   "execution_count": 4,
   "metadata": {},
   "outputs": [],
   "source": [
    "import warnings\n",
    "warnings.filterwarnings('ignore')"
   ]
  },
  {
   "cell_type": "code",
   "execution_count": 5,
   "metadata": {},
   "outputs": [],
   "source": [
    "import sqlite3\n",
    "import pandas as pd\n",
    "import numpy as np\n",
    "import nltk\n",
    "from nltk.corpus import stopwords\n",
    "from sklearn.cross_validation import cross_val_score\n",
    "from sklearn import cross_validation\n",
    "from sklearn.feature_extraction.text import CountVectorizer\n",
    "import pylab as pl\n",
    "from sklearn.naive_bayes import MultinomialNB, BernoulliNB\n",
    "from sklearn.metrics import classification_report, confusion_matrix, accuracy_score\n",
    "from sklearn import metrics"
   ]
  },
  {
   "cell_type": "code",
   "execution_count": 6,
   "metadata": {},
   "outputs": [],
   "source": [
    "import matplotlib.pyplot as plt\n",
    "%matplotlib inline"
   ]
  },
  {
   "cell_type": "markdown",
   "metadata": {},
   "source": [
    "## Loading the data"
   ]
  },
  {
   "cell_type": "code",
   "execution_count": 7,
   "metadata": {},
   "outputs": [],
   "source": [
    "sql=sqlite3.connect('database.sqlite')  #loading sql data\n",
    "data=pd.read_sql_query('''\n",
    "SELECT *\n",
    "FROM Reviews\n",
    "WHERE Score!=3''',sql)"
   ]
  },
  {
   "cell_type": "code",
   "execution_count": 8,
   "metadata": {},
   "outputs": [
    {
     "data": {
      "text/plain": [
       "Index(['Id', 'ProductId', 'UserId', 'ProfileName', 'HelpfulnessNumerator',\n",
       "       'HelpfulnessDenominator', 'Score', 'Time', 'Summary', 'Text'],\n",
       "      dtype='object')"
      ]
     },
     "execution_count": 8,
     "metadata": {},
     "output_type": "execute_result"
    }
   ],
   "source": [
    "data.columns  #column names in the dataset"
   ]
  },
  {
   "cell_type": "code",
   "execution_count": 9,
   "metadata": {},
   "outputs": [],
   "source": [
    "#for changing score int value to positive and negative i.e only in two class\n",
    "def posneg(x):\n",
    "    if x<3:\n",
    "        return 0\n",
    "    else:\n",
    "        return 1\n",
    "score=data['Score']\n",
    "data['Score']=score.map(posneg)"
   ]
  },
  {
   "cell_type": "code",
   "execution_count": 10,
   "metadata": {},
   "outputs": [
    {
     "data": {
      "text/html": [
       "<div>\n",
       "<style>\n",
       "    .dataframe thead tr:only-child th {\n",
       "        text-align: right;\n",
       "    }\n",
       "\n",
       "    .dataframe thead th {\n",
       "        text-align: left;\n",
       "    }\n",
       "\n",
       "    .dataframe tbody tr th {\n",
       "        vertical-align: top;\n",
       "    }\n",
       "</style>\n",
       "<table border=\"1\" class=\"dataframe\">\n",
       "  <thead>\n",
       "    <tr style=\"text-align: right;\">\n",
       "      <th></th>\n",
       "      <th>Id</th>\n",
       "      <th>ProductId</th>\n",
       "      <th>UserId</th>\n",
       "      <th>ProfileName</th>\n",
       "      <th>HelpfulnessNumerator</th>\n",
       "      <th>HelpfulnessDenominator</th>\n",
       "      <th>Score</th>\n",
       "      <th>Time</th>\n",
       "      <th>Summary</th>\n",
       "      <th>Text</th>\n",
       "    </tr>\n",
       "  </thead>\n",
       "  <tbody>\n",
       "    <tr>\n",
       "      <th>0</th>\n",
       "      <td>1</td>\n",
       "      <td>B001E4KFG0</td>\n",
       "      <td>A3SGXH7AUHU8GW</td>\n",
       "      <td>delmartian</td>\n",
       "      <td>1</td>\n",
       "      <td>1</td>\n",
       "      <td>1</td>\n",
       "      <td>1303862400</td>\n",
       "      <td>Good Quality Dog Food</td>\n",
       "      <td>I have bought several of the Vitality canned d...</td>\n",
       "    </tr>\n",
       "    <tr>\n",
       "      <th>1</th>\n",
       "      <td>2</td>\n",
       "      <td>B00813GRG4</td>\n",
       "      <td>A1D87F6ZCVE5NK</td>\n",
       "      <td>dll pa</td>\n",
       "      <td>0</td>\n",
       "      <td>0</td>\n",
       "      <td>0</td>\n",
       "      <td>1346976000</td>\n",
       "      <td>Not as Advertised</td>\n",
       "      <td>Product arrived labeled as Jumbo Salted Peanut...</td>\n",
       "    </tr>\n",
       "    <tr>\n",
       "      <th>2</th>\n",
       "      <td>3</td>\n",
       "      <td>B000LQOCH0</td>\n",
       "      <td>ABXLMWJIXXAIN</td>\n",
       "      <td>Natalia Corres \"Natalia Corres\"</td>\n",
       "      <td>1</td>\n",
       "      <td>1</td>\n",
       "      <td>1</td>\n",
       "      <td>1219017600</td>\n",
       "      <td>\"Delight\" says it all</td>\n",
       "      <td>This is a confection that has been around a fe...</td>\n",
       "    </tr>\n",
       "  </tbody>\n",
       "</table>\n",
       "</div>"
      ],
      "text/plain": [
       "   Id   ProductId          UserId                      ProfileName  \\\n",
       "0   1  B001E4KFG0  A3SGXH7AUHU8GW                       delmartian   \n",
       "1   2  B00813GRG4  A1D87F6ZCVE5NK                           dll pa   \n",
       "2   3  B000LQOCH0   ABXLMWJIXXAIN  Natalia Corres \"Natalia Corres\"   \n",
       "\n",
       "   HelpfulnessNumerator  HelpfulnessDenominator  Score        Time  \\\n",
       "0                     1                       1      1  1303862400   \n",
       "1                     0                       0      0  1346976000   \n",
       "2                     1                       1      1  1219017600   \n",
       "\n",
       "                 Summary                                               Text  \n",
       "0  Good Quality Dog Food  I have bought several of the Vitality canned d...  \n",
       "1      Not as Advertised  Product arrived labeled as Jumbo Salted Peanut...  \n",
       "2  \"Delight\" says it all  This is a confection that has been around a fe...  "
      ]
     },
     "execution_count": 10,
     "metadata": {},
     "output_type": "execute_result"
    }
   ],
   "source": [
    "data.head(3)"
   ]
  },
  {
   "cell_type": "markdown",
   "metadata": {},
   "source": [
    "## Data cleaning"
   ]
  },
  {
   "cell_type": "code",
   "execution_count": 11,
   "metadata": {},
   "outputs": [],
   "source": [
    "data=data[data['HelpfulnessNumerator']<=data['HelpfulnessDenominator']] "
   ]
  },
  {
   "cell_type": "code",
   "execution_count": 12,
   "metadata": {},
   "outputs": [
    {
     "data": {
      "text/plain": [
       "(364171, 10)"
      ]
     },
     "execution_count": 12,
     "metadata": {},
     "output_type": "execute_result"
    }
   ],
   "source": [
    "data.drop_duplicates(subset={\"UserId\",\"ProfileName\",\"Time\",\"Text\"},keep='first',inplace=True) #droping the duplicates\n",
    "data.shape"
   ]
  },
  {
   "cell_type": "code",
   "execution_count": null,
   "metadata": {},
   "outputs": [],
   "source": []
  },
  {
   "cell_type": "code",
   "execution_count": 13,
   "metadata": {},
   "outputs": [],
   "source": [
    "stop=set(stopwords.words('english'))"
   ]
  },
  {
   "cell_type": "code",
   "execution_count": 14,
   "metadata": {},
   "outputs": [],
   "source": [
    "\n",
    "sno=nltk.stem.SnowballStemmer('english')  #stemmer of english language\n",
    "\n",
    "def cleanhtml(sentence): #function to clean the word of any html-tags\n",
    "    cleanr = re.compile('<.*?>')\n",
    "    cleantext = re.sub(cleanr, ' ', sentence)\n",
    "    return cleantext\n",
    "def cleanpunc(sentence): #function to clean the word of any punctuation or special characters\n",
    "    cleaned = re.sub(r'[?|!|\\'|\"|#]',r'',sentence)\n",
    "    cleaned = re.sub(r'[.|,|)|(|\\|/]',r' ',cleaned)\n",
    "    return  cleaned"
   ]
  },
  {
   "cell_type": "code",
   "execution_count": 15,
   "metadata": {},
   "outputs": [],
   "source": [
    "#taking sample of data\n",
    "sample=data.sample(200000)\n",
    "sample_data=sample.sort_values(['Time'])  #sorting data on time basis\n",
    "sample_score=sample_data['Score']"
   ]
  },
  {
   "cell_type": "code",
   "execution_count": 16,
   "metadata": {},
   "outputs": [],
   "source": [
    "#filtering sentence\n",
    "import re\n",
    "final_string=[]\n",
    "s=''\n",
    "for sentence in sample_data['Text']:\n",
    "    filtered_sentence=[]\n",
    "    cleaned_sentence=cleanhtml(sentence)\n",
    "    for words in sentence.split():\n",
    "        cleaned_words=cleanpunc(words)\n",
    "        if ( (cleaned_words.isalpha()) & (len(cleaned_words)>2) ):\n",
    "            if(cleaned_words.lower() not in stop):\n",
    "                s=(sno.stem(cleaned_words.lower())).encode('utf8')\n",
    "                filtered_sentence.append(s)\n",
    "            else: \n",
    "                continue\n",
    "        else:\n",
    "            continue\n",
    "    str1=b\" \".join(filtered_sentence)    \n",
    "    final_string.append(str1)\n",
    "        "
   ]
  },
  {
   "cell_type": "code",
   "execution_count": 17,
   "metadata": {},
   "outputs": [],
   "source": [
    "sample_data['Cleaned_text']=final_string  #creating a new column in sample_data"
   ]
  },
  {
   "cell_type": "code",
   "execution_count": 18,
   "metadata": {},
   "outputs": [
    {
     "data": {
      "text/html": [
       "<div>\n",
       "<style>\n",
       "    .dataframe thead tr:only-child th {\n",
       "        text-align: right;\n",
       "    }\n",
       "\n",
       "    .dataframe thead th {\n",
       "        text-align: left;\n",
       "    }\n",
       "\n",
       "    .dataframe tbody tr th {\n",
       "        vertical-align: top;\n",
       "    }\n",
       "</style>\n",
       "<table border=\"1\" class=\"dataframe\">\n",
       "  <thead>\n",
       "    <tr style=\"text-align: right;\">\n",
       "      <th></th>\n",
       "      <th>Id</th>\n",
       "      <th>ProductId</th>\n",
       "      <th>UserId</th>\n",
       "      <th>ProfileName</th>\n",
       "      <th>HelpfulnessNumerator</th>\n",
       "      <th>HelpfulnessDenominator</th>\n",
       "      <th>Score</th>\n",
       "      <th>Time</th>\n",
       "      <th>Summary</th>\n",
       "      <th>Text</th>\n",
       "      <th>Cleaned_text</th>\n",
       "    </tr>\n",
       "  </thead>\n",
       "  <tbody>\n",
       "    <tr>\n",
       "      <th>138683</th>\n",
       "      <td>150501</td>\n",
       "      <td>0006641040</td>\n",
       "      <td>AJ46FKXOVC7NR</td>\n",
       "      <td>Nicholas A Mesiano</td>\n",
       "      <td>2</td>\n",
       "      <td>2</td>\n",
       "      <td>1</td>\n",
       "      <td>940809600</td>\n",
       "      <td>This whole series is great way to spend time w...</td>\n",
       "      <td>I can remember seeing the show when it aired o...</td>\n",
       "      <td>b'rememb see show air televis year sister late...</td>\n",
       "    </tr>\n",
       "    <tr>\n",
       "      <th>212472</th>\n",
       "      <td>230285</td>\n",
       "      <td>B00004RYGX</td>\n",
       "      <td>A344SMIA5JECGM</td>\n",
       "      <td>Vincent P. Ross</td>\n",
       "      <td>1</td>\n",
       "      <td>2</td>\n",
       "      <td>1</td>\n",
       "      <td>944438400</td>\n",
       "      <td>A modern day fairy tale</td>\n",
       "      <td>A twist of rumplestiskin captured on film, sta...</td>\n",
       "      <td>b'twist rumplestiskin captur star michael keat...</td>\n",
       "    </tr>\n",
       "    <tr>\n",
       "      <th>417838</th>\n",
       "      <td>451855</td>\n",
       "      <td>B00004CXX9</td>\n",
       "      <td>AJH6LUC1UT1ON</td>\n",
       "      <td>The Phantom of the Opera</td>\n",
       "      <td>0</td>\n",
       "      <td>0</td>\n",
       "      <td>1</td>\n",
       "      <td>946857600</td>\n",
       "      <td>FANTASTIC!</td>\n",
       "      <td>Beetlejuice is an excellent and funny movie. K...</td>\n",
       "      <td>b'beetlejuic excel funni keaton hilari wacki g...</td>\n",
       "    </tr>\n",
       "  </tbody>\n",
       "</table>\n",
       "</div>"
      ],
      "text/plain": [
       "            Id   ProductId          UserId               ProfileName  \\\n",
       "138683  150501  0006641040   AJ46FKXOVC7NR        Nicholas A Mesiano   \n",
       "212472  230285  B00004RYGX  A344SMIA5JECGM           Vincent P. Ross   \n",
       "417838  451855  B00004CXX9   AJH6LUC1UT1ON  The Phantom of the Opera   \n",
       "\n",
       "        HelpfulnessNumerator  HelpfulnessDenominator  Score       Time  \\\n",
       "138683                     2                       2      1  940809600   \n",
       "212472                     1                       2      1  944438400   \n",
       "417838                     0                       0      1  946857600   \n",
       "\n",
       "                                                  Summary  \\\n",
       "138683  This whole series is great way to spend time w...   \n",
       "212472                            A modern day fairy tale   \n",
       "417838                                         FANTASTIC!   \n",
       "\n",
       "                                                     Text  \\\n",
       "138683  I can remember seeing the show when it aired o...   \n",
       "212472  A twist of rumplestiskin captured on film, sta...   \n",
       "417838  Beetlejuice is an excellent and funny movie. K...   \n",
       "\n",
       "                                             Cleaned_text  \n",
       "138683  b'rememb see show air televis year sister late...  \n",
       "212472  b'twist rumplestiskin captur star michael keat...  \n",
       "417838  b'beetlejuic excel funni keaton hilari wacki g...  "
      ]
     },
     "execution_count": 18,
     "metadata": {},
     "output_type": "execute_result"
    }
   ],
   "source": [
    "sample_data.head(3)"
   ]
  },
  {
   "cell_type": "code",
   "execution_count": 19,
   "metadata": {},
   "outputs": [
    {
     "data": {
      "text/plain": [
       "1    168637\n",
       "0     31363\n",
       "Name: Score, dtype: int64"
      ]
     },
     "execution_count": 19,
     "metadata": {},
     "output_type": "execute_result"
    }
   ],
   "source": [
    "sample_data['Score'].value_counts()"
   ]
  },
  {
   "cell_type": "markdown",
   "metadata": {},
   "source": [
    "## Upsampling"
   ]
  },
  {
   "cell_type": "code",
   "execution_count": 20,
   "metadata": {},
   "outputs": [],
   "source": [
    "#taking the test data seperate from all other\n",
    "\n",
    "train,test=cross_validation.train_test_split(sample_data,test_size=0.3) #splitting the data"
   ]
  },
  {
   "cell_type": "code",
   "execution_count": null,
   "metadata": {},
   "outputs": [],
   "source": []
  },
  {
   "cell_type": "code",
   "execution_count": 21,
   "metadata": {},
   "outputs": [
    {
     "data": {
      "text/plain": [
       "1    117965\n",
       "0     22035\n",
       "Name: Score, dtype: int64"
      ]
     },
     "execution_count": 21,
     "metadata": {},
     "output_type": "execute_result"
    }
   ],
   "source": [
    "train['Score'].value_counts()"
   ]
  },
  {
   "cell_type": "code",
   "execution_count": 22,
   "metadata": {},
   "outputs": [
    {
     "data": {
      "text/plain": [
       "1    50672\n",
       "0     9328\n",
       "Name: Score, dtype: int64"
      ]
     },
     "execution_count": 22,
     "metadata": {},
     "output_type": "execute_result"
    }
   ],
   "source": [
    "test['Score'].value_counts()"
   ]
  },
  {
   "cell_type": "code",
   "execution_count": 23,
   "metadata": {},
   "outputs": [],
   "source": [
    "from sklearn.utils import resample"
   ]
  },
  {
   "cell_type": "code",
   "execution_count": 24,
   "metadata": {},
   "outputs": [],
   "source": [
    "df_majority = train[train['Score']==1]\n",
    "df_minority = train[train['Score']==0]\n",
    " "
   ]
  },
  {
   "cell_type": "code",
   "execution_count": 25,
   "metadata": {},
   "outputs": [],
   "source": [
    "#upsampling on train data\n",
    "df_minority_upsampled = resample(df_minority, \n",
    "                                 replace=True,     # sample with replacement\n",
    "                                 n_samples=117965,    # to match majority class\n",
    "                                 random_state=123) # reproducible results\n"
   ]
  },
  {
   "cell_type": "code",
   "execution_count": 26,
   "metadata": {},
   "outputs": [
    {
     "data": {
      "text/plain": [
       "1    117965\n",
       "0    117965\n",
       "Name: Score, dtype: int64"
      ]
     },
     "execution_count": 26,
     "metadata": {},
     "output_type": "execute_result"
    }
   ],
   "source": [
    "df_upsampled = pd.concat([df_majority, df_minority_upsampled])\n",
    "df_upsampled['Score'].value_counts()"
   ]
  },
  {
   "cell_type": "code",
   "execution_count": 27,
   "metadata": {},
   "outputs": [],
   "source": [
    "df_upsampled=df_upsampled.sort_values(['Time'])\n",
    "\n",
    "X=df_upsampled['Cleaned_text']\n",
    "y=df_upsampled['Score']"
   ]
  },
  {
   "cell_type": "code",
   "execution_count": 28,
   "metadata": {},
   "outputs": [],
   "source": [
    "# universal x_test and y_test \n",
    "x_test=test['Cleaned_text']\n",
    "y_test=test['Score']"
   ]
  },
  {
   "cell_type": "code",
   "execution_count": null,
   "metadata": {},
   "outputs": [],
   "source": []
  },
  {
   "cell_type": "code",
   "execution_count": 29,
   "metadata": {},
   "outputs": [],
   "source": [
    "result=pd.DataFrame(columns=['sno.','featurization', 'naive bayes algo', 'k-fold cv algo', 'scoring', 'best alpha', 'accuracy', 'TNR', 'TPR', 'FNR', 'FPR'])"
   ]
  },
  {
   "cell_type": "markdown",
   "metadata": {},
   "source": [
    "## 1.1 Multinomial naive bayes using Bag of words representation"
   ]
  },
  {
   "cell_type": "markdown",
   "metadata": {},
   "source": [
    "### 1. Multinomial NB for Binary Bag of words , 10 fold cross validation , scoring='accuracy'"
   ]
  },
  {
   "cell_type": "code",
   "execution_count": null,
   "metadata": {},
   "outputs": [],
   "source": []
  },
  {
   "cell_type": "code",
   "execution_count": 30,
   "metadata": {},
   "outputs": [],
   "source": [
    "#binary BoW\n",
    "count_vec=CountVectorizer(binary=True)\n",
    "x_train=count_vec.fit_transform(X.values)"
   ]
  },
  {
   "cell_type": "code",
   "execution_count": 31,
   "metadata": {},
   "outputs": [],
   "source": [
    "x_test=count_vec.transform(x_test)"
   ]
  },
  {
   "cell_type": "code",
   "execution_count": 32,
   "metadata": {},
   "outputs": [],
   "source": [
    "import seaborn as sns"
   ]
  },
  {
   "cell_type": "code",
   "execution_count": 33,
   "metadata": {},
   "outputs": [],
   "source": [
    "# defining naive bayes function that does cross validation , plotting error vs alpha, accuracy, classification report and confusion matrix\n",
    "# this function takes 'algo', 'scoring', 'x_train', 'x_test', 'y_train', 'y_test' as arguments\n",
    "# this function returns 'scoring, optimal_alpha, accu, TNR, TPR, FNR, FPR', where accu stands for accuracy\n",
    "def naive_bayes(algo, scoring, x_train, x_test, y_train, y_test):\n",
    "    #cross validation\n",
    "    cv_score=[]\n",
    "    alph=list(pl.frange(1,100,1))\n",
    "    alph=[round(x,4) for x in alph]\n",
    "    for i in alph:\n",
    "        if(algo=='multi'):\n",
    "            clf=MultinomialNB(alpha=i)\n",
    "        elif(algo=='bernoulli'):\n",
    "            clf=BernoulliNB(alpha=i)\n",
    "        score=cross_val_score(estimator=clf,X=x_train,y=y_train,cv=10,n_jobs=1,scoring=scoring)\n",
    "        cv_score.append(score.mean())\n",
    "        \n",
    "    #misclassification error and optimal_alpha\n",
    "    MSE=[1-x for x in cv_score] #misclassification error\n",
    "    optimal_alpha=alph[MSE.index(min(MSE))]\n",
    "    print('optimal_alpha=',optimal_alpha)\n",
    "    print('************************************************')\n",
    "    \n",
    "    #plot between error and alpha\n",
    "    plt.plot(alph, MSE)\n",
    "    plt.xlabel('alpha value')\n",
    "    plt.ylabel('misclassification error')\n",
    "    plt.title('plot of alpha vs misclassification error')\n",
    "    plt.show()\n",
    "    print('************************************************')\n",
    "    \n",
    "    #defining model with optimal_alpha\n",
    "    if(algo=='multi'):\n",
    "        clf=MultinomialNB(alpha=optimal_alpha)\n",
    "    elif(algo=='bernoulli'):\n",
    "        clf=BernoulliNB(alpha=optimal_alpha)\n",
    "    clf.fit(x_train,y_train)\n",
    "    y_pred=clf.predict(x_test)\n",
    "    \n",
    "    #finding accuracy\n",
    "    accu=accuracy_score(y_test,y_pred)*100\n",
    "    print('accuracy=',accu)\n",
    "    print('************************************************')\n",
    "    \n",
    "    #classification report\n",
    "    print(classification_report(y_test, y_pred))\n",
    "    print('************************************************')\n",
    "    \n",
    "    #confusion matrix\n",
    "    t=metrics.confusion_matrix(y_pred,y_test)\n",
    "    heatmap = sns.heatmap(t, annot=True, fmt=\"d\", xticklabels=True, yticklabels=True)\n",
    "    plt.xlabel('True label')\n",
    "    plt.ylabel('Predicted label')\n",
    "    plt.show()\n",
    "    print('************************************************')\n",
    "    \n",
    "    #TPR, TNR, FPR, FNR\n",
    "    TNR=t[0][0]/(t[0][0]+t[1][0])\n",
    "    TPR=t[1][1]/(t[0][1]+t[1][1])\n",
    "    FPR=t[1][0]/(t[0][0]+t[1][0])\n",
    "    FNR=t[0][1]/(t[0][1]+t[1][1])\n",
    "    print('TNR=',TNR)\n",
    "    print('TPR=',TPR)\n",
    "    print('FPR=',FPR)\n",
    "    print('FNR=',FNR)\n",
    "    \n",
    "    return scoring, optimal_alpha, accu, TNR, TPR, FNR, FPR\n"
   ]
  },
  {
   "cell_type": "code",
   "execution_count": 34,
   "metadata": {},
   "outputs": [
    {
     "name": "stdout",
     "output_type": "stream",
     "text": [
      "optimal_alpha= 39\n",
      "************************************************\n"
     ]
    },
    {
     "data": {
      "image/png": "[encoded data removed]",
      "text/plain": [
       "<matplotlib.figure.Figure at 0x3ffef2eecba8>"
      ]
     },
     "metadata": {},
     "output_type": "display_data"
    },
    {
     "name": "stdout",
     "output_type": "stream",
     "text": [
      "************************************************\n",
      "accuracy= 83.755\n",
      "************************************************\n",
      "             precision    recall  f1-score   support\n",
      "\n",
      "          0       0.49      0.85      0.62      9328\n",
      "          1       0.97      0.84      0.90     50672\n",
      "\n",
      "avg / total       0.89      0.84      0.85     60000\n",
      "\n",
      "************************************************\n"
     ]
    },
    {
     "data": {
      "image/png": "[encoded data removed]",
      "text/plain": [
       "<matplotlib.figure.Figure at 0x3ffef3df0390>"
      ]
     },
     "metadata": {},
     "output_type": "display_data"
    },
    {
     "name": "stdout",
     "output_type": "stream",
     "text": [
      "************************************************\n",
      "TNR= 0.8513078902229846\n",
      "TPR= 0.8350173665929902\n",
      "FPR= 0.14869210977701544\n",
      "FNR= 0.16498263340700978\n"
     ]
    }
   ],
   "source": [
    "scoring, optimal_alpha, accu, TNR, TPR, FNR, FPR=naive_bayes(algo='multi', scoring='accuracy', x_train=x_train, x_test=x_test, y_train=y, y_test=y_test)"
   ]
  },
  {
   "cell_type": "code",
   "execution_count": 35,
   "metadata": {},
   "outputs": [],
   "source": [
    "new=[1,'Bag of words', 'Multinomial NB' , '10 fold cv', scoring, optimal_alpha, accu, TNR, TPR, FNR, FPR]\n",
    "result.loc[0]=new"
   ]
  },
  {
   "cell_type": "code",
   "execution_count": null,
   "metadata": {},
   "outputs": [],
   "source": []
  },
  {
   "cell_type": "markdown",
   "metadata": {},
   "source": [
    "### 2. Multinomial NB for Binary Bag of words , 10 fold cross validation , scoring='average_precision'"
   ]
  },
  {
   "cell_type": "code",
   "execution_count": 36,
   "metadata": {},
   "outputs": [
    {
     "name": "stdout",
     "output_type": "stream",
     "text": [
      "optimal_alpha= 71\n",
      "************************************************\n"
     ]
    },
    {
     "data": {
      "image/png": "[encoded data removed]",
      "text/plain": [
       "<matplotlib.figure.Figure at 0x3ffef2d45160>"
      ]
     },
     "metadata": {},
     "output_type": "display_data"
    },
    {
     "name": "stdout",
     "output_type": "stream",
     "text": [
      "************************************************\n",
      "accuracy= 82.44500000000001\n",
      "************************************************\n",
      "             precision    recall  f1-score   support\n",
      "\n",
      "          0       0.47      0.87      0.61      9328\n",
      "          1       0.97      0.82      0.89     50672\n",
      "\n",
      "avg / total       0.89      0.82      0.84     60000\n",
      "\n",
      "************************************************\n"
     ]
    },
    {
     "data": {
      "image/png": "[encoded data removed]",
      "text/plain": [
       "<matplotlib.figure.Figure at 0x3ffef059f9e8>"
      ]
     },
     "metadata": {},
     "output_type": "display_data"
    },
    {
     "name": "stdout",
     "output_type": "stream",
     "text": [
      "************************************************\n",
      "TNR= 0.8694253859348199\n",
      "TPR= 0.8161706662456584\n",
      "FPR= 0.1305746140651801\n",
      "FNR= 0.18382933375434166\n"
     ]
    }
   ],
   "source": [
    "scoring, optimal_alpha, accu, TNR, TPR, FNR, FPR=naive_bayes(algo='multi', scoring='average_precision', x_train=x_train, x_test=x_test, y_train=y, y_test=y_test)"
   ]
  },
  {
   "cell_type": "code",
   "execution_count": 37,
   "metadata": {},
   "outputs": [],
   "source": [
    "new=[2,'Bag of words', 'Multinomial NB' , '10 fold cv', scoring, optimal_alpha, accu, TNR, TPR, FNR, FPR]\n",
    "result.loc[1]=new"
   ]
  },
  {
   "cell_type": "code",
   "execution_count": null,
   "metadata": {},
   "outputs": [],
   "source": []
  },
  {
   "cell_type": "code",
   "execution_count": null,
   "metadata": {},
   "outputs": [],
   "source": []
  },
  {
   "cell_type": "markdown",
   "metadata": {},
   "source": [
    "### 3.  Multinomial NB for Binary Bag of words , 10 fold cross validation , scoring='f1'"
   ]
  },
  {
   "cell_type": "code",
   "execution_count": 38,
   "metadata": {},
   "outputs": [
    {
     "name": "stdout",
     "output_type": "stream",
     "text": [
      "optimal_alpha= 9\n",
      "************************************************\n"
     ]
    },
    {
     "data": {
      "image/png": "[encoded data removed]",
      "text/plain": [
       "<matplotlib.figure.Figure at 0x3ffef1d43390>"
      ]
     },
     "metadata": {},
     "output_type": "display_data"
    },
    {
     "name": "stdout",
     "output_type": "stream",
     "text": [
      "************************************************\n",
      "accuracy= 85.61666666666666\n",
      "************************************************\n",
      "             precision    recall  f1-score   support\n",
      "\n",
      "          0       0.52      0.83      0.64      9328\n",
      "          1       0.96      0.86      0.91     50672\n",
      "\n",
      "avg / total       0.90      0.86      0.87     60000\n",
      "\n",
      "************************************************\n"
     ]
    },
    {
     "data": {
      "image/png": "[encoded data removed]",
      "text/plain": [
       "<matplotlib.figure.Figure at 0x3ffef0daff28>"
      ]
     },
     "metadata": {},
     "output_type": "display_data"
    },
    {
     "name": "stdout",
     "output_type": "stream",
     "text": [
      "************************************************\n",
      "TNR= 0.8268653516295026\n",
      "TPR= 0.8615606251973477\n",
      "FPR= 0.17313464837049744\n",
      "FNR= 0.13843937480265237\n"
     ]
    }
   ],
   "source": [
    "scoring, optimal_alpha, accu, TNR, TPR, FNR, FPR=naive_bayes(algo='multi', scoring='f1', x_train=x_train, x_test=x_test, y_train=y, y_test=y_test)"
   ]
  },
  {
   "cell_type": "code",
   "execution_count": 39,
   "metadata": {},
   "outputs": [],
   "source": [
    "new=[3,'Bag of words', 'Multinomial NB' , '10 fold cv', scoring, optimal_alpha, accu, TNR, TPR, FNR, FPR]\n",
    "result.loc[2]=new"
   ]
  },
  {
   "cell_type": "code",
   "execution_count": null,
   "metadata": {},
   "outputs": [],
   "source": []
  },
  {
   "cell_type": "markdown",
   "metadata": {},
   "source": [
    "### 4.  Multinomial NB for Binary Bag of words , 10 fold cross validation , scoring='recall'"
   ]
  },
  {
   "cell_type": "code",
   "execution_count": 40,
   "metadata": {},
   "outputs": [
    {
     "name": "stdout",
     "output_type": "stream",
     "text": [
      "optimal_alpha= 1\n",
      "************************************************\n"
     ]
    },
    {
     "data": {
      "image/png": "[encoded data removed]",
      "text/plain": [
       "<matplotlib.figure.Figure at 0x3ffeefba9588>"
      ]
     },
     "metadata": {},
     "output_type": "display_data"
    },
    {
     "name": "stdout",
     "output_type": "stream",
     "text": [
      "************************************************\n",
      "accuracy= 86.29333333333334\n",
      "************************************************\n",
      "             precision    recall  f1-score   support\n",
      "\n",
      "          0       0.54      0.81      0.65      9328\n",
      "          1       0.96      0.87      0.92     50672\n",
      "\n",
      "avg / total       0.90      0.86      0.87     60000\n",
      "\n",
      "************************************************\n"
     ]
    },
    {
     "data": {
      "image/png": "[encoded data removed]",
      "text/plain": [
       "<matplotlib.figure.Figure at 0x3ffef0d9b748>"
      ]
     },
     "metadata": {},
     "output_type": "display_data"
    },
    {
     "name": "stdout",
     "output_type": "stream",
     "text": [
      "************************************************\n",
      "TNR= 0.8052101200686106\n",
      "TPR= 0.8735593621724029\n",
      "FPR= 0.19478987993138935\n",
      "FNR= 0.1264406378275971\n"
     ]
    }
   ],
   "source": [
    "scoring, optimal_alpha, accu, TNR, TPR, FNR, FPR=naive_bayes(algo='multi', scoring='recall', x_train=x_train, x_test=x_test, y_train=y, y_test=y_test)"
   ]
  },
  {
   "cell_type": "code",
   "execution_count": 41,
   "metadata": {},
   "outputs": [],
   "source": [
    "new=[4,'Bag of words', 'Multinomial NB' , '10 fold cv', scoring, optimal_alpha, accu, TNR, TPR, FNR, FPR]\n",
    "result.loc[3]=new"
   ]
  },
  {
   "cell_type": "code",
   "execution_count": null,
   "metadata": {},
   "outputs": [],
   "source": []
  },
  {
   "cell_type": "code",
   "execution_count": null,
   "metadata": {},
   "outputs": [],
   "source": []
  },
  {
   "cell_type": "markdown",
   "metadata": {},
   "source": [
    "## 1.2 Bernoulli naive bayes using Binary Bag of words"
   ]
  },
  {
   "cell_type": "markdown",
   "metadata": {},
   "source": []
  },
  {
   "cell_type": "markdown",
   "metadata": {},
   "source": [
    "### 5.  BernoulliNB for Binary Bag of words , 10 fold cross validation , scoring='accuracy'"
   ]
  },
  {
   "cell_type": "code",
   "execution_count": 42,
   "metadata": {},
   "outputs": [
    {
     "name": "stdout",
     "output_type": "stream",
     "text": [
      "optimal_alpha= 7\n",
      "************************************************\n"
     ]
    },
    {
     "data": {
      "image/png": "[encoded data removed]",
      "text/plain": [
       "<matplotlib.figure.Figure at 0x3ffeedfd5ac8>"
      ]
     },
     "metadata": {},
     "output_type": "display_data"
    },
    {
     "name": "stdout",
     "output_type": "stream",
     "text": [
      "************************************************\n",
      "accuracy= 86.13666666666666\n",
      "************************************************\n",
      "             precision    recall  f1-score   support\n",
      "\n",
      "          0       0.54      0.75      0.63      9328\n",
      "          1       0.95      0.88      0.91     50672\n",
      "\n",
      "avg / total       0.89      0.86      0.87     60000\n",
      "\n",
      "************************************************\n"
     ]
    },
    {
     "data": {
      "image/png": "[encoded data removed]",
      "text/plain": [
       "<matplotlib.figure.Figure at 0x3ffeede1db00>"
      ]
     },
     "metadata": {},
     "output_type": "display_data"
    },
    {
     "name": "stdout",
     "output_type": "stream",
     "text": [
      "************************************************\n",
      "TNR= 0.7537521440823327\n",
      "TPR= 0.881176981370382\n",
      "FPR= 0.24624785591766724\n",
      "FNR= 0.11882301862961793\n"
     ]
    }
   ],
   "source": [
    "scoring, optimal_alpha, accu, TNR, TPR, FNR, FPR=naive_bayes(algo='bernoulli', scoring='accuracy', x_train=x_train, x_test=x_test, y_train=y, y_test=y_test)"
   ]
  },
  {
   "cell_type": "code",
   "execution_count": 43,
   "metadata": {},
   "outputs": [],
   "source": [
    "new=[5, 'Bag of words', 'Bernoulli NB' ,'10 fold cv', scoring, optimal_alpha, accu, TNR, TPR, FNR, FPR]\n",
    "result.loc[4]=new"
   ]
  },
  {
   "cell_type": "markdown",
   "metadata": {},
   "source": [
    "### 6.  BernoulliNB for Binary Bag of words , 10 fold cross validation , scoring='average_precision'"
   ]
  },
  {
   "cell_type": "code",
   "execution_count": 44,
   "metadata": {},
   "outputs": [
    {
     "name": "stdout",
     "output_type": "stream",
     "text": [
      "optimal_alpha= 25\n",
      "************************************************\n"
     ]
    },
    {
     "data": {
      "image/png": "[encoded data removed]",
      "text/plain": [
       "<matplotlib.figure.Figure at 0x3ffeeda73780>"
      ]
     },
     "metadata": {},
     "output_type": "display_data"
    },
    {
     "name": "stdout",
     "output_type": "stream",
     "text": [
      "************************************************\n",
      "accuracy= 86.08333333333333\n",
      "************************************************\n",
      "             precision    recall  f1-score   support\n",
      "\n",
      "          0       0.54      0.75      0.63      9328\n",
      "          1       0.95      0.88      0.91     50672\n",
      "\n",
      "avg / total       0.89      0.86      0.87     60000\n",
      "\n",
      "************************************************\n"
     ]
    },
    {
     "data": {
      "image/png": "[encoded data removed]",
      "text/plain": [
       "<matplotlib.figure.Figure at 0x3ffeedd03b38>"
      ]
     },
     "metadata": {},
     "output_type": "display_data"
    },
    {
     "name": "stdout",
     "output_type": "stream",
     "text": [
      "************************************************\n",
      "TNR= 0.7490351629502573\n",
      "TPR= 0.8814137985475213\n",
      "FPR= 0.2509648370497427\n",
      "FNR= 0.11858620145247868\n"
     ]
    }
   ],
   "source": [
    "scoring, optimal_alpha, accu, TNR, TPR, FNR, FPR=naive_bayes(algo='bernoulli', scoring='average_precision', x_train=x_train, x_test=x_test, y_train=y, y_test=y_test)"
   ]
  },
  {
   "cell_type": "code",
   "execution_count": 45,
   "metadata": {},
   "outputs": [],
   "source": [
    "new=[6,'Bag of words', 'Bernoulli NB' ,'10 fold cv', 'average_precision', optimal_alpha, accu, TNR, TPR, FNR, FPR]\n",
    "result.loc[5]=new"
   ]
  },
  {
   "cell_type": "code",
   "execution_count": null,
   "metadata": {},
   "outputs": [],
   "source": []
  },
  {
   "cell_type": "code",
   "execution_count": null,
   "metadata": {},
   "outputs": [],
   "source": []
  },
  {
   "cell_type": "markdown",
   "metadata": {},
   "source": [
    "### 7.  BernoulliNB for Binary Bag of words , 10 fold cross validation , scoring='f1'"
   ]
  },
  {
   "cell_type": "code",
   "execution_count": 46,
   "metadata": {},
   "outputs": [
    {
     "name": "stdout",
     "output_type": "stream",
     "text": [
      "optimal_alpha= 7\n",
      "************************************************\n"
     ]
    },
    {
     "data": {
      "image/png": "[encoded data removed]",
      "text/plain": [
       "<matplotlib.figure.Figure at 0x3ffef4b08ef0>"
      ]
     },
     "metadata": {},
     "output_type": "display_data"
    },
    {
     "name": "stdout",
     "output_type": "stream",
     "text": [
      "************************************************\n",
      "accuracy= 86.13666666666666\n",
      "************************************************\n",
      "             precision    recall  f1-score   support\n",
      "\n",
      "          0       0.54      0.75      0.63      9328\n",
      "          1       0.95      0.88      0.91     50672\n",
      "\n",
      "avg / total       0.89      0.86      0.87     60000\n",
      "\n",
      "************************************************\n"
     ]
    },
    {
     "data": {
      "image/png": "[encoded data removed]",
      "text/plain": [
       "<matplotlib.figure.Figure at 0x3ffef3cfb7b8>"
      ]
     },
     "metadata": {},
     "output_type": "display_data"
    },
    {
     "name": "stdout",
     "output_type": "stream",
     "text": [
      "************************************************\n",
      "TNR= 0.7537521440823327\n",
      "TPR= 0.881176981370382\n",
      "FPR= 0.24624785591766724\n",
      "FNR= 0.11882301862961793\n"
     ]
    }
   ],
   "source": [
    "scoring, optimal_alpha, accu, TNR, TPR, FNR, FPR=naive_bayes(algo='bernoulli', scoring='f1', x_train=x_train, x_test=x_test, y_train=y, y_test=y_test)"
   ]
  },
  {
   "cell_type": "code",
   "execution_count": 47,
   "metadata": {},
   "outputs": [],
   "source": [
    "new=[7,'Bag of words', 'Bernoulli NB' ,'10 fold cv', 'f1', optimal_alpha, accu, TNR, TPR, FNR, FPR]\n",
    "result.loc[6]=new"
   ]
  },
  {
   "cell_type": "code",
   "execution_count": null,
   "metadata": {},
   "outputs": [],
   "source": []
  },
  {
   "cell_type": "code",
   "execution_count": null,
   "metadata": {},
   "outputs": [],
   "source": []
  },
  {
   "cell_type": "markdown",
   "metadata": {},
   "source": [
    "### 8.  BernoulliNB for Binary Bag of words , 10 fold cross validation , scoring='recall'"
   ]
  },
  {
   "cell_type": "code",
   "execution_count": 48,
   "metadata": {},
   "outputs": [
    {
     "name": "stdout",
     "output_type": "stream",
     "text": [
      "optimal_alpha= 100\n",
      "************************************************\n"
     ]
    },
    {
     "data": {
      "image/png": "[encoded data removed]",
      "text/plain": [
       "<matplotlib.figure.Figure at 0x3ffef1d229e8>"
      ]
     },
     "metadata": {},
     "output_type": "display_data"
    },
    {
     "name": "stdout",
     "output_type": "stream",
     "text": [
      "************************************************\n",
      "accuracy= 86.17166666666667\n",
      "************************************************\n",
      "             precision    recall  f1-score   support\n",
      "\n",
      "          0       0.54      0.73      0.62      9328\n",
      "          1       0.95      0.89      0.92     50672\n",
      "\n",
      "avg / total       0.88      0.86      0.87     60000\n",
      "\n",
      "************************************************\n"
     ]
    },
    {
     "data": {
      "image/png": "[encoded data removed]",
      "text/plain": [
       "<matplotlib.figure.Figure at 0x3ffef2049a20>"
      ]
     },
     "metadata": {},
     "output_type": "display_data"
    },
    {
     "name": "stdout",
     "output_type": "stream",
     "text": [
      "************************************************\n",
      "TNR= 0.7324185248713551\n",
      "TPR= 0.8855186296179349\n",
      "FPR= 0.26758147512864494\n",
      "FNR= 0.11448137038206505\n"
     ]
    }
   ],
   "source": [
    "scoring, optimal_alpha, accu, TNR, TPR, FNR, FPR=naive_bayes(algo='bernoulli', scoring='recall', x_train=x_train ,x_test=x_test, y_train=y, y_test=y_test)"
   ]
  },
  {
   "cell_type": "code",
   "execution_count": 49,
   "metadata": {},
   "outputs": [],
   "source": [
    "new=[8,'Bag of words', 'Bernoulli NB' ,'10 fold cv', 'recall', optimal_alpha, accu, TNR, TPR, FNR, FPR]\n",
    "result.loc[7]=new"
   ]
  },
  {
   "cell_type": "code",
   "execution_count": null,
   "metadata": {},
   "outputs": [],
   "source": []
  },
  {
   "cell_type": "code",
   "execution_count": null,
   "metadata": {},
   "outputs": [],
   "source": []
  },
  {
   "cell_type": "markdown",
   "metadata": {},
   "source": [
    "## 2.1 Multinomial naive bayes using Binary TF-IDF "
   ]
  },
  {
   "cell_type": "markdown",
   "metadata": {},
   "source": [
    "### 9. Multinomial NB for Binary TF-IDF , 10 fold cross validation , scoring='accuracy'"
   ]
  },
  {
   "cell_type": "code",
   "execution_count": 50,
   "metadata": {},
   "outputs": [],
   "source": [
    "from sklearn.feature_extraction.text import TfidfVectorizer"
   ]
  },
  {
   "cell_type": "code",
   "execution_count": 51,
   "metadata": {},
   "outputs": [
    {
     "data": {
      "text/plain": [
       "1    117965\n",
       "0    117965\n",
       "Name: Score, dtype: int64"
      ]
     },
     "execution_count": 51,
     "metadata": {},
     "output_type": "execute_result"
    }
   ],
   "source": [
    "df_majority = train[train['Score']==1]\n",
    "df_minority = train[train['Score']==0]\n",
    "\n",
    "\n",
    "df_minority_upsampled = resample(df_minority, \n",
    "                                 replace=True,     # sample with replacement\n",
    "                                 n_samples=117965,    # to match majority class\n",
    "                                 random_state=123) # reproducible results\n",
    "\n",
    "\n",
    "df_upsampled = pd.concat([df_majority, df_minority_upsampled])\n",
    "df_upsampled['Score'].value_counts()"
   ]
  },
  {
   "cell_type": "code",
   "execution_count": 52,
   "metadata": {},
   "outputs": [],
   "source": [
    "df_upsampled=df_upsampled.sort_values(['Time'])\n",
    "\n",
    "x_train=df_upsampled['Cleaned_text']\n",
    "y_train=df_upsampled['Score']"
   ]
  },
  {
   "cell_type": "code",
   "execution_count": 53,
   "metadata": {},
   "outputs": [],
   "source": [
    "x_test=test['Cleaned_text']\n",
    "y_test=test['Score']"
   ]
  },
  {
   "cell_type": "code",
   "execution_count": 54,
   "metadata": {},
   "outputs": [],
   "source": [
    "#binary tfidf\n",
    "tfidf=TfidfVectorizer(ngram_range=(1,1), binary=True)\n",
    "x_train=tfidf.fit_transform(x_train)"
   ]
  },
  {
   "cell_type": "code",
   "execution_count": 55,
   "metadata": {},
   "outputs": [],
   "source": [
    "x_test=tfidf.transform(x_test)"
   ]
  },
  {
   "cell_type": "code",
   "execution_count": 56,
   "metadata": {},
   "outputs": [
    {
     "name": "stdout",
     "output_type": "stream",
     "text": [
      "optimal_alpha= 48\n",
      "************************************************\n"
     ]
    },
    {
     "data": {
      "image/png": "[encoded data removed]",
      "text/plain": [
       "<matplotlib.figure.Figure at 0x3fff00e72c18>"
      ]
     },
     "metadata": {},
     "output_type": "display_data"
    },
    {
     "name": "stdout",
     "output_type": "stream",
     "text": [
      "************************************************\n",
      "accuracy= 82.61666666666667\n",
      "************************************************\n",
      "             precision    recall  f1-score   support\n",
      "\n",
      "          0       0.47      0.87      0.61      9328\n",
      "          1       0.97      0.82      0.89     50672\n",
      "\n",
      "avg / total       0.89      0.83      0.84     60000\n",
      "\n",
      "************************************************\n"
     ]
    },
    {
     "data": {
      "image/png": "[encoded data removed]",
      "text/plain": [
       "<matplotlib.figure.Figure at 0x3fff00e64588>"
      ]
     },
     "metadata": {},
     "output_type": "display_data"
    },
    {
     "name": "stdout",
     "output_type": "stream",
     "text": [
      "************************************************\n",
      "TNR= 0.8662092624356775\n",
      "TPR= 0.8187953899589517\n",
      "FPR= 0.13379073756432247\n",
      "FNR= 0.18120461004104832\n"
     ]
    }
   ],
   "source": [
    "scoring, optimal_alpha, accu, TNR, TPR, FNR, FPR=naive_bayes(algo='multi', scoring='accuracy', x_train=x_train, x_test=x_test, y_train=y_train, y_test=y_test)"
   ]
  },
  {
   "cell_type": "code",
   "execution_count": 57,
   "metadata": {},
   "outputs": [],
   "source": [
    "new=[9,'TF-IDF', 'Multinomial NB' ,'10 fold cv', 'accuracy', optimal_alpha, accu, TNR, TPR, FNR, FPR]\n",
    "result.loc[8]=new"
   ]
  },
  {
   "cell_type": "markdown",
   "metadata": {},
   "source": [
    "### 10. Multinomial NB for Binary TF-IDF , 10 fold cross validation , scoring='average_precision'"
   ]
  },
  {
   "cell_type": "code",
   "execution_count": 58,
   "metadata": {},
   "outputs": [
    {
     "name": "stdout",
     "output_type": "stream",
     "text": [
      "optimal_alpha= 40\n",
      "************************************************\n"
     ]
    },
    {
     "data": {
      "image/png": "[encoded data removed]",
      "text/plain": [
       "<matplotlib.figure.Figure at 0x3ffefd878940>"
      ]
     },
     "metadata": {},
     "output_type": "display_data"
    },
    {
     "name": "stdout",
     "output_type": "stream",
     "text": [
      "************************************************\n",
      "accuracy= 82.77166666666666\n",
      "************************************************\n",
      "             precision    recall  f1-score   support\n",
      "\n",
      "          0       0.47      0.87      0.61      9328\n",
      "          1       0.97      0.82      0.89     50672\n",
      "\n",
      "avg / total       0.89      0.83      0.85     60000\n",
      "\n",
      "************************************************\n"
     ]
    },
    {
     "data": {
      "image/png": "[encoded data removed]",
      "text/plain": [
       "<matplotlib.figure.Figure at 0x3ffeffa81588>"
      ]
     },
     "metadata": {},
     "output_type": "display_data"
    },
    {
     "name": "stdout",
     "output_type": "stream",
     "text": [
      "************************************************\n",
      "TNR= 0.8650300171526587\n",
      "TPR= 0.8208478054941585\n",
      "FPR= 0.13496998284734132\n",
      "FNR= 0.1791521945058415\n"
     ]
    }
   ],
   "source": [
    "scoring, optimal_alpha, accu, TNR, TPR, FNR, FPR=naive_bayes(algo='multi', scoring='average_precision', x_train=x_train, x_test=x_test, y_train=y_train, y_test=y_test)"
   ]
  },
  {
   "cell_type": "code",
   "execution_count": 59,
   "metadata": {},
   "outputs": [],
   "source": [
    "new=[10,'TF-IDF', 'Multinomial NB' ,'10 fold cv', 'average_precision', optimal_alpha, accu, TNR, TPR, FNR, FPR]\n",
    "result.loc[9]=new"
   ]
  },
  {
   "cell_type": "code",
   "execution_count": null,
   "metadata": {},
   "outputs": [],
   "source": []
  },
  {
   "cell_type": "code",
   "execution_count": null,
   "metadata": {},
   "outputs": [],
   "source": []
  },
  {
   "cell_type": "markdown",
   "metadata": {},
   "source": [
    "### 11. Multinomial NB for Binary TF-IDF , 10 fold cross validation , scoring='f1'"
   ]
  },
  {
   "cell_type": "code",
   "execution_count": 60,
   "metadata": {},
   "outputs": [
    {
     "name": "stdout",
     "output_type": "stream",
     "text": [
      "optimal_alpha= 11\n",
      "************************************************\n"
     ]
    },
    {
     "data": {
      "image/png": "[encoded data removed]",
      "text/plain": [
       "<matplotlib.figure.Figure at 0x3ffeffa97940>"
      ]
     },
     "metadata": {},
     "output_type": "display_data"
    },
    {
     "name": "stdout",
     "output_type": "stream",
     "text": [
      "************************************************\n",
      "accuracy= 84.09\n",
      "************************************************\n",
      "             precision    recall  f1-score   support\n",
      "\n",
      "          0       0.49      0.85      0.62      9328\n",
      "          1       0.97      0.84      0.90     50672\n",
      "\n",
      "avg / total       0.89      0.84      0.86     60000\n",
      "\n",
      "************************************************\n"
     ]
    },
    {
     "data": {
      "image/png": "[encoded data removed]",
      "text/plain": [
       "<matplotlib.figure.Figure at 0x3fff001476a0>"
      ]
     },
     "metadata": {},
     "output_type": "display_data"
    },
    {
     "name": "stdout",
     "output_type": "stream",
     "text": [
      "************************************************\n",
      "TNR= 0.8458404802744426\n",
      "TPR= 0.8399905273129145\n",
      "FPR= 0.15415951972555747\n",
      "FNR= 0.16000947268708557\n"
     ]
    }
   ],
   "source": [
    "scoring, optimal_alpha, accu, TNR, TPR, FNR, FPR=naive_bayes(algo='multi', scoring='f1', x_train=x_train, x_test=x_test, y_train=y_train, y_test=y_test)"
   ]
  },
  {
   "cell_type": "code",
   "execution_count": 61,
   "metadata": {},
   "outputs": [],
   "source": [
    "new=[11,'TF-IDF', 'Multinomial NB' ,'10 fold cv', 'f1', optimal_alpha, accu, TNR, TPR, FNR, FPR]\n",
    "result.loc[10]=new"
   ]
  },
  {
   "cell_type": "code",
   "execution_count": null,
   "metadata": {},
   "outputs": [],
   "source": []
  },
  {
   "cell_type": "markdown",
   "metadata": {},
   "source": [
    "### 12. Multinomial NB for Binary TF-IDF , 10 fold cross validation , scoring='recall'"
   ]
  },
  {
   "cell_type": "code",
   "execution_count": 62,
   "metadata": {},
   "outputs": [
    {
     "name": "stdout",
     "output_type": "stream",
     "text": [
      "optimal_alpha= 1\n",
      "************************************************\n"
     ]
    },
    {
     "data": {
      "image/png": "[encoded data removed]",
      "text/plain": [
       "<matplotlib.figure.Figure at 0x3ffeffa62cc0>"
      ]
     },
     "metadata": {},
     "output_type": "display_data"
    },
    {
     "name": "stdout",
     "output_type": "stream",
     "text": [
      "************************************************\n",
      "accuracy= 85.005\n",
      "************************************************\n",
      "             precision    recall  f1-score   support\n",
      "\n",
      "          0       0.51      0.81      0.63      9328\n",
      "          1       0.96      0.86      0.91     50672\n",
      "\n",
      "avg / total       0.89      0.85      0.86     60000\n",
      "\n",
      "************************************************\n"
     ]
    },
    {
     "data": {
      "image/png": "[encoded data removed]",
      "text/plain": [
       "<matplotlib.figure.Figure at 0x3ffefee0fc18>"
      ]
     },
     "metadata": {},
     "output_type": "display_data"
    },
    {
     "name": "stdout",
     "output_type": "stream",
     "text": [
      "************************************************\n",
      "TNR= 0.8058533447684391\n",
      "TPR= 0.8581859804231133\n",
      "FPR= 0.19414665523156088\n",
      "FNR= 0.14181401957688664\n"
     ]
    }
   ],
   "source": [
    "scoring, optimal_alpha, accu, TNR, TPR, FNR, FPR=naive_bayes(algo='multi', scoring='recall', x_train=x_train, x_test=x_test, y_train=y_train, y_test=y_test)"
   ]
  },
  {
   "cell_type": "code",
   "execution_count": 63,
   "metadata": {},
   "outputs": [],
   "source": [
    "new=[12,'TF-IDF', 'Multinomial NB' ,'10 fold cv', 'recall', optimal_alpha, accu, TNR, TPR, FNR, FPR]\n",
    "result.loc[11]=new"
   ]
  },
  {
   "cell_type": "code",
   "execution_count": null,
   "metadata": {},
   "outputs": [],
   "source": []
  },
  {
   "cell_type": "code",
   "execution_count": null,
   "metadata": {},
   "outputs": [],
   "source": []
  },
  {
   "cell_type": "markdown",
   "metadata": {},
   "source": [
    "## 2.2 Bernoulli naive bayes using Binary Tfidf"
   ]
  },
  {
   "cell_type": "markdown",
   "metadata": {},
   "source": [
    "### 13. Bernoulli NB for Binary TF-IDF , 10 fold cross validation , scoring='accuracy'"
   ]
  },
  {
   "cell_type": "code",
   "execution_count": 64,
   "metadata": {},
   "outputs": [
    {
     "name": "stdout",
     "output_type": "stream",
     "text": [
      "optimal_alpha= 7\n",
      "************************************************\n"
     ]
    },
    {
     "data": {
      "image/png": "[encoded data removed]",
      "text/plain": [
       "<matplotlib.figure.Figure at 0x3ffef1d224a8>"
      ]
     },
     "metadata": {},
     "output_type": "display_data"
    },
    {
     "name": "stdout",
     "output_type": "stream",
     "text": [
      "************************************************\n",
      "accuracy= 86.13666666666666\n",
      "************************************************\n",
      "             precision    recall  f1-score   support\n",
      "\n",
      "          0       0.54      0.75      0.63      9328\n",
      "          1       0.95      0.88      0.91     50672\n",
      "\n",
      "avg / total       0.89      0.86      0.87     60000\n",
      "\n",
      "************************************************\n"
     ]
    },
    {
     "data": {
      "image/png": "[encoded data removed]",
      "text/plain": [
       "<matplotlib.figure.Figure at 0x3ffeeee30358>"
      ]
     },
     "metadata": {},
     "output_type": "display_data"
    },
    {
     "name": "stdout",
     "output_type": "stream",
     "text": [
      "************************************************\n",
      "TNR= 0.7537521440823327\n",
      "TPR= 0.881176981370382\n",
      "FPR= 0.24624785591766724\n",
      "FNR= 0.11882301862961793\n"
     ]
    }
   ],
   "source": [
    "scoring, optimal_alpha, accu, TNR, TPR, FNR, FPR=naive_bayes(algo='bernoulli', scoring='accuracy', x_train=x_train, x_test=x_test, y_train=y_train, y_test=y_test)"
   ]
  },
  {
   "cell_type": "code",
   "execution_count": 65,
   "metadata": {},
   "outputs": [],
   "source": [
    "new=[13,'TF-IDF', 'Bernoulli NB' ,'10 fold cv', 'accuracy', optimal_alpha, accu, TNR, TPR, FNR, FPR]\n",
    "result.loc[12]=new"
   ]
  },
  {
   "cell_type": "code",
   "execution_count": null,
   "metadata": {},
   "outputs": [],
   "source": []
  },
  {
   "cell_type": "markdown",
   "metadata": {},
   "source": [
    "### 14. Bernoulli NB for Binary TF-IDF , 10 fold cross validation , scoring='average_precision'"
   ]
  },
  {
   "cell_type": "code",
   "execution_count": 66,
   "metadata": {},
   "outputs": [
    {
     "name": "stdout",
     "output_type": "stream",
     "text": [
      "optimal_alpha= 25\n",
      "************************************************\n"
     ]
    },
    {
     "data": {
      "image/png": "[encoded data removed]",
      "text/plain": [
       "<matplotlib.figure.Figure at 0x3fff00147ef0>"
      ]
     },
     "metadata": {},
     "output_type": "display_data"
    },
    {
     "name": "stdout",
     "output_type": "stream",
     "text": [
      "************************************************\n",
      "accuracy= 86.08333333333333\n",
      "************************************************\n",
      "             precision    recall  f1-score   support\n",
      "\n",
      "          0       0.54      0.75      0.63      9328\n",
      "          1       0.95      0.88      0.91     50672\n",
      "\n",
      "avg / total       0.89      0.86      0.87     60000\n",
      "\n",
      "************************************************\n"
     ]
    },
    {
     "data": {
      "image/png": "[encoded data removed]",
      "text/plain": [
       "<matplotlib.figure.Figure at 0x3ffeef67cc88>"
      ]
     },
     "metadata": {},
     "output_type": "display_data"
    },
    {
     "name": "stdout",
     "output_type": "stream",
     "text": [
      "************************************************\n",
      "TNR= 0.7490351629502573\n",
      "TPR= 0.8814137985475213\n",
      "FPR= 0.2509648370497427\n",
      "FNR= 0.11858620145247868\n"
     ]
    }
   ],
   "source": [
    "scoring, optimal_alpha, accu, TNR, TPR, FNR, FPR=naive_bayes(algo='bernoulli', scoring='average_precision', x_train=x_train, x_test=x_test, y_train=y_train, y_test=y_test)"
   ]
  },
  {
   "cell_type": "code",
   "execution_count": 67,
   "metadata": {},
   "outputs": [],
   "source": [
    "new=[14,'TF-IDF', 'Bernoulli NB' ,'10 fold cv', 'average_precision', optimal_alpha, accu, TNR, TPR, FNR, FPR]\n",
    "result.loc[13]=new"
   ]
  },
  {
   "cell_type": "code",
   "execution_count": null,
   "metadata": {},
   "outputs": [],
   "source": []
  },
  {
   "cell_type": "code",
   "execution_count": null,
   "metadata": {},
   "outputs": [],
   "source": []
  },
  {
   "cell_type": "markdown",
   "metadata": {},
   "source": [
    "### 15. Bernoulli NB for Binary TF-IDF , 10 fold cross validation , scoring='f1'"
   ]
  },
  {
   "cell_type": "code",
   "execution_count": 68,
   "metadata": {},
   "outputs": [
    {
     "name": "stdout",
     "output_type": "stream",
     "text": [
      "optimal_alpha= 7\n",
      "************************************************\n"
     ]
    },
    {
     "data": {
      "image/png": "[encoded data removed]",
      "text/plain": [
       "<matplotlib.figure.Figure at 0x3ffeef2fb4a8>"
      ]
     },
     "metadata": {},
     "output_type": "display_data"
    },
    {
     "name": "stdout",
     "output_type": "stream",
     "text": [
      "************************************************\n",
      "accuracy= 86.13666666666666\n",
      "************************************************\n",
      "             precision    recall  f1-score   support\n",
      "\n",
      "          0       0.54      0.75      0.63      9328\n",
      "          1       0.95      0.88      0.91     50672\n",
      "\n",
      "avg / total       0.89      0.86      0.87     60000\n",
      "\n",
      "************************************************\n"
     ]
    },
    {
     "data": {
      "image/png": "[encoded data removed]",
      "text/plain": [
       "<matplotlib.figure.Figure at 0x3ffeee1a2be0>"
      ]
     },
     "metadata": {},
     "output_type": "display_data"
    },
    {
     "name": "stdout",
     "output_type": "stream",
     "text": [
      "************************************************\n",
      "TNR= 0.7537521440823327\n",
      "TPR= 0.881176981370382\n",
      "FPR= 0.24624785591766724\n",
      "FNR= 0.11882301862961793\n"
     ]
    }
   ],
   "source": [
    "scoring, optimal_alpha, accu, TNR, TPR, FNR, FPR=naive_bayes(algo='bernoulli', scoring='f1', x_train=x_train, x_test=x_test, y_train=y_train, y_test=y_test)"
   ]
  },
  {
   "cell_type": "code",
   "execution_count": 69,
   "metadata": {},
   "outputs": [],
   "source": [
    "new=[15,'TF-IDF', 'Bernoulli NB' ,'10 fold cv', 'f1', optimal_alpha, accu, TNR, TPR, FNR, FPR]\n",
    "result.loc[14]=new"
   ]
  },
  {
   "cell_type": "code",
   "execution_count": null,
   "metadata": {},
   "outputs": [],
   "source": []
  },
  {
   "cell_type": "code",
   "execution_count": null,
   "metadata": {},
   "outputs": [],
   "source": []
  },
  {
   "cell_type": "markdown",
   "metadata": {},
   "source": [
    "### 16. Bernoulli NB for Binary TF-IDF , 10 fold cross validation , scoring='recall'"
   ]
  },
  {
   "cell_type": "code",
   "execution_count": 70,
   "metadata": {},
   "outputs": [
    {
     "name": "stdout",
     "output_type": "stream",
     "text": [
      "optimal_alpha= 100\n",
      "************************************************\n"
     ]
    },
    {
     "data": {
      "image/png": "[encoded data removed]",
      "text/plain": [
       "<matplotlib.figure.Figure at 0x3ffeff03a278>"
      ]
     },
     "metadata": {},
     "output_type": "display_data"
    },
    {
     "name": "stdout",
     "output_type": "stream",
     "text": [
      "************************************************\n",
      "accuracy= 86.17166666666667\n",
      "************************************************\n",
      "             precision    recall  f1-score   support\n",
      "\n",
      "          0       0.54      0.73      0.62      9328\n",
      "          1       0.95      0.89      0.92     50672\n",
      "\n",
      "avg / total       0.88      0.86      0.87     60000\n",
      "\n",
      "************************************************\n"
     ]
    },
    {
     "data": {
      "image/png": "[encoded data removed]",
      "text/plain": [
       "<matplotlib.figure.Figure at 0x3ffef1025f98>"
      ]
     },
     "metadata": {},
     "output_type": "display_data"
    },
    {
     "name": "stdout",
     "output_type": "stream",
     "text": [
      "************************************************\n",
      "TNR= 0.7324185248713551\n",
      "TPR= 0.8855186296179349\n",
      "FPR= 0.26758147512864494\n",
      "FNR= 0.11448137038206505\n"
     ]
    }
   ],
   "source": [
    "scoring, optimal_alpha, accu, TNR, TPR, FNR, FPR=naive_bayes(algo='bernoulli', scoring='recall', x_train=x_train, x_test=x_test, y_train=y_train, y_test=y_test)"
   ]
  },
  {
   "cell_type": "code",
   "execution_count": 71,
   "metadata": {},
   "outputs": [],
   "source": [
    "new=[16,'TF-IDF', 'Bernoulli NB' ,'10 fold cv', 'recall', optimal_alpha, accu, TNR, TPR, FNR, FPR]\n",
    "result.loc[15]=new"
   ]
  },
  {
   "cell_type": "code",
   "execution_count": null,
   "metadata": {},
   "outputs": [],
   "source": []
  },
  {
   "cell_type": "code",
   "execution_count": null,
   "metadata": {},
   "outputs": [],
   "source": []
  },
  {
   "cell_type": "code",
   "execution_count": 72,
   "metadata": {},
   "outputs": [
    {
     "data": {
      "text/html": [
       "<div>\n",
       "<style>\n",
       "    .dataframe thead tr:only-child th {\n",
       "        text-align: right;\n",
       "    }\n",
       "\n",
       "    .dataframe thead th {\n",
       "        text-align: left;\n",
       "    }\n",
       "\n",
       "    .dataframe tbody tr th {\n",
       "        vertical-align: top;\n",
       "    }\n",
       "</style>\n",
       "<table border=\"1\" class=\"dataframe\">\n",
       "  <thead>\n",
       "    <tr style=\"text-align: right;\">\n",
       "      <th></th>\n",
       "      <th>sno.</th>\n",
       "      <th>featurization</th>\n",
       "      <th>naive bayes algo</th>\n",
       "      <th>k-fold cv algo</th>\n",
       "      <th>scoring</th>\n",
       "      <th>best alpha</th>\n",
       "      <th>accuracy</th>\n",
       "      <th>TNR</th>\n",
       "      <th>TPR</th>\n",
       "      <th>FNR</th>\n",
       "      <th>FPR</th>\n",
       "    </tr>\n",
       "  </thead>\n",
       "  <tbody>\n",
       "    <tr>\n",
       "      <th>0</th>\n",
       "      <td>1</td>\n",
       "      <td>Bag of words</td>\n",
       "      <td>Multinomial NB</td>\n",
       "      <td>10 fold cv</td>\n",
       "      <td>accuracy</td>\n",
       "      <td>39</td>\n",
       "      <td>83.755000</td>\n",
       "      <td>0.851308</td>\n",
       "      <td>0.835017</td>\n",
       "      <td>0.164983</td>\n",
       "      <td>0.148692</td>\n",
       "    </tr>\n",
       "    <tr>\n",
       "      <th>1</th>\n",
       "      <td>2</td>\n",
       "      <td>Bag of words</td>\n",
       "      <td>Multinomial NB</td>\n",
       "      <td>10 fold cv</td>\n",
       "      <td>average_precision</td>\n",
       "      <td>71</td>\n",
       "      <td>82.445000</td>\n",
       "      <td>0.869425</td>\n",
       "      <td>0.816171</td>\n",
       "      <td>0.183829</td>\n",
       "      <td>0.130575</td>\n",
       "    </tr>\n",
       "    <tr>\n",
       "      <th>2</th>\n",
       "      <td>3</td>\n",
       "      <td>Bag of words</td>\n",
       "      <td>Multinomial NB</td>\n",
       "      <td>10 fold cv</td>\n",
       "      <td>f1</td>\n",
       "      <td>9</td>\n",
       "      <td>85.616667</td>\n",
       "      <td>0.826865</td>\n",
       "      <td>0.861561</td>\n",
       "      <td>0.138439</td>\n",
       "      <td>0.173135</td>\n",
       "    </tr>\n",
       "    <tr>\n",
       "      <th>3</th>\n",
       "      <td>4</td>\n",
       "      <td>Bag of words</td>\n",
       "      <td>Multinomial NB</td>\n",
       "      <td>10 fold cv</td>\n",
       "      <td>recall</td>\n",
       "      <td>1</td>\n",
       "      <td>86.293333</td>\n",
       "      <td>0.805210</td>\n",
       "      <td>0.873559</td>\n",
       "      <td>0.126441</td>\n",
       "      <td>0.194790</td>\n",
       "    </tr>\n",
       "    <tr>\n",
       "      <th>4</th>\n",
       "      <td>5</td>\n",
       "      <td>Bag of words</td>\n",
       "      <td>Bernoulli NB</td>\n",
       "      <td>10 fold cv</td>\n",
       "      <td>accuracy</td>\n",
       "      <td>7</td>\n",
       "      <td>86.136667</td>\n",
       "      <td>0.753752</td>\n",
       "      <td>0.881177</td>\n",
       "      <td>0.118823</td>\n",
       "      <td>0.246248</td>\n",
       "    </tr>\n",
       "    <tr>\n",
       "      <th>5</th>\n",
       "      <td>6</td>\n",
       "      <td>Bag of words</td>\n",
       "      <td>Bernoulli NB</td>\n",
       "      <td>10 fold cv</td>\n",
       "      <td>average_precision</td>\n",
       "      <td>25</td>\n",
       "      <td>86.083333</td>\n",
       "      <td>0.749035</td>\n",
       "      <td>0.881414</td>\n",
       "      <td>0.118586</td>\n",
       "      <td>0.250965</td>\n",
       "    </tr>\n",
       "    <tr>\n",
       "      <th>6</th>\n",
       "      <td>7</td>\n",
       "      <td>Bag of words</td>\n",
       "      <td>Bernoulli NB</td>\n",
       "      <td>10 fold cv</td>\n",
       "      <td>f1</td>\n",
       "      <td>7</td>\n",
       "      <td>86.136667</td>\n",
       "      <td>0.753752</td>\n",
       "      <td>0.881177</td>\n",
       "      <td>0.118823</td>\n",
       "      <td>0.246248</td>\n",
       "    </tr>\n",
       "    <tr>\n",
       "      <th>7</th>\n",
       "      <td>8</td>\n",
       "      <td>Bag of words</td>\n",
       "      <td>Bernoulli NB</td>\n",
       "      <td>10 fold cv</td>\n",
       "      <td>recall</td>\n",
       "      <td>100</td>\n",
       "      <td>86.171667</td>\n",
       "      <td>0.732419</td>\n",
       "      <td>0.885519</td>\n",
       "      <td>0.114481</td>\n",
       "      <td>0.267581</td>\n",
       "    </tr>\n",
       "    <tr>\n",
       "      <th>8</th>\n",
       "      <td>9</td>\n",
       "      <td>TF-IDF</td>\n",
       "      <td>Multinomial NB</td>\n",
       "      <td>10 fold cv</td>\n",
       "      <td>accuracy</td>\n",
       "      <td>48</td>\n",
       "      <td>82.616667</td>\n",
       "      <td>0.866209</td>\n",
       "      <td>0.818795</td>\n",
       "      <td>0.181205</td>\n",
       "      <td>0.133791</td>\n",
       "    </tr>\n",
       "    <tr>\n",
       "      <th>9</th>\n",
       "      <td>10</td>\n",
       "      <td>TF-IDF</td>\n",
       "      <td>Multinomial NB</td>\n",
       "      <td>10 fold cv</td>\n",
       "      <td>average_precision</td>\n",
       "      <td>40</td>\n",
       "      <td>82.771667</td>\n",
       "      <td>0.865030</td>\n",
       "      <td>0.820848</td>\n",
       "      <td>0.179152</td>\n",
       "      <td>0.134970</td>\n",
       "    </tr>\n",
       "    <tr>\n",
       "      <th>10</th>\n",
       "      <td>11</td>\n",
       "      <td>TF-IDF</td>\n",
       "      <td>Multinomial NB</td>\n",
       "      <td>10 fold cv</td>\n",
       "      <td>f1</td>\n",
       "      <td>11</td>\n",
       "      <td>84.090000</td>\n",
       "      <td>0.845840</td>\n",
       "      <td>0.839991</td>\n",
       "      <td>0.160009</td>\n",
       "      <td>0.154160</td>\n",
       "    </tr>\n",
       "    <tr>\n",
       "      <th>11</th>\n",
       "      <td>12</td>\n",
       "      <td>TF-IDF</td>\n",
       "      <td>Multinomial NB</td>\n",
       "      <td>10 fold cv</td>\n",
       "      <td>recall</td>\n",
       "      <td>1</td>\n",
       "      <td>85.005000</td>\n",
       "      <td>0.805853</td>\n",
       "      <td>0.858186</td>\n",
       "      <td>0.141814</td>\n",
       "      <td>0.194147</td>\n",
       "    </tr>\n",
       "    <tr>\n",
       "      <th>12</th>\n",
       "      <td>13</td>\n",
       "      <td>TF-IDF</td>\n",
       "      <td>Bernoulli NB</td>\n",
       "      <td>10 fold cv</td>\n",
       "      <td>accuracy</td>\n",
       "      <td>7</td>\n",
       "      <td>86.136667</td>\n",
       "      <td>0.753752</td>\n",
       "      <td>0.881177</td>\n",
       "      <td>0.118823</td>\n",
       "      <td>0.246248</td>\n",
       "    </tr>\n",
       "    <tr>\n",
       "      <th>13</th>\n",
       "      <td>14</td>\n",
       "      <td>TF-IDF</td>\n",
       "      <td>Bernoulli NB</td>\n",
       "      <td>10 fold cv</td>\n",
       "      <td>average_precision</td>\n",
       "      <td>25</td>\n",
       "      <td>86.083333</td>\n",
       "      <td>0.749035</td>\n",
       "      <td>0.881414</td>\n",
       "      <td>0.118586</td>\n",
       "      <td>0.250965</td>\n",
       "    </tr>\n",
       "    <tr>\n",
       "      <th>14</th>\n",
       "      <td>15</td>\n",
       "      <td>TF-IDF</td>\n",
       "      <td>Bernoulli NB</td>\n",
       "      <td>10 fold cv</td>\n",
       "      <td>f1</td>\n",
       "      <td>7</td>\n",
       "      <td>86.136667</td>\n",
       "      <td>0.753752</td>\n",
       "      <td>0.881177</td>\n",
       "      <td>0.118823</td>\n",
       "      <td>0.246248</td>\n",
       "    </tr>\n",
       "    <tr>\n",
       "      <th>15</th>\n",
       "      <td>16</td>\n",
       "      <td>TF-IDF</td>\n",
       "      <td>Bernoulli NB</td>\n",
       "      <td>10 fold cv</td>\n",
       "      <td>recall</td>\n",
       "      <td>100</td>\n",
       "      <td>86.171667</td>\n",
       "      <td>0.732419</td>\n",
       "      <td>0.885519</td>\n",
       "      <td>0.114481</td>\n",
       "      <td>0.267581</td>\n",
       "    </tr>\n",
       "  </tbody>\n",
       "</table>\n",
       "</div>"
      ],
      "text/plain": [
       "   sno. featurization naive bayes algo k-fold cv algo            scoring  \\\n",
       "0     1  Bag of words   Multinomial NB     10 fold cv           accuracy   \n",
       "1     2  Bag of words   Multinomial NB     10 fold cv  average_precision   \n",
       "2     3  Bag of words   Multinomial NB     10 fold cv                 f1   \n",
       "3     4  Bag of words   Multinomial NB     10 fold cv             recall   \n",
       "4     5  Bag of words     Bernoulli NB     10 fold cv           accuracy   \n",
       "5     6  Bag of words     Bernoulli NB     10 fold cv  average_precision   \n",
       "6     7  Bag of words     Bernoulli NB     10 fold cv                 f1   \n",
       "7     8  Bag of words     Bernoulli NB     10 fold cv             recall   \n",
       "8     9        TF-IDF   Multinomial NB     10 fold cv           accuracy   \n",
       "9    10        TF-IDF   Multinomial NB     10 fold cv  average_precision   \n",
       "10   11        TF-IDF   Multinomial NB     10 fold cv                 f1   \n",
       "11   12        TF-IDF   Multinomial NB     10 fold cv             recall   \n",
       "12   13        TF-IDF     Bernoulli NB     10 fold cv           accuracy   \n",
       "13   14        TF-IDF     Bernoulli NB     10 fold cv  average_precision   \n",
       "14   15        TF-IDF     Bernoulli NB     10 fold cv                 f1   \n",
       "15   16        TF-IDF     Bernoulli NB     10 fold cv             recall   \n",
       "\n",
       "   best alpha   accuracy       TNR       TPR       FNR       FPR  \n",
       "0          39  83.755000  0.851308  0.835017  0.164983  0.148692  \n",
       "1          71  82.445000  0.869425  0.816171  0.183829  0.130575  \n",
       "2           9  85.616667  0.826865  0.861561  0.138439  0.173135  \n",
       "3           1  86.293333  0.805210  0.873559  0.126441  0.194790  \n",
       "4           7  86.136667  0.753752  0.881177  0.118823  0.246248  \n",
       "5          25  86.083333  0.749035  0.881414  0.118586  0.250965  \n",
       "6           7  86.136667  0.753752  0.881177  0.118823  0.246248  \n",
       "7         100  86.171667  0.732419  0.885519  0.114481  0.267581  \n",
       "8          48  82.616667  0.866209  0.818795  0.181205  0.133791  \n",
       "9          40  82.771667  0.865030  0.820848  0.179152  0.134970  \n",
       "10         11  84.090000  0.845840  0.839991  0.160009  0.154160  \n",
       "11          1  85.005000  0.805853  0.858186  0.141814  0.194147  \n",
       "12          7  86.136667  0.753752  0.881177  0.118823  0.246248  \n",
       "13         25  86.083333  0.749035  0.881414  0.118586  0.250965  \n",
       "14          7  86.136667  0.753752  0.881177  0.118823  0.246248  \n",
       "15        100  86.171667  0.732419  0.885519  0.114481  0.267581  "
      ]
     },
     "execution_count": 72,
     "metadata": {},
     "output_type": "execute_result"
    }
   ],
   "source": [
    "#final table\n",
    "result"
   ]
  },
  {
   "cell_type": "markdown",
   "metadata": {},
   "source": [
    "### Observation-\n",
    "* For Bag of words we can say alpha=9 and MultinomialNB is good. \n",
    "\n",
    "* For Tfidf we can say alpha=11 and MultinomialNB is the good.\n",
    "\n"
   ]
  },
  {
   "cell_type": "markdown",
   "metadata": {},
   "source": []
  },
  {
   "cell_type": "code",
   "execution_count": null,
   "metadata": {},
   "outputs": [],
   "source": []
  },
  {
   "cell_type": "code",
   "execution_count": null,
   "metadata": {},
   "outputs": [],
   "source": []
  },
  {
   "cell_type": "code",
   "execution_count": null,
   "metadata": {},
   "outputs": [],
   "source": []
  },
  {
   "cell_type": "markdown",
   "metadata": {},
   "source": [
    "## Feature importance using the best alpha for Bag of words representation (alpha=9, MultinomialNB)"
   ]
  },
  {
   "cell_type": "code",
   "execution_count": 87,
   "metadata": {},
   "outputs": [
    {
     "data": {
      "text/plain": [
       "1    117965\n",
       "0    117965\n",
       "Name: Score, dtype: int64"
      ]
     },
     "execution_count": 87,
     "metadata": {},
     "output_type": "execute_result"
    }
   ],
   "source": [
    "df_majority = train[train['Score']==1]\n",
    "df_minority = train[train['Score']==0]\n",
    "\n",
    "\n",
    "df_minority_upsampled = resample(df_minority, \n",
    "                                 replace=True,     # sample with replacement\n",
    "                                 n_samples=117965,    # to match majority class\n",
    "                                 random_state=123) # reproducible results\n",
    "\n",
    "\n",
    "df_upsampled = pd.concat([df_majority, df_minority_upsampled])\n",
    "df_upsampled['Score'].value_counts()"
   ]
  },
  {
   "cell_type": "code",
   "execution_count": 88,
   "metadata": {},
   "outputs": [],
   "source": [
    "df_upsampled=df_upsampled.sort_values(['Time'])\n",
    "\n",
    "x_train=df_upsampled['Cleaned_text']\n",
    "y_train=df_upsampled['Score']"
   ]
  },
  {
   "cell_type": "code",
   "execution_count": 89,
   "metadata": {},
   "outputs": [],
   "source": [
    "#Bag of word featurization\n",
    "count_vect=CountVectorizer(binary=True)\n",
    "x_train=count_vect.fit_transform(x_train.values)"
   ]
  },
  {
   "cell_type": "code",
   "execution_count": 90,
   "metadata": {},
   "outputs": [
    {
     "data": {
      "text/plain": [
       "MultinomialNB(alpha=9, class_prior=None, fit_prior=True)"
      ]
     },
     "execution_count": 90,
     "metadata": {},
     "output_type": "execute_result"
    }
   ],
   "source": [
    "#training the data\n",
    "clf=MultinomialNB(alpha=9)\n",
    "clf.fit(x_train,y_train)"
   ]
  },
  {
   "cell_type": "code",
   "execution_count": 91,
   "metadata": {},
   "outputs": [
    {
     "name": "stdout",
     "output_type": "stream",
     "text": [
      "top 50 frequent words occur in negative class and their log_prob--\n",
      "bad  :  -5.981273985986482\n",
      "two  :  -5.961439337684521\n",
      "receiv  :  -5.960585822216084\n",
      "someth  :  -5.9581360153776135\n",
      "find  :  -5.943561884777539\n",
      "also  :  -5.918403976345216\n",
      "say  :  -5.898463035214725\n",
      "better  :  -5.898362819751396\n",
      "coffe  :  -5.891770706386673\n",
      "never  :  -5.891770706386673\n",
      "review  :  -5.887796533247396\n",
      "littl  :  -5.883344386392979\n",
      "bag  :  -5.863309511519839\n",
      "made  :  -5.852243726242751\n",
      "packag  :  -5.8432887268934195\n",
      "thought  :  -5.831222215480304\n",
      "give  :  -5.824032977662645\n",
      "got  :  -5.808982603552465\n",
      "know  :  -5.803316866016788\n",
      "amazon  :  -5.791090114053986\n",
      "didnt  :  -5.786509747700407\n",
      "food  :  -5.748185493594162\n",
      "could  :  -5.744656027527631\n",
      "first  :  -5.732187889922368\n",
      "box  :  -5.720544153917707\n",
      "think  :  -5.712107400036601\n",
      "time  :  -5.6879464745913175\n",
      "purchas  :  -5.680181958067438\n",
      "want  :  -5.668726712044023\n",
      "eat  :  -5.597786978129546\n",
      "bought  :  -5.576280772908582\n",
      "love  :  -5.52125471103607\n",
      "look  :  -5.503948290129662\n",
      "much  :  -5.489862605502761\n",
      "realli  :  -5.479789624374828\n",
      "make  :  -5.393789792276289\n",
      "order  :  -5.318355946611858\n",
      "even  :  -5.295722262832243\n",
      "flavor  :  -5.262120611679613\n",
      "good  :  -5.242894301111425\n",
      "dont  :  -5.198225397026805\n",
      "use  :  -5.16168362133644\n",
      "get  :  -5.091124929151533\n",
      "buy  :  -5.062786431008302\n",
      "tri  :  -4.983175010734319\n",
      "one  :  -4.894232647506806\n",
      "would  :  -4.852843958459365\n",
      "product  :  -4.835938802279744\n",
      "tast  :  -4.557293734946851\n",
      "like  :  -4.477063530863926\n"
     ]
    }
   ],
   "source": [
    "#finding the top 50 negative class words\n",
    "neg_f_imp=clf.feature_log_prob_[0].argsort()[-50:]\n",
    "neg_sort=np.sort(clf.feature_log_prob_[0])[-50:]\n",
    "print('top 50 frequent words occur in negative class and their log_prob--')\n",
    "for i in range(50):\n",
    "    print(np.take(count_vect.get_feature_names(),neg_f_imp[i]),\" : \",neg_sort[i])\n"
   ]
  },
  {
   "cell_type": "code",
   "execution_count": 92,
   "metadata": {},
   "outputs": [
    {
     "name": "stdout",
     "output_type": "stream",
     "text": [
      "top 50 frequent words occur in negative class and their log_prob--\n",
      "need  :  -6.030291398619177\n",
      "bag  :  -6.029436018839522\n",
      "keep  :  -6.028093327151687\n",
      "made  :  -6.025900076607575\n",
      "think  :  -6.00876438520811\n",
      "bought  :  -6.003037812650907\n",
      "mix  :  -5.985935314060015\n",
      "enjoy  :  -5.963615798359596\n",
      "first  :  -5.9378749325758715\n",
      "well  :  -5.9299925714754895\n",
      "drink  :  -5.927783358161189\n",
      "store  :  -5.912019484928125\n",
      "look  :  -5.894363735092147\n",
      "tea  :  -5.892018818221455\n",
      "high  :  -5.884382764572548\n",
      "want  :  -5.882377381030674\n",
      "give  :  -5.85635863782257\n",
      "found  :  -5.839145807694667\n",
      "better  :  -5.791717389272099\n",
      "food  :  -5.76773907585306\n",
      "recommend  :  -5.761085816057701\n",
      "amazon  :  -5.760992423575727\n",
      "coffe  :  -5.740929808252179\n",
      "price  :  -5.686077636795565\n",
      "ive  :  -5.631449643560133\n",
      "even  :  -5.626620890878451\n",
      "time  :  -5.576929139543751\n",
      "order  :  -5.544821198741486\n",
      "also  :  -5.541741384100511\n",
      "eat  :  -5.506735414892761\n",
      "much  :  -5.493069086966486\n",
      "best  :  -5.473123592322395\n",
      "littl  :  -5.467119245581223\n",
      "dont  :  -5.457834899807304\n",
      "find  :  -5.42266748301039\n",
      "realli  :  -5.348640364096191\n",
      "would  :  -5.310902326169577\n",
      "buy  :  -5.296185313596167\n",
      "product  :  -5.191129937189832\n",
      "flavor  :  -5.087556354141084\n",
      "get  :  -5.078218244429232\n",
      "make  :  -5.061700544415546\n",
      "tri  :  -4.99202107000861\n",
      "one  :  -4.926719951785495\n",
      "use  :  -4.889313075799915\n",
      "good  :  -4.840266268190499\n",
      "great  :  -4.811309546304596\n",
      "tast  :  -4.727491600622248\n",
      "love  :  -4.643905354660722\n",
      "like  :  -4.566968082342283\n"
     ]
    }
   ],
   "source": [
    "#finding the top 50 positive class word\n",
    "pos_f_imp=clf.feature_log_prob_[1].argsort()[-50:]\n",
    "pos_sort=np.sort(clf.feature_log_prob_[1])[-50:]\n",
    "print('top 50 frequent words occur in negative class and their log_prob--')\n",
    "for i in range(50):\n",
    "    print(np.take(count_vect.get_feature_names(),pos_f_imp[i]),\" : \",pos_sort[i])\n"
   ]
  },
  {
   "cell_type": "code",
   "execution_count": null,
   "metadata": {},
   "outputs": [],
   "source": []
  },
  {
   "cell_type": "markdown",
   "metadata": {},
   "source": [
    "## Feature importance using the best alpha for Tfidf representation (alpha=0.05, BernoulliNB)"
   ]
  },
  {
   "cell_type": "code",
   "execution_count": 93,
   "metadata": {},
   "outputs": [
    {
     "data": {
      "text/plain": [
       "1    117965\n",
       "0    117965\n",
       "Name: Score, dtype: int64"
      ]
     },
     "execution_count": 93,
     "metadata": {},
     "output_type": "execute_result"
    }
   ],
   "source": [
    "df_majority = train[train['Score']==1]\n",
    "df_minority = train[train['Score']==0]\n",
    "\n",
    "\n",
    "df_minority_upsampled = resample(df_minority, \n",
    "                                 replace=True,     # sample with replacement\n",
    "                                 n_samples=117965,    # to match majority class\n",
    "                                 random_state=123) # reproducible results\n",
    "\n",
    "\n",
    "df_upsampled = pd.concat([df_majority, df_minority_upsampled])\n",
    "df_upsampled['Score'].value_counts()"
   ]
  },
  {
   "cell_type": "code",
   "execution_count": 94,
   "metadata": {},
   "outputs": [],
   "source": [
    "df_upsampled=df_upsampled.sort_values(['Time'])\n",
    "\n",
    "x_train=df_upsampled['Cleaned_text']\n",
    "y_train=df_upsampled['Score']"
   ]
  },
  {
   "cell_type": "code",
   "execution_count": 95,
   "metadata": {},
   "outputs": [],
   "source": [
    "#tfidf featurization\n",
    "tfidf_vect=TfidfVectorizer(ngram_range=(1,1), binary=True)\n",
    "x_train=tfidf_vect.fit_transform(x_train.values)\n"
   ]
  },
  {
   "cell_type": "code",
   "execution_count": 96,
   "metadata": {},
   "outputs": [
    {
     "data": {
      "text/plain": [
       "MultinomialNB(alpha=11, class_prior=None, fit_prior=True)"
      ]
     },
     "execution_count": 96,
     "metadata": {},
     "output_type": "execute_result"
    }
   ],
   "source": [
    "#training the model\n",
    "clf=MultinomialNB(alpha=11)\n",
    "clf.fit(x_train,y_train)"
   ]
  },
  {
   "cell_type": "code",
   "execution_count": 97,
   "metadata": {},
   "outputs": [
    {
     "name": "stdout",
     "output_type": "stream",
     "text": [
      "top 50 frequent words occur in negative class and their log_prob--\n",
      "smell  :  -6.717546892464647\n",
      "wast  :  -6.711951482070148\n",
      "someth  :  -6.703956188731398\n",
      "way  :  -6.693189859467869\n",
      "say  :  -6.666266492359513\n",
      "review  :  -6.6639453110774225\n",
      "better  :  -6.662570919874808\n",
      "made  :  -6.64552039045213\n",
      "give  :  -6.63187135610624\n",
      "food  :  -6.623950517967614\n",
      "first  :  -6.600930163564139\n",
      "know  :  -6.58367752907373\n",
      "bad  :  -6.580707588454613\n",
      "never  :  -6.5804144627809515\n",
      "amazon  :  -6.578480457006847\n",
      "bag  :  -6.57770037004612\n",
      "time  :  -6.557660686700689\n",
      "packag  :  -6.534697207992185\n",
      "could  :  -6.530149179039724\n",
      "disappoint  :  -6.5140647569544905\n",
      "receiv  :  -6.512519979181071\n",
      "got  :  -6.5099427935615815\n",
      "love  :  -6.4984663596675984\n",
      "think  :  -6.498417118518735\n",
      "coffe  :  -6.496268402962861\n",
      "want  :  -6.495567954423348\n",
      "thought  :  -6.488073559660956\n",
      "didnt  :  -6.446230656873253\n",
      "eat  :  -6.42228928071417\n",
      "make  :  -6.409590214332863\n",
      "box  :  -6.400200745601422\n",
      "purchas  :  -6.385387905952771\n",
      "much  :  -6.349156911064112\n",
      "realli  :  -6.340779100805274\n",
      "look  :  -6.3247047511747185\n",
      "bought  :  -6.297410636449556\n",
      "good  :  -6.225164866968184\n",
      "use  :  -6.217004668368494\n",
      "even  :  -6.200554066685339\n",
      "flavor  :  -6.15657966719342\n",
      "order  :  -6.111915180463919\n",
      "get  :  -6.099428603079604\n",
      "dont  :  -6.096744350043189\n",
      "tri  :  -6.017667313352116\n",
      "one  :  -5.95979094384004\n",
      "buy  :  -5.933701702808574\n",
      "would  :  -5.8298311547693755\n",
      "product  :  -5.822844862724751\n",
      "like  :  -5.643846973692822\n",
      "tast  :  -5.617739821577519\n"
     ]
    }
   ],
   "source": [
    "#finding the top 50 negative class words\n",
    "neg_f_imp=clf.feature_log_prob_[0].argsort()[-50:]\n",
    "neg_sort=np.sort(clf.feature_log_prob_[0])[-50:]\n",
    "print('top 50 frequent words occur in negative class and their log_prob--')\n",
    "for i in range(50):\n",
    "    print(np.take(count_vect.get_feature_names(),neg_f_imp[i]),\" : \",neg_sort[i])\n"
   ]
  },
  {
   "cell_type": "code",
   "execution_count": 98,
   "metadata": {},
   "outputs": [
    {
     "name": "stdout",
     "output_type": "stream",
     "text": [
      "top 50 frequent words occur in negative class and their log_prob--\n",
      "bought  :  -6.731915744038443\n",
      "purchas  :  -6.719741220755366\n",
      "add  :  -6.705225668510105\n",
      "easi  :  -6.703906352187314\n",
      "delici  :  -6.694538315253579\n",
      "mix  :  -6.683418449084382\n",
      "give  :  -6.6813658826941404\n",
      "keep  :  -6.670071744287525\n",
      "well  :  -6.630665555675073\n",
      "perfect  :  -6.625600334682761\n",
      "food  :  -6.623924686018776\n",
      "drink  :  -6.61604908635516\n",
      "favorit  :  -6.608411899834692\n",
      "found  :  -6.586042779259804\n",
      "even  :  -6.58361881642592\n",
      "nice  :  -6.58191529579232\n",
      "store  :  -6.5634237812783\n",
      "enjoy  :  -6.5508733228247555\n",
      "high  :  -6.547450743089545\n",
      "better  :  -6.521681626274946\n",
      "amazon  :  -6.5113545199580045\n",
      "tea  :  -6.445423656324549\n",
      "dont  :  -6.439319674416001\n",
      "recommend  :  -6.437356988803069\n",
      "ive  :  -6.430110907443934\n",
      "also  :  -6.423462669372807\n",
      "time  :  -6.399766796654602\n",
      "much  :  -6.384364322430639\n",
      "eat  :  -6.35914413333615\n",
      "would  :  -6.337397461896067\n",
      "coffe  :  -6.327974210265792\n",
      "order  :  -6.317517116665291\n",
      "price  :  -6.310617883325493\n",
      "littl  :  -6.304862692189464\n",
      "realli  :  -6.1989734204649425\n",
      "find  :  -6.189245400781945\n",
      "buy  :  -6.165364036225416\n",
      "product  :  -6.13317871599513\n",
      "get  :  -6.101133513389544\n",
      "best  :  -6.078288974265476\n",
      "tri  :  -6.041516278423356\n",
      "make  :  -6.036412709068031\n",
      "one  :  -6.0098996056878455\n",
      "flavor  :  -6.002950178330754\n",
      "use  :  -5.908974537953858\n",
      "tast  :  -5.826593115788626\n",
      "like  :  -5.769206683567887\n",
      "good  :  -5.752190611507816\n",
      "great  :  -5.565424572687915\n",
      "love  :  -5.502859954360421\n"
     ]
    }
   ],
   "source": [
    "#finding the top 50 positive class words\n",
    "pos_f_imp=clf.feature_log_prob_[1].argsort()[-50:]\n",
    "pos_sort=np.sort(clf.feature_log_prob_[1])[-50:]\n",
    "print('top 50 frequent words occur in negative class and their log_prob--')\n",
    "for i in range(50):\n",
    "    print(np.take(count_vect.get_feature_names(),pos_f_imp[i]),\" : \",pos_sort[i])\n"
   ]
  },
  {
   "cell_type": "code",
   "execution_count": null,
   "metadata": {},
   "outputs": [],
   "source": []
  },
  {
   "cell_type": "markdown",
   "metadata": {},
   "source": [
    "## Conclusion -\n",
    "\n",
    "1. We assumed that if 'Score' value is greater than 3 then it is a positive review otherwise it is a negative review. We have completly droppent the review which having 'Score' value 3.\n",
    "\n",
    "2. we analyzed the textual imformation present in data. We have two types of featurization onto which we applied Naive bayes algorithm to analyze, they are- Binary Bag of words representation and Binary Tf-Idf representation of text. We can't apply naive bayes onto Avg word2vec and Tfidf avg word2vec because naive bayes works on a assumption that features should be independent to each other but word2vec are very dependent on the features.\n",
    "\n",
    "3. we have taken sample of 200k datapoints.\n",
    "\n",
    "4. This is a imbalanced dataset. It has approximately 84% positive points and 16% negative points. For fixing it, we have used upsampling such that both negative and positive points become equal in number.\n",
    "\n",
    "5. we applied both MultinomialNB and BernoulliNB onto the Bag of words representation and Tfidf representation, and used scoring matrix like 'accuracy' , 'average_precision' , 'f1_micro' and 'recall'.\n",
    "\n",
    "6. For Bag of words we can say alpha=9 and MultinomialNB is good. BernoulliNB having high FPR value\n",
    "\n",
    "7. For Tfidf we can say alpha=11 and MultinomialNB is the best.\n",
    "\n"
   ]
  }
 ],
 "metadata": {
  "kernelspec": {
   "display_name": "Python 3",
   "language": "python",
   "name": "python3"
  },
  "language_info": {
   "codemirror_mode": {
    "name": "ipython",
    "version": 3
   },
   "file_extension": ".py",
   "mimetype": "text/x-python",
   "name": "python",
   "nbconvert_exporter": "python",
   "pygments_lexer": "ipython3",
   "version": "3.6.5"
  }
 },
 "nbformat": 4,
 "nbformat_minor": 2
}
