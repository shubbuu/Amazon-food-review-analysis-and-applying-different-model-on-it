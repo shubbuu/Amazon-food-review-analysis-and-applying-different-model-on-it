{
 "cells": [
  {
   "cell_type": "markdown",
   "metadata": {},
   "source": [
    "# **Objective**- Apply DecisionTreeClassifier on amazon fine food review"
   ]
  },
  {
   "cell_type": "markdown",
   "metadata": {},
   "source": [
    "#### **About the dataset**"
   ]
  },
  {
   "cell_type": "markdown",
   "metadata": {},
   "source": [
    "Data Source: https://www.kaggle.com/snap/amazon-fine-food-reviews\n",
    "\n",
    "The Amazon Fine Food Reviews dataset consists of reviews of fine foods from Amazon.\n",
    "\n",
    "* Number of reviews: 568,454 \n",
    "* Number of users: 256,059 \n",
    "* Number of products: 74,258 \n",
    "* Timespan: Oct 1999 - Oct 2012 \n",
    "* Number of Attributes/Columns in data: 10\n",
    "\n",
    "##### **Attribute Information**:\n",
    "\n",
    "1. Id ProductId - unique identifier for the product \n",
    "2. UserId - unqiue identifier for the user ProfileName \n",
    "3. HelpfulnessNumerator - number of users who found the review helpful \n",
    "4. HelpfulnessDenominator - number of users who indicated whether they found the review helpful or not \n",
    "5. Score - rating between 1 and 5 \n",
    "6. Time - timestamp for the review \n",
    "7. Summary - brief summary of the review \n",
    "8. Text - text of the review"
   ]
  },
  {
   "cell_type": "markdown",
   "metadata": {},
   "source": [
    "#### **Codes for--**"
   ]
  },
  {
   "cell_type": "markdown",
   "metadata": {},
   "source": [
    "* Applying GridSearchCV with scoring='f1' and 'accuracy',  on DecisionTreeClassifier for all the four vectorizer- Bow, Tfidf, Avg word2vec and Tfidf word2vec.\n"
   ]
  },
  {
   "cell_type": "markdown",
   "metadata": {},
   "source": [
    "## **1. Loading and preprocessing the data**"
   ]
  },
  {
   "cell_type": "code",
   "execution_count": 2,
   "metadata": {},
   "outputs": [],
   "source": [
    "import sqlite3\n",
    "import pandas as pd\n",
    "import numpy as np\n",
    "from sklearn.feature_extraction.text import CountVectorizer, TfidfVectorizer\n",
    "\n",
    "from sklearn.model_selection import train_test_split\n",
    "from sklearn.model_selection import GridSearchCV, TimeSeriesSplit\n",
    "\n",
    "from datetime import datetime\n",
    "from sklearn.metrics import confusion_matrix, classification_report, accuracy_score\n",
    "import warnings\n",
    "warnings.filterwarnings('ignore')"
   ]
  },
  {
   "cell_type": "code",
   "execution_count": 3,
   "metadata": {},
   "outputs": [],
   "source": [
    "from sklearn.tree import DecisionTreeClassifier\n",
    "from sklearn.model_selection import GridSearchCV\n",
    "import seaborn as sns\n",
    "import matplotlib.pyplot as plt\n",
    "%matplotlib inline\n"
   ]
  },
  {
   "cell_type": "code",
   "execution_count": 4,
   "metadata": {},
   "outputs": [],
   "source": [
    "import sqlite3\n",
    "import numpy as np\n",
    "import pandas as pd"
   ]
  },
  {
   "cell_type": "code",
   "execution_count": 7,
   "metadata": {},
   "outputs": [],
   "source": [
    "sql_data=sqlite3.connect('database.sqlite')\n",
    "data=pd.read_sql_query('''\n",
    "SELECT *\n",
    "FROM Reviews\n",
    "WHERE Score!=3''',sql_data)"
   ]
  },
  {
   "cell_type": "code",
   "execution_count": 8,
   "metadata": {},
   "outputs": [],
   "source": [
    "def pos_neg(x):\n",
    "    if x<3:\n",
    "        return 0\n",
    "    else:\n",
    "        return 1\n",
    "data['Score']=data['Score'].map(pos_neg)"
   ]
  },
  {
   "cell_type": "code",
   "execution_count": 9,
   "metadata": {},
   "outputs": [],
   "source": [
    "data=data[data['HelpfulnessNumerator']<=data['HelpfulnessDenominator']]\n",
    "data.drop_duplicates(subset={\"UserId\",\"ProfileName\",\"Time\",\"Text\"}, keep='first', inplace=True)  #dropping the duplicates in the datasets"
   ]
  },
  {
   "cell_type": "code",
   "execution_count": 10,
   "metadata": {},
   "outputs": [
    {
     "data": {
      "text/plain": [
       "1    307061\n",
       "0     57110\n",
       "Name: Score, dtype: int64"
      ]
     },
     "execution_count": 10,
     "metadata": {},
     "output_type": "execute_result"
    }
   ],
   "source": [
    "data['Score'].value_counts()"
   ]
  },
  {
   "cell_type": "code",
   "execution_count": 11,
   "metadata": {},
   "outputs": [],
   "source": [
    "#sampling the data\n",
    "data=data.sort_values(['Time'])#time based sorting \n"
   ]
  },
  {
   "cell_type": "markdown",
   "metadata": {},
   "source": []
  },
  {
   "cell_type": "code",
   "execution_count": 12,
   "metadata": {},
   "outputs": [],
   "source": [
    "import nltk\n",
    "from nltk.corpus import stopwords\n",
    "import re\n",
    "\n",
    "stop=set(stopwords.words('english'))   #stopwords of english language\n",
    "sno=nltk.stem.SnowballStemmer('english')  #stemmer of english language\n",
    "\n",
    "def cleanhtml(sentence): #function to clean the word of any html-tags\n",
    "    cleanr = re.compile('<.*?>')\n",
    "    cleantext = re.sub(cleanr, ' ', sentence)\n",
    "    return cleantext\n",
    "def cleanpunc(sentence): #function to clean the word of any punctuation or special characters\n",
    "    cleaned = re.sub(r'[?|!|\\'|\"|#]',r'',sentence)\n",
    "    cleaned = re.sub(r'[.|,|)|(|\\|/]',r' ',cleaned)\n",
    "    return  cleaned"
   ]
  },
  {
   "cell_type": "code",
   "execution_count": 13,
   "metadata": {},
   "outputs": [],
   "source": [
    "#filtering sentence\n",
    "final_string=[]\n",
    "s=''\n",
    "for sentence in data['Text']:\n",
    "    filtered_sentence=[]\n",
    "    cleaned_sentence=cleanhtml(sentence)\n",
    "    for words in sentence.split():\n",
    "        cleaned_words=cleanpunc(words)\n",
    "        if ( (cleaned_words.isalpha()) & (len(cleaned_words)>2) ):\n",
    "            if(cleaned_words.lower() not in stop):\n",
    "                s=(sno.stem(cleaned_words.lower())).encode('utf8')\n",
    "                filtered_sentence.append(s)\n",
    "            else: \n",
    "                continue\n",
    "        else:\n",
    "            continue\n",
    "    str1=b\" \".join(filtered_sentence)    \n",
    "    final_string.append(str1)\n",
    "        "
   ]
  },
  {
   "cell_type": "code",
   "execution_count": 14,
   "metadata": {},
   "outputs": [],
   "source": [
    "data['Cleaned_text']=final_string\n"
   ]
  },
  {
   "cell_type": "code",
   "execution_count": 59,
   "metadata": {},
   "outputs": [],
   "source": [
    "data.to_csv('data.csv')"
   ]
  },
  {
   "cell_type": "code",
   "execution_count": 5,
   "metadata": {},
   "outputs": [],
   "source": [
    "data=pd.read_csv('data.csv')"
   ]
  },
  {
   "cell_type": "code",
   "execution_count": 6,
   "metadata": {},
   "outputs": [
    {
     "data": {
      "text/plain": [
       "364171"
      ]
     },
     "execution_count": 6,
     "metadata": {},
     "output_type": "execute_result"
    }
   ],
   "source": [
    "len(data)"
   ]
  },
  {
   "cell_type": "markdown",
   "metadata": {},
   "source": [
    "##### ** Observation- Taking the whole datapoints**"
   ]
  },
  {
   "cell_type": "code",
   "execution_count": 8,
   "metadata": {},
   "outputs": [],
   "source": [
    "#taking the test data seperate from all other\n",
    "\n",
    "X, x_test, y_train, y_test=train_test_split(data['Cleaned_text'], data['Score'], test_size=0.3, shuffle=False) #splitting the data"
   ]
  },
  {
   "cell_type": "markdown",
   "metadata": {},
   "source": [
    "#### **User-defined function**"
   ]
  },
  {
   "cell_type": "code",
   "execution_count": 9,
   "metadata": {},
   "outputs": [],
   "source": [
    "#this function finds max depth hyperparameter using GridSearchCV, accuracy, plot mse vs depth, confusion matrix and classification report\n",
    "# this function returns accuracy, optimal depth, TNR, TPR, FNR, FPR\n",
    "\n",
    "from scipy.stats import randint\n",
    "\n",
    "def cross_val(scoring, n_jobs, x_train, x_test, y_train=y_train, y_test=y_test, n=16):\n",
    "    #depth=sorted(randint(1,400).rvs(n))\n",
    "    depth=list(range(1,n))\n",
    "    cv_score=[]\n",
    "    start=datetime.now()\n",
    "    param={'max_depth':depth}\n",
    "    tscv=TimeSeriesSplit(n_splits=10)\n",
    "    clf=DecisionTreeClassifier()\n",
    "    clf=GridSearchCV(estimator=clf, param_grid=param, scoring=scoring, n_jobs=n_jobs, cv=tscv, verbose=1)\n",
    "    clf.fit(x_train,y_train)\n",
    "    end=datetime.now()\n",
    "    print('duration in cross validation=',(end-start))\n",
    "    print('**********************************************************************\\n')\n",
    "    optimal_depth=clf.best_estimator_.get_params()['max_depth']\n",
    "    print('optimal depth',optimal_depth)\n",
    "    \n",
    "    print('**********************************************************************\\n')\n",
    "        \n",
    "    # finding precision error and optimal depth\n",
    "    mse=[]\n",
    "    for x in clf.grid_scores_:\n",
    "        mse.append(1-x[1])\n",
    "    \n",
    "    #ploting precision error vs depth\n",
    "    plt.figure(figsize=(8,8))\n",
    "    plt.plot(depth,mse)\n",
    "    plt.xlabel('depth')\n",
    "    plt.ylabel('misclassification error')\n",
    "    plt.title('plot between depth vs error')\n",
    "    plt.show()\n",
    "    print('**********************************************************************\\n')\n",
    "    \n",
    "        \n",
    "    y_pred=clf.predict(x_test)\n",
    "    accu=accuracy_score(y_test,y_pred)*100\n",
    "    print('accuracy=',accu)\n",
    "    print('**********************************************************************\\n')\n",
    "    \n",
    "    #confusion matrix\n",
    "    t=confusion_matrix(y_pred,y_test)\n",
    "    print('confusion matrix--')\n",
    "    #print(t)\n",
    "    #print('**********************************************************************')\n",
    "    sns.heatmap(t, annot=True, fmt=\"d\", xticklabels=True, yticklabels=True)\n",
    "    plt.xlabel('True label')\n",
    "    plt.ylabel('Predicted label')\n",
    "    plt.title('confusion matrix')\n",
    "    plt.show()\n",
    "    print('**********************************************************************\\n')\n",
    "    \n",
    "    # finding TPR , TNR, FPR, FNR\n",
    "    TNR=t[0][0]/(t[0][0]+t[1][0])\n",
    "    TPR=t[1][1]/(t[0][1]+t[1][1])\n",
    "    FPR=t[1][0]/(t[0][0]+t[1][0])\n",
    "    FNR=t[0][1]/(t[0][1]+t[1][1])\n",
    "    print('TNR=',TNR)\n",
    "    print('TPR=',TPR)\n",
    "    print('FPR=',FPR)\n",
    "    print('FNR=',FNR)\n",
    "    print('**********************************************************************\\n')\n",
    "    \n",
    "    \n",
    "    #classification report\n",
    "    print(classification_report(y_pred,y_test))\n",
    "    print('**********************************************************************\\n')\n",
    "      \n",
    "    \n",
    "    return optimal_depth, accu, TNR, TPR, FPR, FNR"
   ]
  },
  {
   "cell_type": "code",
   "execution_count": null,
   "metadata": {},
   "outputs": [],
   "source": []
  },
  {
   "cell_type": "markdown",
   "metadata": {},
   "source": [
    "## **2. Bag of Words**"
   ]
  },
  {
   "cell_type": "code",
   "execution_count": 10,
   "metadata": {},
   "outputs": [],
   "source": [
    "\n",
    "count_vec=CountVectorizer()\n",
    "x_train_bow=count_vec.fit_transform(X.values)\n",
    "x_test_bow=count_vec.transform(x_test.values)"
   ]
  },
  {
   "cell_type": "code",
   "execution_count": 12,
   "metadata": {},
   "outputs": [
    {
     "name": "stdout",
     "output_type": "stream",
     "text": [
      "number of dimensions in unigram bag of words =  51033\n"
     ]
    }
   ],
   "source": [
    "print('number of dimensions in unigram bag of words = ',len(count_vec.get_feature_names()))\n"
   ]
  },
  {
   "cell_type": "markdown",
   "metadata": {},
   "source": [
    "### **2.1 Apply GridSearchCV, scoring='accuracy', on DecisionTreeClassifier for BoW**"
   ]
  },
  {
   "cell_type": "code",
   "execution_count": 18,
   "metadata": {},
   "outputs": [
    {
     "name": "stdout",
     "output_type": "stream",
     "text": [
      "Fitting 10 folds for each of 19 candidates, totalling 190 fits\n"
     ]
    },
    {
     "name": "stderr",
     "output_type": "stream",
     "text": [
      "[Parallel(n_jobs=-1)]: Done  34 tasks      | elapsed:   29.0s\n",
      "[Parallel(n_jobs=-1)]: Done 190 out of 190 | elapsed:  7.2min finished\n"
     ]
    },
    {
     "name": "stdout",
     "output_type": "stream",
     "text": [
      "duration in cross validation= 0:07:31.090198\n",
      "**********************************************************************\n",
      "\n",
      "optimal depth 13\n",
      "**********************************************************************\n",
      "\n"
     ]
    },
    {
     "data": {
      "image/png": "[encoded data removed]",
      "text/plain": [
       "<Figure size 576x576 with 1 Axes>"
      ]
     },
     "metadata": {},
     "output_type": "display_data"
    },
    {
     "name": "stdout",
     "output_type": "stream",
     "text": [
      "**********************************************************************\n",
      "\n",
      "accuracy= 84.7792260095925\n",
      "**********************************************************************\n",
      "\n",
      "confusion matrix--\n"
     ]
    },
    {
     "data": {
      "image/png": "[encoded data removed]",
      "text/plain": [
       "<Figure size 432x288 with 2 Axes>"
      ]
     },
     "metadata": {},
     "output_type": "display_data"
    },
    {
     "name": "stdout",
     "output_type": "stream",
     "text": [
      "**********************************************************************\n",
      "\n",
      "TNR= 0.19606815203145478\n",
      "TPR= 0.985650443017621\n",
      "FPR= 0.8039318479685452\n",
      "FNR= 0.0143495569823791\n",
      "**********************************************************************\n",
      "\n",
      "             precision    recall  f1-score   support\n",
      "\n",
      "          0       0.20      0.74      0.31      5034\n",
      "          1       0.99      0.85      0.91    104218\n",
      "\n",
      "avg / total       0.95      0.85      0.89    109252\n",
      "\n",
      "**********************************************************************\n",
      "\n"
     ]
    }
   ],
   "source": [
    "optimal_depth, accu, TNR, TPR, FPR, FNR=cross_val(n=20, scoring='accuracy', n_jobs=-1, x_train=x_train_bow, x_test=x_test_bow)"
   ]
  },
  {
   "cell_type": "markdown",
   "metadata": {},
   "source": [
    "**Feature Importance**"
   ]
  },
  {
   "cell_type": "code",
   "execution_count": 19,
   "metadata": {},
   "outputs": [
    {
     "name": "stdout",
     "output_type": "stream",
     "text": [
      "top 25 words and their IG---\n",
      "---------------------------------\n",
      "keep \t\t:\t\t 0.00387\n",
      "hope \t\t:\t\t 0.00398\n",
      "review \t\t:\t\t 0.00427\n",
      "favorit \t\t:\t\t 0.00477\n",
      "littl \t\t:\t\t 0.00483\n",
      "money \t\t:\t\t 0.0053\n",
      "use \t\t:\t\t 0.00592\n",
      "would \t\t:\t\t 0.00609\n",
      "refund \t\t:\t\t 0.00654\n",
      "horribl \t\t:\t\t 0.0076\n",
      "tast \t\t:\t\t 0.00868\n",
      "thought \t\t:\t\t 0.01893\n",
      "descript \t\t:\t\t 0.01941\n",
      "delici \t\t:\t\t 0.02503\n",
      "perfect \t\t:\t\t 0.02521\n",
      "good \t\t:\t\t 0.02629\n",
      "bad \t\t:\t\t 0.03065\n",
      "threw \t\t:\t\t 0.04581\n",
      "best \t\t:\t\t 0.06135\n",
      "love \t\t:\t\t 0.06841\n",
      "return \t\t:\t\t 0.06909\n",
      "worst \t\t:\t\t 0.07641\n",
      "wast \t\t:\t\t 0.09485\n",
      "great \t\t:\t\t 0.09685\n",
      "disappoint \t\t:\t\t 0.1113\n"
     ]
    }
   ],
   "source": [
    "#feature importance\n",
    "clf=DecisionTreeClassifier(max_depth=optimal_depth)\n",
    "clf.fit(x_train_bow,y_train)\n",
    "print('top 25 words and their IG---')\n",
    "print('---------------------------------')\n",
    "top=clf.feature_importances_\n",
    "s=np.argsort(top)[-25:]\n",
    "feature=count_vec.get_feature_names()\n",
    "for i in range(25):\n",
    "    index=s[i]\n",
    "    print(feature[index],'\\t\\t:\\t\\t',round(top[index],5))"
   ]
  },
  {
   "cell_type": "code",
   "execution_count": null,
   "metadata": {},
   "outputs": [],
   "source": []
  },
  {
   "cell_type": "markdown",
   "metadata": {},
   "source": [
    "### **2.2 Apply GridSearchCV, scoring='f1', on DecisionTreeClassifier for BoW**"
   ]
  },
  {
   "cell_type": "code",
   "execution_count": 16,
   "metadata": {},
   "outputs": [
    {
     "name": "stdout",
     "output_type": "stream",
     "text": [
      "Fitting 10 folds for each of 19 candidates, totalling 190 fits\n"
     ]
    },
    {
     "name": "stderr",
     "output_type": "stream",
     "text": [
      "[Parallel(n_jobs=-1)]: Done  34 tasks      | elapsed:   30.7s\n",
      "[Parallel(n_jobs=-1)]: Done 190 out of 190 | elapsed:  7.2min finished\n"
     ]
    },
    {
     "name": "stdout",
     "output_type": "stream",
     "text": [
      "duration in cross validation= 0:07:22.552471\n",
      "**********************************************************************\n",
      "\n",
      "optimal depth 10\n",
      "**********************************************************************\n",
      "\n"
     ]
    },
    {
     "data": {
      "image/png": "[encoded data removed]",
      "text/plain": [
       "<Figure size 576x576 with 1 Axes>"
      ]
     },
     "metadata": {},
     "output_type": "display_data"
    },
    {
     "name": "stdout",
     "output_type": "stream",
     "text": [
      "**********************************************************************\n",
      "\n",
      "accuracy= 84.67488009372826\n",
      "**********************************************************************\n",
      "\n",
      "confusion matrix--\n"
     ]
    },
    {
     "data": {
      "image/png": "[encoded data removed]",
      "text/plain": [
       "<Figure size 432x288 with 2 Axes>"
      ]
     },
     "metadata": {},
     "output_type": "display_data"
    },
    {
     "name": "stdout",
     "output_type": "stream",
     "text": [
      "**********************************************************************\n",
      "\n",
      "TNR= 0.17955439056356487\n",
      "TPR= 0.9878793927498143\n",
      "FPR= 0.8204456094364351\n",
      "FNR= 0.012120607250185746\n",
      "**********************************************************************\n",
      "\n",
      "             precision    recall  f1-score   support\n",
      "\n",
      "          0       0.18      0.76      0.29      4518\n",
      "          1       0.99      0.85      0.91    104734\n",
      "\n",
      "avg / total       0.95      0.85      0.89    109252\n",
      "\n",
      "**********************************************************************\n",
      "\n"
     ]
    }
   ],
   "source": [
    "optimal_depth, accu, TNR, TPR, FPR, FNR=cross_val(n=20, scoring='f1', n_jobs=-1, x_train=x_train_bow, x_test=x_test_bow)"
   ]
  },
  {
   "cell_type": "markdown",
   "metadata": {},
   "source": [
    "**Feature Importance**"
   ]
  },
  {
   "cell_type": "code",
   "execution_count": 17,
   "metadata": {},
   "outputs": [
    {
     "name": "stdout",
     "output_type": "stream",
     "text": [
      "top 25 words and their IG---\n",
      "---------------------------------\n",
      "ever \t\t:\t\t 0.0025\n",
      "earth \t\t:\t\t 0.00282\n",
      "delici \t\t:\t\t 0.0029\n",
      "home \t\t:\t\t 0.00307\n",
      "hope \t\t:\t\t 0.00324\n",
      "date \t\t:\t\t 0.00382\n",
      "keep \t\t:\t\t 0.00412\n",
      "year \t\t:\t\t 0.00432\n",
      "favorit \t\t:\t\t 0.00537\n",
      "use \t\t:\t\t 0.00576\n",
      "littl \t\t:\t\t 0.00588\n",
      "money \t\t:\t\t 0.00646\n",
      "tast \t\t:\t\t 0.00752\n",
      "refund \t\t:\t\t 0.00836\n",
      "thought \t\t:\t\t 0.01631\n",
      "good \t\t:\t\t 0.02763\n",
      "bad \t\t:\t\t 0.03785\n",
      "threw \t\t:\t\t 0.05558\n",
      "best \t\t:\t\t 0.07413\n",
      "love \t\t:\t\t 0.08287\n",
      "return \t\t:\t\t 0.08424\n",
      "worst \t\t:\t\t 0.09253\n",
      "wast \t\t:\t\t 0.11565\n",
      "great \t\t:\t\t 0.11767\n",
      "disappoint \t\t:\t\t 0.13572\n"
     ]
    }
   ],
   "source": [
    "#feature importance\n",
    "clf=DecisionTreeClassifier(max_depth=optimal_depth)\n",
    "clf.fit(x_train_bow,y_train)\n",
    "print('top 25 words and their IG---')\n",
    "print('---------------------------------')\n",
    "top=clf.feature_importances_\n",
    "s=np.argsort(top)[-25:]\n",
    "feature=count_vec.get_feature_names()\n",
    "for i in range(25):\n",
    "    index=s[i]\n",
    "    print(feature[index],'\\t\\t:\\t\\t',round(top[index],5))"
   ]
  },
  {
   "cell_type": "markdown",
   "metadata": {},
   "source": [
    "#### **Observation-**\n",
    "* we can choose max_depth=13 as a best hyperparameter for BoW"
   ]
  },
  {
   "cell_type": "markdown",
   "metadata": {},
   "source": [
    "**saving graph**"
   ]
  },
  {
   "cell_type": "code",
   "execution_count": 13,
   "metadata": {},
   "outputs": [
    {
     "data": {
      "text/plain": [
       "'graph_bow.pdf.pdf'"
      ]
     },
     "execution_count": 13,
     "metadata": {},
     "output_type": "execute_result"
    }
   ],
   "source": [
    "import graphviz\n",
    "from sklearn import tree\n",
    "clf=DecisionTreeClassifier(max_depth=13)\n",
    "clf.fit(x_train_bow,y_train)\n",
    "dot_data = tree.export_graphviz(clf, out_file=None) \n",
    "graph = graphviz.Source(dot_data) \n",
    "graph.render(\"graph_bow.pdf\") \n"
   ]
  },
  {
   "cell_type": "code",
   "execution_count": null,
   "metadata": {},
   "outputs": [],
   "source": []
  },
  {
   "cell_type": "markdown",
   "metadata": {},
   "source": [
    "## **3. TFIDF**"
   ]
  },
  {
   "cell_type": "code",
   "execution_count": 33,
   "metadata": {},
   "outputs": [],
   "source": [
    "from sklearn.feature_extraction.text import TfidfVectorizer\n",
    "tfidf_vect=TfidfVectorizer(ngram_range=(1,1))\n",
    "x_train_tfidf=tfidf_vect.fit_transform(X.values)\n",
    "x_test_tfidf=tfidf_vect.transform(x_test.values)"
   ]
  },
  {
   "cell_type": "code",
   "execution_count": 34,
   "metadata": {},
   "outputs": [
    {
     "name": "stdout",
     "output_type": "stream",
     "text": [
      "number of dimensions in tfidf =  51033\n"
     ]
    }
   ],
   "source": [
    "print('number of dimensions in tfidf = ',len(tfidf_vect.get_feature_names()))"
   ]
  },
  {
   "cell_type": "markdown",
   "metadata": {},
   "source": [
    "### **3.1 Apply GridSearchCV, scoring='accuracy', on DecisionTreeClassifier for TFIDF**"
   ]
  },
  {
   "cell_type": "code",
   "execution_count": 35,
   "metadata": {},
   "outputs": [
    {
     "name": "stdout",
     "output_type": "stream",
     "text": [
      "Fitting 10 folds for each of 19 candidates, totalling 190 fits\n"
     ]
    },
    {
     "name": "stderr",
     "output_type": "stream",
     "text": [
      "[Parallel(n_jobs=-1)]: Done  34 tasks      | elapsed:   35.9s\n",
      "[Parallel(n_jobs=-1)]: Done 190 out of 190 | elapsed:  9.5min finished\n"
     ]
    },
    {
     "name": "stdout",
     "output_type": "stream",
     "text": [
      "duration in cross validation= 0:09:48.940336\n",
      "**********************************************************************\n",
      "\n",
      "optimal depth 10\n",
      "**********************************************************************\n",
      "\n"
     ]
    },
    {
     "data": {
      "image/png": "[encoded data removed]",
      "text/plain": [
       "<Figure size 576x576 with 1 Axes>"
      ]
     },
     "metadata": {},
     "output_type": "display_data"
    },
    {
     "name": "stdout",
     "output_type": "stream",
     "text": [
      "**********************************************************************\n",
      "\n",
      "accuracy= 84.65382784754513\n",
      "**********************************************************************\n",
      "\n",
      "confusion matrix--\n"
     ]
    },
    {
     "data": {
      "image/png": "[encoded data removed]",
      "text/plain": [
       "<Figure size 432x288 with 2 Axes>"
      ]
     },
     "metadata": {},
     "output_type": "display_data"
    },
    {
     "name": "stdout",
     "output_type": "stream",
     "text": [
      "**********************************************************************\n",
      "\n",
      "TNR= 0.18773263433813892\n",
      "TPR= 0.9858944076649256\n",
      "FPR= 0.8122673656618611\n",
      "FNR= 0.014105592335074354\n",
      "**********************************************************************\n",
      "\n",
      "             precision    recall  f1-score   support\n",
      "\n",
      "          0       0.19      0.74      0.30      4853\n",
      "          1       0.99      0.85      0.91    104399\n",
      "\n",
      "avg / total       0.95      0.85      0.89    109252\n",
      "\n",
      "**********************************************************************\n",
      "\n"
     ]
    }
   ],
   "source": [
    "optimal_depth, accu, TNR, TPR, FPR, FNR=cross_val(n=20, scoring='accuracy', n_jobs=-1,  x_train=x_train_tfidf, x_test=x_test_tfidf)"
   ]
  },
  {
   "cell_type": "markdown",
   "metadata": {},
   "source": [
    "**Feature Importance**"
   ]
  },
  {
   "cell_type": "code",
   "execution_count": 36,
   "metadata": {},
   "outputs": [
    {
     "name": "stdout",
     "output_type": "stream",
     "text": [
      "top 25 words and their IG---\n",
      "---------------------------------\n",
      "wont \t\t:\t\t 0.00221\n",
      "home \t\t:\t\t 0.00235\n",
      "receiv \t\t:\t\t 0.00237\n",
      "find \t\t:\t\t 0.00272\n",
      "use \t\t:\t\t 0.00273\n",
      "ever \t\t:\t\t 0.00328\n",
      "favorit \t\t:\t\t 0.00328\n",
      "earth \t\t:\t\t 0.00329\n",
      "would \t\t:\t\t 0.00344\n",
      "enjoy \t\t:\t\t 0.00398\n",
      "littl \t\t:\t\t 0.00448\n",
      "date \t\t:\t\t 0.00479\n",
      "money \t\t:\t\t 0.00667\n",
      "tast \t\t:\t\t 0.01303\n",
      "thought \t\t:\t\t 0.01761\n",
      "good \t\t:\t\t 0.02805\n",
      "bad \t\t:\t\t 0.04103\n",
      "threw \t\t:\t\t 0.05765\n",
      "best \t\t:\t\t 0.07099\n",
      "return \t\t:\t\t 0.08522\n",
      "love \t\t:\t\t 0.08983\n",
      "worst \t\t:\t\t 0.09191\n",
      "great \t\t:\t\t 0.11788\n",
      "wast \t\t:\t\t 0.11818\n",
      "disappoint \t\t:\t\t 0.13316\n"
     ]
    }
   ],
   "source": [
    "#feature importance\n",
    "clf=DecisionTreeClassifier(max_depth=optimal_depth)\n",
    "clf.fit(x_train_tfidf,y_train)\n",
    "print('top 25 words and their IG---')\n",
    "print('---------------------------------')\n",
    "top=clf.feature_importances_\n",
    "s=np.argsort(top)[-25:]\n",
    "feature=tfidf_vect.get_feature_names()\n",
    "for i in range(25):\n",
    "    index=s[i]\n",
    "    print(feature[index],'\\t\\t:\\t\\t',round(top[index],5))"
   ]
  },
  {
   "cell_type": "code",
   "execution_count": null,
   "metadata": {},
   "outputs": [],
   "source": []
  },
  {
   "cell_type": "markdown",
   "metadata": {},
   "source": [
    "### **3.2 Apply GridSearchCV, scoring='f1', on DecisionTreeClassifier for TFIDF**"
   ]
  },
  {
   "cell_type": "code",
   "execution_count": 37,
   "metadata": {},
   "outputs": [
    {
     "name": "stdout",
     "output_type": "stream",
     "text": [
      "Fitting 10 folds for each of 19 candidates, totalling 190 fits\n"
     ]
    },
    {
     "name": "stderr",
     "output_type": "stream",
     "text": [
      "[Parallel(n_jobs=-1)]: Done  34 tasks      | elapsed:   37.2s\n",
      "[Parallel(n_jobs=-1)]: Done 190 out of 190 | elapsed:  9.6min finished\n"
     ]
    },
    {
     "name": "stdout",
     "output_type": "stream",
     "text": [
      "duration in cross validation= 0:09:56.806488\n",
      "**********************************************************************\n",
      "\n",
      "optimal depth 9\n",
      "**********************************************************************\n",
      "\n"
     ]
    },
    {
     "data": {
      "image/png": "[encoded data removed]",
      "text/plain": [
       "<Figure size 576x576 with 1 Axes>"
      ]
     },
     "metadata": {},
     "output_type": "display_data"
    },
    {
     "name": "stdout",
     "output_type": "stream",
     "text": [
      "**********************************************************************\n",
      "\n",
      "accuracy= 84.62728371105335\n",
      "**********************************************************************\n",
      "\n",
      "confusion matrix--\n"
     ]
    },
    {
     "data": {
      "image/png": "[encoded data removed]",
      "text/plain": [
       "<Figure size 432x288 with 2 Axes>"
      ]
     },
     "metadata": {},
     "output_type": "display_data"
    },
    {
     "name": "stdout",
     "output_type": "stream",
     "text": [
      "**********************************************************************\n",
      "\n",
      "TNR= 0.17294888597640892\n",
      "TPR= 0.9887000011089302\n",
      "FPR= 0.8270511140235911\n",
      "FNR= 0.011299998891069784\n",
      "**********************************************************************\n",
      "\n",
      "             precision    recall  f1-score   support\n",
      "\n",
      "          0       0.17      0.76      0.28      4318\n",
      "          1       0.99      0.85      0.91    104934\n",
      "\n",
      "avg / total       0.96      0.85      0.89    109252\n",
      "\n",
      "**********************************************************************\n",
      "\n"
     ]
    }
   ],
   "source": [
    "optimal_depth, accu, TNR, TPR, FPR, FNR=cross_val(n=20, n_jobs=-1, scoring='f1', x_train=x_train_tfidf, x_test=x_test_tfidf)"
   ]
  },
  {
   "cell_type": "markdown",
   "metadata": {},
   "source": [
    "**Feature Importance**"
   ]
  },
  {
   "cell_type": "code",
   "execution_count": 38,
   "metadata": {},
   "outputs": [
    {
     "name": "stdout",
     "output_type": "stream",
     "text": [
      "top 25 words and their IG---\n",
      "year \t\t:\t\t 0.00223\n",
      "home \t\t:\t\t 0.00227\n",
      "wont \t\t:\t\t 0.00239\n",
      "would \t\t:\t\t 0.00248\n",
      "receiv \t\t:\t\t 0.00255\n",
      "make \t\t:\t\t 0.00256\n",
      "find \t\t:\t\t 0.00293\n",
      "use \t\t:\t\t 0.00294\n",
      "favorit \t\t:\t\t 0.00327\n",
      "ever \t\t:\t\t 0.00333\n",
      "earth \t\t:\t\t 0.00338\n",
      "littl \t\t:\t\t 0.00362\n",
      "date \t\t:\t\t 0.00433\n",
      "money \t\t:\t\t 0.00732\n",
      "tast \t\t:\t\t 0.00904\n",
      "thought \t\t:\t\t 0.01887\n",
      "bad \t\t:\t\t 0.04203\n",
      "threw \t\t:\t\t 0.06089\n",
      "best \t\t:\t\t 0.07403\n",
      "return \t\t:\t\t 0.0919\n",
      "love \t\t:\t\t 0.09646\n",
      "worst \t\t:\t\t 0.09912\n",
      "great \t\t:\t\t 0.1268\n",
      "wast \t\t:\t\t 0.12744\n",
      "disappoint \t\t:\t\t 0.14376\n"
     ]
    }
   ],
   "source": [
    "#feature importance\n",
    "clf=DecisionTreeClassifier(max_depth=optimal_depth)\n",
    "clf.fit(x_train_tfidf,y_train)\n",
    "print('top 25 words and their IG---')\n",
    "top=clf.feature_importances_\n",
    "s=np.argsort(top)[-25:]\n",
    "feature=tfidf_vect.get_feature_names()\n",
    "for i in range(25):\n",
    "    index=s[i]\n",
    "    print(feature[index],'\\t\\t:\\t\\t',round(top[index],5))"
   ]
  },
  {
   "cell_type": "markdown",
   "metadata": {},
   "source": [
    "#### **Observation-**\n",
    "* we can choose max_depth=10 as a best hyperparameter for BoW"
   ]
  },
  {
   "cell_type": "markdown",
   "metadata": {},
   "source": [
    "**saving graph**"
   ]
  },
  {
   "cell_type": "code",
   "execution_count": 14,
   "metadata": {},
   "outputs": [],
   "source": [
    "from sklearn.feature_extraction.text import TfidfVectorizer\n",
    "tfidf_vect=TfidfVectorizer(ngram_range=(1,1))\n",
    "x_train_tfidf=tfidf_vect.fit_transform(X.values)\n",
    "x_test_tfidf=tfidf_vect.transform(x_test.values)"
   ]
  },
  {
   "cell_type": "code",
   "execution_count": 15,
   "metadata": {},
   "outputs": [
    {
     "data": {
      "text/plain": [
       "'graph_tfidf.pdf'"
      ]
     },
     "execution_count": 15,
     "metadata": {},
     "output_type": "execute_result"
    }
   ],
   "source": [
    "import graphviz \n",
    "clf=DecisionTreeClassifier(max_depth=10)\n",
    "clf.fit(x_train_tfidf,y_train)\n",
    "from sklearn import tree\n",
    "dot_data = tree.export_graphviz(clf, out_file=None) \n",
    "graph = graphviz.Source(dot_data) \n",
    "graph.render(\"graph_tfidf\") \n"
   ]
  },
  {
   "cell_type": "markdown",
   "metadata": {},
   "source": [
    "## **4. Avg word2vec**"
   ]
  },
  {
   "cell_type": "code",
   "execution_count": 39,
   "metadata": {},
   "outputs": [
    {
     "name": "stdout",
     "output_type": "stream",
     "text": [
      "--2018-09-22 10:19:32--  https://e-6bc70e55d4.cognitiveclass.ai/files/GoogleNews-vectors-negative300.bin.gz\n",
      "Resolving e-6bc70e55d4.cognitiveclass.ai (e-6bc70e55d4.cognitiveclass.ai)... 169.55.145.204, 169.53.184.237\n",
      "Connecting to e-6bc70e55d4.cognitiveclass.ai (e-6bc70e55d4.cognitiveclass.ai)|169.55.145.204|:443... connected.\n",
      "HTTP request sent, awaiting response... 200 OK\n",
      "Length: 1647046227 (1.5G) [application/gzip]\n",
      "Saving to: ‘GoogleNews-vectors-negative300.bin.gz’\n",
      "\n",
      "GoogleNews-vectors- 100%[===================>]   1.53G  10.6MB/s    in 3m 2s   \n",
      "\n",
      "2018-09-22 10:22:34 (8.65 MB/s) - ‘GoogleNews-vectors-negative300.bin.gz’ saved [1647046227/1647046227]\n",
      "\n"
     ]
    }
   ],
   "source": [
    "!wget --header=\"Host: e-6bc70e55d4.cognitiveclass.ai\" --header=\"User-Agent: Mozilla/5.0 (X11; Linux x86_64) AppleWebKit/537.36 (KHTML, like Gecko) Chrome/67.0.3396.99 Safari/537.36\" --header=\"Accept-Language: en-GB,en-US;q=0.9,en;q=0.8\" --header=\"Cookie: _ga=GA1.2.1408782138.1533706215; _vwo_uuid_v2=D808F3746C7D13DF10604B0467CB47E6F|7e911a739f7499117f301311475e9849; optimizelyEndUserId=oeu1535058107427r0.5772861613267186; BMAID=24e17573-cc55-4f8c-8e60-f9e9d3ef3085; ajs_user_id=null; ajs_group_id=null; ajs_anonymous_id=%2224e17573-cc55-4f8c-8e60-f9e9d3ef3085%22; OPTOUTMULTI=0:0%7Cc1:1%7Cc2:0%7Cc3:0; CoreID6=90053287940815354313144&ci=50200000|IBMTESTWWW; CoreM_State=73~-1~-1~-1~-1~3~3~5~3~3~7~7~|~~|~~|~~|~||||||~|~~|~~|~~|~~|~~|~~|~~|~; CoreM_State_Content=6~|~~|~|; utag_main=v_id:01656897e5a20021d387f580130803068001a0600086e$_sn:2$_ss:0$_st:1535433114916$ses_id:1535431312273%3Bexp-session$_pn:1%3Bexp-session$is_country_member_of_eu:false$dc_visit:1$dc_event:1%3Bexp-session$mm_sync:1%3Bexp-session$dc_region:ap-northeast-1%3Bexp-session; _xsrf=2|58dc3bb5|e37d8b1be742934a7d48958ff328ba7b|1536734305; _gid=GA1.2.1452287113.1537210647; username=anshuak100; _gat=1; session=.eJxVjmFrglAYhf_KeD9LaGapEMzSak1NicwaQ255U6de3fXqZtF_n45B7Ns5B55zzg2CEtMcEUwYqIzWmANUszhgRYoJqDd46vI3aNFQGSwzPppF6ENr9QOTG11jL-y4W5n-uMM_451Q6hMtyG1pW20qZ6bLm3HYWuFyFBsiWVzt8nsv4jndslwuede8vuqWfxZxVJx8a8movJZagxTU3J59C090U74kjug4h9Q4rsydBVz35gQqwP39zkGFMvZ7sI_CfTb0fK1xU6nFxqLxfFtyhXXhEY8cr7wyj6ZT6KC6wjRIyKXoSZyjJOtgRKq4RqnA889RHw3ORQ4cXBJasYCgHPebHGTon32ovvTPPar6ta9TkISgKvxIGd9_AC5mdWo.DoeoiQ.cz73U0xnq5FK596B0UoEYh9pmPY\" --header=\"Connection: keep-alive\" \"https://e-6bc70e55d4.cognitiveclass.ai/files/GoogleNews-vectors-negative300.bin.gz\" -O \"GoogleNews-vectors-negative300.bin.gz\" -c"
   ]
  },
  {
   "cell_type": "code",
   "execution_count": 16,
   "metadata": {},
   "outputs": [],
   "source": [
    "sample_data=data.iloc[:100000]  #taking 100k datapoints\n",
    "sample_score=sample_data['Score']"
   ]
  },
  {
   "cell_type": "markdown",
   "metadata": {},
   "source": [
    "##### ** Observation- Taking first 100k datapoints**"
   ]
  },
  {
   "cell_type": "code",
   "execution_count": 17,
   "metadata": {},
   "outputs": [],
   "source": [
    "#taking the test data seperate from all other\n",
    "\n",
    "X, x_test, y_train, y_test=train_test_split(sample_data['Cleaned_text'], sample_data['Score'], test_size=0.3, shuffle=False) #splitting the data"
   ]
  },
  {
   "cell_type": "code",
   "execution_count": 18,
   "metadata": {},
   "outputs": [],
   "source": [
    "import gensim\n",
    "\n",
    "#getting the list of sentences in a 'list'\n",
    "i=0\n",
    "list_of_sentences=[]\n",
    "for sent in X.values:\n",
    "    filtered_sentence=[]    \n",
    "    for w in sent.split():\n",
    "        if(w==sent.split()[0]):\n",
    "            w=w[2:]\n",
    "        filtered_sentence.append(w.lower())       \n",
    "    list_of_sentences.append(filtered_sentence)"
   ]
  },
  {
   "cell_type": "code",
   "execution_count": 19,
   "metadata": {},
   "outputs": [
    {
     "name": "stderr",
     "output_type": "stream",
     "text": [
      "2018-09-22 12:47:35,571 : INFO : loading projection weights from GoogleNews-vectors-negative300.bin.gz\n",
      "2018-09-22 12:50:30,555 : INFO : loaded (3000000, 300) matrix from GoogleNews-vectors-negative300.bin.gz\n"
     ]
    }
   ],
   "source": [
    "# import modules & set up logging\n",
    "import gensim, logging\n",
    "logging.basicConfig(format='%(asctime)s : %(levelname)s : %(message)s', level=logging.INFO)\n",
    "model = gensim.models.KeyedVectors.load_word2vec_format('GoogleNews-vectors-negative300.bin.gz', binary=True)"
   ]
  },
  {
   "cell_type": "code",
   "execution_count": 20,
   "metadata": {},
   "outputs": [
    {
     "name": "stdout",
     "output_type": "stream",
     "text": [
      "3000000\n"
     ]
    }
   ],
   "source": [
    "#defining a word2vec model\n",
    "#model = gensim.models.KeyedVectors.load_word2vec_format(GoogleNews-vectors-negative300.bin.gz, binary=True)    \n",
    "words=list(model.wv.vocab)\n",
    "print(len(words))"
   ]
  },
  {
   "cell_type": "code",
   "execution_count": 21,
   "metadata": {},
   "outputs": [],
   "source": [
    "#calculating avg word2vec\n",
    "vectors=[];\n",
    "for sentence in list_of_sentences:\n",
    "    sentence_vector=np.zeros(300)\n",
    "    count_vec=0;\n",
    "    for word in sentence:\n",
    "        \n",
    "        try:\n",
    "            vec=model.wv[word]\n",
    "            sentence_vector+=vec\n",
    "            count_vec+=1;\n",
    "        except:\n",
    "            pass\n",
    "    sentence_vector/=count_vec\n",
    "    vectors.append(sentence_vector)"
   ]
  },
  {
   "cell_type": "code",
   "execution_count": 22,
   "metadata": {},
   "outputs": [
    {
     "data": {
      "text/plain": [
       "[1622,\n",
       " 1695,\n",
       " 1960,\n",
       " 2226,\n",
       " 4436,\n",
       " 4524,\n",
       " 4710,\n",
       " 5927,\n",
       " 6569,\n",
       " 8073,\n",
       " 11064,\n",
       " 11656,\n",
       " 11967,\n",
       " 12760,\n",
       " 13050,\n",
       " 22888,\n",
       " 24007,\n",
       " 40105,\n",
       " 55871,\n",
       " 58015,\n",
       " 60700,\n",
       " 63893]"
      ]
     },
     "execution_count": 22,
     "metadata": {},
     "output_type": "execute_result"
    }
   ],
   "source": [
    "z=list(np.unique(np.where(np.isnan(vectors))[0]))\n",
    "z"
   ]
  },
  {
   "cell_type": "code",
   "execution_count": 23,
   "metadata": {},
   "outputs": [
    {
     "data": {
      "text/plain": [
       "69978"
      ]
     },
     "execution_count": 23,
     "metadata": {},
     "output_type": "execute_result"
    }
   ],
   "source": [
    "vectors=np.delete(vectors, z, axis=0)\n",
    "len(vectors)"
   ]
  },
  {
   "cell_type": "code",
   "execution_count": 24,
   "metadata": {},
   "outputs": [
    {
     "data": {
      "text/plain": [
       "69978"
      ]
     },
     "execution_count": 24,
     "metadata": {},
     "output_type": "execute_result"
    }
   ],
   "source": [
    "y_train_word=np.array(y_train)\n",
    "y_train_word=np.delete(y_train_word, z, axis=0)\n",
    "len(y_train_word)\n"
   ]
  },
  {
   "cell_type": "code",
   "execution_count": 25,
   "metadata": {},
   "outputs": [],
   "source": [
    "#calculating avg word2vec\n",
    "x_test_word=[];\n",
    "for sentence in x_test.values:\n",
    "    sentence_vector=np.zeros(300)\n",
    "    count_vec=0;\n",
    "    for word in sentence.split():\n",
    "        if(word==sentence.split()[0]):\n",
    "            word=word[2:]\n",
    "        try:\n",
    "            vec=model.wv[word]\n",
    "            sentence_vector+=vec\n",
    "            count_vec+=1;\n",
    "        except:\n",
    "            pass\n",
    "    sentence_vector/=count_vec\n",
    "    x_test_word.append(sentence_vector)"
   ]
  },
  {
   "cell_type": "code",
   "execution_count": 26,
   "metadata": {},
   "outputs": [
    {
     "data": {
      "text/plain": [
       "[23, 27454]"
      ]
     },
     "execution_count": 26,
     "metadata": {},
     "output_type": "execute_result"
    }
   ],
   "source": [
    "z=list(np.unique(np.where(np.isnan(x_test_word))[0]))\n",
    "z"
   ]
  },
  {
   "cell_type": "code",
   "execution_count": 27,
   "metadata": {},
   "outputs": [
    {
     "data": {
      "text/plain": [
       "29998"
      ]
     },
     "execution_count": 27,
     "metadata": {},
     "output_type": "execute_result"
    }
   ],
   "source": [
    "x_test_word=np.delete(x_test_word, z, axis=0)\n",
    "len(x_test_word)"
   ]
  },
  {
   "cell_type": "code",
   "execution_count": 28,
   "metadata": {},
   "outputs": [
    {
     "data": {
      "text/plain": [
       "29998"
      ]
     },
     "execution_count": 28,
     "metadata": {},
     "output_type": "execute_result"
    }
   ],
   "source": [
    "y_test_word=np.array(y_test)\n",
    "y_test_word=np.delete(y_test_word, z, axis=0)\n",
    "len(y_test_word)"
   ]
  },
  {
   "cell_type": "markdown",
   "metadata": {},
   "source": [
    "### **4.1 Apply GridSearchCV, scoring='accuracy', on DecisionTreeClassifier for Avg word2vec**"
   ]
  },
  {
   "cell_type": "code",
   "execution_count": 56,
   "metadata": {},
   "outputs": [
    {
     "name": "stdout",
     "output_type": "stream",
     "text": [
      "Fitting 10 folds for each of 19 candidates, totalling 190 fits\n"
     ]
    },
    {
     "name": "stderr",
     "output_type": "stream",
     "text": [
      "[Parallel(n_jobs=-1)]: Done  34 tasks      | elapsed:   35.7s\n",
      "[Parallel(n_jobs=-1)]: Done 190 out of 190 | elapsed:  9.6min finished\n"
     ]
    },
    {
     "name": "stdout",
     "output_type": "stream",
     "text": [
      "duration in cross validation= 0:09:44.554032\n",
      "**********************************************************************\n",
      "\n",
      "optimal depth 1\n",
      "**********************************************************************\n",
      "\n"
     ]
    },
    {
     "data": {
      "image/png": "[encoded data removed]",
      "text/plain": [
       "<Figure size 576x576 with 1 Axes>"
      ]
     },
     "metadata": {},
     "output_type": "display_data"
    },
    {
     "name": "stdout",
     "output_type": "stream",
     "text": [
      "**********************************************************************\n",
      "\n",
      "accuracy= 86.32908860590706\n",
      "**********************************************************************\n",
      "\n",
      "confusion matrix--\n"
     ]
    },
    {
     "data": {
      "image/png": "[encoded data removed]",
      "text/plain": [
       "<Figure size 432x288 with 2 Axes>"
      ]
     },
     "metadata": {},
     "output_type": "display_data"
    },
    {
     "name": "stdout",
     "output_type": "stream",
     "text": [
      "**********************************************************************\n",
      "\n",
      "TNR= 0.0\n",
      "TPR= 1.0\n",
      "FPR= 1.0\n",
      "FNR= 0.0\n",
      "**********************************************************************\n",
      "\n",
      "             precision    recall  f1-score   support\n",
      "\n",
      "          0       0.00      0.00      0.00         0\n",
      "          1       1.00      0.86      0.93     29998\n",
      "\n",
      "avg / total       1.00      0.86      0.93     29998\n",
      "\n",
      "**********************************************************************\n",
      "\n"
     ]
    }
   ],
   "source": [
    "optimal_depth, accu, TNR, TPR, FPR, FNR=cross_val(n=20,  n_jobs=-1, scoring='accuracy', x_train=vectors, x_test=x_test_word, y_train=y_train_word, y_test=y_test_word)"
   ]
  },
  {
   "cell_type": "markdown",
   "metadata": {},
   "source": [
    "**Feature Importance**"
   ]
  },
  {
   "cell_type": "code",
   "execution_count": 57,
   "metadata": {},
   "outputs": [
    {
     "name": "stdout",
     "output_type": "stream",
     "text": [
      "top 25 IG---\n",
      "0.0\n",
      "0.0\n",
      "0.0\n",
      "0.0\n",
      "0.0\n",
      "0.0\n",
      "0.0\n",
      "0.0\n",
      "0.0\n",
      "0.0\n",
      "0.0\n",
      "0.0\n",
      "0.0\n",
      "0.0\n",
      "0.0\n",
      "0.0\n",
      "0.0\n",
      "0.0\n",
      "0.0\n",
      "0.0\n",
      "0.0\n",
      "0.0\n",
      "0.0\n",
      "0.0\n",
      "1.0\n"
     ]
    }
   ],
   "source": [
    "#feature importance\n",
    "clf=DecisionTreeClassifier(max_depth=optimal_depth)\n",
    "clf.fit(vectors,y_train_word)\n",
    "print('top 25 IG---')\n",
    "top=clf.feature_importances_\n",
    "s=np.argsort(top)[-25:]\n",
    "for i in range(25):\n",
    "    index=s[i]\n",
    "    print(round(top[index],5))"
   ]
  },
  {
   "cell_type": "markdown",
   "metadata": {},
   "source": [
    "#### **Observation-**\n",
    "* we can't find the important words for avg word2vec"
   ]
  },
  {
   "cell_type": "code",
   "execution_count": null,
   "metadata": {},
   "outputs": [],
   "source": []
  },
  {
   "cell_type": "code",
   "execution_count": null,
   "metadata": {},
   "outputs": [],
   "source": []
  },
  {
   "cell_type": "markdown",
   "metadata": {},
   "source": [
    "### **4.2 Apply GridSearchCV, scoring='f1', on DecisionTreeClassifier for Avg word2vec**"
   ]
  },
  {
   "cell_type": "code",
   "execution_count": 59,
   "metadata": {},
   "outputs": [
    {
     "name": "stdout",
     "output_type": "stream",
     "text": [
      "Fitting 10 folds for each of 19 candidates, totalling 190 fits\n"
     ]
    },
    {
     "name": "stderr",
     "output_type": "stream",
     "text": [
      "[Parallel(n_jobs=-1)]: Done  34 tasks      | elapsed:   35.6s\n",
      "[Parallel(n_jobs=-1)]: Done 190 out of 190 | elapsed:  9.6min finished\n"
     ]
    },
    {
     "name": "stdout",
     "output_type": "stream",
     "text": [
      "duration in cross validation= 0:09:43.133561\n",
      "**********************************************************************\n",
      "\n",
      "optimal depth 1\n",
      "**********************************************************************\n",
      "\n"
     ]
    },
    {
     "data": {
      "image/png": "[encoded data removed]",
      "text/plain": [
       "<Figure size 576x576 with 1 Axes>"
      ]
     },
     "metadata": {},
     "output_type": "display_data"
    },
    {
     "name": "stdout",
     "output_type": "stream",
     "text": [
      "**********************************************************************\n",
      "\n",
      "accuracy= 86.32908860590706\n",
      "**********************************************************************\n",
      "\n",
      "confusion matrix--\n"
     ]
    },
    {
     "data": {
      "image/png": "[encoded data removed]",
      "text/plain": [
       "<Figure size 432x288 with 2 Axes>"
      ]
     },
     "metadata": {},
     "output_type": "display_data"
    },
    {
     "name": "stdout",
     "output_type": "stream",
     "text": [
      "**********************************************************************\n",
      "\n",
      "TNR= 0.0\n",
      "TPR= 1.0\n",
      "FPR= 1.0\n",
      "FNR= 0.0\n",
      "**********************************************************************\n",
      "\n",
      "             precision    recall  f1-score   support\n",
      "\n",
      "          0       0.00      0.00      0.00         0\n",
      "          1       1.00      0.86      0.93     29998\n",
      "\n",
      "avg / total       1.00      0.86      0.93     29998\n",
      "\n",
      "**********************************************************************\n",
      "\n"
     ]
    }
   ],
   "source": [
    "optimal_depth, accu, TNR, TPR, FPR, FNR=cross_val(n=20, n_jobs=-1, scoring='f1', x_train=vectors, x_test=x_test_word, y_train=y_train_word, y_test=y_test_word)"
   ]
  },
  {
   "cell_type": "markdown",
   "metadata": {},
   "source": [
    "**Feature Importance**"
   ]
  },
  {
   "cell_type": "code",
   "execution_count": 60,
   "metadata": {},
   "outputs": [
    {
     "name": "stdout",
     "output_type": "stream",
     "text": [
      "top 25 IG---\n",
      "0.0\n",
      "0.0\n",
      "0.0\n",
      "0.0\n",
      "0.0\n",
      "0.0\n",
      "0.0\n",
      "0.0\n",
      "0.0\n",
      "0.0\n",
      "0.0\n",
      "0.0\n",
      "0.0\n",
      "0.0\n",
      "0.0\n",
      "0.0\n",
      "0.0\n",
      "0.0\n",
      "0.0\n",
      "0.0\n",
      "0.0\n",
      "0.0\n",
      "0.0\n",
      "0.0\n",
      "1.0\n"
     ]
    }
   ],
   "source": [
    "#feature importance\n",
    "clf=DecisionTreeClassifier(max_depth=optimal_depth)\n",
    "clf.fit(vectors,y_train_word)\n",
    "print('top 25 IG---')\n",
    "top=clf.feature_importances_\n",
    "s=np.argsort(top)[-25:]\n",
    "for i in range(25):\n",
    "    index=s[i]\n",
    "    print(round(top[index],5))"
   ]
  },
  {
   "cell_type": "markdown",
   "metadata": {},
   "source": [
    "#### **Observation-**\n",
    "* we can't find the important words for avg word2vec\n",
    "* we can choose max_depth=1 as a good hyperparameter for word2vec\n"
   ]
  },
  {
   "cell_type": "code",
   "execution_count": null,
   "metadata": {},
   "outputs": [],
   "source": []
  },
  {
   "cell_type": "markdown",
   "metadata": {},
   "source": [
    "**saving graph**"
   ]
  },
  {
   "cell_type": "code",
   "execution_count": 29,
   "metadata": {},
   "outputs": [
    {
     "data": {
      "text/plain": [
       "'word2vec_graph.pdf'"
      ]
     },
     "execution_count": 29,
     "metadata": {},
     "output_type": "execute_result"
    }
   ],
   "source": [
    "clf=DecisionTreeClassifier(max_depth=1)\n",
    "clf.fit(vectors,y_train_word)\n",
    "dot_data = tree.export_graphviz(clf, out_file=None) \n",
    "graph = graphviz.Source(dot_data) \n",
    "graph.render(\"word2vec_graph\") \n"
   ]
  },
  {
   "cell_type": "code",
   "execution_count": null,
   "metadata": {},
   "outputs": [],
   "source": []
  },
  {
   "cell_type": "code",
   "execution_count": null,
   "metadata": {},
   "outputs": [],
   "source": []
  },
  {
   "cell_type": "markdown",
   "metadata": {},
   "source": [
    "## **5. Tfidf word2vec**"
   ]
  },
  {
   "cell_type": "code",
   "execution_count": 30,
   "metadata": {},
   "outputs": [],
   "source": [
    "from sklearn.feature_extraction.text import TfidfVectorizer\n",
    "tfidf=TfidfVectorizer(ngram_range=(1,1))\n",
    "x_train_tfidf=tfidf.fit_transform(X.values)\n",
    "x_test_tfidf=tfidf.transform(x_test.values)"
   ]
  },
  {
   "cell_type": "code",
   "execution_count": 31,
   "metadata": {},
   "outputs": [
    {
     "data": {
      "text/plain": [
       "27165"
      ]
     },
     "execution_count": 31,
     "metadata": {},
     "output_type": "execute_result"
    }
   ],
   "source": [
    "features=tfidf.get_feature_names()\n",
    "len(features)\n",
    "#features"
   ]
  },
  {
   "cell_type": "code",
   "execution_count": 32,
   "metadata": {},
   "outputs": [],
   "source": [
    "#calculating tf-idf w2vec\n",
    "tfidf_vectors = []; \n",
    "row=0;\n",
    "for sentence in list_of_sentences: \n",
    "    sentence_vec = np.zeros(300) \n",
    "    weight_sum =0; \n",
    "    for word in sentence: \n",
    "        try:\n",
    "            vec = model.wv[word]\n",
    "            tf_idf = x_train_tfidf[row, features.index(word)]\n",
    "            sentence_vec += (vec * tf_idf)\n",
    "            weight_sum += tf_idf\n",
    "        except:\n",
    "            pass\n",
    "    sentence_vec /= weight_sum\n",
    "    tfidf_vectors.append(sentence_vec)\n",
    "    row += 1"
   ]
  },
  {
   "cell_type": "code",
   "execution_count": 33,
   "metadata": {},
   "outputs": [],
   "source": [
    "z=list(np.unique(np.where(np.isnan(tfidf_vectors))[0]))\n",
    "tfidf_vectors=np.delete(tfidf_vectors, z, axis=0)\n",
    "y_train_word=np.array(y_train)\n",
    "y_train_word=np.delete(y_train_word, z, axis=0)"
   ]
  },
  {
   "cell_type": "code",
   "execution_count": 34,
   "metadata": {},
   "outputs": [
    {
     "data": {
      "text/plain": [
       "[]"
      ]
     },
     "execution_count": 34,
     "metadata": {},
     "output_type": "execute_result"
    }
   ],
   "source": [
    "z=list(np.unique(np.where(np.isnan(tfidf_vectors))[0]))\n",
    "z"
   ]
  },
  {
   "cell_type": "code",
   "execution_count": 35,
   "metadata": {},
   "outputs": [],
   "source": [
    "#calculating tf-idf w2vec\n",
    "x_test_tf_word = []; \n",
    "row=0;\n",
    "for sentence in x_test.values: \n",
    "    sentence_vec = np.zeros(300) \n",
    "    weight_sum =0; \n",
    "    for word in sentence.split():\n",
    "        if(word==sentence.split()[0]):\n",
    "            word=word[2:]\n",
    "        try:\n",
    "            vec = model.wv[word]\n",
    "            tf_idf = x_test_tfidf[row, features.index(word)]\n",
    "            sentence_vec += (vec * tf_idf)\n",
    "            weight_sum += tf_idf\n",
    "        except:\n",
    "            pass\n",
    "    sentence_vec /= weight_sum\n",
    "    x_test_tf_word.append(sentence_vec)\n",
    "    row += 1"
   ]
  },
  {
   "cell_type": "code",
   "execution_count": 36,
   "metadata": {},
   "outputs": [],
   "source": [
    "z=list(np.unique(np.where(np.isnan(x_test_tf_word))[0]))\n",
    "x_test_tf_word=np.delete(x_test_tf_word, z, axis=0)\n",
    "y_test_word=np.array(y_test)\n",
    "y_test_word=np.delete(y_test_word, z, axis=0)"
   ]
  },
  {
   "cell_type": "code",
   "execution_count": 37,
   "metadata": {},
   "outputs": [
    {
     "data": {
      "text/plain": [
       "69978"
      ]
     },
     "execution_count": 37,
     "metadata": {},
     "output_type": "execute_result"
    }
   ],
   "source": [
    "len(y_train_word)"
   ]
  },
  {
   "cell_type": "markdown",
   "metadata": {},
   "source": [
    "### **5.1 Apply GridSearchCV, scoring='accuracy', on DecisionTreeClassifier for Tfidf word2vec**"
   ]
  },
  {
   "cell_type": "code",
   "execution_count": 69,
   "metadata": {},
   "outputs": [
    {
     "name": "stdout",
     "output_type": "stream",
     "text": [
      "Fitting 10 folds for each of 19 candidates, totalling 190 fits\n"
     ]
    },
    {
     "name": "stderr",
     "output_type": "stream",
     "text": [
      "[Parallel(n_jobs=-1)]: Done  34 tasks      | elapsed:   34.7s\n",
      "[Parallel(n_jobs=-1)]: Done 190 out of 190 | elapsed:  9.7min finished\n"
     ]
    },
    {
     "name": "stdout",
     "output_type": "stream",
     "text": [
      "duration in cross validation= 0:09:48.182368\n",
      "**********************************************************************\n",
      "\n",
      "optimal depth 1\n",
      "**********************************************************************\n",
      "\n"
     ]
    },
    {
     "data": {
      "image/png": "[encoded data removed]",
      "text/plain": [
       "<Figure size 576x576 with 1 Axes>"
      ]
     },
     "metadata": {},
     "output_type": "display_data"
    },
    {
     "name": "stdout",
     "output_type": "stream",
     "text": [
      "**********************************************************************\n",
      "\n",
      "accuracy= 86.32908860590706\n",
      "**********************************************************************\n",
      "\n",
      "confusion matrix--\n"
     ]
    },
    {
     "data": {
      "image/png": "[encoded data removed]",
      "text/plain": [
       "<Figure size 432x288 with 2 Axes>"
      ]
     },
     "metadata": {},
     "output_type": "display_data"
    },
    {
     "name": "stdout",
     "output_type": "stream",
     "text": [
      "**********************************************************************\n",
      "\n",
      "TNR= 0.0\n",
      "TPR= 1.0\n",
      "FPR= 1.0\n",
      "FNR= 0.0\n",
      "**********************************************************************\n",
      "\n",
      "             precision    recall  f1-score   support\n",
      "\n",
      "          0       0.00      0.00      0.00         0\n",
      "          1       1.00      0.86      0.93     29998\n",
      "\n",
      "avg / total       1.00      0.86      0.93     29998\n",
      "\n",
      "**********************************************************************\n",
      "\n"
     ]
    }
   ],
   "source": [
    "optimal_depth, accu, TNR, TPR, FPR, FNR=cross_val(n=20, n_jobs=-1, scoring='accuracy', x_train=tfidf_vectors, x_test=x_test_tf_word, y_train=y_train_word, y_test=y_test_word)"
   ]
  },
  {
   "cell_type": "markdown",
   "metadata": {},
   "source": [
    "**Feature Importance**"
   ]
  },
  {
   "cell_type": "code",
   "execution_count": 70,
   "metadata": {},
   "outputs": [
    {
     "name": "stdout",
     "output_type": "stream",
     "text": [
      "top 25 IG---\n",
      "0.0\n",
      "0.0\n",
      "0.0\n",
      "0.0\n",
      "0.0\n",
      "0.0\n",
      "0.0\n",
      "0.0\n",
      "0.0\n",
      "0.0\n",
      "0.0\n",
      "0.0\n",
      "0.0\n",
      "0.0\n",
      "0.0\n",
      "0.0\n",
      "0.0\n",
      "0.0\n",
      "0.0\n",
      "0.0\n",
      "0.0\n",
      "0.0\n",
      "0.0\n",
      "0.0\n",
      "1.0\n"
     ]
    }
   ],
   "source": [
    "#feature importance\n",
    "clf=DecisionTreeClassifier(max_depth=optimal_depth)\n",
    "clf.fit(vectors,y_train_word)\n",
    "print('top 25 IG---')\n",
    "top=clf.feature_importances_\n",
    "s=np.argsort(top)[-25:]\n",
    "for i in range(25):\n",
    "    index=s[i]\n",
    "    print(round(top[index],5))"
   ]
  },
  {
   "cell_type": "markdown",
   "metadata": {},
   "source": [
    "#### **Observation-**\n",
    "* we can't find important words for tfidf word2vec"
   ]
  },
  {
   "cell_type": "code",
   "execution_count": null,
   "metadata": {},
   "outputs": [],
   "source": []
  },
  {
   "cell_type": "code",
   "execution_count": null,
   "metadata": {},
   "outputs": [],
   "source": []
  },
  {
   "cell_type": "code",
   "execution_count": null,
   "metadata": {},
   "outputs": [],
   "source": []
  },
  {
   "cell_type": "markdown",
   "metadata": {},
   "source": [
    "### **5.2 Apply GridSearchCV, scoring='f1', on DecisionTreeClassifier for Tfidf word2vec**"
   ]
  },
  {
   "cell_type": "code",
   "execution_count": 71,
   "metadata": {},
   "outputs": [
    {
     "name": "stdout",
     "output_type": "stream",
     "text": [
      "Fitting 10 folds for each of 19 candidates, totalling 190 fits\n"
     ]
    },
    {
     "name": "stderr",
     "output_type": "stream",
     "text": [
      "[Parallel(n_jobs=-1)]: Done  34 tasks      | elapsed:   35.3s\n",
      "[Parallel(n_jobs=-1)]: Done 190 out of 190 | elapsed:  9.8min finished\n"
     ]
    },
    {
     "name": "stdout",
     "output_type": "stream",
     "text": [
      "duration in cross validation= 0:09:52.993966\n",
      "**********************************************************************\n",
      "\n",
      "optimal depth 1\n",
      "**********************************************************************\n",
      "\n"
     ]
    },
    {
     "data": {
      "image/png": "[encoded data removed]",
      "text/plain": [
       "<Figure size 576x576 with 1 Axes>"
      ]
     },
     "metadata": {},
     "output_type": "display_data"
    },
    {
     "name": "stdout",
     "output_type": "stream",
     "text": [
      "**********************************************************************\n",
      "\n",
      "accuracy= 86.32908860590706\n",
      "**********************************************************************\n",
      "\n",
      "confusion matrix--\n"
     ]
    },
    {
     "data": {
      "image/png": "[encoded data removed]",
      "text/plain": [
       "<Figure size 432x288 with 2 Axes>"
      ]
     },
     "metadata": {},
     "output_type": "display_data"
    },
    {
     "name": "stdout",
     "output_type": "stream",
     "text": [
      "**********************************************************************\n",
      "\n",
      "TNR= 0.0\n",
      "TPR= 1.0\n",
      "FPR= 1.0\n",
      "FNR= 0.0\n",
      "**********************************************************************\n",
      "\n",
      "             precision    recall  f1-score   support\n",
      "\n",
      "          0       0.00      0.00      0.00         0\n",
      "          1       1.00      0.86      0.93     29998\n",
      "\n",
      "avg / total       1.00      0.86      0.93     29998\n",
      "\n",
      "**********************************************************************\n",
      "\n"
     ]
    }
   ],
   "source": [
    "optimal_depth, accu, TNR, TPR, FPR, FNR=cross_val( n=20, n_jobs=-1, scoring='f1', x_train=tfidf_vectors, x_test=x_test_tf_word, y_train=y_train_word, y_test=y_test_word)"
   ]
  },
  {
   "cell_type": "markdown",
   "metadata": {},
   "source": [
    "**Feature Importance**"
   ]
  },
  {
   "cell_type": "code",
   "execution_count": 72,
   "metadata": {},
   "outputs": [
    {
     "name": "stdout",
     "output_type": "stream",
     "text": [
      "top 25 IG---\n",
      "0.0\n",
      "0.0\n",
      "0.0\n",
      "0.0\n",
      "0.0\n",
      "0.0\n",
      "0.0\n",
      "0.0\n",
      "0.0\n",
      "0.0\n",
      "0.0\n",
      "0.0\n",
      "0.0\n",
      "0.0\n",
      "0.0\n",
      "0.0\n",
      "0.0\n",
      "0.0\n",
      "0.0\n",
      "0.0\n",
      "0.0\n",
      "0.0\n",
      "0.0\n",
      "0.0\n",
      "1.0\n"
     ]
    }
   ],
   "source": [
    "#feature importance\n",
    "clf=DecisionTreeClassifier(max_depth=optimal_depth)\n",
    "clf.fit(tfidf_vectors,y_train_word)\n",
    "print('top 25 IG---')\n",
    "top=clf.feature_importances_\n",
    "s=np.argsort(top)[-25:]\n",
    "for i in range(25):\n",
    "    index=s[i]\n",
    "    print(round(top[index],5))"
   ]
  },
  {
   "cell_type": "markdown",
   "metadata": {},
   "source": [
    "#### **Observation-**\n",
    "* we can't find important words for tfidf word2vec\n",
    "* we can choose max_depth=14 as a good hyperparameter for Tfidf Word2vec"
   ]
  },
  {
   "cell_type": "markdown",
   "metadata": {},
   "source": [
    "#### **saving graph**"
   ]
  },
  {
   "cell_type": "code",
   "execution_count": 38,
   "metadata": {},
   "outputs": [
    {
     "data": {
      "text/plain": [
       "'tfidf_word2vec_graph.pdf'"
      ]
     },
     "execution_count": 38,
     "metadata": {},
     "output_type": "execute_result"
    }
   ],
   "source": [
    "clf=DecisionTreeClassifier(max_depth=1)\n",
    "clf.fit(tfidf_vectors,y_train_word)\n",
    "dot_data = tree.export_graphviz(clf, out_file=None) \n",
    "graph = graphviz.Source(dot_data) \n",
    "graph.render(\"tfidf_word2vec_graph\") \n"
   ]
  },
  {
   "cell_type": "code",
   "execution_count": null,
   "metadata": {},
   "outputs": [],
   "source": []
  },
  {
   "cell_type": "code",
   "execution_count": null,
   "metadata": {},
   "outputs": [],
   "source": []
  },
  {
   "cell_type": "markdown",
   "metadata": {},
   "source": [
    "# **6. Performance Table**"
   ]
  },
  {
   "cell_type": "markdown",
   "metadata": {},
   "source": [
    "| sno \t| featurization  \t| scoring  \t| optimal depth \t| accuracy \t| TNR    \t| TPR    \t| f1-score \t|\n",
    "|-----\t|----------------\t|----------\t|---------------\t|----------\t|--------\t|--------\t|----------\t|\n",
    "| 1   \t| Bag of words   \t| accuracy \t| 13            \t| 84.7792  \t| 0.1960 \t| 0.9856 \t| 0.89     \t|\n",
    "| 2   \t| Bag of words   \t| f1    \t| 10            \t| 84.6748  \t| 0.1795 \t| 0.9878 \t| 0.89     \t|\n",
    "| 3   \t| Tfidf          \t| accuracy \t| 10             \t| 84.6538  \t| 0.1877 \t| 0.9858 \t| 0.89     \t|\n",
    "| 4   \t| Tfidf          \t| f1       \t| 9             \t| 84.6272  \t| 0.1729 \t| 0.9887 \t| 0.89     \t|\n",
    "| 5   \t| Avg word2vec   \t| accuracy \t| 1             \t| 86.3290  \t| 0.0    \t| 1.0   \t| 0.93     \t|\n",
    "| 6   \t| Avg word2vec   \t| f1    \t| 1             \t| 86.3290  \t| 0.0    \t| 1.0   \t| 0.93     \t|\n",
    "| 7   \t| Tfidf Word2Vec \t| accuracy \t| 1             \t| 86.3290  \t| 0.0    \t| 1.0   \t| 0.93     \t|\n",
    "| 8   \t| Tfidf Word2Vec \t| f1       \t| 1             \t| 86.3290  \t| 0.0    \t| 1.0    \t| 0.93     \t|"
   ]
  },
  {
   "cell_type": "markdown",
   "metadata": {},
   "source": [
    "# **Conclusion-**\n",
    "* We have applied Decision Tree on amazon fine food review.\n",
    "* Normalization should have no impact on the performance of a decision tree. So we didn't use it.\n",
    "* We applied four featurization techniques- BoW, Tfidf, Avg word2vec and Tfidf word2vec for Decision Tree.\n",
    "* As we can see that TNR is so bad especially in case of avg word2vec model and Tfidf word2vec model, seems like dumb model.\n",
    "* Even in case of Bag of words and Tfidf , TNRs have some value but accuracy is lower than word2vec model which is acting like a dumb model.\n",
    "* So we can conclude that decision tree is not working well for this amazon fine food review dataset (text dataset)."
   ]
  },
  {
   "cell_type": "code",
   "execution_count": null,
   "metadata": {},
   "outputs": [],
   "source": []
  },
  {
   "cell_type": "code",
   "execution_count": null,
   "metadata": {},
   "outputs": [],
   "source": []
  }
 ],
 "metadata": {
  "kernelspec": {
   "display_name": "Python 3",
   "language": "python",
   "name": "python3"
  },
  "language_info": {
   "codemirror_mode": {
    "name": "ipython",
    "version": 3
   },
   "file_extension": ".py",
   "mimetype": "text/x-python",
   "name": "python",
   "nbconvert_exporter": "python",
   "pygments_lexer": "ipython3",
   "version": "3.6.5"
  }
 },
 "nbformat": 4,
 "nbformat_minor": 2
}
