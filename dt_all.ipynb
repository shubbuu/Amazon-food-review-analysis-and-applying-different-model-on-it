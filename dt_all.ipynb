{
 "cells": [
  {
   "cell_type": "markdown",
   "metadata": {},
   "source": [
    "# Objective- Apply DecisionTreeClassifier on amazon fine food review( bag of word and tfidf)"
   ]
  },
  {
   "cell_type": "markdown",
   "metadata": {},
   "source": [
    "codes for-\n",
    "1. finding the best max depth hyperparameter using GridSearchCV for featurization like bag of words, tfidf, avg word2vec and tfidf word2vec\n",
    "2. plotting depth vs mse for every cv\n",
    "3. feature importance\n"
   ]
  },
  {
   "cell_type": "markdown",
   "metadata": {},
   "source": [
    "Data Source: https://www.kaggle.com/snap/amazon-fine-food-reviews\n",
    "\n",
    "The Amazon Fine Food Reviews dataset consists of reviews of fine foods from Amazon.\n",
    "\n",
    "Number of reviews: 568,454\n",
    "Number of users: 256,059\n",
    "Number of products: 74,258\n",
    "Timespan: Oct 1999 - Oct 2012\n",
    "Number of Attributes/Columns in data: 10\n",
    "\n",
    "Attribute Information:\n",
    "\n",
    "Id\n",
    "ProductId - unique identifier for the product\n",
    "UserId - unqiue identifier for the user\n",
    "ProfileName\n",
    "HelpfulnessNumerator - number of users who found the review helpful\n",
    "HelpfulnessDenominator - number of users who indicated whether they found the review helpful or not\n",
    "Score - rating between 1 and 5\n",
    "Time - timestamp for the review\n",
    "Summary - brief summary of the review\n",
    "Text - text of the review"
   ]
  },
  {
   "cell_type": "code",
   "execution_count": 2,
   "metadata": {},
   "outputs": [
    {
     "name": "stdout",
     "output_type": "stream",
     "text": [
      "[nltk_data] Downloading package stopwords to /home/jovyan/nltk_data...\n",
      "[nltk_data]   Unzipping corpora/stopwords.zip.\n"
     ]
    },
    {
     "data": {
      "text/plain": [
       "True"
      ]
     },
     "execution_count": 2,
     "metadata": {},
     "output_type": "execute_result"
    }
   ],
   "source": [
    "import nltk\n",
    "nltk.download('stopwords')"
   ]
  },
  {
   "cell_type": "markdown",
   "metadata": {},
   "source": [
    "## Loading the data"
   ]
  },
  {
   "cell_type": "code",
   "execution_count": 2,
   "metadata": {},
   "outputs": [],
   "source": [
    "import sqlite3\n",
    "import pandas as pd\n",
    "import numpy as np\n",
    "from sklearn.feature_extraction.text import CountVectorizer, TfidfVectorizer\n",
    "\n",
    "from sklearn.cross_validation import train_test_split\n",
    "from sklearn.model_selection import GridSearchCV, TimeSeriesSplit\n",
    "\n",
    "from datetime import datetime\n",
    "from sklearn.metrics import confusion_matrix, classification_report, accuracy_score\n",
    "import warnings\n",
    "warnings.filterwarnings('ignore')"
   ]
  },
  {
   "cell_type": "code",
   "execution_count": 3,
   "metadata": {},
   "outputs": [],
   "source": [
    "from sklearn.tree import DecisionTreeClassifier\n",
    "from sklearn.model_selection import GridSearchCV\n",
    "import seaborn as sns\n",
    "import matplotlib.pyplot as plt\n",
    "%matplotlib inline\n"
   ]
  },
  {
   "cell_type": "code",
   "execution_count": 4,
   "metadata": {},
   "outputs": [],
   "source": [
    "import sqlite3\n",
    "import numpy as np\n",
    "import pandas as pd"
   ]
  },
  {
   "cell_type": "code",
   "execution_count": 7,
   "metadata": {},
   "outputs": [],
   "source": [
    "sql_data=sqlite3.connect('database.sqlite')\n",
    "data=pd.read_sql_query('''\n",
    "SELECT *\n",
    "FROM Reviews\n",
    "WHERE Score!=3''',sql_data)"
   ]
  },
  {
   "cell_type": "code",
   "execution_count": 8,
   "metadata": {},
   "outputs": [
    {
     "data": {
      "text/html": [
       "<div>\n",
       "<style>\n",
       "    .dataframe thead tr:only-child th {\n",
       "        text-align: right;\n",
       "    }\n",
       "\n",
       "    .dataframe thead th {\n",
       "        text-align: left;\n",
       "    }\n",
       "\n",
       "    .dataframe tbody tr th {\n",
       "        vertical-align: top;\n",
       "    }\n",
       "</style>\n",
       "<table border=\"1\" class=\"dataframe\">\n",
       "  <thead>\n",
       "    <tr style=\"text-align: right;\">\n",
       "      <th></th>\n",
       "      <th>Id</th>\n",
       "      <th>ProductId</th>\n",
       "      <th>UserId</th>\n",
       "      <th>ProfileName</th>\n",
       "      <th>HelpfulnessNumerator</th>\n",
       "      <th>HelpfulnessDenominator</th>\n",
       "      <th>Score</th>\n",
       "      <th>Time</th>\n",
       "      <th>Summary</th>\n",
       "      <th>Text</th>\n",
       "    </tr>\n",
       "  </thead>\n",
       "  <tbody>\n",
       "    <tr>\n",
       "      <th>0</th>\n",
       "      <td>1</td>\n",
       "      <td>B001E4KFG0</td>\n",
       "      <td>A3SGXH7AUHU8GW</td>\n",
       "      <td>delmartian</td>\n",
       "      <td>1</td>\n",
       "      <td>1</td>\n",
       "      <td>5</td>\n",
       "      <td>1303862400</td>\n",
       "      <td>Good Quality Dog Food</td>\n",
       "      <td>I have bought several of the Vitality canned d...</td>\n",
       "    </tr>\n",
       "    <tr>\n",
       "      <th>1</th>\n",
       "      <td>2</td>\n",
       "      <td>B00813GRG4</td>\n",
       "      <td>A1D87F6ZCVE5NK</td>\n",
       "      <td>dll pa</td>\n",
       "      <td>0</td>\n",
       "      <td>0</td>\n",
       "      <td>1</td>\n",
       "      <td>1346976000</td>\n",
       "      <td>Not as Advertised</td>\n",
       "      <td>Product arrived labeled as Jumbo Salted Peanut...</td>\n",
       "    </tr>\n",
       "    <tr>\n",
       "      <th>2</th>\n",
       "      <td>3</td>\n",
       "      <td>B000LQOCH0</td>\n",
       "      <td>ABXLMWJIXXAIN</td>\n",
       "      <td>Natalia Corres \"Natalia Corres\"</td>\n",
       "      <td>1</td>\n",
       "      <td>1</td>\n",
       "      <td>4</td>\n",
       "      <td>1219017600</td>\n",
       "      <td>\"Delight\" says it all</td>\n",
       "      <td>This is a confection that has been around a fe...</td>\n",
       "    </tr>\n",
       "  </tbody>\n",
       "</table>\n",
       "</div>"
      ],
      "text/plain": [
       "   Id   ProductId          UserId                      ProfileName  \\\n",
       "0   1  B001E4KFG0  A3SGXH7AUHU8GW                       delmartian   \n",
       "1   2  B00813GRG4  A1D87F6ZCVE5NK                           dll pa   \n",
       "2   3  B000LQOCH0   ABXLMWJIXXAIN  Natalia Corres \"Natalia Corres\"   \n",
       "\n",
       "   HelpfulnessNumerator  HelpfulnessDenominator  Score        Time  \\\n",
       "0                     1                       1      5  1303862400   \n",
       "1                     0                       0      1  1346976000   \n",
       "2                     1                       1      4  1219017600   \n",
       "\n",
       "                 Summary                                               Text  \n",
       "0  Good Quality Dog Food  I have bought several of the Vitality canned d...  \n",
       "1      Not as Advertised  Product arrived labeled as Jumbo Salted Peanut...  \n",
       "2  \"Delight\" says it all  This is a confection that has been around a fe...  "
      ]
     },
     "execution_count": 8,
     "metadata": {},
     "output_type": "execute_result"
    }
   ],
   "source": [
    "data.head(3)"
   ]
  },
  {
   "cell_type": "code",
   "execution_count": 9,
   "metadata": {},
   "outputs": [],
   "source": [
    "def pos_neg(x):\n",
    "    if x<3:\n",
    "        return 0\n",
    "    else:\n",
    "        return 1\n",
    "data['Score']=data['Score'].map(pos_neg)"
   ]
  },
  {
   "cell_type": "code",
   "execution_count": 10,
   "metadata": {},
   "outputs": [
    {
     "data": {
      "text/html": [
       "<div>\n",
       "<style>\n",
       "    .dataframe thead tr:only-child th {\n",
       "        text-align: right;\n",
       "    }\n",
       "\n",
       "    .dataframe thead th {\n",
       "        text-align: left;\n",
       "    }\n",
       "\n",
       "    .dataframe tbody tr th {\n",
       "        vertical-align: top;\n",
       "    }\n",
       "</style>\n",
       "<table border=\"1\" class=\"dataframe\">\n",
       "  <thead>\n",
       "    <tr style=\"text-align: right;\">\n",
       "      <th></th>\n",
       "      <th>Id</th>\n",
       "      <th>ProductId</th>\n",
       "      <th>UserId</th>\n",
       "      <th>ProfileName</th>\n",
       "      <th>HelpfulnessNumerator</th>\n",
       "      <th>HelpfulnessDenominator</th>\n",
       "      <th>Score</th>\n",
       "      <th>Time</th>\n",
       "      <th>Summary</th>\n",
       "      <th>Text</th>\n",
       "    </tr>\n",
       "  </thead>\n",
       "  <tbody>\n",
       "    <tr>\n",
       "      <th>0</th>\n",
       "      <td>1</td>\n",
       "      <td>B001E4KFG0</td>\n",
       "      <td>A3SGXH7AUHU8GW</td>\n",
       "      <td>delmartian</td>\n",
       "      <td>1</td>\n",
       "      <td>1</td>\n",
       "      <td>1</td>\n",
       "      <td>1303862400</td>\n",
       "      <td>Good Quality Dog Food</td>\n",
       "      <td>I have bought several of the Vitality canned d...</td>\n",
       "    </tr>\n",
       "    <tr>\n",
       "      <th>1</th>\n",
       "      <td>2</td>\n",
       "      <td>B00813GRG4</td>\n",
       "      <td>A1D87F6ZCVE5NK</td>\n",
       "      <td>dll pa</td>\n",
       "      <td>0</td>\n",
       "      <td>0</td>\n",
       "      <td>0</td>\n",
       "      <td>1346976000</td>\n",
       "      <td>Not as Advertised</td>\n",
       "      <td>Product arrived labeled as Jumbo Salted Peanut...</td>\n",
       "    </tr>\n",
       "    <tr>\n",
       "      <th>2</th>\n",
       "      <td>3</td>\n",
       "      <td>B000LQOCH0</td>\n",
       "      <td>ABXLMWJIXXAIN</td>\n",
       "      <td>Natalia Corres \"Natalia Corres\"</td>\n",
       "      <td>1</td>\n",
       "      <td>1</td>\n",
       "      <td>1</td>\n",
       "      <td>1219017600</td>\n",
       "      <td>\"Delight\" says it all</td>\n",
       "      <td>This is a confection that has been around a fe...</td>\n",
       "    </tr>\n",
       "  </tbody>\n",
       "</table>\n",
       "</div>"
      ],
      "text/plain": [
       "   Id   ProductId          UserId                      ProfileName  \\\n",
       "0   1  B001E4KFG0  A3SGXH7AUHU8GW                       delmartian   \n",
       "1   2  B00813GRG4  A1D87F6ZCVE5NK                           dll pa   \n",
       "2   3  B000LQOCH0   ABXLMWJIXXAIN  Natalia Corres \"Natalia Corres\"   \n",
       "\n",
       "   HelpfulnessNumerator  HelpfulnessDenominator  Score        Time  \\\n",
       "0                     1                       1      1  1303862400   \n",
       "1                     0                       0      0  1346976000   \n",
       "2                     1                       1      1  1219017600   \n",
       "\n",
       "                 Summary                                               Text  \n",
       "0  Good Quality Dog Food  I have bought several of the Vitality canned d...  \n",
       "1      Not as Advertised  Product arrived labeled as Jumbo Salted Peanut...  \n",
       "2  \"Delight\" says it all  This is a confection that has been around a fe...  "
      ]
     },
     "execution_count": 10,
     "metadata": {},
     "output_type": "execute_result"
    }
   ],
   "source": [
    "data.head(3)"
   ]
  },
  {
   "cell_type": "markdown",
   "metadata": {},
   "source": [
    "## Data Cleaning"
   ]
  },
  {
   "cell_type": "code",
   "execution_count": 11,
   "metadata": {},
   "outputs": [],
   "source": [
    "data=data[data['HelpfulnessNumerator']<=data['HelpfulnessDenominator']]\n",
    "data.drop_duplicates(subset={\"UserId\",\"ProfileName\",\"Time\",\"Text\"}, keep='first', inplace=True)  #dropping the duplicates in the datasets"
   ]
  },
  {
   "cell_type": "code",
   "execution_count": 12,
   "metadata": {},
   "outputs": [
    {
     "data": {
      "text/plain": [
       "1    307061\n",
       "0     57110\n",
       "Name: Score, dtype: int64"
      ]
     },
     "execution_count": 12,
     "metadata": {},
     "output_type": "execute_result"
    }
   ],
   "source": [
    "data['Score'].value_counts()"
   ]
  },
  {
   "cell_type": "code",
   "execution_count": 17,
   "metadata": {},
   "outputs": [],
   "source": [
    "#sampling the data\n",
    "data=data.sort_values(['Time'])#time based sorting \n",
    "sample_data=data.iloc[:100000]  #taking 100k datapoints\n",
    "sample_score=sample_data['Score']"
   ]
  },
  {
   "cell_type": "code",
   "execution_count": 19,
   "metadata": {},
   "outputs": [],
   "source": [
    "import nltk\n",
    "from nltk.corpus import stopwords\n",
    "import re\n",
    "\n",
    "stop=set(stopwords.words('english'))   #stopwords of english language\n",
    "sno=nltk.stem.SnowballStemmer('english')  #stemmer of english language\n",
    "\n",
    "def cleanhtml(sentence): #function to clean the word of any html-tags\n",
    "    cleanr = re.compile('<.*?>')\n",
    "    cleantext = re.sub(cleanr, ' ', sentence)\n",
    "    return cleantext\n",
    "def cleanpunc(sentence): #function to clean the word of any punctuation or special characters\n",
    "    cleaned = re.sub(r'[?|!|\\'|\"|#]',r'',sentence)\n",
    "    cleaned = re.sub(r'[.|,|)|(|\\|/]',r' ',cleaned)\n",
    "    return  cleaned"
   ]
  },
  {
   "cell_type": "code",
   "execution_count": 20,
   "metadata": {},
   "outputs": [],
   "source": [
    "#filtering sentence\n",
    "final_string=[]\n",
    "s=''\n",
    "for sentence in sample_data['Text']:\n",
    "    filtered_sentence=[]\n",
    "    cleaned_sentence=cleanhtml(sentence)\n",
    "    for words in sentence.split():\n",
    "        cleaned_words=cleanpunc(words)\n",
    "        if ( (cleaned_words.isalpha()) & (len(cleaned_words)>2) ):\n",
    "            if(cleaned_words.lower() not in stop):\n",
    "                s=(sno.stem(cleaned_words.lower())).encode('utf8')\n",
    "                filtered_sentence.append(s)\n",
    "            else: \n",
    "                continue\n",
    "        else:\n",
    "            continue\n",
    "    str1=b\" \".join(filtered_sentence)    \n",
    "    final_string.append(str1)\n",
    "        "
   ]
  },
  {
   "cell_type": "code",
   "execution_count": 21,
   "metadata": {},
   "outputs": [],
   "source": [
    "sample_data['Cleaned_text']=final_string"
   ]
  },
  {
   "cell_type": "code",
   "execution_count": 15,
   "metadata": {},
   "outputs": [],
   "source": [
    "sample_data.to_csv('sample_tree.csv')"
   ]
  },
  {
   "cell_type": "code",
   "execution_count": 5,
   "metadata": {},
   "outputs": [],
   "source": [
    "sample_data=pd.read_csv('sample_tree.csv')"
   ]
  },
  {
   "cell_type": "code",
   "execution_count": 7,
   "metadata": {},
   "outputs": [],
   "source": [
    "#taking the test data seperate from all other\n",
    "\n",
    "X, x_test, y_train, y_test=train_test_split(sample_data['Cleaned_text'], sample_data['Score'], test_size=0.3) #splitting the data"
   ]
  },
  {
   "cell_type": "code",
   "execution_count": null,
   "metadata": {},
   "outputs": [],
   "source": []
  },
  {
   "cell_type": "code",
   "execution_count": null,
   "metadata": {},
   "outputs": [],
   "source": []
  },
  {
   "cell_type": "markdown",
   "metadata": {},
   "source": [
    "##  Decision Tree Classifier for BoW, scoring='f1' "
   ]
  },
  {
   "cell_type": "code",
   "execution_count": 8,
   "metadata": {},
   "outputs": [],
   "source": [
    "\n",
    "count_vec=CountVectorizer()\n",
    "x_train_bow=count_vec.fit_transform(X.values)\n",
    "x_test_bow=count_vec.transform(x_test.values)"
   ]
  },
  {
   "cell_type": "code",
   "execution_count": 9,
   "metadata": {},
   "outputs": [
    {
     "name": "stdout",
     "output_type": "stream",
     "text": [
      "number of dimensions in unigram bag of words--\n"
     ]
    },
    {
     "data": {
      "text/plain": [
       "27875"
      ]
     },
     "execution_count": 9,
     "metadata": {},
     "output_type": "execute_result"
    }
   ],
   "source": [
    "print('number of dimensions in unigram bag of words--')\n",
    "len(count_vec.get_feature_names())"
   ]
  },
  {
   "cell_type": "code",
   "execution_count": 10,
   "metadata": {},
   "outputs": [],
   "source": [
    "#this function finds max depth hyperparameter using GridSearchCV, accuracy, plot mse vs depth, confusion matrix and classification report\n",
    "# this function returns accuracy, optimal depth, TNR, TPR, FNR, FPR\n",
    "\n",
    "from scipy.stats import randint\n",
    "\n",
    "def cross_val(scoring, n_jobs, x_train, x_test, y_train=y_train, y_test=y_test, n=20):\n",
    "    depth=sorted(randint(1,400).rvs(n))\n",
    "    #depth=list(range(1,n, gap))\n",
    "    cv_score=[]\n",
    "    start=datetime.now()\n",
    "    param={'max_depth':depth}\n",
    "    tscv=TimeSeriesSplit(n_splits=10)\n",
    "    clf=DecisionTreeClassifier()\n",
    "    clf=GridSearchCV(estimator=clf, param_grid=param, scoring=scoring, n_jobs=n_jobs, cv=tscv, verbose=1)\n",
    "    clf.fit(x_train,y_train)\n",
    "    end=datetime.now()\n",
    "    print('duration in cross validation=',(end-start))\n",
    "    print('**********************************************************************\\n')\n",
    "    optimal_depth=clf.best_estimator_.get_params()['max_depth']\n",
    "    print('optimal depth',optimal_depth)\n",
    "    \n",
    "    print('**********************************************************************\\n')\n",
    "        \n",
    "    # finding precision error and optimal depth\n",
    "    mse=[]\n",
    "    for x in clf.grid_scores_:\n",
    "        mse.append(1-x[1])\n",
    "    \n",
    "    #ploting precision error vs depth\n",
    "    plt.figure(figsize=(8,8))\n",
    "    plt.plot(depth,mse)\n",
    "    plt.xlabel('depth')\n",
    "    plt.ylabel('misclassification error')\n",
    "    plt.title('plot between depth vs error')\n",
    "    plt.show()\n",
    "    print('**********************************************************************\\n')\n",
    "    \n",
    "        \n",
    "    y_pred=clf.predict(x_test)\n",
    "    accu=accuracy_score(y_test,y_pred)*100\n",
    "    print('accuracy=',accu)\n",
    "    print('**********************************************************************\\n')\n",
    "    \n",
    "    #confusion matrix\n",
    "    t=confusion_matrix(y_pred,y_test)\n",
    "    print('confusion matrix--')\n",
    "    #print(t)\n",
    "    #print('**********************************************************************')\n",
    "    sns.heatmap(t, annot=True, fmt=\"d\", xticklabels=True, yticklabels=True)\n",
    "    plt.xlabel('True label')\n",
    "    plt.ylabel('Predicted label')\n",
    "    plt.title('confusion matrix')\n",
    "    plt.show()\n",
    "    print('**********************************************************************\\n')\n",
    "    \n",
    "    # finding TPR , TNR, FPR, FNR\n",
    "    TNR=t[0][0]/(t[0][0]+t[1][0])\n",
    "    TPR=t[1][1]/(t[0][1]+t[1][1])\n",
    "    FPR=t[1][0]/(t[0][0]+t[1][0])\n",
    "    FNR=t[0][1]/(t[0][1]+t[1][1])\n",
    "    print('TNR=',TNR)\n",
    "    print('TPR=',TPR)\n",
    "    print('FPR=',FPR)\n",
    "    print('FNR=',FNR)\n",
    "    print('**********************************************************************\\n')\n",
    "    \n",
    "    \n",
    "    #classification report\n",
    "    print(classification_report(y_pred,y_test))\n",
    "    print('**********************************************************************\\n')\n",
    "      \n",
    "    \n",
    "    return optimal_depth, accu, TNR, TPR, FPR, FNR"
   ]
  },
  {
   "cell_type": "code",
   "execution_count": 11,
   "metadata": {},
   "outputs": [
    {
     "name": "stdout",
     "output_type": "stream",
     "text": [
      "Fitting 10 folds for each of 20 candidates, totalling 200 fits\n"
     ]
    },
    {
     "name": "stderr",
     "output_type": "stream",
     "text": [
      "[Parallel(n_jobs=-1)]: Done  10 tasks      | elapsed:   10.4s\n",
      "[Parallel(n_jobs=-1)]: Done 160 tasks      | elapsed:  3.7min\n",
      "[Parallel(n_jobs=-1)]: Done 200 out of 200 | elapsed:  5.5min finished\n"
     ]
    },
    {
     "name": "stdout",
     "output_type": "stream",
     "text": [
      "duration in cross validation= 0:06:11.705973\n",
      "**********************************************************************\n",
      "\n",
      "optimal depth 62\n",
      "**********************************************************************\n",
      "\n"
     ]
    },
    {
     "data": {
      "image/png": "[encoded data removed]",
      "text/plain": [
       "<matplotlib.figure.Figure at 0x3fffafa42630>"
      ]
     },
     "metadata": {},
     "output_type": "display_data"
    },
    {
     "name": "stdout",
     "output_type": "stream",
     "text": [
      "**********************************************************************\n",
      "\n",
      "accuracy= 84.79666666666667\n",
      "**********************************************************************\n",
      "\n",
      "confusion matrix--\n"
     ]
    },
    {
     "data": {
      "image/png": "[encoded data removed]",
      "text/plain": [
       "<matplotlib.figure.Figure at 0x3fff38bfd780>"
      ]
     },
     "metadata": {},
     "output_type": "display_data"
    },
    {
     "name": "stdout",
     "output_type": "stream",
     "text": [
      "**********************************************************************\n",
      "\n",
      "TNR= 0.3623157444990387\n",
      "TPR= 0.9377542556973024\n",
      "FPR= 0.6376842555009613\n",
      "FNR= 0.06224574430269758\n",
      "**********************************************************************\n",
      "\n",
      "             precision    recall  f1-score   support\n",
      "\n",
      "          0       0.36      0.52      0.43      3272\n",
      "          1       0.94      0.89      0.91     26728\n",
      "\n",
      "avg / total       0.87      0.85      0.86     30000\n",
      "\n",
      "**********************************************************************\n",
      "\n"
     ]
    }
   ],
   "source": [
    "optimal_depth, accu, TNR, TPR, FPR, FNR=cross_val(scoring='f1', n_jobs=-1, x_train=x_train_bow, x_test=x_test_bow)"
   ]
  },
  {
   "cell_type": "code",
   "execution_count": 12,
   "metadata": {},
   "outputs": [
    {
     "name": "stdout",
     "output_type": "stream",
     "text": [
      "top 25 words and their IG---\n",
      "---------------------------------\n",
      "throw \t\t:\t\t 0.00545\n",
      "aw \t\t:\t\t 0.00555\n",
      "use \t\t:\t\t 0.0057\n",
      "nice \t\t:\t\t 0.00577\n",
      "excel \t\t:\t\t 0.0058\n",
      "thought \t\t:\t\t 0.00597\n",
      "product \t\t:\t\t 0.00652\n",
      "descript \t\t:\t\t 0.00669\n",
      "didnt \t\t:\t\t 0.00669\n",
      "favorit \t\t:\t\t 0.00681\n",
      "would \t\t:\t\t 0.00746\n",
      "bad \t\t:\t\t 0.00783\n",
      "horribl \t\t:\t\t 0.00787\n",
      "perfect \t\t:\t\t 0.00842\n",
      "delici \t\t:\t\t 0.00915\n",
      "tast \t\t:\t\t 0.00928\n",
      "good \t\t:\t\t 0.01029\n",
      "threw \t\t:\t\t 0.01372\n",
      "best \t\t:\t\t 0.01492\n",
      "worst \t\t:\t\t 0.01693\n",
      "love \t\t:\t\t 0.02065\n",
      "return \t\t:\t\t 0.02221\n",
      "wast \t\t:\t\t 0.02748\n",
      "great \t\t:\t\t 0.02813\n",
      "disappoint \t\t:\t\t 0.03601\n"
     ]
    }
   ],
   "source": [
    "#feature importance\n",
    "clf=DecisionTreeClassifier(max_depth=optimal_depth)\n",
    "clf.fit(x_train_bow,y_train)\n",
    "print('top 25 words and their IG---')\n",
    "print('---------------------------------')\n",
    "top=clf.feature_importances_\n",
    "s=np.argsort(top)[-25:]\n",
    "feature=count_vec.get_feature_names()\n",
    "for i in range(25):\n",
    "    index=s[i]\n",
    "    print(feature[index],'\\t\\t:\\t\\t',round(top[index],5))"
   ]
  },
  {
   "cell_type": "code",
   "execution_count": null,
   "metadata": {},
   "outputs": [],
   "source": []
  },
  {
   "cell_type": "markdown",
   "metadata": {},
   "source": [
    "##  Decision Tree Classifier for BoW, scoring='accuracy' "
   ]
  },
  {
   "cell_type": "code",
   "execution_count": 121,
   "metadata": {},
   "outputs": [
    {
     "name": "stdout",
     "output_type": "stream",
     "text": [
      "Fitting 10 folds for each of 30 candidates, totalling 300 fits\n"
     ]
    },
    {
     "name": "stderr",
     "output_type": "stream",
     "text": [
      "[Parallel(n_jobs=-1)]: Done  10 tasks      | elapsed:    2.4s\n",
      "[Parallel(n_jobs=-1)]: Done 160 tasks      | elapsed:  2.4min\n",
      "[Parallel(n_jobs=-1)]: Done 300 out of 300 | elapsed:  6.5min finished\n"
     ]
    },
    {
     "name": "stdout",
     "output_type": "stream",
     "text": [
      "duration in cross validation= 0:06:34.736945\n",
      "**********************************************************************\n",
      "\n",
      "optimal depth 12\n",
      "**********************************************************************\n",
      "\n"
     ]
    },
    {
     "data": {
      "image/png": "[encoded data removed]",
      "text/plain": [
       "<matplotlib.figure.Figure at 0x3fff3cfe80f0>"
      ]
     },
     "metadata": {},
     "output_type": "display_data"
    },
    {
     "name": "stdout",
     "output_type": "stream",
     "text": [
      "**********************************************************************\n",
      "\n",
      "accuracy= 88.70333333333333\n",
      "**********************************************************************\n",
      "\n",
      "confusion matrix--\n"
     ]
    },
    {
     "data": {
      "image/png": "[encoded data removed]",
      "text/plain": [
       "<matplotlib.figure.Figure at 0x3fff29f7bb38>"
      ]
     },
     "metadata": {},
     "output_type": "display_data"
    },
    {
     "name": "stdout",
     "output_type": "stream",
     "text": [
      "**********************************************************************\n",
      "\n",
      "TNR= 0.16937229437229437\n",
      "TPR= 0.9878725669099757\n",
      "FPR= 0.8306277056277056\n",
      "FNR= 0.012127433090024332\n",
      "**********************************************************************\n",
      "\n",
      "             precision    recall  f1-score   support\n",
      "\n",
      "          0       0.17      0.66      0.27       945\n",
      "          1       0.99      0.89      0.94     29055\n",
      "\n",
      "avg / total       0.96      0.89      0.92     30000\n",
      "\n",
      "**********************************************************************\n",
      "\n"
     ]
    }
   ],
   "source": [
    "optimal_depth, accu, TNR, TPR, FPR, FNR=cross_val( scoring='accuracy', n_jobs=-1, x_train=x_train_bow, x_test=x_test_bow)"
   ]
  },
  {
   "cell_type": "code",
   "execution_count": 122,
   "metadata": {},
   "outputs": [
    {
     "name": "stdout",
     "output_type": "stream",
     "text": [
      "top 25 words and their IG---\n",
      "---------------------------------\n",
      "receiv \t\t:\t\t 0.00455\n",
      "make \t\t:\t\t 0.00465\n",
      "alway \t\t:\t\t 0.00494\n",
      "add \t\t:\t\t 0.00565\n",
      "money \t\t:\t\t 0.0059\n",
      "product \t\t:\t\t 0.006\n",
      "contact \t\t:\t\t 0.00606\n",
      "use \t\t:\t\t 0.00641\n",
      "like \t\t:\t\t 0.0074\n",
      "refund \t\t:\t\t 0.00749\n",
      "delici \t\t:\t\t 0.0079\n",
      "thought \t\t:\t\t 0.01308\n",
      "good \t\t:\t\t 0.01354\n",
      "bad \t\t:\t\t 0.01728\n",
      "didnt \t\t:\t\t 0.02174\n",
      "would \t\t:\t\t 0.02723\n",
      "horribl \t\t:\t\t 0.03608\n",
      "return \t\t:\t\t 0.05174\n",
      "love \t\t:\t\t 0.05647\n",
      "threw \t\t:\t\t 0.06168\n",
      "best \t\t:\t\t 0.06783\n",
      "wast \t\t:\t\t 0.07118\n",
      "worst \t\t:\t\t 0.08631\n",
      "great \t\t:\t\t 0.08926\n",
      "disappoint \t\t:\t\t 0.09845\n"
     ]
    }
   ],
   "source": [
    "#feature importance\n",
    "clf=DecisionTreeClassifier(max_depth=optimal_depth)\n",
    "clf.fit(x_train_bow,y_train)\n",
    "print('top 25 words and their IG---')\n",
    "print('---------------------------------')\n",
    "top=clf.feature_importances_\n",
    "s=np.argsort(top)[-25:]\n",
    "feature=count_vec.get_feature_names()\n",
    "for i in range(25):\n",
    "    index=s[i]\n",
    "    print(feature[index],'\\t\\t:\\t\\t',round(top[index],5))"
   ]
  },
  {
   "cell_type": "markdown",
   "metadata": {},
   "source": [
    "### Observation-\n",
    "* we can choose max_depth=62 as a best hyperparameter for BoW"
   ]
  },
  {
   "cell_type": "markdown",
   "metadata": {},
   "source": [
    "#### saving graph"
   ]
  },
  {
   "cell_type": "code",
   "execution_count": 13,
   "metadata": {},
   "outputs": [
    {
     "data": {
      "text/plain": [
       "DecisionTreeClassifier(class_weight=None, criterion='gini', max_depth=62,\n",
       "            max_features=None, max_leaf_nodes=None,\n",
       "            min_impurity_decrease=0.0, min_impurity_split=None,\n",
       "            min_samples_leaf=1, min_samples_split=2,\n",
       "            min_weight_fraction_leaf=0.0, presort=False, random_state=None,\n",
       "            splitter='best')"
      ]
     },
     "execution_count": 13,
     "metadata": {},
     "output_type": "execute_result"
    }
   ],
   "source": [
    "import graphviz\n",
    "from sklearn import tree\n",
    "clf=DecisionTreeClassifier(max_depth=62)\n",
    "clf.fit(x_train_bow,y_train)\n"
   ]
  },
  {
   "cell_type": "code",
   "execution_count": 14,
   "metadata": {},
   "outputs": [
    {
     "data": {
      "text/plain": [
       "'graph_bow.pdf'"
      ]
     },
     "execution_count": 14,
     "metadata": {},
     "output_type": "execute_result"
    }
   ],
   "source": [
    "dot_data = tree.export_graphviz(clf, out_file=None) \n",
    "graph = graphviz.Source(dot_data) \n",
    "graph.render(\"graph_bow\") \n"
   ]
  },
  {
   "cell_type": "code",
   "execution_count": null,
   "metadata": {},
   "outputs": [],
   "source": []
  },
  {
   "cell_type": "code",
   "execution_count": null,
   "metadata": {},
   "outputs": [],
   "source": []
  },
  {
   "cell_type": "markdown",
   "metadata": {},
   "source": [
    "## Decision tree classifier on TfidfVectorizer, scoring='accuracy'"
   ]
  },
  {
   "cell_type": "code",
   "execution_count": 15,
   "metadata": {},
   "outputs": [],
   "source": [
    "from sklearn.feature_extraction.text import TfidfVectorizer\n",
    "tfidf_vect=TfidfVectorizer(ngram_range=(1,1))\n",
    "x_train_tfidf=tfidf_vect.fit_transform(X.values)\n",
    "x_test_tfidf=tfidf_vect.transform(x_test.values)"
   ]
  },
  {
   "cell_type": "code",
   "execution_count": 16,
   "metadata": {},
   "outputs": [
    {
     "name": "stdout",
     "output_type": "stream",
     "text": [
      "number of dimensions in tfidf ---\n",
      "27875\n"
     ]
    }
   ],
   "source": [
    "print('number of dimensions in tfidf ---')\n",
    "print(len(tfidf_vect.get_feature_names()))"
   ]
  },
  {
   "cell_type": "code",
   "execution_count": 163,
   "metadata": {},
   "outputs": [
    {
     "name": "stdout",
     "output_type": "stream",
     "text": [
      "Fitting 10 folds for each of 30 candidates, totalling 300 fits\n"
     ]
    },
    {
     "name": "stderr",
     "output_type": "stream",
     "text": [
      "[Parallel(n_jobs=-1)]: Done  10 tasks      | elapsed:    1.7s\n",
      "[Parallel(n_jobs=-1)]: Done 160 tasks      | elapsed:  2.5min\n",
      "[Parallel(n_jobs=-1)]: Done 300 out of 300 | elapsed:  7.3min finished\n"
     ]
    },
    {
     "name": "stdout",
     "output_type": "stream",
     "text": [
      "duration in cross validation= 0:07:18.792471\n",
      "**********************************************************************\n",
      "\n",
      "optimal depth 6\n",
      "**********************************************************************\n",
      "\n"
     ]
    },
    {
     "data": {
      "image/png": "[encoded data removed]",
      "text/plain": [
       "<matplotlib.figure.Figure at 0x3ffe0aaac438>"
      ]
     },
     "metadata": {},
     "output_type": "display_data"
    },
    {
     "name": "stdout",
     "output_type": "stream",
     "text": [
      "**********************************************************************\n",
      "\n",
      "accuracy= 88.48333333333333\n",
      "**********************************************************************\n",
      "\n",
      "confusion matrix--\n"
     ]
    },
    {
     "data": {
      "image/png": "[encoded data removed]",
      "text/plain": [
       "<matplotlib.figure.Figure at 0x3ffe0adde518>"
      ]
     },
     "metadata": {},
     "output_type": "display_data"
    },
    {
     "name": "stdout",
     "output_type": "stream",
     "text": [
      "**********************************************************************\n",
      "\n",
      "TNR= 0.1241883116883117\n",
      "TPR= 0.9917122871046229\n",
      "FPR= 0.8758116883116883\n",
      "FNR= 0.00828771289537713\n",
      "**********************************************************************\n",
      "\n",
      "             precision    recall  f1-score   support\n",
      "\n",
      "          0       0.12      0.68      0.21       677\n",
      "          1       0.99      0.89      0.94     29323\n",
      "\n",
      "avg / total       0.97      0.88      0.92     30000\n",
      "\n",
      "**********************************************************************\n",
      "\n"
     ]
    }
   ],
   "source": [
    "optimal_depth, accu, TNR, TPR, FPR, FNR=cross_val(scoring='accuracy', n_jobs=-1,  x_train=x_train_tfidf, x_test=x_test_tfidf)"
   ]
  },
  {
   "cell_type": "code",
   "execution_count": 164,
   "metadata": {},
   "outputs": [
    {
     "name": "stdout",
     "output_type": "stream",
     "text": [
      "top 25 words and their IG---\n",
      "---------------------------------\n",
      "bean \t\t:\t\t 0.00215\n",
      "wish \t\t:\t\t 0.00234\n",
      "near \t\t:\t\t 0.00242\n",
      "flavor \t\t:\t\t 0.00249\n",
      "call \t\t:\t\t 0.00278\n",
      "item \t\t:\t\t 0.00292\n",
      "bad \t\t:\t\t 0.00337\n",
      "worth \t\t:\t\t 0.00357\n",
      "money \t\t:\t\t 0.00379\n",
      "take \t\t:\t\t 0.0044\n",
      "product \t\t:\t\t 0.00492\n",
      "return \t\t:\t\t 0.0053\n",
      "ever \t\t:\t\t 0.00629\n",
      "use \t\t:\t\t 0.00636\n",
      "thought \t\t:\t\t 0.00746\n",
      "find \t\t:\t\t 0.00858\n",
      "add \t\t:\t\t 0.00956\n",
      "best \t\t:\t\t 0.0145\n",
      "delici \t\t:\t\t 0.01491\n",
      "love \t\t:\t\t 0.10257\n",
      "threw \t\t:\t\t 0.12799\n",
      "wast \t\t:\t\t 0.13233\n",
      "great \t\t:\t\t 0.15985\n",
      "worst \t\t:\t\t 0.16429\n",
      "disappoint \t\t:\t\t 0.17976\n"
     ]
    }
   ],
   "source": [
    "#feature importance\n",
    "clf=DecisionTreeClassifier(max_depth=optimal_depth)\n",
    "clf.fit(x_train_tfidf,y_train)\n",
    "print('top 25 words and their IG---')\n",
    "print('---------------------------------')\n",
    "top=clf.feature_importances_\n",
    "s=np.argsort(top)[-25:]\n",
    "feature=tfidf_vect.get_feature_names()\n",
    "for i in range(25):\n",
    "    index=s[i]\n",
    "    print(feature[index],'\\t\\t:\\t\\t',round(top[index],5))"
   ]
  },
  {
   "cell_type": "code",
   "execution_count": null,
   "metadata": {},
   "outputs": [],
   "source": []
  },
  {
   "cell_type": "markdown",
   "metadata": {},
   "source": [
    "## Decision tree classifier on TfidfVectorizer, scoring='f1'"
   ]
  },
  {
   "cell_type": "code",
   "execution_count": 17,
   "metadata": {},
   "outputs": [
    {
     "name": "stdout",
     "output_type": "stream",
     "text": [
      "Fitting 10 folds for each of 30 candidates, totalling 300 fits\n"
     ]
    },
    {
     "name": "stderr",
     "output_type": "stream",
     "text": [
      "[Parallel(n_jobs=-1)]: Done  10 tasks      | elapsed:   14.2s\n",
      "[Parallel(n_jobs=-1)]: Done 160 tasks      | elapsed:  4.2min\n",
      "[Parallel(n_jobs=-1)]: Done 300 out of 300 | elapsed:  9.1min finished\n"
     ]
    },
    {
     "name": "stdout",
     "output_type": "stream",
     "text": [
      "duration in cross validation= 0:10:03.910526\n",
      "**********************************************************************\n",
      "\n",
      "optimal depth 79\n",
      "**********************************************************************\n",
      "\n"
     ]
    },
    {
     "data": {
      "image/png": "[encoded data removed]",
      "text/plain": [
       "<matplotlib.figure.Figure at 0x3fff39ad61d0>"
      ]
     },
     "metadata": {},
     "output_type": "display_data"
    },
    {
     "name": "stdout",
     "output_type": "stream",
     "text": [
      "**********************************************************************\n",
      "\n",
      "accuracy= 84.14\n",
      "**********************************************************************\n",
      "\n",
      "confusion matrix--\n"
     ]
    },
    {
     "data": {
      "image/png": "[encoded data removed]",
      "text/plain": [
       "<matplotlib.figure.Figure at 0x3fff397fa518>"
      ]
     },
     "metadata": {},
     "output_type": "display_data"
    },
    {
     "name": "stdout",
     "output_type": "stream",
     "text": [
      "**********************************************************************\n",
      "\n",
      "TNR= 0.3860286263618885\n",
      "TPR= 0.9255894782574351\n",
      "FPR= 0.6139713736381115\n",
      "FNR= 0.07441052174256488\n",
      "**********************************************************************\n",
      "\n",
      "             precision    recall  f1-score   support\n",
      "\n",
      "          0       0.39      0.49      0.43      3691\n",
      "          1       0.93      0.89      0.91     26309\n",
      "\n",
      "avg / total       0.86      0.84      0.85     30000\n",
      "\n",
      "**********************************************************************\n",
      "\n"
     ]
    }
   ],
   "source": [
    "optimal_depth, accu, TNR, TPR, FPR, FNR=cross_val(n=30, n_jobs=-1, scoring='f1', x_train=x_train_tfidf, x_test=x_test_tfidf)"
   ]
  },
  {
   "cell_type": "code",
   "execution_count": 18,
   "metadata": {},
   "outputs": [
    {
     "name": "stdout",
     "output_type": "stream",
     "text": [
      "top 25 words and their IG---\n",
      "throw \t\t:\t\t 0.00565\n",
      "refund \t\t:\t\t 0.00567\n",
      "one \t\t:\t\t 0.00573\n",
      "excel \t\t:\t\t 0.00589\n",
      "stale \t\t:\t\t 0.00611\n",
      "favorit \t\t:\t\t 0.00637\n",
      "thought \t\t:\t\t 0.00662\n",
      "use \t\t:\t\t 0.00666\n",
      "bad \t\t:\t\t 0.00682\n",
      "didnt \t\t:\t\t 0.00698\n",
      "horribl \t\t:\t\t 0.00745\n",
      "delici \t\t:\t\t 0.00864\n",
      "product \t\t:\t\t 0.00876\n",
      "perfect \t\t:\t\t 0.00916\n",
      "would \t\t:\t\t 0.00948\n",
      "good \t\t:\t\t 0.01205\n",
      "threw \t\t:\t\t 0.01324\n",
      "best \t\t:\t\t 0.015\n",
      "tast \t\t:\t\t 0.01515\n",
      "worst \t\t:\t\t 0.01637\n",
      "return \t\t:\t\t 0.021\n",
      "love \t\t:\t\t 0.02228\n",
      "wast \t\t:\t\t 0.02608\n",
      "great \t\t:\t\t 0.02679\n",
      "disappoint \t\t:\t\t 0.03288\n"
     ]
    }
   ],
   "source": [
    "#feature importance\n",
    "clf=DecisionTreeClassifier(max_depth=optimal_depth)\n",
    "clf.fit(x_train_tfidf,y_train)\n",
    "print('top 25 words and their IG---')\n",
    "top=clf.feature_importances_\n",
    "s=np.argsort(top)[-25:]\n",
    "feature=tfidf_vect.get_feature_names()\n",
    "for i in range(25):\n",
    "    index=s[i]\n",
    "    print(feature[index],'\\t\\t:\\t\\t',round(top[index],5))"
   ]
  },
  {
   "cell_type": "markdown",
   "metadata": {},
   "source": [
    "### Observation-\n",
    "* we can choose depth=79 as a best hyperparameter for TFIDF"
   ]
  },
  {
   "cell_type": "markdown",
   "metadata": {},
   "source": [
    "#### saving graph"
   ]
  },
  {
   "cell_type": "code",
   "execution_count": 20,
   "metadata": {},
   "outputs": [
    {
     "data": {
      "text/plain": [
       "DecisionTreeClassifier(class_weight=None, criterion='gini', max_depth=79,\n",
       "            max_features=None, max_leaf_nodes=None,\n",
       "            min_impurity_decrease=0.0, min_impurity_split=None,\n",
       "            min_samples_leaf=1, min_samples_split=2,\n",
       "            min_weight_fraction_leaf=0.0, presort=False, random_state=None,\n",
       "            splitter='best')"
      ]
     },
     "execution_count": 20,
     "metadata": {},
     "output_type": "execute_result"
    }
   ],
   "source": [
    "import graphviz \n",
    "clf=DecisionTreeClassifier(max_depth=79)\n",
    "clf.fit(x_train_tfidf,y_train)\n"
   ]
  },
  {
   "cell_type": "code",
   "execution_count": 21,
   "metadata": {},
   "outputs": [
    {
     "data": {
      "text/plain": [
       "'graph_tfidf.pdf'"
      ]
     },
     "execution_count": 21,
     "metadata": {},
     "output_type": "execute_result"
    }
   ],
   "source": [
    "from sklearn import tree\n",
    "dot_data = tree.export_graphviz(clf, out_file=None) \n",
    "graph = graphviz.Source(dot_data) \n",
    "graph.render(\"graph_tfidf\") \n"
   ]
  },
  {
   "cell_type": "code",
   "execution_count": null,
   "metadata": {},
   "outputs": [],
   "source": []
  },
  {
   "cell_type": "markdown",
   "metadata": {},
   "source": [
    "## Decision tree classifier on avg word2vec, scoring='f1'"
   ]
  },
  {
   "cell_type": "code",
   "execution_count": 25,
   "metadata": {},
   "outputs": [
    {
     "data": {
      "text/plain": [
       "('GoogleNews-vectors-negative300.bin.gz',\n",
       " <http.client.HTTPMessage at 0x3fff3ef29080>)"
      ]
     },
     "execution_count": 25,
     "metadata": {},
     "output_type": "execute_result"
    }
   ],
   "source": [
    "import urllib\n",
    "url=\"https://s3.amazonaws.com/dl4j-distribution/GoogleNews-vectors-negative300.bin.gz\"\n",
    "urllib.request.urlretrieve (url, \"GoogleNews-vectors-negative300.bin.gz\")"
   ]
  },
  {
   "cell_type": "code",
   "execution_count": null,
   "metadata": {},
   "outputs": [],
   "source": []
  },
  {
   "cell_type": "code",
   "execution_count": null,
   "metadata": {},
   "outputs": [],
   "source": []
  },
  {
   "cell_type": "code",
   "execution_count": 23,
   "metadata": {},
   "outputs": [],
   "source": [
    "import gensim\n",
    "\n",
    "#getting the list of sentences in a 'list'\n",
    "i=0\n",
    "list_of_sentences=[]\n",
    "for sent in X.values:\n",
    "    filtered_sentence=[]    \n",
    "    for w in sent.split():\n",
    "        if(w==sent.split()[0]):\n",
    "            w=w[2:]\n",
    "        filtered_sentence.append(w.lower())       \n",
    "    list_of_sentences.append(filtered_sentence)"
   ]
  },
  {
   "cell_type": "code",
   "execution_count": 24,
   "metadata": {},
   "outputs": [
    {
     "name": "stderr",
     "output_type": "stream",
     "text": [
      "2018-09-16 10:39:52,566 : INFO : loading projection weights from GoogleNews-vectors-negative300.bin.gz\n",
      "2018-09-16 10:42:50,594 : INFO : loaded (3000000, 300) matrix from GoogleNews-vectors-negative300.bin.gz\n"
     ]
    }
   ],
   "source": [
    "# import modules & set up logging\n",
    "import gensim, logging\n",
    "logging.basicConfig(format='%(asctime)s : %(levelname)s : %(message)s', level=logging.INFO)\n",
    "model = gensim.models.KeyedVectors.load_word2vec_format('GoogleNews-vectors-negative300.bin.gz', binary=True)"
   ]
  },
  {
   "cell_type": "code",
   "execution_count": 25,
   "metadata": {},
   "outputs": [
    {
     "name": "stdout",
     "output_type": "stream",
     "text": [
      "3000000\n"
     ]
    }
   ],
   "source": [
    "#defining a word2vec model\n",
    "#model = gensim.models.KeyedVectors.load_word2vec_format(GoogleNews-vectors-negative300.bin.gz, binary=True)    \n",
    "words=list(model.wv.vocab)\n",
    "print(len(words))"
   ]
  },
  {
   "cell_type": "code",
   "execution_count": 26,
   "metadata": {},
   "outputs": [],
   "source": [
    "#calculating avg word2vec\n",
    "vectors=[];\n",
    "for sentence in list_of_sentences:\n",
    "    sentence_vector=np.zeros(300)\n",
    "    count_vec=0;\n",
    "    for word in sentence:\n",
    "        try:\n",
    "            vec=model.wv[word]\n",
    "            sentence_vector+=vec\n",
    "            count_vec+=1;\n",
    "        except:\n",
    "            pass\n",
    "    sentence_vector/=count_vec\n",
    "    vectors.append(sentence_vector)"
   ]
  },
  {
   "cell_type": "code",
   "execution_count": 27,
   "metadata": {},
   "outputs": [
    {
     "data": {
      "text/plain": [
       "[10172, 13244, 13549, 33762, 39199, 45308, 54842]"
      ]
     },
     "execution_count": 27,
     "metadata": {},
     "output_type": "execute_result"
    }
   ],
   "source": [
    "z=list(np.unique(np.where(np.isnan(vectors))[0]))\n",
    "z"
   ]
  },
  {
   "cell_type": "code",
   "execution_count": 28,
   "metadata": {},
   "outputs": [
    {
     "data": {
      "text/plain": [
       "69993"
      ]
     },
     "execution_count": 28,
     "metadata": {},
     "output_type": "execute_result"
    }
   ],
   "source": [
    "vectors=np.delete(vectors, z, axis=0)\n",
    "len(vectors)"
   ]
  },
  {
   "cell_type": "code",
   "execution_count": 29,
   "metadata": {},
   "outputs": [
    {
     "data": {
      "text/plain": [
       "69993"
      ]
     },
     "execution_count": 29,
     "metadata": {},
     "output_type": "execute_result"
    }
   ],
   "source": [
    "y_train_word=np.array(y_train)\n",
    "y_train_word=np.delete(y_train_word, z, axis=0)\n",
    "len(y_train_word)\n"
   ]
  },
  {
   "cell_type": "code",
   "execution_count": 30,
   "metadata": {},
   "outputs": [],
   "source": [
    "#calculating avg word2vec\n",
    "x_test_word=[];\n",
    "for sentence in x_test.values:\n",
    "    sentence_vector=np.zeros(300)\n",
    "    count_vec=0;\n",
    "    for word in sentence.split():\n",
    "        if(word==sentence.split()[0]):\n",
    "            word=word[2:]\n",
    "        try:\n",
    "            vec=model.wv[word]\n",
    "            sentence_vector+=vec\n",
    "            count_vec+=1;\n",
    "        except:\n",
    "            pass\n",
    "    sentence_vector/=count_vec\n",
    "    x_test_word.append(sentence_vector)"
   ]
  },
  {
   "cell_type": "code",
   "execution_count": 31,
   "metadata": {},
   "outputs": [
    {
     "data": {
      "text/plain": [
       "[9263, 19158]"
      ]
     },
     "execution_count": 31,
     "metadata": {},
     "output_type": "execute_result"
    }
   ],
   "source": [
    "z=list(np.unique(np.where(np.isnan(x_test_word))[0]))\n",
    "z"
   ]
  },
  {
   "cell_type": "code",
   "execution_count": 32,
   "metadata": {},
   "outputs": [
    {
     "data": {
      "text/plain": [
       "29998"
      ]
     },
     "execution_count": 32,
     "metadata": {},
     "output_type": "execute_result"
    }
   ],
   "source": [
    "x_test_word=np.delete(x_test_word, z, axis=0)\n",
    "len(x_test_word)"
   ]
  },
  {
   "cell_type": "code",
   "execution_count": 33,
   "metadata": {},
   "outputs": [
    {
     "data": {
      "text/plain": [
       "29998"
      ]
     },
     "execution_count": 33,
     "metadata": {},
     "output_type": "execute_result"
    }
   ],
   "source": [
    "y_test_word=np.array(y_test)\n",
    "y_test_word=np.delete(y_test_word, z, axis=0)\n",
    "len(y_test_word)"
   ]
  },
  {
   "cell_type": "code",
   "execution_count": 34,
   "metadata": {},
   "outputs": [
    {
     "name": "stdout",
     "output_type": "stream",
     "text": [
      "Fitting 10 folds for each of 30 candidates, totalling 300 fits\n"
     ]
    },
    {
     "name": "stderr",
     "output_type": "stream",
     "text": [
      "[Parallel(n_jobs=1)]: Done 300 out of 300 | elapsed: 140.6min finished\n"
     ]
    },
    {
     "name": "stdout",
     "output_type": "stream",
     "text": [
      "duration in cross validation= 2:20:56.715987\n",
      "**********************************************************************\n",
      "\n",
      "optimal depth 6\n",
      "**********************************************************************\n",
      "\n"
     ]
    },
    {
     "data": {
      "image/png": "[encoded data removed]",
      "text/plain": [
       "<matplotlib.figure.Figure at 0x3fff397f5ba8>"
      ]
     },
     "metadata": {},
     "output_type": "display_data"
    },
    {
     "name": "stdout",
     "output_type": "stream",
     "text": [
      "**********************************************************************\n",
      "\n",
      "accuracy= 84.2756183745583\n",
      "**********************************************************************\n",
      "\n",
      "confusion matrix--\n"
     ]
    },
    {
     "data": {
      "image/png": "[encoded data removed]",
      "text/plain": [
       "<matplotlib.figure.Figure at 0x3fff38c1acf8>"
      ]
     },
     "metadata": {},
     "output_type": "display_data"
    },
    {
     "name": "stdout",
     "output_type": "stream",
     "text": [
      "**********************************************************************\n",
      "\n",
      "TNR= 0.033112582781456956\n",
      "TPR= 0.9924556622032626\n",
      "FPR= 0.9668874172185431\n",
      "FNR= 0.0075443377967373704\n",
      "**********************************************************************\n",
      "\n",
      "             precision    recall  f1-score   support\n",
      "\n",
      "          0       0.03      0.45      0.06       346\n",
      "          1       0.99      0.85      0.91     29652\n",
      "\n",
      "avg / total       0.98      0.84      0.90     29998\n",
      "\n",
      "**********************************************************************\n",
      "\n"
     ]
    }
   ],
   "source": [
    "optimal_depth, accu, TNR, TPR, FPR, FNR=cross_val(n=30,  n_jobs=1, scoring='f1', x_train=vectors, x_test=x_test_word, y_train=y_train_word, y_test=y_test_word)"
   ]
  },
  {
   "cell_type": "code",
   "execution_count": 36,
   "metadata": {},
   "outputs": [
    {
     "name": "stdout",
     "output_type": "stream",
     "text": [
      "top 25 IG---\n",
      "0.00677\n",
      "0.00689\n",
      "0.00691\n",
      "0.00777\n",
      "0.00835\n",
      "0.00853\n",
      "0.00881\n",
      "0.00896\n",
      "0.00953\n",
      "0.00973\n",
      "0.01236\n",
      "0.01532\n",
      "0.0155\n",
      "0.01729\n",
      "0.01875\n",
      "0.02718\n",
      "0.02808\n",
      "0.02997\n",
      "0.04314\n",
      "0.04726\n",
      "0.07761\n",
      "0.10889\n",
      "0.12847\n",
      "0.14467\n",
      "0.16638\n"
     ]
    }
   ],
   "source": [
    "#feature importance\n",
    "clf=DecisionTreeClassifier(max_depth=optimal_depth)\n",
    "clf.fit(vectors,y_train_word)\n",
    "print('top 25 IG---')\n",
    "top=clf.feature_importances_\n",
    "s=np.argsort(top)[-25:]\n",
    "for i in range(25):\n",
    "    index=s[i]\n",
    "    print(round(top[index],5))"
   ]
  },
  {
   "cell_type": "markdown",
   "metadata": {},
   "source": [
    "#### Observation-\n",
    "* we can't find the important words for avg word2vec"
   ]
  },
  {
   "cell_type": "code",
   "execution_count": null,
   "metadata": {},
   "outputs": [],
   "source": []
  },
  {
   "cell_type": "code",
   "execution_count": null,
   "metadata": {},
   "outputs": [],
   "source": []
  },
  {
   "cell_type": "markdown",
   "metadata": {},
   "source": [
    "## Decision tree classifier on avg word2vec, scoring='accuracy'"
   ]
  },
  {
   "cell_type": "code",
   "execution_count": 145,
   "metadata": {},
   "outputs": [
    {
     "name": "stdout",
     "output_type": "stream",
     "text": [
      "Fitting 10 folds for each of 30 candidates, totalling 300 fits\n"
     ]
    },
    {
     "name": "stderr",
     "output_type": "stream",
     "text": [
      "[Parallel(n_jobs=1)]: Done 300 out of 300 | elapsed: 219.8min finished\n"
     ]
    },
    {
     "name": "stdout",
     "output_type": "stream",
     "text": [
      "duration in cross validation= 3:40:08.681878\n",
      "**********************************************************************\n",
      "\n",
      "optimal depth 5\n",
      "**********************************************************************\n",
      "\n"
     ]
    },
    {
     "data": {
      "image/png": "[encoded data removed]",
      "text/plain": [
       "<matplotlib.figure.Figure at 0x3ffe0af14080>"
      ]
     },
     "metadata": {},
     "output_type": "display_data"
    },
    {
     "name": "stdout",
     "output_type": "stream",
     "text": [
      "**********************************************************************\n",
      "\n",
      "accuracy= 87.63835178023737\n",
      "**********************************************************************\n",
      "\n",
      "confusion matrix--\n"
     ]
    },
    {
     "data": {
      "image/png": "[encoded data removed]",
      "text/plain": [
       "<matplotlib.figure.Figure at 0x3ffe0a8b8438>"
      ]
     },
     "metadata": {},
     "output_type": "display_data"
    },
    {
     "name": "stdout",
     "output_type": "stream",
     "text": [
      "**********************************************************************\n",
      "\n",
      "TNR= 0.03382034632034632\n",
      "TPR= 0.9947908745247148\n",
      "FPR= 0.9661796536796536\n",
      "FNR= 0.005209125475285171\n",
      "**********************************************************************\n",
      "\n",
      "             precision    recall  f1-score   support\n",
      "\n",
      "          0       0.03      0.48      0.06       262\n",
      "          1       0.99      0.88      0.93     29734\n",
      "\n",
      "avg / total       0.99      0.88      0.93     29996\n",
      "\n",
      "**********************************************************************\n",
      "\n"
     ]
    }
   ],
   "source": [
    "optimal_depth, accu, TNR, TPR, FPR, FNR=cross_val( n_jobs=1, scoring='accuracy', x_train=vectors, x_test=x_test_word, y_train=y_train_word, y_test=y_test_word)"
   ]
  },
  {
   "cell_type": "code",
   "execution_count": 146,
   "metadata": {},
   "outputs": [
    {
     "name": "stdout",
     "output_type": "stream",
     "text": [
      "top 25 IG---\n",
      "0.0\n",
      "0.0\n",
      "0.0\n",
      "0.0\n",
      "0.0\n",
      "0.0\n",
      "0.00935\n",
      "0.00967\n",
      "0.01172\n",
      "0.01353\n",
      "0.0145\n",
      "0.01605\n",
      "0.0174\n",
      "0.02346\n",
      "0.02455\n",
      "0.02568\n",
      "0.02759\n",
      "0.0483\n",
      "0.04879\n",
      "0.06371\n",
      "0.06609\n",
      "0.0963\n",
      "0.13413\n",
      "0.13933\n",
      "0.20986\n"
     ]
    }
   ],
   "source": [
    "#feature importance\n",
    "clf=DecisionTreeClassifier(max_depth=optimal_depth)\n",
    "clf.fit(vectors,y_train_word)\n",
    "print('top 25 IG---')\n",
    "top=clf.feature_importances_\n",
    "s=np.argsort(top)[-25:]\n",
    "for i in range(25):\n",
    "    index=s[i]\n",
    "    print(round(top[index],5))"
   ]
  },
  {
   "cell_type": "markdown",
   "metadata": {},
   "source": [
    "#### Observation-\n",
    "\n",
    "* se can choose max_depth=6 as a good hyperparameter for word2vec\n"
   ]
  },
  {
   "cell_type": "code",
   "execution_count": null,
   "metadata": {},
   "outputs": [],
   "source": []
  },
  {
   "cell_type": "markdown",
   "metadata": {},
   "source": [
    "#### saving graph"
   ]
  },
  {
   "cell_type": "code",
   "execution_count": 37,
   "metadata": {},
   "outputs": [
    {
     "data": {
      "text/plain": [
       "DecisionTreeClassifier(class_weight=None, criterion='gini', max_depth=6,\n",
       "            max_features=None, max_leaf_nodes=None,\n",
       "            min_impurity_decrease=0.0, min_impurity_split=None,\n",
       "            min_samples_leaf=1, min_samples_split=2,\n",
       "            min_weight_fraction_leaf=0.0, presort=False, random_state=None,\n",
       "            splitter='best')"
      ]
     },
     "execution_count": 37,
     "metadata": {},
     "output_type": "execute_result"
    }
   ],
   "source": [
    "clf=DecisionTreeClassifier(max_depth=6)\n",
    "clf.fit(vectors,y_train_word)"
   ]
  },
  {
   "cell_type": "code",
   "execution_count": 38,
   "metadata": {},
   "outputs": [
    {
     "data": {
      "text/plain": [
       "'word2vec_graph.pdf'"
      ]
     },
     "execution_count": 38,
     "metadata": {},
     "output_type": "execute_result"
    }
   ],
   "source": [
    "dot_data = tree.export_graphviz(clf, out_file=None) \n",
    "graph = graphviz.Source(dot_data) \n",
    "graph.render(\"word2vec_graph\") \n"
   ]
  },
  {
   "cell_type": "markdown",
   "metadata": {},
   "source": [
    "#### Observation-\n",
    "* we can't find the important words for avg word2vec"
   ]
  },
  {
   "cell_type": "code",
   "execution_count": null,
   "metadata": {},
   "outputs": [],
   "source": []
  },
  {
   "cell_type": "code",
   "execution_count": null,
   "metadata": {},
   "outputs": [],
   "source": []
  },
  {
   "cell_type": "markdown",
   "metadata": {},
   "source": [
    "## Decision tree classifier on tfidf avg word2vec, scoring='accuracy'"
   ]
  },
  {
   "cell_type": "code",
   "execution_count": 39,
   "metadata": {},
   "outputs": [],
   "source": [
    "from sklearn.feature_extraction.text import TfidfVectorizer\n",
    "tfidf=TfidfVectorizer(ngram_range=(1,1))\n",
    "x_train_tfidf=tfidf.fit_transform(X.values)\n",
    "x_test_tfidf=tfidf.transform(x_test.values)"
   ]
  },
  {
   "cell_type": "code",
   "execution_count": 40,
   "metadata": {},
   "outputs": [
    {
     "data": {
      "text/plain": [
       "27875"
      ]
     },
     "execution_count": 40,
     "metadata": {},
     "output_type": "execute_result"
    }
   ],
   "source": [
    "features=tfidf.get_feature_names()\n",
    "len(features)\n",
    "#features"
   ]
  },
  {
   "cell_type": "code",
   "execution_count": 41,
   "metadata": {},
   "outputs": [],
   "source": [
    "#calculating tf-idf w2vec\n",
    "tfidf_vectors = []; \n",
    "row=0;\n",
    "for sentence in list_of_sentences: \n",
    "    sentence_vec = np.zeros(300) \n",
    "    weight_sum =0; \n",
    "    for word in sentence: \n",
    "        try:\n",
    "            vec = model.wv[word]\n",
    "            tf_idf = x_train_tfidf[row, features.index(word)]\n",
    "            sentence_vec += (vec * tf_idf)\n",
    "            weight_sum += tf_idf\n",
    "        except:\n",
    "            pass\n",
    "    sentence_vec /= weight_sum\n",
    "    tfidf_vectors.append(sentence_vec)\n",
    "    row += 1"
   ]
  },
  {
   "cell_type": "code",
   "execution_count": 42,
   "metadata": {},
   "outputs": [],
   "source": [
    "z=list(np.unique(np.where(np.isnan(tfidf_vectors))[0]))\n",
    "tfidf_vectors=np.delete(tfidf_vectors, z, axis=0)\n",
    "y_train_word=np.array(y_train)\n",
    "y_train_word=np.delete(y_train_word, z, axis=0)"
   ]
  },
  {
   "cell_type": "code",
   "execution_count": 43,
   "metadata": {},
   "outputs": [
    {
     "data": {
      "text/plain": [
       "[]"
      ]
     },
     "execution_count": 43,
     "metadata": {},
     "output_type": "execute_result"
    }
   ],
   "source": [
    "z=list(np.unique(np.where(np.isnan(tfidf_vectors))[0]))\n",
    "z"
   ]
  },
  {
   "cell_type": "code",
   "execution_count": 45,
   "metadata": {},
   "outputs": [],
   "source": [
    "#calculating tf-idf w2vec\n",
    "x_test_tf_word = []; \n",
    "row=0;\n",
    "for sentence in x_test.values: \n",
    "    sentence_vec = np.zeros(300) \n",
    "    weight_sum =0; \n",
    "    for word in sentence.split():\n",
    "        if(word==sentence.split()[0]):\n",
    "            word=word[2:]\n",
    "        try:\n",
    "            vec = model.wv[word]\n",
    "            tf_idf = x_test_tfidf[row, features.index(word)]\n",
    "            sentence_vec += (vec * tf_idf)\n",
    "            weight_sum += tf_idf\n",
    "        except:\n",
    "            pass\n",
    "    sentence_vec /= weight_sum\n",
    "    x_test_tf_word.append(sentence_vec)\n",
    "    row += 1"
   ]
  },
  {
   "cell_type": "code",
   "execution_count": 46,
   "metadata": {},
   "outputs": [],
   "source": [
    "z=list(np.unique(np.where(np.isnan(x_test_tf_word))[0]))\n",
    "x_test_tf_word=np.delete(x_test_tf_word, z, axis=0)\n",
    "y_test_word=np.array(y_test)\n",
    "y_test_word=np.delete(y_test_word, z, axis=0)"
   ]
  },
  {
   "cell_type": "code",
   "execution_count": 47,
   "metadata": {},
   "outputs": [
    {
     "data": {
      "text/plain": [
       "69993"
      ]
     },
     "execution_count": 47,
     "metadata": {},
     "output_type": "execute_result"
    }
   ],
   "source": [
    "len(y_train_word)"
   ]
  },
  {
   "cell_type": "code",
   "execution_count": 155,
   "metadata": {},
   "outputs": [
    {
     "name": "stdout",
     "output_type": "stream",
     "text": [
      "Fitting 10 folds for each of 30 candidates, totalling 300 fits\n"
     ]
    },
    {
     "name": "stderr",
     "output_type": "stream",
     "text": [
      "[Parallel(n_jobs=1)]: Done 300 out of 300 | elapsed: 166.1min finished\n"
     ]
    },
    {
     "name": "stdout",
     "output_type": "stream",
     "text": [
      "duration in cross validation= 2:46:51.101344\n",
      "**********************************************************************\n",
      "\n",
      "optimal depth 14\n",
      "**********************************************************************\n",
      "\n"
     ]
    },
    {
     "data": {
      "image/png": "[encoded data removed]",
      "text/plain": [
       "<matplotlib.figure.Figure at 0x3ffe0aef0a20>"
      ]
     },
     "metadata": {},
     "output_type": "display_data"
    },
    {
     "name": "stdout",
     "output_type": "stream",
     "text": [
      "**********************************************************************\n",
      "\n",
      "accuracy= 83.35444725963463\n",
      "**********************************************************************\n",
      "\n",
      "confusion matrix--\n"
     ]
    },
    {
     "data": {
      "image/png": "[encoded data removed]",
      "text/plain": [
       "<matplotlib.figure.Figure at 0x3ffe0a75c898>"
      ]
     },
     "metadata": {},
     "output_type": "display_data"
    },
    {
     "name": "stdout",
     "output_type": "stream",
     "text": [
      "**********************************************************************\n",
      "\n",
      "TNR= 0.15151515151515152\n",
      "TPR= 0.9293916349809886\n",
      "FPR= 0.8484848484848485\n",
      "FNR= 0.07060836501901141\n",
      "**********************************************************************\n",
      "\n",
      "             precision    recall  f1-score   support\n",
      "\n",
      "          0       0.15      0.23      0.18      2417\n",
      "          1       0.93      0.89      0.91     27579\n",
      "\n",
      "avg / total       0.87      0.83      0.85     29996\n",
      "\n",
      "**********************************************************************\n",
      "\n"
     ]
    }
   ],
   "source": [
    "optimal_depth, accu, TNR, TPR, FPR, FNR=cross_val( n_jobs=1, scoring='accuracy', x_train=tfidf_vectors, x_test=x_test_tf_word, y_train=y_train_word, y_test=y_test_word)"
   ]
  },
  {
   "cell_type": "code",
   "execution_count": 156,
   "metadata": {},
   "outputs": [
    {
     "name": "stdout",
     "output_type": "stream",
     "text": [
      "top 25 IG---\n",
      "0.00615\n",
      "0.00619\n",
      "0.00619\n",
      "0.00622\n",
      "0.00653\n",
      "0.00656\n",
      "0.0067\n",
      "0.00688\n",
      "0.00764\n",
      "0.0077\n",
      "0.00798\n",
      "0.00802\n",
      "0.00827\n",
      "0.00834\n",
      "0.01027\n",
      "0.01056\n",
      "0.01125\n",
      "0.01138\n",
      "0.01306\n",
      "0.0135\n",
      "0.0147\n",
      "0.02187\n",
      "0.02621\n",
      "0.02809\n",
      "0.02906\n"
     ]
    }
   ],
   "source": [
    "#feature importance\n",
    "clf=DecisionTreeClassifier(max_depth=optimal_depth)\n",
    "clf.fit(vectors,y_train_word)\n",
    "print('top 25 IG---')\n",
    "top=clf.feature_importances_\n",
    "s=np.argsort(top)[-25:]\n",
    "for i in range(25):\n",
    "    index=s[i]\n",
    "    print(round(top[index],5))"
   ]
  },
  {
   "cell_type": "markdown",
   "metadata": {},
   "source": [
    "#### Observation-\n",
    "* we can't find important words for tfidf word2vec"
   ]
  },
  {
   "cell_type": "code",
   "execution_count": null,
   "metadata": {},
   "outputs": [],
   "source": []
  },
  {
   "cell_type": "code",
   "execution_count": null,
   "metadata": {},
   "outputs": [],
   "source": []
  },
  {
   "cell_type": "code",
   "execution_count": null,
   "metadata": {},
   "outputs": [],
   "source": []
  },
  {
   "cell_type": "markdown",
   "metadata": {},
   "source": [
    "## Decision tree classifier on tfidf avg word2vec, scoring='f1'"
   ]
  },
  {
   "cell_type": "code",
   "execution_count": 48,
   "metadata": {},
   "outputs": [
    {
     "name": "stdout",
     "output_type": "stream",
     "text": [
      "Fitting 10 folds for each of 30 candidates, totalling 300 fits\n"
     ]
    },
    {
     "name": "stderr",
     "output_type": "stream",
     "text": [
      "[Parallel(n_jobs=1)]: Done 300 out of 300 | elapsed: 146.5min finished\n"
     ]
    },
    {
     "name": "stdout",
     "output_type": "stream",
     "text": [
      "duration in cross validation= 2:26:34.197512\n",
      "**********************************************************************\n",
      "\n",
      "optimal depth 1\n",
      "**********************************************************************\n",
      "\n"
     ]
    },
    {
     "data": {
      "image/png": "[encoded data removed]",
      "text/plain": [
       "<matplotlib.figure.Figure at 0x3ffe1ad109b0>"
      ]
     },
     "metadata": {},
     "output_type": "display_data"
    },
    {
     "name": "stdout",
     "output_type": "stream",
     "text": [
      "**********************************************************************\n",
      "\n",
      "accuracy= 84.39562637509167\n",
      "**********************************************************************\n",
      "\n",
      "confusion matrix--\n"
     ]
    },
    {
     "data": {
      "image/png": "[encoded data removed]",
      "text/plain": [
       "<matplotlib.figure.Figure at 0x3ffe1ac18278>"
      ]
     },
     "metadata": {},
     "output_type": "display_data"
    },
    {
     "name": "stdout",
     "output_type": "stream",
     "text": [
      "**********************************************************************\n",
      "\n",
      "TNR= 0.0\n",
      "TPR= 1.0\n",
      "FPR= 1.0\n",
      "FNR= 0.0\n",
      "**********************************************************************\n",
      "\n",
      "             precision    recall  f1-score   support\n",
      "\n",
      "          0       0.00      0.00      0.00         0\n",
      "          1       1.00      0.84      0.92     29998\n",
      "\n",
      "avg / total       1.00      0.84      0.92     29998\n",
      "\n",
      "**********************************************************************\n",
      "\n"
     ]
    }
   ],
   "source": [
    "optimal_depth, accu, TNR, TPR, FPR, FNR=cross_val( n=30, n_jobs=1, scoring='f1', x_train=tfidf_vectors, x_test=x_test_tf_word, y_train=y_train_word, y_test=y_test_word)"
   ]
  },
  {
   "cell_type": "code",
   "execution_count": 49,
   "metadata": {},
   "outputs": [
    {
     "name": "stdout",
     "output_type": "stream",
     "text": [
      "top 25 IG---\n",
      "0.0\n",
      "0.0\n",
      "0.0\n",
      "0.0\n",
      "0.0\n",
      "0.0\n",
      "0.0\n",
      "0.0\n",
      "0.0\n",
      "0.0\n",
      "0.0\n",
      "0.0\n",
      "0.0\n",
      "0.0\n",
      "0.0\n",
      "0.0\n",
      "0.0\n",
      "0.0\n",
      "0.0\n",
      "0.0\n",
      "0.0\n",
      "0.0\n",
      "0.0\n",
      "0.0\n",
      "1.0\n"
     ]
    }
   ],
   "source": [
    "#feature importance\n",
    "clf=DecisionTreeClassifier(max_depth=optimal_depth)\n",
    "clf.fit(tfidf_vectors,y_train_word)\n",
    "print('top 25 IG---')\n",
    "top=clf.feature_importances_\n",
    "s=np.argsort(top)[-25:]\n",
    "for i in range(25):\n",
    "    index=s[i]\n",
    "    print(round(top[index],5))"
   ]
  },
  {
   "cell_type": "markdown",
   "metadata": {},
   "source": [
    "#### Observation-\n",
    "* we can't find important words for tfidf word2vec"
   ]
  },
  {
   "cell_type": "markdown",
   "metadata": {},
   "source": [
    "#### Observation-\n",
    "* we can choose max_depth=14 as a good hyperparameter for Tfidf Word2vec"
   ]
  },
  {
   "cell_type": "markdown",
   "metadata": {},
   "source": [
    "#### saving graph"
   ]
  },
  {
   "cell_type": "code",
   "execution_count": 50,
   "metadata": {},
   "outputs": [
    {
     "data": {
      "text/plain": [
       "DecisionTreeClassifier(class_weight=None, criterion='gini', max_depth=14,\n",
       "            max_features=None, max_leaf_nodes=None,\n",
       "            min_impurity_decrease=0.0, min_impurity_split=None,\n",
       "            min_samples_leaf=1, min_samples_split=2,\n",
       "            min_weight_fraction_leaf=0.0, presort=False, random_state=None,\n",
       "            splitter='best')"
      ]
     },
     "execution_count": 50,
     "metadata": {},
     "output_type": "execute_result"
    }
   ],
   "source": [
    "clf=DecisionTreeClassifier(max_depth=14)\n",
    "clf.fit(tfidf_vectors,y_train_word)\n"
   ]
  },
  {
   "cell_type": "code",
   "execution_count": 51,
   "metadata": {},
   "outputs": [
    {
     "data": {
      "text/plain": [
       "'tfidf_word2vec_graph.pdf'"
      ]
     },
     "execution_count": 51,
     "metadata": {},
     "output_type": "execute_result"
    }
   ],
   "source": [
    "dot_data = tree.export_graphviz(clf, out_file=None) \n",
    "graph = graphviz.Source(dot_data) \n",
    "graph.render(\"tfidf_word2vec_graph\") \n"
   ]
  },
  {
   "cell_type": "code",
   "execution_count": null,
   "metadata": {},
   "outputs": [],
   "source": []
  },
  {
   "cell_type": "code",
   "execution_count": null,
   "metadata": {},
   "outputs": [],
   "source": []
  },
  {
   "cell_type": "markdown",
   "metadata": {},
   "source": [
    "# Performance Table"
   ]
  },
  {
   "cell_type": "markdown",
   "metadata": {},
   "source": [
    "| sno \t| featurization  \t| scoring  \t| optimal depth \t| accuracy \t| TNR    \t| TPR    \t| f1-score \t|\n",
    "|-----\t|----------------\t|----------\t|---------------\t|----------\t|--------\t|--------\t|----------\t|\n",
    "| 1   \t| Bag of words   \t| f1       \t| 62            \t| 84.7966  \t| 0.3623 \t| 0.9377 \t| 0.86     \t|\n",
    "| 2   \t| Bag of words   \t| accuracy \t| 12            \t| 88.7033  \t| 0.1693 \t| 0.9878 \t| 0.92     \t|\n",
    "| 3   \t| Tfidf          \t| accuracy \t| 6             \t| 88.4833  \t| 0.1241 \t| 0.9917 \t| 0.92     \t|\n",
    "| 4   \t| Tfidf          \t| f1       \t| 79            \t| 84.14    \t| 0.3860 \t| 0.9255 \t| 0.85     \t|\n",
    "| 5   \t| Avg word2vec   \t| f1       \t| 6             \t| 84.2756  \t| 0.0331 \t| 0.9924 \t| 0.90     \t|\n",
    "| 6   \t| Avg word2vec   \t| accuracy \t| 5             \t| 87.6385  \t| 0.0338 \t| 0.9947 \t| 0.93     \t|\n",
    "| 7   \t| Tfidf Word2Vec \t| accuracy \t| 14            \t| 83.3544  \t| 0.1515 \t| 0.9293 \t| 0.85     \t|\n",
    "| 8   \t| Tfidf Word2Vec \t| f1       \t| 1             \t| 84.9356  \t| 0.0    \t| 1.0    \t| 0.92     \t|"
   ]
  },
  {
   "cell_type": "markdown",
   "metadata": {},
   "source": [
    "# Conclusion-\n",
    "* We have applied Decision Tree on amazon fine food review.\n",
    "* Normalization should have no impact on the performance of a decision tree. So we didn't use it.\n",
    "* We applied four featurization techniques- BoW, Tfidf, Avg word2vec and Tfidf word2vec for Decision Tree.\n",
    "* As we can see that TNR is so bad especially in case of avg word2vec models.\n",
    "* So we can conclude that decision tree is not working weel in case when dimension is high."
   ]
  },
  {
   "cell_type": "code",
   "execution_count": null,
   "metadata": {},
   "outputs": [],
   "source": []
  },
  {
   "cell_type": "code",
   "execution_count": null,
   "metadata": {},
   "outputs": [],
   "source": []
  }
 ],
 "metadata": {
  "kernelspec": {
   "display_name": "Python 3",
   "language": "python",
   "name": "python3"
  },
  "language_info": {
   "codemirror_mode": {
    "name": "ipython",
    "version": 3
   },
   "file_extension": ".py",
   "mimetype": "text/x-python",
   "name": "python",
   "nbconvert_exporter": "python",
   "pygments_lexer": "ipython3",
   "version": "3.6.5"
  }
 },
 "nbformat": 4,
 "nbformat_minor": 2
}
